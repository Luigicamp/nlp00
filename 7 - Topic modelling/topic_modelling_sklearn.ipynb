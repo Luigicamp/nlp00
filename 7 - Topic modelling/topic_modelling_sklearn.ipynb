{
  "nbformat": 4,
  "nbformat_minor": 0,
  "metadata": {
    "colab": {
      "name": "topic_modelling.ipynb",
      "version": "0.3.2",
      "provenance": [],
      "toc_visible": true,
      "include_colab_link": true
    },
    "kernelspec": {
      "name": "python3",
      "display_name": "Python 3"
    }
  },
  "cells": [
    {
      "cell_type": "markdown",
      "metadata": {
        "id": "view-in-github",
        "colab_type": "text"
      },
      "source": [
        "<a href=\"https://colab.research.google.com/github/ProfAI/nlp00/blob/master/7%20-%20Topic%20modelling/topic_modelling_sklearn.ipynb\" target=\"_parent\"><img src=\"https://colab.research.google.com/assets/colab-badge.svg\" alt=\"Open In Colab\"/></a>"
      ]
    },
    {
      "metadata": {
        "id": "Lwq8_X6pgJQw",
        "colab_type": "text"
      },
      "cell_type": "markdown",
      "source": [
        "# Topic modelling"
      ]
    },
    {
      "metadata": {
        "id": "nyE3r-u5h8D6",
        "colab_type": "text"
      },
      "cell_type": "markdown",
      "source": [
        "https://dataverse.harvard.edu/dataset.xhtml?persistentId=doi:10.7910/DVN/SYBGZL"
      ]
    },
    {
      "metadata": {
        "id": "Sf1vg5aK5Zml",
        "colab_type": "code",
        "colab": {
          "base_uri": "https://localhost:8080/",
          "height": 226
        },
        "outputId": "8bfe2216-caed-4ab6-8859-5f9f19de51f2"
      },
      "cell_type": "code",
      "source": [
        "!wget https://raw.githubusercontent.com/franciscadias/data/master/abcnews-date-text.csv"
      ],
      "execution_count": 14,
      "outputs": [
        {
          "output_type": "stream",
          "text": [
            "--2019-04-16 16:05:50--  https://raw.githubusercontent.com/franciscadias/data/master/abcnews-date-text.csv\n",
            "Resolving raw.githubusercontent.com (raw.githubusercontent.com)... 151.101.0.133, 151.101.64.133, 151.101.128.133, ...\n",
            "Connecting to raw.githubusercontent.com (raw.githubusercontent.com)|151.101.0.133|:443... connected.\n",
            "HTTP request sent, awaiting response... 200 OK\n",
            "Length: 54096356 (52M) [text/plain]\n",
            "Saving to: ‘abcnews-date-text.csv’\n",
            "\n",
            "abcnews-date-text.c 100%[===================>]  51.59M   160MB/s    in 0.3s    \n",
            "\n",
            "2019-04-16 16:05:51 (160 MB/s) - ‘abcnews-date-text.csv’ saved [54096356/54096356]\n",
            "\n"
          ],
          "name": "stdout"
        }
      ]
    },
    {
      "metadata": {
        "id": "dVd8XMRHgfqO",
        "colab_type": "code",
        "outputId": "29ba728d-72ef-46da-b1c6-5a7b28c20b44",
        "colab": {
          "base_uri": "https://localhost:8080/",
          "height": 203
        }
      },
      "cell_type": "code",
      "source": [
        "import pandas as pd\n",
        "from tqdm import tqdm\n",
        "\n",
        "headlines_df = pd.read_csv(\"abcnews-date-text.csv\")\n",
        "headlines_df.head()"
      ],
      "execution_count": 22,
      "outputs": [
        {
          "output_type": "execute_result",
          "data": {
            "text/html": [
              "<div>\n",
              "<style scoped>\n",
              "    .dataframe tbody tr th:only-of-type {\n",
              "        vertical-align: middle;\n",
              "    }\n",
              "\n",
              "    .dataframe tbody tr th {\n",
              "        vertical-align: top;\n",
              "    }\n",
              "\n",
              "    .dataframe thead th {\n",
              "        text-align: right;\n",
              "    }\n",
              "</style>\n",
              "<table border=\"1\" class=\"dataframe\">\n",
              "  <thead>\n",
              "    <tr style=\"text-align: right;\">\n",
              "      <th></th>\n",
              "      <th>publish_date</th>\n",
              "      <th>headline_text</th>\n",
              "    </tr>\n",
              "  </thead>\n",
              "  <tbody>\n",
              "    <tr>\n",
              "      <th>0</th>\n",
              "      <td>20030219</td>\n",
              "      <td>aba decides against community broadcasting lic...</td>\n",
              "    </tr>\n",
              "    <tr>\n",
              "      <th>1</th>\n",
              "      <td>20030219</td>\n",
              "      <td>act fire witnesses must be aware of defamation</td>\n",
              "    </tr>\n",
              "    <tr>\n",
              "      <th>2</th>\n",
              "      <td>20030219</td>\n",
              "      <td>a g calls for infrastructure protection summit</td>\n",
              "    </tr>\n",
              "    <tr>\n",
              "      <th>3</th>\n",
              "      <td>20030219</td>\n",
              "      <td>air nz staff in aust strike for pay rise</td>\n",
              "    </tr>\n",
              "    <tr>\n",
              "      <th>4</th>\n",
              "      <td>20030219</td>\n",
              "      <td>air nz strike to affect australian travellers</td>\n",
              "    </tr>\n",
              "  </tbody>\n",
              "</table>\n",
              "</div>"
            ],
            "text/plain": [
              "   publish_date                                      headline_text\n",
              "0      20030219  aba decides against community broadcasting lic...\n",
              "1      20030219     act fire witnesses must be aware of defamation\n",
              "2      20030219     a g calls for infrastructure protection summit\n",
              "3      20030219           air nz staff in aust strike for pay rise\n",
              "4      20030219      air nz strike to affect australian travellers"
            ]
          },
          "metadata": {
            "tags": []
          },
          "execution_count": 22
        }
      ]
    },
    {
      "metadata": {
        "id": "sSqKSb2TnVS6",
        "colab_type": "code",
        "outputId": "c8e6c119-4598-44a7-d30a-312bbd31164e",
        "colab": {
          "base_uri": "https://localhost:8080/",
          "height": 34
        }
      },
      "cell_type": "code",
      "source": [
        "headlines_df = headlines_df.sample(frac=.1, random_state=0)\n",
        "headlines_df.shape"
      ],
      "execution_count": 16,
      "outputs": [
        {
          "output_type": "execute_result",
          "data": {
            "text/plain": [
              "(108217, 2)"
            ]
          },
          "metadata": {
            "tags": []
          },
          "execution_count": 16
        }
      ]
    },
    {
      "metadata": {
        "id": "II_KhrcPjXl-",
        "colab_type": "code",
        "outputId": "4ea76d5e-5f12-4d28-996a-86dd275be05b",
        "colab": {
          "base_uri": "https://localhost:8080/",
          "height": 51
        }
      },
      "cell_type": "code",
      "source": [
        "headlines = headlines_df[\"headline_processed\"].values\n",
        "headlines[:3]"
      ],
      "execution_count": 18,
      "outputs": [
        {
          "output_type": "execute_result",
          "data": {
            "text/plain": [
              "array(['labor attacks nationals mp over milk link',\n",
              "       'coraki public school hip hop video', 'dairy record'], dtype=object)"
            ]
          },
          "metadata": {
            "tags": []
          },
          "execution_count": 18
        }
      ]
    },
    {
      "metadata": {
        "id": "TI7IjSORt22c",
        "colab_type": "text"
      },
      "cell_type": "markdown",
      "source": [
        "## Bag of Words"
      ]
    },
    {
      "metadata": {
        "id": "B46xSsuklAaK",
        "colab_type": "code",
        "outputId": "e00b0908-4036-45eb-c86f-9ee17cdbef99",
        "colab": {
          "base_uri": "https://localhost:8080/",
          "height": 34
        }
      },
      "cell_type": "code",
      "source": [
        "from sklearn.feature_extraction.text import CountVectorizer\n",
        "\n",
        "bow = CountVectorizer(max_features=5000, stop_words=\"english\")\n",
        "X = bow.fit_transform(headlines)\n",
        "X.shape"
      ],
      "execution_count": 0,
      "outputs": [
        {
          "output_type": "execute_result",
          "data": {
            "text/plain": [
              "(110366, 5000)"
            ]
          },
          "metadata": {
            "tags": []
          },
          "execution_count": 29
        }
      ]
    },
    {
      "metadata": {
        "id": "nIZ4Kfx-lfSS",
        "colab_type": "code",
        "outputId": "aee48473-4585-471e-c409-0a6184d59f18",
        "colab": {
          "base_uri": "https://localhost:8080/",
          "height": 411
        }
      },
      "cell_type": "code",
      "source": [
        "from sklearn.decomposition import LatentDirichletAllocation as LDA\n",
        "\n",
        "lda = LDA(n_components=10, max_iter=10, verbose=True)\n",
        "data = lda.fit_transform(X)"
      ],
      "execution_count": 0,
      "outputs": [
        {
          "output_type": "stream",
          "text": [
            "iteration: 1 of max_iter: 10\n",
            "iteration: 2 of max_iter: 10\n",
            "iteration: 3 of max_iter: 10\n",
            "iteration: 4 of max_iter: 10\n",
            "iteration: 5 of max_iter: 10\n",
            "iteration: 6 of max_iter: 10\n",
            "iteration: 7 of max_iter: 10\n",
            "iteration: 8 of max_iter: 10\n",
            "iteration: 9 of max_iter: 10\n",
            "iteration: 10 of max_iter: 10\n"
          ],
          "name": "stdout"
        },
        {
          "output_type": "execute_result",
          "data": {
            "text/plain": [
              "array([[0.02500519, 0.025     , 0.025     , ..., 0.025     , 0.02500579,\n",
              "        0.52500008],\n",
              "       [0.01667313, 0.01668382, 0.01666667, ..., 0.01666695, 0.01666964,\n",
              "        0.51664108],\n",
              "       [0.3756053 , 0.02000043, 0.02      , ..., 0.02000127, 0.02000513,\n",
              "        0.02      ],\n",
              "       ...,\n",
              "       [0.01667285, 0.01666707, 0.183333  , ..., 0.01666667, 0.01666711,\n",
              "        0.01666667],\n",
              "       [0.01666695, 0.01666667, 0.01666667, ..., 0.01666667, 0.5166664 ,\n",
              "        0.3499999 ],\n",
              "       [0.05      , 0.05      , 0.05      , ..., 0.54999104, 0.05      ,\n",
              "        0.05      ]])"
            ]
          },
          "metadata": {
            "tags": []
          },
          "execution_count": 30
        }
      ]
    },
    {
      "metadata": {
        "id": "4flKHuJZl8xq",
        "colab_type": "code",
        "outputId": "c2cfc2d1-df6f-4a2e-8740-70e3dd86ff27",
        "colab": {
          "base_uri": "https://localhost:8080/",
          "height": 34
        }
      },
      "cell_type": "code",
      "source": [
        "bow.get_feature_names()[:10]"
      ],
      "execution_count": 0,
      "outputs": [
        {
          "output_type": "execute_result",
          "data": {
            "text/plain": [
              "['10', '100', '1000', '100m', '10m', '11', '12', '13', '14', '15']"
            ]
          },
          "metadata": {
            "tags": []
          },
          "execution_count": 31
        }
      ]
    },
    {
      "metadata": {
        "id": "fjlkM4Evpk5_",
        "colab_type": "code",
        "outputId": "94fd7ee0-11f2-46a1-f7d4-fa918a7ea681",
        "colab": {
          "base_uri": "https://localhost:8080/",
          "height": 34
        }
      },
      "cell_type": "code",
      "source": [
        "lda.components_[0].shape"
      ],
      "execution_count": 0,
      "outputs": [
        {
          "output_type": "execute_result",
          "data": {
            "text/plain": [
              "(5000,)"
            ]
          },
          "metadata": {
            "tags": []
          },
          "execution_count": 32
        }
      ]
    },
    {
      "metadata": {
        "id": "-ucasleIp5s1",
        "colab_type": "code",
        "colab": {}
      },
      "cell_type": "code",
      "source": [
        "topic = lda.components_[0]\n",
        "top_words = topic.argsort()[-10:]"
      ],
      "execution_count": 0,
      "outputs": []
    },
    {
      "metadata": {
        "id": "f1qkKKYAqRdg",
        "colab_type": "code",
        "outputId": "8f32fe72-f147-441a-c074-df62ae32b71b",
        "colab": {
          "base_uri": "https://localhost:8080/",
          "height": 188
        }
      },
      "cell_type": "code",
      "source": [
        "for i in top_words:\n",
        "  print(bow.get_feature_names()[i])"
      ],
      "execution_count": 0,
      "outputs": [
        {
          "output_type": "stream",
          "text": [
            "threat\n",
            "warning\n",
            "pay\n",
            "port\n",
            "open\n",
            "deal\n",
            "opposition\n",
            "house\n",
            "health\n",
            "school\n"
          ],
          "name": "stdout"
        }
      ]
    },
    {
      "metadata": {
        "id": "Kx7-cLLPqeEA",
        "colab_type": "code",
        "outputId": "46de197a-ffe1-4725-9bf5-65f9a2b2df33",
        "colab": {
          "base_uri": "https://localhost:8080/",
          "height": 551
        }
      },
      "cell_type": "code",
      "source": [
        "n_words = 15\n",
        "\n",
        "for index, topic in enumerate(lda.components_):\n",
        "  print(\"\\nTOPIC %d - %d parole più popolari\" % (index+1, n_words))\n",
        "  print([bow.get_feature_names()[i] for i in topic.argsort()[-n_words:]])"
      ],
      "execution_count": 0,
      "outputs": [
        {
          "output_type": "stream",
          "text": [
            "\n",
            "TOPIC 1 - 15 parole più popolari\n",
            "['high', 'centre', 'action', 'anti', 'police', 'threat', 'warning', 'pay', 'port', 'open', 'deal', 'opposition', 'house', 'health', 'school']\n",
            "\n",
            "TOPIC 2 - 15 parole più popolari\n",
            "['says', 'report', 'risk', 'tasmanian', 'workers', 'climate', 'work', 'continue', 'debate', 'continues', 'final', 'study', 'missing', 'change', 'search']\n",
            "\n",
            "TOPIC 3 - 15 parole più popolari\n",
            "['residents', 'urges', 'rural', 'help', 'flood', 'guilty', 'public', 'calls', 'sa', 'farmers', 'urged', 'qld', 'home', 'govt', 'water']\n",
            "\n",
            "TOPIC 4 - 15 parole più popolari\n",
            "['mp', 'ban', 'government', 'industry', 'australian', 'iraq', 'talks', 'pm', 'claims', 'election', 'labor', 'says', 'minister', 'govt', 'australia']\n",
            "\n",
            "TOPIC 5 - 15 parole più popolari\n",
            "['bomb', 'pakistan', 'plane', 'gas', 'kills', 'china', 'bail', 'people', 'car', 'attack', 'crash', 'injured', 'woman', 'dead', 'killed']\n",
            "\n",
            "TOPIC 6 - 15 parole più popolari\n",
            "['race', 'long', 'nrl', 'media', 'return', 'man', 'face', 'told', 'drug', 'faces', 'charges', 'sydney', 'accused', 'court', 'interview']\n",
            "\n",
            "TOPIC 7 - 15 parole più popolari\n",
            "['lead', 'station', 'car', 'rate', 'cut', 'queensland', 'run', 'gets', 'weather', 'season', 'power', 'market', 'hit', 'dies', 'crash']\n",
            "\n",
            "TOPIC 8 - 15 parole più popolari\n",
            "['plans', 'community', 'green', 'farm', 'nsw', 'future', 'north', 'record', 'national', 'group', 'gold', 'plan', 'coast', 'council', 'new']\n",
            "\n",
            "TOPIC 9 - 15 parole più popolari\n",
            "['test', 'case', 'court', 'brisbane', 'assault', 'jailed', 'trial', 'probe', 'child', 'sex', 'murder', 'death', 'charged', 'man', 'police']\n",
            "\n",
            "TOPIC 10 - 15 parole più popolari\n",
            "['decision', 'tour', 'east', 'news', 'chief', 'hour', 'takes', 'country', 'year', 'abc', 'win', 'wins', 'cup', 'south', 'world']\n"
          ],
          "name": "stdout"
        }
      ]
    },
    {
      "metadata": {
        "id": "sUThvCFLt51h",
        "colab_type": "text"
      },
      "cell_type": "markdown",
      "source": [
        "## TF-IDF"
      ]
    },
    {
      "metadata": {
        "id": "8jGtCcr7saaU",
        "colab_type": "code",
        "outputId": "1cf4db7a-26c0-4cfe-8a3b-56a4d2a622de",
        "colab": {
          "base_uri": "https://localhost:8080/",
          "height": 34
        }
      },
      "cell_type": "code",
      "source": [
        "from sklearn.feature_extraction.text import TfidfVectorizer\n",
        "\n",
        "tfidf = TfidfVectorizer(max_features=5000, stop_words=\"english\")\n",
        "X = tfidf.fit_transform(headlines)\n",
        "X.shape"
      ],
      "execution_count": 0,
      "outputs": [
        {
          "output_type": "execute_result",
          "data": {
            "text/plain": [
              "(110366, 5000)"
            ]
          },
          "metadata": {
            "tags": []
          },
          "execution_count": 39
        }
      ]
    },
    {
      "metadata": {
        "id": "CfK7qK_nuS10",
        "colab_type": "code",
        "outputId": "91dc5d6c-c322-4aa9-9330-748a8d9b9e43",
        "colab": {
          "base_uri": "https://localhost:8080/",
          "height": 188
        }
      },
      "cell_type": "code",
      "source": [
        "lda = LDA(n_components=10, max_iter=10, verbose=True)\n",
        "data = lda.fit_transform(X)"
      ],
      "execution_count": 0,
      "outputs": [
        {
          "output_type": "stream",
          "text": [
            "iteration: 1 of max_iter: 10\n",
            "iteration: 2 of max_iter: 10\n",
            "iteration: 3 of max_iter: 10\n",
            "iteration: 4 of max_iter: 10\n",
            "iteration: 5 of max_iter: 10\n",
            "iteration: 6 of max_iter: 10\n",
            "iteration: 7 of max_iter: 10\n",
            "iteration: 8 of max_iter: 10\n",
            "iteration: 9 of max_iter: 10\n",
            "iteration: 10 of max_iter: 10\n"
          ],
          "name": "stdout"
        }
      ]
    },
    {
      "metadata": {
        "id": "wmsJcGzIuakg",
        "colab_type": "code",
        "outputId": "0489315e-24d9-4e8e-8f0c-0c37a447ee41",
        "colab": {
          "base_uri": "https://localhost:8080/",
          "height": 551
        }
      },
      "cell_type": "code",
      "source": [
        "n_words = 15\n",
        "\n",
        "for index, topic in enumerate(lda.components_):\n",
        "  print(\"\\nTOPIC %d - %d parole più popolari\" % (index+1, n_words))\n",
        "  print([bow.get_feature_names()[i] for i in topic.argsort()[-n_words:]])"
      ],
      "execution_count": 0,
      "outputs": [
        {
          "output_type": "stream",
          "text": [
            "\n",
            "TOPIC 1 - 15 parole più popolari\n",
            "['film', 'drug', 'students', 'new', 'train', 'art', 'sri', 'cleared', '2014', '2015', 'broken', 'festival', 'hill', 'hour', 'country']\n",
            "\n",
            "TOPIC 2 - 15 parole più popolari\n",
            "['mark', 'tour', 'new', 'political', 'drum', 'minister', 'john', 'markets', 'abbott', 'nrn', 'takes', 'australia', 'climate', 'says', 'change']\n",
            "\n",
            "TOPIC 3 - 15 parole più popolari\n",
            "['river', 'bush', 'bushfire', 'flood', 'new', 'flu', 'korea', 'trial', 'asylum', 'cyclone', 'east', 'west', 'coast', 'south', 'north']\n",
            "\n",
            "TOPIC 4 - 15 parole più popolari\n",
            "['united', 'grand', 'election', 'cup', 'labor', 'cattle', 'released', 'carbon', 'party', 'aussies', 'tax', 'victory', 'final', 'trade', 'win']\n",
            "\n",
            "TOPIC 5 - 15 parole più popolari\n",
            "['development', 'councils', 'regional', 'group', 'energy', 'pacific', 'study', 'water', 'farm', 'urged', 'new', 'funds', 'plan', 'govt', 'council']\n",
            "\n",
            "TOPIC 6 - 15 parole più popolari\n",
            "['assault', 'child', 'search', 'jailed', 'charges', 'death', 'woman', 'sex', 'accused', 'missing', 'murder', 'charged', 'court', 'police', 'man']\n",
            "\n",
            "TOPIC 7 - 15 parole più popolari\n",
            "['wallabies', 'boost', 'rate', 'funding', 'local', 'news', 'cuts', 'pleads', 'share', 'rain', 'budget', 'national', 'health', 'rural', 'market']\n",
            "\n",
            "TOPIC 8 - 15 parole più popolari\n",
            "['education', 'future', 'speed', 'high', 'water', 'light', 'business', 'drivers', 'green', 'police', 'sport', 'laws', 'new', 'weather', 'abc']\n",
            "\n",
            "TOPIC 9 - 15 parole più popolari\n",
            "['nrl', 'domestic', 'fishing', 'smith', 'rescue', 'pay', 'strike', 'teachers', 'illegal', 'extended', 'new', 'violence', 'michael', 'port', 'interview']\n",
            "\n",
            "TOPIC 10 - 15 parole più popolari\n",
            "['police', 'truck', 'man', 'war', 'injured', 'royal', 'accident', 'fatal', 'road', 'driver', 'car', 'wins', 'killed', 'dies', 'crash']\n"
          ],
          "name": "stdout"
        }
      ]
    },
    {
      "metadata": {
        "id": "U6WJ8DNpvU9F",
        "colab_type": "text"
      },
      "cell_type": "markdown",
      "source": [
        "## Visualizzare il modello"
      ]
    },
    {
      "metadata": {
        "id": "rd0X4HYsvYh7",
        "colab_type": "code",
        "outputId": "d52a3b0e-604e-46d3-fee6-8a0b6b18317a",
        "colab": {
          "base_uri": "https://localhost:8080/",
          "height": 551
        }
      },
      "cell_type": "code",
      "source": [
        "!pip install pyldavis"
      ],
      "execution_count": 0,
      "outputs": [
        {
          "output_type": "stream",
          "text": [
            "Collecting pyldavis\n",
            "\u001b[?25l  Downloading https://files.pythonhosted.org/packages/a5/3a/af82e070a8a96e13217c8f362f9a73e82d61ac8fff3a2561946a97f96266/pyLDAvis-2.1.2.tar.gz (1.6MB)\n",
            "\u001b[K    100% |████████████████████████████████| 1.6MB 14.6MB/s \n",
            "\u001b[?25hRequirement already satisfied: wheel>=0.23.0 in /usr/local/lib/python3.6/dist-packages (from pyldavis) (0.33.1)\n",
            "Requirement already satisfied: numpy>=1.9.2 in /usr/local/lib/python3.6/dist-packages (from pyldavis) (1.16.2)\n",
            "Requirement already satisfied: scipy>=0.18.0 in /usr/local/lib/python3.6/dist-packages (from pyldavis) (1.2.1)\n",
            "Requirement already satisfied: pandas>=0.17.0 in /usr/local/lib/python3.6/dist-packages (from pyldavis) (0.23.4)\n",
            "Requirement already satisfied: joblib>=0.8.4 in /usr/local/lib/python3.6/dist-packages (from pyldavis) (0.12.5)\n",
            "Requirement already satisfied: jinja2>=2.7.2 in /usr/local/lib/python3.6/dist-packages (from pyldavis) (2.10.1)\n",
            "Requirement already satisfied: numexpr in /usr/local/lib/python3.6/dist-packages (from pyldavis) (2.6.9)\n",
            "Requirement already satisfied: pytest in /usr/local/lib/python3.6/dist-packages (from pyldavis) (3.6.4)\n",
            "Requirement already satisfied: future in /usr/local/lib/python3.6/dist-packages (from pyldavis) (0.16.0)\n",
            "Collecting funcy (from pyldavis)\n",
            "  Downloading https://files.pythonhosted.org/packages/47/a4/204fa23012e913839c2da4514b92f17da82bf5fc8c2c3d902fa3fa3c6eec/funcy-1.11-py2.py3-none-any.whl\n",
            "Requirement already satisfied: python-dateutil>=2.5.0 in /usr/local/lib/python3.6/dist-packages (from pandas>=0.17.0->pyldavis) (2.5.3)\n",
            "Requirement already satisfied: pytz>=2011k in /usr/local/lib/python3.6/dist-packages (from pandas>=0.17.0->pyldavis) (2018.9)\n",
            "Requirement already satisfied: MarkupSafe>=0.23 in /usr/local/lib/python3.6/dist-packages (from jinja2>=2.7.2->pyldavis) (1.1.1)\n",
            "Requirement already satisfied: atomicwrites>=1.0 in /usr/local/lib/python3.6/dist-packages (from pytest->pyldavis) (1.3.0)\n",
            "Requirement already satisfied: setuptools in /usr/local/lib/python3.6/dist-packages (from pytest->pyldavis) (40.9.0)\n",
            "Requirement already satisfied: six>=1.10.0 in /usr/local/lib/python3.6/dist-packages (from pytest->pyldavis) (1.11.0)\n",
            "Requirement already satisfied: py>=1.5.0 in /usr/local/lib/python3.6/dist-packages (from pytest->pyldavis) (1.8.0)\n",
            "Requirement already satisfied: pluggy<0.8,>=0.5 in /usr/local/lib/python3.6/dist-packages (from pytest->pyldavis) (0.7.1)\n",
            "Requirement already satisfied: attrs>=17.4.0 in /usr/local/lib/python3.6/dist-packages (from pytest->pyldavis) (19.1.0)\n",
            "Requirement already satisfied: more-itertools>=4.0.0 in /usr/local/lib/python3.6/dist-packages (from pytest->pyldavis) (7.0.0)\n",
            "Building wheels for collected packages: pyldavis\n",
            "  Building wheel for pyldavis (setup.py) ... \u001b[?25ldone\n",
            "\u001b[?25h  Stored in directory: /root/.cache/pip/wheels/98/71/24/513a99e58bb6b8465bae4d2d5e9dba8f0bef8179e3051ac414\n",
            "Successfully built pyldavis\n",
            "Installing collected packages: funcy, pyldavis\n",
            "Successfully installed funcy-1.11 pyldavis-2.1.2\n"
          ],
          "name": "stdout"
        }
      ]
    },
    {
      "metadata": {
        "id": "Z6C5iN1WvSlB",
        "colab_type": "code",
        "outputId": "5e379c81-d14d-4aad-943c-f7147c71ff25",
        "colab": {
          "base_uri": "https://localhost:8080/",
          "height": 302
        }
      },
      "cell_type": "code",
      "source": [
        "import pyLDAvis.sklearn\n",
        "\n",
        "pyLDAvis.sklearn.prepare(lda, X, tfidf, mds='tsne')"
      ],
      "execution_count": 0,
      "outputs": [
        {
          "output_type": "error",
          "ename": "ModuleNotFoundError",
          "evalue": "ignored",
          "traceback": [
            "\u001b[0;31m---------------------------------------------------------------------------\u001b[0m",
            "\u001b[0;31mModuleNotFoundError\u001b[0m                       Traceback (most recent call last)",
            "\u001b[0;32m<ipython-input-43-7e3b662bdc5b>\u001b[0m in \u001b[0;36m<module>\u001b[0;34m()\u001b[0m\n\u001b[0;32m----> 1\u001b[0;31m \u001b[0;32mimport\u001b[0m \u001b[0mpyLDAvis\u001b[0m\u001b[0;34m.\u001b[0m\u001b[0msklearn\u001b[0m\u001b[0;34m\u001b[0m\u001b[0;34m\u001b[0m\u001b[0m\n\u001b[0m",
            "\u001b[0;31mModuleNotFoundError\u001b[0m: No module named 'pyLDAvis'",
            "",
            "\u001b[0;31m---------------------------------------------------------------------------\u001b[0;32m\nNOTE: If your import is failing due to a missing package, you can\nmanually install dependencies using either !pip or !apt.\n\nTo view examples of installing some common dependencies, click the\n\"Open Examples\" button below.\n\u001b[0;31m---------------------------------------------------------------------------\u001b[0m\n"
          ]
        }
      ]
    },
    {
      "metadata": {
        "id": "f3Xfan78vTbe",
        "colab_type": "code",
        "colab": {}
      },
      "cell_type": "code",
      "source": [
        ""
      ],
      "execution_count": 0,
      "outputs": []
    }
  ]
}