{
  "nbformat": 4,
  "nbformat_minor": 0,
  "metadata": {
    "colab": {
      "name": "topic_modelling.ipynb",
      "version": "0.3.2",
      "provenance": [],
      "toc_visible": true,
      "include_colab_link": true
    },
    "kernelspec": {
      "name": "python3",
      "display_name": "Python 3"
    }
  },
  "cells": [
    {
      "cell_type": "markdown",
      "metadata": {
        "id": "view-in-github",
        "colab_type": "text"
      },
      "source": [
        "<a href=\"https://colab.research.google.com/github/ProfAI/nlp00/blob/master/7%20-%20Topic%20modelling/topic_modelling_gensim.ipynb\" target=\"_parent\"><img src=\"https://colab.research.google.com/assets/colab-badge.svg\" alt=\"Open In Colab\"/></a>"
      ]
    },
    {
      "metadata": {
        "id": "Lwq8_X6pgJQw",
        "colab_type": "text"
      },
      "cell_type": "markdown",
      "source": [
        "# Topic modelling"
      ]
    },
    {
      "metadata": {
        "id": "nyE3r-u5h8D6",
        "colab_type": "text"
      },
      "cell_type": "markdown",
      "source": [
        "https://dataverse.harvard.edu/dataset.xhtml?persistentId=doi:10.7910/DVN/SYBGZL"
      ]
    },
    {
      "metadata": {
        "id": "Sf1vg5aK5Zml",
        "colab_type": "code",
        "colab": {
          "base_uri": "https://localhost:8080/",
          "height": 226
        },
        "outputId": "8bfe2216-caed-4ab6-8859-5f9f19de51f2"
      },
      "cell_type": "code",
      "source": [
        "!wget https://raw.githubusercontent.com/franciscadias/data/master/abcnews-date-text.csv"
      ],
      "execution_count": 14,
      "outputs": [
        {
          "output_type": "stream",
          "text": [
            "--2019-04-16 16:05:50--  https://raw.githubusercontent.com/franciscadias/data/master/abcnews-date-text.csv\n",
            "Resolving raw.githubusercontent.com (raw.githubusercontent.com)... 151.101.0.133, 151.101.64.133, 151.101.128.133, ...\n",
            "Connecting to raw.githubusercontent.com (raw.githubusercontent.com)|151.101.0.133|:443... connected.\n",
            "HTTP request sent, awaiting response... 200 OK\n",
            "Length: 54096356 (52M) [text/plain]\n",
            "Saving to: ‘abcnews-date-text.csv’\n",
            "\n",
            "abcnews-date-text.c 100%[===================>]  51.59M   160MB/s    in 0.3s    \n",
            "\n",
            "2019-04-16 16:05:51 (160 MB/s) - ‘abcnews-date-text.csv’ saved [54096356/54096356]\n",
            "\n"
          ],
          "name": "stdout"
        }
      ]
    },
    {
      "metadata": {
        "id": "dVd8XMRHgfqO",
        "colab_type": "code",
        "outputId": "29ba728d-72ef-46da-b1c6-5a7b28c20b44",
        "colab": {
          "base_uri": "https://localhost:8080/",
          "height": 203
        }
      },
      "cell_type": "code",
      "source": [
        "import pandas as pd\n",
        "\n",
        "headlines_df = pd.read_csv(\"abcnews-date-text.csv\")\n",
        "headlines_df.head()"
      ],
      "execution_count": 22,
      "outputs": [
        {
          "output_type": "execute_result",
          "data": {
            "text/html": [
              "<div>\n",
              "<style scoped>\n",
              "    .dataframe tbody tr th:only-of-type {\n",
              "        vertical-align: middle;\n",
              "    }\n",
              "\n",
              "    .dataframe tbody tr th {\n",
              "        vertical-align: top;\n",
              "    }\n",
              "\n",
              "    .dataframe thead th {\n",
              "        text-align: right;\n",
              "    }\n",
              "</style>\n",
              "<table border=\"1\" class=\"dataframe\">\n",
              "  <thead>\n",
              "    <tr style=\"text-align: right;\">\n",
              "      <th></th>\n",
              "      <th>publish_date</th>\n",
              "      <th>headline_text</th>\n",
              "    </tr>\n",
              "  </thead>\n",
              "  <tbody>\n",
              "    <tr>\n",
              "      <th>0</th>\n",
              "      <td>20030219</td>\n",
              "      <td>aba decides against community broadcasting lic...</td>\n",
              "    </tr>\n",
              "    <tr>\n",
              "      <th>1</th>\n",
              "      <td>20030219</td>\n",
              "      <td>act fire witnesses must be aware of defamation</td>\n",
              "    </tr>\n",
              "    <tr>\n",
              "      <th>2</th>\n",
              "      <td>20030219</td>\n",
              "      <td>a g calls for infrastructure protection summit</td>\n",
              "    </tr>\n",
              "    <tr>\n",
              "      <th>3</th>\n",
              "      <td>20030219</td>\n",
              "      <td>air nz staff in aust strike for pay rise</td>\n",
              "    </tr>\n",
              "    <tr>\n",
              "      <th>4</th>\n",
              "      <td>20030219</td>\n",
              "      <td>air nz strike to affect australian travellers</td>\n",
              "    </tr>\n",
              "  </tbody>\n",
              "</table>\n",
              "</div>"
            ],
            "text/plain": [
              "   publish_date                                      headline_text\n",
              "0      20030219  aba decides against community broadcasting lic...\n",
              "1      20030219     act fire witnesses must be aware of defamation\n",
              "2      20030219     a g calls for infrastructure protection summit\n",
              "3      20030219           air nz staff in aust strike for pay rise\n",
              "4      20030219      air nz strike to affect australian travellers"
            ]
          },
          "metadata": {
            "tags": []
          },
          "execution_count": 22
        }
      ]
    },
    {
      "metadata": {
        "id": "sSqKSb2TnVS6",
        "colab_type": "code",
        "outputId": "c8e6c119-4598-44a7-d30a-312bbd31164e",
        "colab": {
          "base_uri": "https://localhost:8080/",
          "height": 34
        }
      },
      "cell_type": "code",
      "source": [
        "headlines_df = headlines_df.sample(frac=.1, random_state=0)\n",
        "headlines_df.shape"
      ],
      "execution_count": 16,
      "outputs": [
        {
          "output_type": "execute_result",
          "data": {
            "text/plain": [
              "(108217, 2)"
            ]
          },
          "metadata": {
            "tags": []
          },
          "execution_count": 16
        }
      ]
    },
    {
      "metadata": {
        "id": "koZF4pOW9UkK",
        "colab_type": "text"
      },
      "cell_type": "markdown",
      "source": [
        "## Preprocess"
      ]
    },
    {
      "metadata": {
        "id": "lP4emhCW91HW",
        "colab_type": "code",
        "colab": {
          "base_uri": "https://localhost:8080/",
          "height": 68
        },
        "outputId": "38a59fe9-864e-4d73-b5a7-0bd951c0f32f"
      },
      "cell_type": "code",
      "source": [
        "import gensim\n",
        "import nltk\n",
        "\n",
        "nltk.download('wordnet')"
      ],
      "execution_count": 35,
      "outputs": [
        {
          "output_type": "stream",
          "text": [
            "[nltk_data] Downloading package wordnet to /root/nltk_data...\n",
            "[nltk_data]   Unzipping corpora/wordnet.zip.\n"
          ],
          "name": "stdout"
        },
        {
          "output_type": "execute_result",
          "data": {
            "text/plain": [
              "True"
            ]
          },
          "metadata": {
            "tags": []
          },
          "execution_count": 35
        }
      ]
    },
    {
      "metadata": {
        "id": "cWgLtcIl9W0j",
        "colab_type": "code",
        "colab": {}
      },
      "cell_type": "code",
      "source": [
        "\n",
        "lemmatizer = nltk.stem.WordNetLemmatizer()\n",
        "\n",
        "def preprocess(text):\n",
        "  \n",
        "  tokens = []\n",
        "  \n",
        "  for token in gensim.utils.simple_preprocess(text):\n",
        "    if(token not in gensim.parsing.preprocessing.STOPWORDS):\n",
        "      tokens.append(lemmatizer.lemmatize(token, pos='v'))\n",
        "  \n",
        "  return tokens"
      ],
      "execution_count": 0,
      "outputs": []
    },
    {
      "metadata": {
        "id": "RiivYhuE9v3V",
        "colab_type": "code",
        "colab": {
          "base_uri": "https://localhost:8080/",
          "height": 202
        },
        "outputId": "b2996963-da9f-4ede-c1ab-3baf0ea61dbd"
      },
      "cell_type": "code",
      "source": [
        "headlines_df[\"headline_processed\"] = headlines_df[\"headline_text\"].map(preprocess)\n",
        "headlines_df.head()"
      ],
      "execution_count": 39,
      "outputs": [
        {
          "output_type": "error",
          "ename": "NameError",
          "evalue": "ignored",
          "traceback": [
            "\u001b[0;31m---------------------------------------------------------------------------\u001b[0m",
            "\u001b[0;31mNameError\u001b[0m                                 Traceback (most recent call last)",
            "\u001b[0;32m<ipython-input-39-73df81d870ed>\u001b[0m in \u001b[0;36m<module>\u001b[0;34m()\u001b[0m\n\u001b[1;32m      1\u001b[0m \u001b[0mheadlines_df\u001b[0m\u001b[0;34m[\u001b[0m\u001b[0;34m\"headline_processed\"\u001b[0m\u001b[0;34m]\u001b[0m \u001b[0;34m=\u001b[0m \u001b[0mheadlines_df\u001b[0m\u001b[0;34m[\u001b[0m\u001b[0;34m\"headline_text\"\u001b[0m\u001b[0;34m]\u001b[0m\u001b[0;34m.\u001b[0m\u001b[0mmap\u001b[0m\u001b[0;34m(\u001b[0m\u001b[0mpreprocess\u001b[0m\u001b[0;34m)\u001b[0m\u001b[0;34m\u001b[0m\u001b[0;34m\u001b[0m\u001b[0m\n\u001b[0;32m----> 2\u001b[0;31m \u001b[0mheadline_df\u001b[0m\u001b[0;34m.\u001b[0m\u001b[0mhead\u001b[0m\u001b[0;34m(\u001b[0m\u001b[0;34m)\u001b[0m\u001b[0;34m\u001b[0m\u001b[0;34m\u001b[0m\u001b[0m\n\u001b[0m",
            "\u001b[0;31mNameError\u001b[0m: name 'headline_df' is not defined"
          ]
        }
      ]
    },
    {
      "metadata": {
        "id": "II_KhrcPjXl-",
        "colab_type": "code",
        "outputId": "d549b875-2fdf-4bf1-b582-989172b3b960",
        "colab": {
          "base_uri": "https://localhost:8080/",
          "height": 86
        }
      },
      "cell_type": "code",
      "source": [
        "headlines = headlines_df[\"headline_processed\"].values\n",
        "headlines[:3]"
      ],
      "execution_count": 41,
      "outputs": [
        {
          "output_type": "execute_result",
          "data": {
            "text/plain": [
              "array([list(['aba', 'decide', 'community', 'broadcast', 'licence']),\n",
              "       list(['act', 'witness', 'aware', 'defamation']),\n",
              "       list(['call', 'infrastructure', 'protection', 'summit'])],\n",
              "      dtype=object)"
            ]
          },
          "metadata": {
            "tags": []
          },
          "execution_count": 41
        }
      ]
    },
    {
      "metadata": {
        "id": "B46xSsuklAaK",
        "colab_type": "code",
        "colab": {}
      },
      "cell_type": "code",
      "source": [
        "dictionary = gensim.corpora.Dictionary(headlines)\n",
        "dictionary.filter_extremes(no_below=15, no_above=0.5, keep_n=100000)"
      ],
      "execution_count": 0,
      "outputs": []
    },
    {
      "metadata": {
        "id": "UjCUlpSsARL9",
        "colab_type": "text"
      },
      "cell_type": "markdown",
      "source": [
        "## Bag of Words"
      ]
    },
    {
      "metadata": {
        "id": "rBr_8dpgAA8q",
        "colab_type": "code",
        "colab": {
          "base_uri": "https://localhost:8080/",
          "height": 34
        },
        "outputId": "20a13e93-567e-4766-88ca-59539b936260"
      },
      "cell_type": "code",
      "source": [
        "X = [dictionary.doc2bow(headline) for headline in headlines]\n",
        "X[0]"
      ],
      "execution_count": 45,
      "outputs": [
        {
          "output_type": "execute_result",
          "data": {
            "text/plain": [
              "[(0, 1), (1, 1), (2, 1), (3, 1), (4, 1)]"
            ]
          },
          "metadata": {
            "tags": []
          },
          "execution_count": 45
        }
      ]
    },
    {
      "metadata": {
        "id": "nIZ4Kfx-lfSS",
        "colab_type": "code",
        "colab": {}
      },
      "cell_type": "code",
      "source": [
        "lda = gensim.models.LdaMulticore(X, num_topics=10, id2word=dictionary, passes=2, workers=2)"
      ],
      "execution_count": 0,
      "outputs": []
    },
    {
      "metadata": {
        "id": "4flKHuJZl8xq",
        "colab_type": "code",
        "outputId": "952e6b8b-9ba7-4323-f6ac-9a2d5132811f",
        "colab": {
          "base_uri": "https://localhost:8080/",
          "height": 551
        }
      },
      "cell_type": "code",
      "source": [
        "for index, topic in lda.print_topics(-1):\n",
        "    print(\"\\nTOPIC %d - parole più popolari\" % (index+1))\n",
        "    print(topic)"
      ],
      "execution_count": 49,
      "outputs": [
        {
          "output_type": "stream",
          "text": [
            "\n",
            "TOPIC 1 - parole più popolari\n",
            "0.033*\"trump\" + 0.029*\"queensland\" + 0.012*\"close\" + 0.011*\"force\" + 0.011*\"island\" + 0.010*\"john\" + 0.009*\"david\" + 0.008*\"million\" + 0.008*\"christmas\" + 0.007*\"sea\"\n",
            "\n",
            "TOPIC 2 - parole più popolari\n",
            "0.019*\"win\" + 0.015*\"year\" + 0.015*\"interview\" + 0.011*\"world\" + 0.011*\"break\" + 0.011*\"league\" + 0.010*\"afl\" + 0.010*\"end\" + 0.010*\"donald\" + 0.009*\"final\"\n",
            "\n",
            "TOPIC 3 - parole più popolari\n",
            "0.039*\"man\" + 0.034*\"police\" + 0.023*\"charge\" + 0.021*\"court\" + 0.016*\"murder\" + 0.015*\"attack\" + 0.015*\"kill\" + 0.014*\"crash\" + 0.013*\"woman\" + 0.013*\"die\"\n",
            "\n",
            "TOPIC 4 - parole più popolari\n",
            "0.018*\"sa\" + 0.017*\"country\" + 0.017*\"rural\" + 0.016*\"fund\" + 0.016*\"wa\" + 0.016*\"help\" + 0.015*\"health\" + 0.011*\"indigenous\" + 0.010*\"nsw\" + 0.009*\"centre\"\n",
            "\n",
            "TOPIC 5 - parole più popolari\n",
            "0.023*\"south\" + 0.020*\"house\" + 0.018*\"north\" + 0.015*\"china\" + 0.014*\"west\" + 0.014*\"australia\" + 0.012*\"australian\" + 0.011*\"new\" + 0.011*\"turnbull\" + 0.010*\"talk\"\n",
            "\n",
            "TOPIC 6 - parole più popolari\n",
            "0.025*\"government\" + 0.021*\"plan\" + 0.015*\"election\" + 0.014*\"council\" + 0.013*\"say\" + 0.012*\"hour\" + 0.011*\"cup\" + 0.011*\"labor\" + 0.011*\"national\" + 0.010*\"wa\"\n",
            "\n",
            "TOPIC 7 - parole più popolari\n",
            "0.022*\"day\" + 0.019*\"perth\" + 0.018*\"market\" + 0.013*\"share\" + 0.012*\"power\" + 0.011*\"work\" + 0.011*\"australian\" + 0.010*\"news\" + 0.008*\"pay\" + 0.008*\"look\"\n",
            "\n",
            "TOPIC 8 - parole più popolari\n",
            "0.014*\"women\" + 0.012*\"children\" + 0.011*\"allege\" + 0.010*\"face\" + 0.010*\"media\" + 0.010*\"budget\" + 0.009*\"rat\" + 0.009*\"bank\" + 0.009*\"free\" + 0.009*\"baby\"\n",
            "\n",
            "TOPIC 9 - parole più popolari\n",
            "0.022*\"adelaide\" + 0.019*\"canberra\" + 0.017*\"test\" + 0.017*\"live\" + 0.014*\"coast\" + 0.014*\"price\" + 0.013*\"gold\" + 0.012*\"australia\" + 0.011*\"farm\" + 0.011*\"new\"\n",
            "\n",
            "TOPIC 10 - parole più popolari\n",
            "0.018*\"warn\" + 0.014*\"tasmania\" + 0.013*\"concern\" + 0.012*\"flood\" + 0.012*\"nsw\" + 0.011*\"change\" + 0.010*\"farmers\" + 0.009*\"fear\" + 0.008*\"inquiry\" + 0.008*\"png\"\n"
          ],
          "name": "stdout"
        }
      ]
    },
    {
      "metadata": {
        "id": "sUThvCFLt51h",
        "colab_type": "text"
      },
      "cell_type": "markdown",
      "source": [
        "## TF-IDF"
      ]
    },
    {
      "metadata": {
        "id": "btk6UqKpCpqz",
        "colab_type": "code",
        "colab": {}
      },
      "cell_type": "code",
      "source": [
        "tfidf = gensim.models.TfidfModel(X)\n",
        "X = tfidf[X]"
      ],
      "execution_count": 0,
      "outputs": []
    },
    {
      "metadata": {
        "id": "XjjbipJOCqDP",
        "colab_type": "code",
        "colab": {}
      },
      "cell_type": "code",
      "source": [
        "lda = gensim.models.LdaMulticore(X, num_topics=10, id2word=dictionary, passes=2, workers=4)"
      ],
      "execution_count": 0,
      "outputs": []
    },
    {
      "metadata": {
        "id": "l6uSDCQ0CxtV",
        "colab_type": "code",
        "colab": {
          "base_uri": "https://localhost:8080/",
          "height": 551
        },
        "outputId": "048c8d97-e0d1-40d1-e23f-2b857821b3c5"
      },
      "cell_type": "code",
      "source": [
        "for index, topic in lda.print_topics(-1):\n",
        "    print(\"\\nTOPIC %d - parole più popolari\" % (index+1))\n",
        "    print(topic)"
      ],
      "execution_count": 54,
      "outputs": [
        {
          "output_type": "stream",
          "text": [
            "\n",
            "TOPIC 1 - parole più popolari\n",
            "0.014*\"rural\" + 0.013*\"market\" + 0.011*\"news\" + 0.009*\"podcast\" + 0.009*\"abc\" + 0.008*\"price\" + 0.007*\"share\" + 0.006*\"turnbull\" + 0.006*\"queensland\" + 0.006*\"rise\"\n",
            "\n",
            "TOPIC 2 - parole più popolari\n",
            "0.006*\"coal\" + 0.005*\"capital\" + 0.005*\"hill\" + 0.005*\"hobart\" + 0.005*\"andrew\" + 0.004*\"fix\" + 0.004*\"western\" + 0.004*\"data\" + 0.004*\"exchange\" + 0.003*\"new\"\n",
            "\n",
            "TOPIC 3 - parole più popolari\n",
            "0.006*\"monday\" + 0.006*\"july\" + 0.006*\"mental\" + 0.005*\"islamic\" + 0.005*\"say\" + 0.005*\"northern\" + 0.004*\"australia\" + 0.004*\"png\" + 0.004*\"state\" + 0.003*\"clarke\"\n",
            "\n",
            "TOPIC 4 - parole più popolari\n",
            "0.015*\"trump\" + 0.012*\"interview\" + 0.009*\"grandstand\" + 0.007*\"nrl\" + 0.007*\"royal\" + 0.006*\"afl\" + 0.006*\"tuesday\" + 0.006*\"september\" + 0.005*\"commission\" + 0.004*\"malcolm\"\n",
            "\n",
            "TOPIC 5 - parole più popolari\n",
            "0.007*\"christmas\" + 0.007*\"august\" + 0.007*\"november\" + 0.006*\"april\" + 0.006*\"syria\" + 0.006*\"age\" + 0.006*\"street\" + 0.006*\"jam\" + 0.004*\"chris\" + 0.004*\"online\"\n",
            "\n",
            "TOPIC 6 - parole più popolari\n",
            "0.016*\"crash\" + 0.010*\"kill\" + 0.009*\"car\" + 0.007*\"sport\" + 0.007*\"die\" + 0.006*\"friday\" + 0.006*\"man\" + 0.006*\"dairy\" + 0.006*\"truck\" + 0.006*\"yo\"\n",
            "\n",
            "TOPIC 7 - parole più popolari\n",
            "0.014*\"country\" + 0.013*\"hour\" + 0.011*\"government\" + 0.007*\"wa\" + 0.007*\"fund\" + 0.006*\"nsw\" + 0.006*\"budget\" + 0.006*\"federal\" + 0.005*\"plan\" + 0.005*\"health\"\n",
            "\n",
            "TOPIC 8 - parole più popolari\n",
            "0.021*\"man\" + 0.016*\"charge\" + 0.016*\"police\" + 0.013*\"murder\" + 0.011*\"court\" + 0.008*\"woman\" + 0.008*\"jail\" + 0.007*\"death\" + 0.007*\"assault\" + 0.007*\"guilty\"\n",
            "\n",
            "TOPIC 9 - parole più popolari\n",
            "0.010*\"win\" + 0.009*\"day\" + 0.008*\"drum\" + 0.008*\"league\" + 0.008*\"australia\" + 0.008*\"world\" + 0.007*\"cup\" + 0.007*\"final\" + 0.006*\"live\" + 0.006*\"david\"\n",
            "\n",
            "TOPIC 10 - parole più popolari\n",
            "0.009*\"weather\" + 0.008*\"nrn\" + 0.007*\"john\" + 0.006*\"michael\" + 0.006*\"asylum\" + 0.005*\"october\" + 0.005*\"art\" + 0.004*\"wrap\" + 0.004*\"politics\" + 0.004*\"st\"\n"
          ],
          "name": "stdout"
        }
      ]
    },
    {
      "metadata": {
        "id": "U6WJ8DNpvU9F",
        "colab_type": "text"
      },
      "cell_type": "markdown",
      "source": [
        "## Visualizzare il modello"
      ]
    },
    {
      "metadata": {
        "id": "rd0X4HYsvYh7",
        "colab_type": "code",
        "outputId": "5dcdc4a8-dd63-43b9-c480-800c308b11b8",
        "colab": {
          "base_uri": "https://localhost:8080/",
          "height": 551
        }
      },
      "cell_type": "code",
      "source": [
        "!pip install pyldavis"
      ],
      "execution_count": 55,
      "outputs": [
        {
          "output_type": "stream",
          "text": [
            "Collecting pyldavis\n",
            "\u001b[?25l  Downloading https://files.pythonhosted.org/packages/a5/3a/af82e070a8a96e13217c8f362f9a73e82d61ac8fff3a2561946a97f96266/pyLDAvis-2.1.2.tar.gz (1.6MB)\n",
            "\u001b[K    100% |████████████████████████████████| 1.6MB 8.2MB/s \n",
            "\u001b[?25hRequirement already satisfied: wheel>=0.23.0 in /usr/local/lib/python3.6/dist-packages (from pyldavis) (0.33.1)\n",
            "Requirement already satisfied: numpy>=1.9.2 in /usr/local/lib/python3.6/dist-packages (from pyldavis) (1.16.2)\n",
            "Requirement already satisfied: scipy>=0.18.0 in /usr/local/lib/python3.6/dist-packages (from pyldavis) (1.2.1)\n",
            "Requirement already satisfied: pandas>=0.17.0 in /usr/local/lib/python3.6/dist-packages (from pyldavis) (0.23.4)\n",
            "Requirement already satisfied: joblib>=0.8.4 in /usr/local/lib/python3.6/dist-packages (from pyldavis) (0.12.5)\n",
            "Requirement already satisfied: jinja2>=2.7.2 in /usr/local/lib/python3.6/dist-packages (from pyldavis) (2.10.1)\n",
            "Requirement already satisfied: numexpr in /usr/local/lib/python3.6/dist-packages (from pyldavis) (2.6.9)\n",
            "Requirement already satisfied: pytest in /usr/local/lib/python3.6/dist-packages (from pyldavis) (3.6.4)\n",
            "Requirement already satisfied: future in /usr/local/lib/python3.6/dist-packages (from pyldavis) (0.16.0)\n",
            "Collecting funcy (from pyldavis)\n",
            "  Downloading https://files.pythonhosted.org/packages/47/a4/204fa23012e913839c2da4514b92f17da82bf5fc8c2c3d902fa3fa3c6eec/funcy-1.11-py2.py3-none-any.whl\n",
            "Requirement already satisfied: python-dateutil>=2.5.0 in /usr/local/lib/python3.6/dist-packages (from pandas>=0.17.0->pyldavis) (2.5.3)\n",
            "Requirement already satisfied: pytz>=2011k in /usr/local/lib/python3.6/dist-packages (from pandas>=0.17.0->pyldavis) (2018.9)\n",
            "Requirement already satisfied: MarkupSafe>=0.23 in /usr/local/lib/python3.6/dist-packages (from jinja2>=2.7.2->pyldavis) (1.1.1)\n",
            "Requirement already satisfied: six>=1.10.0 in /usr/local/lib/python3.6/dist-packages (from pytest->pyldavis) (1.11.0)\n",
            "Requirement already satisfied: atomicwrites>=1.0 in /usr/local/lib/python3.6/dist-packages (from pytest->pyldavis) (1.3.0)\n",
            "Requirement already satisfied: attrs>=17.4.0 in /usr/local/lib/python3.6/dist-packages (from pytest->pyldavis) (19.1.0)\n",
            "Requirement already satisfied: pluggy<0.8,>=0.5 in /usr/local/lib/python3.6/dist-packages (from pytest->pyldavis) (0.7.1)\n",
            "Requirement already satisfied: setuptools in /usr/local/lib/python3.6/dist-packages (from pytest->pyldavis) (40.9.0)\n",
            "Requirement already satisfied: py>=1.5.0 in /usr/local/lib/python3.6/dist-packages (from pytest->pyldavis) (1.8.0)\n",
            "Requirement already satisfied: more-itertools>=4.0.0 in /usr/local/lib/python3.6/dist-packages (from pytest->pyldavis) (7.0.0)\n",
            "Building wheels for collected packages: pyldavis\n",
            "  Building wheel for pyldavis (setup.py) ... \u001b[?25ldone\n",
            "\u001b[?25h  Stored in directory: /root/.cache/pip/wheels/98/71/24/513a99e58bb6b8465bae4d2d5e9dba8f0bef8179e3051ac414\n",
            "Successfully built pyldavis\n",
            "Installing collected packages: funcy, pyldavis\n",
            "Successfully installed funcy-1.11 pyldavis-2.1.2\n"
          ],
          "name": "stdout"
        }
      ]
    },
    {
      "metadata": {
        "id": "Z6C5iN1WvSlB",
        "colab_type": "code",
        "outputId": "10533606-baae-46e5-d45c-88f30b6120d6",
        "colab": {
          "base_uri": "https://localhost:8080/",
          "height": 1018
        }
      },
      "cell_type": "code",
      "source": [
        "import pyLDAvis.gensim\n",
        "\n",
        "pyLDAvis.enable_notebook()\n",
        "pyLDAvis.gensim.prepare(lda, X, dictionary, mds='tsne')"
      ],
      "execution_count": 57,
      "outputs": [
        {
          "output_type": "stream",
          "text": [
            "/usr/local/lib/python3.6/dist-packages/pyLDAvis/_prepare.py:257: FutureWarning: Sorting because non-concatenation axis is not aligned. A future version\n",
            "of pandas will change to not sort by default.\n",
            "\n",
            "To accept the future behavior, pass 'sort=False'.\n",
            "\n",
            "To retain the current behavior and silence the warning, pass 'sort=True'.\n",
            "\n",
            "  return pd.concat([default_term_info] + list(topic_dfs))\n"
          ],
          "name": "stderr"
        },
        {
          "output_type": "execute_result",
          "data": {
            "text/html": [
              "\n",
              "<link rel=\"stylesheet\" type=\"text/css\" href=\"https://cdn.rawgit.com/bmabey/pyLDAvis/files/ldavis.v1.0.0.css\">\n",
              "\n",
              "\n",
              "<div id=\"ldavis_el1411403971451154082284123276\"></div>\n",
              "<script type=\"text/javascript\">\n",
              "\n",
              "var ldavis_el1411403971451154082284123276_data = {\"mdsDat\": {\"x\": [-75.67439270019531, -32.654701232910156, -86.30831909179688, -7.577352523803711, -3.2994062900543213, 94.42305755615234, 132.8902130126953, 16.21630096435547, 61.68785858154297, 59.76301956176758], \"y\": [57.60191345214844, -119.0895767211914, -31.780380249023438, -46.74680709838867, 28.583499908447266, 59.448875427246094, -35.50864028930664, 104.06853485107422, -100.2843017578125, -12.844320297241211], \"topics\": [1, 2, 3, 4, 5, 6, 7, 8, 9, 10], \"cluster\": [1, 1, 1, 1, 1, 1, 1, 1, 1, 1], \"Freq\": [13.69348430633545, 11.06113338470459, 10.760223388671875, 9.96265983581543, 9.914999008178711, 9.36886215209961, 9.214301109313965, 8.987040519714355, 8.86796760559082, 8.169327735900879]}, \"tinfo\": {\"Category\": [\"Default\", \"Default\", \"Default\", \"Default\", \"Default\", \"Default\", \"Default\", \"Default\", \"Default\", \"Default\", \"Default\", \"Default\", \"Default\", \"Default\", \"Default\", \"Default\", \"Default\", \"Default\", \"Default\", \"Default\", \"Default\", \"Default\", \"Default\", \"Default\", \"Default\", \"Default\", \"Default\", \"Default\", \"Default\", \"Default\", \"Topic1\", \"Topic1\", \"Topic1\", \"Topic1\", \"Topic1\", \"Topic1\", \"Topic1\", \"Topic1\", \"Topic1\", \"Topic1\", \"Topic1\", \"Topic1\", \"Topic1\", \"Topic1\", \"Topic1\", \"Topic1\", \"Topic1\", \"Topic1\", \"Topic1\", \"Topic1\", \"Topic1\", \"Topic1\", \"Topic1\", \"Topic1\", \"Topic1\", \"Topic1\", \"Topic1\", \"Topic1\", \"Topic1\", \"Topic1\", \"Topic1\", \"Topic1\", \"Topic1\", \"Topic1\", \"Topic1\", \"Topic1\", \"Topic1\", \"Topic1\", \"Topic1\", \"Topic1\", \"Topic1\", \"Topic1\", \"Topic1\", \"Topic1\", \"Topic1\", \"Topic1\", \"Topic1\", \"Topic1\", \"Topic1\", \"Topic1\", \"Topic1\", \"Topic1\", \"Topic1\", \"Topic1\", \"Topic1\", \"Topic1\", \"Topic1\", \"Topic1\", \"Topic1\", \"Topic1\", \"Topic1\", \"Topic1\", \"Topic1\", \"Topic1\", \"Topic1\", \"Topic1\", \"Topic1\", \"Topic1\", \"Topic2\", \"Topic2\", \"Topic2\", \"Topic2\", \"Topic2\", \"Topic2\", \"Topic2\", \"Topic2\", \"Topic2\", \"Topic2\", \"Topic2\", \"Topic2\", \"Topic2\", \"Topic2\", \"Topic2\", \"Topic2\", \"Topic2\", \"Topic2\", \"Topic2\", \"Topic2\", \"Topic2\", \"Topic2\", \"Topic2\", \"Topic2\", \"Topic2\", \"Topic2\", \"Topic2\", \"Topic2\", \"Topic2\", \"Topic2\", \"Topic2\", \"Topic2\", \"Topic2\", \"Topic2\", \"Topic2\", \"Topic2\", \"Topic2\", \"Topic2\", \"Topic2\", \"Topic2\", \"Topic2\", \"Topic2\", \"Topic2\", \"Topic2\", \"Topic2\", \"Topic2\", \"Topic2\", \"Topic2\", \"Topic2\", \"Topic2\", \"Topic2\", \"Topic2\", \"Topic2\", \"Topic2\", \"Topic2\", \"Topic2\", \"Topic2\", \"Topic2\", \"Topic2\", \"Topic2\", \"Topic2\", \"Topic2\", \"Topic2\", \"Topic2\", \"Topic3\", \"Topic3\", \"Topic3\", \"Topic3\", \"Topic3\", \"Topic3\", \"Topic3\", \"Topic3\", \"Topic3\", \"Topic3\", \"Topic3\", \"Topic3\", \"Topic3\", \"Topic3\", \"Topic3\", \"Topic3\", \"Topic3\", \"Topic3\", \"Topic3\", \"Topic3\", \"Topic3\", \"Topic3\", \"Topic3\", \"Topic3\", \"Topic3\", \"Topic3\", \"Topic3\", \"Topic3\", \"Topic3\", \"Topic3\", \"Topic3\", \"Topic3\", \"Topic3\", \"Topic3\", \"Topic3\", \"Topic3\", \"Topic3\", \"Topic3\", \"Topic3\", \"Topic3\", \"Topic3\", \"Topic3\", \"Topic3\", \"Topic3\", \"Topic3\", \"Topic3\", \"Topic3\", \"Topic3\", \"Topic3\", \"Topic3\", \"Topic3\", \"Topic3\", \"Topic3\", \"Topic3\", \"Topic3\", \"Topic3\", \"Topic3\", \"Topic4\", \"Topic4\", \"Topic4\", \"Topic4\", \"Topic4\", \"Topic4\", \"Topic4\", \"Topic4\", \"Topic4\", \"Topic4\", \"Topic4\", \"Topic4\", \"Topic4\", \"Topic4\", \"Topic4\", \"Topic4\", \"Topic4\", \"Topic4\", \"Topic4\", \"Topic4\", \"Topic4\", \"Topic4\", \"Topic4\", \"Topic4\", \"Topic4\", \"Topic4\", \"Topic4\", \"Topic4\", \"Topic4\", \"Topic4\", \"Topic4\", \"Topic4\", \"Topic4\", \"Topic4\", \"Topic4\", \"Topic4\", \"Topic4\", \"Topic4\", \"Topic4\", \"Topic4\", \"Topic4\", \"Topic4\", \"Topic4\", \"Topic4\", \"Topic4\", \"Topic4\", \"Topic4\", \"Topic4\", \"Topic4\", \"Topic4\", \"Topic4\", \"Topic4\", \"Topic4\", \"Topic4\", \"Topic4\", \"Topic5\", \"Topic5\", \"Topic5\", \"Topic5\", \"Topic5\", \"Topic5\", \"Topic5\", \"Topic5\", \"Topic5\", \"Topic5\", \"Topic5\", \"Topic5\", \"Topic5\", \"Topic5\", \"Topic5\", \"Topic5\", \"Topic5\", \"Topic5\", \"Topic5\", \"Topic5\", \"Topic5\", \"Topic5\", \"Topic5\", \"Topic5\", \"Topic5\", \"Topic5\", \"Topic5\", \"Topic5\", \"Topic5\", \"Topic5\", \"Topic5\", \"Topic5\", \"Topic5\", \"Topic5\", \"Topic5\", \"Topic5\", \"Topic5\", \"Topic5\", \"Topic5\", \"Topic5\", \"Topic5\", \"Topic5\", \"Topic5\", \"Topic5\", \"Topic5\", \"Topic5\", \"Topic5\", \"Topic5\", \"Topic5\", \"Topic5\", \"Topic5\", \"Topic5\", \"Topic5\", \"Topic5\", \"Topic5\", \"Topic6\", \"Topic6\", \"Topic6\", \"Topic6\", \"Topic6\", \"Topic6\", \"Topic6\", \"Topic6\", \"Topic6\", \"Topic6\", \"Topic6\", \"Topic6\", \"Topic6\", \"Topic6\", \"Topic6\", \"Topic6\", \"Topic6\", \"Topic6\", \"Topic6\", \"Topic6\", \"Topic6\", \"Topic6\", \"Topic6\", \"Topic6\", \"Topic6\", \"Topic6\", \"Topic6\", \"Topic6\", \"Topic6\", \"Topic6\", \"Topic6\", \"Topic6\", \"Topic6\", \"Topic6\", \"Topic6\", \"Topic6\", \"Topic6\", \"Topic6\", \"Topic6\", \"Topic6\", \"Topic6\", \"Topic6\", \"Topic6\", \"Topic6\", \"Topic7\", \"Topic7\", \"Topic7\", \"Topic7\", \"Topic7\", \"Topic7\", \"Topic7\", \"Topic7\", \"Topic7\", \"Topic7\", \"Topic7\", \"Topic7\", \"Topic7\", \"Topic7\", \"Topic7\", \"Topic7\", \"Topic7\", \"Topic7\", \"Topic7\", \"Topic7\", \"Topic7\", \"Topic7\", \"Topic7\", \"Topic7\", \"Topic7\", \"Topic7\", \"Topic7\", \"Topic7\", \"Topic7\", \"Topic7\", \"Topic7\", \"Topic7\", \"Topic7\", \"Topic7\", \"Topic7\", \"Topic7\", \"Topic7\", \"Topic7\", \"Topic7\", \"Topic7\", \"Topic7\", \"Topic7\", \"Topic7\", \"Topic7\", \"Topic7\", \"Topic7\", \"Topic7\", \"Topic7\", \"Topic7\", \"Topic7\", \"Topic7\", \"Topic7\", \"Topic7\", \"Topic8\", \"Topic8\", \"Topic8\", \"Topic8\", \"Topic8\", \"Topic8\", \"Topic8\", \"Topic8\", \"Topic8\", \"Topic8\", \"Topic8\", \"Topic8\", \"Topic8\", \"Topic8\", \"Topic8\", \"Topic8\", \"Topic8\", \"Topic8\", \"Topic8\", \"Topic8\", \"Topic8\", \"Topic8\", \"Topic8\", \"Topic8\", \"Topic8\", \"Topic8\", \"Topic8\", \"Topic8\", \"Topic8\", \"Topic8\", \"Topic8\", \"Topic8\", \"Topic8\", \"Topic8\", \"Topic8\", \"Topic8\", \"Topic8\", \"Topic8\", \"Topic8\", \"Topic8\", \"Topic8\", \"Topic8\", \"Topic8\", \"Topic8\", \"Topic8\", \"Topic8\", \"Topic8\", \"Topic8\", \"Topic9\", \"Topic9\", \"Topic9\", \"Topic9\", \"Topic9\", \"Topic9\", \"Topic9\", \"Topic9\", \"Topic9\", \"Topic9\", \"Topic9\", \"Topic9\", \"Topic9\", \"Topic9\", \"Topic9\", \"Topic9\", \"Topic9\", \"Topic9\", \"Topic9\", \"Topic9\", \"Topic9\", \"Topic9\", \"Topic9\", \"Topic9\", \"Topic9\", \"Topic9\", \"Topic9\", \"Topic9\", \"Topic9\", \"Topic9\", \"Topic9\", \"Topic9\", \"Topic9\", \"Topic9\", \"Topic9\", \"Topic9\", \"Topic9\", \"Topic9\", \"Topic9\", \"Topic9\", \"Topic9\", \"Topic9\", \"Topic9\", \"Topic9\", \"Topic9\", \"Topic9\", \"Topic9\", \"Topic9\", \"Topic9\", \"Topic10\", \"Topic10\", \"Topic10\", \"Topic10\", \"Topic10\", \"Topic10\", \"Topic10\", \"Topic10\", \"Topic10\", \"Topic10\", \"Topic10\", \"Topic10\", \"Topic10\", \"Topic10\", \"Topic10\", \"Topic10\", \"Topic10\", \"Topic10\", \"Topic10\", \"Topic10\", \"Topic10\", \"Topic10\", \"Topic10\", \"Topic10\", \"Topic10\", \"Topic10\", \"Topic10\", \"Topic10\", \"Topic10\", \"Topic10\", \"Topic10\", \"Topic10\", \"Topic10\", \"Topic10\", \"Topic10\", \"Topic10\", \"Topic10\", \"Topic10\", \"Topic10\", \"Topic10\", \"Topic10\", \"Topic10\", \"Topic10\", \"Topic10\", \"Topic10\", \"Topic10\", \"Topic10\", \"Topic10\", \"Topic10\"], \"Freq\": [7460.0, 3663.0, 4501.0, 3987.0, 3053.0, 4990.0, 3511.0, 4547.0, 3506.0, 2651.0, 4973.0, 6912.0, 2201.0, 4494.0, 1941.0, 2842.0, 1829.0, 2402.0, 1842.0, 3198.0, 1816.0, 1964.0, 1843.0, 2292.0, 3421.0, 4307.0, 1997.0, 1599.0, 1491.0, 1661.0, 3986.193115234375, 1448.21484375, 1292.8701171875, 1129.4967041015625, 964.4912109375, 906.8289184570312, 874.6930541992188, 901.158935546875, 597.6463012695312, 562.8192749023438, 556.44140625, 504.1541748046875, 491.17803955078125, 473.9964599609375, 449.67718505859375, 437.4819030761719, 456.6791076660156, 430.0089416503906, 415.4740905761719, 411.7343444824219, 400.7411193847656, 359.311767578125, 356.584716796875, 618.2980346679688, 398.05474853515625, 350.9204406738281, 381.60467529296875, 353.3775329589844, 347.1341247558594, 343.77154541015625, 1781.16650390625, 585.7294921875, 401.84228515625, 4375.35888671875, 578.3991088867188, 888.04443359375, 818.987548828125, 939.255615234375, 684.103759765625, 1234.4927978515625, 3474.693115234375, 1850.54833984375, 2178.19921875, 1228.552734375, 1556.4547119140625, 781.8552856445312, 1003.13818359375, 657.5380249023438, 1617.8262939453125, 2343.39697265625, 875.24267578125, 886.4482421875, 1251.635009765625, 1969.6021728515625, 1445.388427734375, 1620.516845703125, 1270.5726318359375, 1449.0411376953125, 1406.6822509765625, 1221.4027099609375, 1384.9796142578125, 1521.6435546875, 1100.6707763671875, 1441.659423828125, 1188.7315673828125, 1144.207763671875, 1069.748291015625, 1034.0794677734375, 1548.8829345703125, 794.0362548828125, 650.7449951171875, 1396.4527587890625, 585.3848876953125, 567.3743286132812, 559.1669921875, 587.3379516601562, 538.1241455078125, 518.673828125, 504.1923828125, 493.60662841796875, 486.84332275390625, 484.618896484375, 497.18719482421875, 475.1478576660156, 471.47662353515625, 468.74151611328125, 465.9632263183594, 456.5414123535156, 700.02001953125, 445.9405212402344, 446.4117431640625, 432.04498291015625, 423.7605285644531, 436.73846435546875, 389.1437683105469, 369.56207275390625, 404.80230712890625, 356.753173828125, 1825.2305908203125, 820.073974609375, 494.9953918457031, 3301.03271484375, 951.6306762695312, 1830.04541015625, 4057.147705078125, 1582.966796875, 1415.05908203125, 5326.75927734375, 1148.80029296875, 931.0247192382812, 1175.8580322265625, 867.81884765625, 2877.2255859375, 1791.7735595703125, 3986.9501953125, 1906.2469482421875, 1752.178466796875, 1720.2200927734375, 2031.5889892578125, 948.033935546875, 1583.31640625, 1866.03173828125, 1304.56982421875, 1398.7274169921875, 1076.999755859375, 1246.6422119140625, 1421.9996337890625, 1230.6771240234375, 1086.0147705078125, 1212.0303955078125, 1000.7064819335938, 1004.5833129882812, 2200.386962890625, 1272.781005859375, 1025.951416015625, 932.871337890625, 919.755615234375, 916.7642822265625, 789.074462890625, 770.33837890625, 759.8369750976562, 742.1111450195312, 739.5407104492188, 635.7484741210938, 591.5112915039062, 589.4849853515625, 578.3974609375, 651.1066284179688, 544.41552734375, 539.4656372070312, 502.3365173339844, 1476.9793701171875, 475.359619140625, 412.3869323730469, 403.6191101074219, 373.8560485839844, 604.03662109375, 370.1898498535156, 361.2709045410156, 351.13861083984375, 346.4378356933594, 344.4743347167969, 2641.53857421875, 545.0995483398438, 446.33856201171875, 3170.747802734375, 2128.20263671875, 1949.441162109375, 3571.3681640625, 1787.992919921875, 736.4928588867188, 1014.6344604492188, 707.1915893554688, 1207.0101318359375, 1395.2852783203125, 1063.0665283203125, 963.4432373046875, 1251.095947265625, 943.3065185546875, 1423.2257080078125, 1027.624267578125, 1366.9228515625, 1164.107666015625, 1027.224365234375, 1248.78857421875, 940.9774169921875, 845.030029296875, 841.0164184570312, 789.6753540039062, 1940.962890625, 1288.0831298828125, 1150.25341796875, 1331.189208984375, 1089.6505126953125, 975.1869506835938, 950.5691528320312, 875.283935546875, 737.4088134765625, 698.4417114257812, 1223.1644287109375, 629.8098754882812, 590.3146362304688, 568.9747924804688, 535.9718017578125, 538.2640991210938, 520.769775390625, 512.9931640625, 512.2514038085938, 487.28887939453125, 511.4883728027344, 482.63134765625, 479.2546691894531, 486.135009765625, 452.6322937011719, 452.5025939941406, 444.91741943359375, 449.3216552734375, 431.6524963378906, 420.93646240234375, 868.4362182617188, 561.3953247070312, 1862.9580078125, 1575.053466796875, 787.7676391601562, 1642.6055908203125, 825.0454711914062, 739.9461059570312, 1958.5509033203125, 2259.651123046875, 1786.5736083984375, 1405.369873046875, 1055.1298828125, 1833.2445068359375, 720.4276733398438, 1193.6563720703125, 959.7174682617188, 645.33349609375, 716.2854614257812, 712.5503540039062, 866.3541259765625, 836.6729736328125, 852.5213623046875, 853.3502807617188, 846.4514770507812, 1429.201904296875, 1310.3345947265625, 1304.3333740234375, 1325.6907958984375, 1277.7579345703125, 1031.8543701171875, 870.8703002929688, 1598.1341552734375, 857.7052612304688, 665.9017944335938, 656.484619140625, 653.662109375, 600.0194702148438, 596.2559814453125, 576.5196533203125, 575.3897094726562, 531.0349731445312, 484.0945739746094, 504.59844970703125, 471.028076171875, 491.6037902832031, 430.02447509765625, 415.4752197265625, 412.4098815917969, 402.700439453125, 778.3991088867188, 397.3328857421875, 3655.15283203125, 377.6061706542969, 390.1796875, 1318.9224853515625, 761.2684326171875, 622.766845703125, 536.3419189453125, 1289.8177490234375, 759.1115112304688, 784.5487060546875, 722.6395874023438, 1027.0360107421875, 2012.6927490234375, 1257.0113525390625, 2194.55615234375, 1113.9776611328125, 1020.0635986328125, 759.451416015625, 989.4651489257812, 1535.28662109375, 872.7372436523438, 1146.245361328125, 904.281005859375, 1379.5772705078125, 1243.8677978515625, 999.4544677734375, 841.7487182617188, 828.6436157226562, 1815.3878173828125, 1491.117431640625, 1303.1182861328125, 1296.602783203125, 856.770263671875, 909.6786499023438, 756.3583984375, 750.2770385742188, 710.96533203125, 681.6032104492188, 635.652587890625, 635.6317138671875, 638.2188720703125, 652.7195434570312, 617.6978759765625, 558.70361328125, 537.1845703125, 536.7078247070312, 524.1937866210938, 1030.93994140625, 1838.904296875, 487.5635681152344, 493.9105529785156, 478.94866943359375, 477.93206787109375, 475.97607421875, 457.27093505859375, 450.64434814453125, 444.9187316894531, 436.03167724609375, 440.1169738769531, 677.0048217773438, 1036.0831298828125, 610.7525634765625, 772.8782958984375, 810.0595703125, 662.764404296875, 712.3176879882812, 524.03857421875, 739.190185546875, 573.6030883789062, 658.7208251953125, 635.9573974609375, 558.3890991210938, 975.5580444335938, 1133.4515380859375, 810.2781372070312, 798.3374633789062, 783.39697265625, 665.3082885742188, 602.5966186523438, 620.5860595703125, 627.6624145507812, 568.1983642578125, 559.2444458007812, 480.0432434082031, 502.6747741699219, 465.0988464355469, 466.1077575683594, 450.08538818359375, 421.7148132324219, 421.07763671875, 417.2236328125, 575.6428833007812, 429.1951904296875, 398.3009948730469, 396.5431823730469, 383.8944091796875, 486.1228942871094, 479.1878356933594, 369.58203125, 368.2933044433594, 401.3900451660156, 350.8453063964844, 390.2565612792969, 419.60791015625, 598.9696655273438, 654.7803955078125, 1238.3218994140625, 663.7108154296875, 562.4882202148438, 502.1669006347656, 996.2493896484375, 724.8787841796875, 530.3505859375, 563.6424560546875, 1109.302734375, 807.0968017578125, 528.905517578125, 575.7841796875, 699.78173828125, 556.178466796875, 738.6445922851562, 574.2941284179688, 618.7230834960938, 600.00830078125, 559.5947875976562, 3052.191162109375, 1828.342041015625, 1270.8765869140625, 1268.4613037109375, 864.6123046875, 786.171142578125, 659.2684326171875, 569.0908813476562, 499.3089599609375, 484.9480895996094, 479.71826171875, 463.9886474609375, 450.9071960449219, 450.3490295410156, 447.2062683105469, 445.93560791015625, 439.51397705078125, 433.75634765625, 432.9408874511719, 431.8126525878906, 421.6221008300781, 401.4393310546875, 411.8791198730469, 392.0121765136719, 422.97076416015625, 384.078125, 379.17449951171875, 376.0218811035156, 373.18597412109375, 372.0809631347656, 393.73468017578125, 417.7615661621094, 1447.29541015625, 653.0100708007812, 719.2003784179688, 677.9984741210938, 1516.8255615234375, 1005.438232421875, 1293.7940673828125, 2559.080322265625, 695.7601928710938, 459.2279357910156, 541.6400756835938, 456.3997497558594, 634.5960693359375, 547.0205688476562, 540.8302001953125, 455.4914245605469, 1312.878173828125, 1162.0037841796875, 1033.7647705078125, 687.6133422851562, 667.4110107421875, 616.1725463867188, 617.1036376953125, 604.174072265625, 564.22802734375, 563.7333374023438, 573.4981079101562, 549.6094970703125, 536.417724609375, 536.8362426757812, 519.5247192382812, 620.2771606445312, 1138.0338134765625, 486.2762145996094, 513.3655395507812, 476.7322082519531, 474.3340759277344, 470.72442626953125, 474.9709777832031, 456.45220947265625, 456.5430908203125, 460.8514404296875, 449.5234680175781, 443.30511474609375, 593.3395385742188, 439.96197509765625, 636.9594116210938, 511.6570739746094, 458.5280456542969, 595.4938354492188, 642.6632080078125, 677.1756591796875, 1005.546875, 634.8297729492188, 517.9183959960938, 531.9972534179688, 760.6126098632812, 548.5131225585938, 1026.8201904296875, 730.034912109375, 853.1932983398438, 616.000732421875, 580.1404418945312, 557.0643920898438, 551.64892578125, 1304.5980224609375, 1251.1209716796875, 1175.14697265625, 1182.218505859375, 1124.177490234375, 1135.6444091796875, 1112.217041015625, 813.1528930664062, 767.4275512695312, 715.5741577148438, 672.4283447265625, 631.2255249023438, 632.1356811523438, 616.5125732421875, 649.3245849609375, 496.63446044921875, 483.071533203125, 480.7600402832031, 479.5348815917969, 478.6087341308594, 469.62225341796875, 437.5401916503906, 439.8838195800781, 431.0951232910156, 397.7350158691406, 393.4306945800781, 379.3995361328125, 375.992919921875, 369.94329833984375, 364.0318908691406, 569.2578125, 422.8269958496094, 392.4836120605469, 390.07879638671875, 1345.4403076171875, 478.40386962890625, 466.2971496582031, 539.0360717773438, 807.552001953125, 673.6284790039062, 585.8687133789062, 708.34423828125, 715.4826049804688, 532.1663208007812, 595.2576904296875, 521.2026977539062, 592.89794921875, 537.7308959960938, 537.3214111328125], \"Term\": [\"man\", \"crash\", \"country\", \"hour\", \"trump\", \"charge\", \"murder\", \"rural\", \"market\", \"news\", \"interview\", \"police\", \"podcast\", \"government\", \"drum\", \"car\", \"grandstand\", \"abc\", \"weather\", \"woman\", \"nrn\", \"league\", \"guilty\", \"price\", \"kill\", \"court\", \"assault\", \"sport\", \"john\", \"nrl\", \"hour\", \"abbott\", \"wednesday\", \"domestic\", \"update\", \"social\", \"breakfast\", \"reform\", \"response\", \"barnett\", \"welfare\", \"commonwealth\", \"loan\", \"sunday\", \"barrier\", \"native\", \"martin\", \"mike\", \"jason\", \"sam\", \"gap\", \"package\", \"bunbury\", \"councils\", \"patient\", \"backpacker\", \"infrastructure\", \"ndis\", \"odi\", \"crocodile\", \"federal\", \"protection\", \"lobby\", \"country\", \"csg\", \"education\", \"liberal\", \"senate\", \"investment\", \"rio\", \"government\", \"budget\", \"fund\", \"violence\", \"labor\", \"policy\", \"regional\", \"know\", \"health\", \"wa\", \"vic\", \"tas\", \"service\", \"nsw\", \"council\", \"plan\", \"cut\", \"election\", \"change\", \"job\", \"sa\", \"new\", \"indigenous\", \"say\", \"call\", \"nt\", \"minister\", \"support\", \"stab\", \"attempt\", \"allegedly\", \"plead\", \"justice\", \"sri\", \"bikie\", \"teenager\", \"suspicious\", \"rockhampton\", \"robbery\", \"teens\", \"analysis\", \"broome\", \"offences\", \"lanka\", \"cent\", \"icac\", \"matthew\", \"zoo\", \"rape\", \"robert\", \"theft\", \"richard\", \"fc\", \"brawl\", \"arson\", \"flat\", \"gang\", \"supreme\", \"guilty\", \"bash\", \"appear\", \"murder\", \"bail\", \"assault\", \"charge\", \"sentence\", \"allege\", \"man\", \"officer\", \"boy\", \"men\", \"gun\", \"court\", \"arrest\", \"police\", \"jail\", \"accuse\", \"shoot\", \"woman\", \"teen\", \"drug\", \"death\", \"sex\", \"child\", \"abuse\", \"miss\", \"sydney\", \"face\", \"trial\", \"attack\", \"search\", \"perth\", \"podcast\", \"donald\", \"dollar\", \"december\", \"ice\", \"crop\", \"harvest\", \"ash\", \"february\", \"shorten\", \"syrian\", \"sach\", \"ben\", \"milk\", \"higher\", \"stock\", \"billion\", \"confidence\", \"agriculture\", \"turnbull\", \"surge\", \"manchester\", \"partner\", \"approach\", \"gain\", \"spike\", \"luke\", \"isa\", \"animals\", \"rba\", \"news\", \"lower\", \"levy\", \"market\", \"abc\", \"price\", \"rural\", \"share\", \"grain\", \"rain\", \"profit\", \"business\", \"rise\", \"hunter\", \"rat\", \"national\", \"cattle\", \"queensland\", \"farmers\", \"australian\", \"qld\", \"flood\", \"nsw\", \"sa\", \"fall\", \"year\", \"bank\", \"drum\", \"climate\", \"june\", \"david\", \"peter\", \"tony\", \"outback\", \"grand\", \"th\", \"stream\", \"rugby\", \"story\", \"clinton\", \"asbestos\", \"sunshine\", \"africa\", \"patients\", \"disability\", \"pilbara\", \"anniversary\", \"exhibition\", \"technology\", \"punch\", \"cbd\", \"joyce\", \"johnson\", \"presidential\", \"girls\", \"inside\", \"morrison\", \"history\", \"series\", \"league\", \"final\", \"round\", \"cup\", \"cricket\", \"zealand\", \"day\", \"win\", \"world\", \"live\", \"beat\", \"australia\", \"celebrate\", \"open\", \"test\", \"england\", \"india\", \"mark\", \"melbourne\", \"south\", \"interview\", \"australian\", \"new\", \"friday\", \"yo\", \"thursday\", \"dairy\", \"mother\", \"plane\", \"sexual\", \"sport\", \"suicide\", \"pilot\", \"remote\", \"adam\", \"vanuatu\", \"compensation\", \"communities\", \"allegations\", \"respond\", \"gst\", \"toddler\", \"daughter\", \"afghanistan\", \"thailand\", \"bundaberg\", \"egypt\", \"audio\", \"accident\", \"helicopter\", \"crash\", \"parramatta\", \"launceston\", \"truck\", \"paul\", \"son\", \"elderly\", \"pacific\", \"soldier\", \"university\", \"blast\", \"bus\", \"car\", \"driver\", \"kill\", \"fatal\", \"baby\", \"drink\", \"drive\", \"die\", \"bomb\", \"dead\", \"injure\", \"man\", \"police\", \"woman\", \"road\", \"attack\", \"nrn\", \"john\", \"michael\", \"asylum\", \"politics\", \"wrap\", \"blog\", \"carbon\", \"seekers\", \"disease\", \"olympics\", \"whale\", \"ntch\", \"phone\", \"nuclear\", \"iron\", \"football\", \"researchers\", \"seeker\", \"art\", \"weather\", \"preview\", \"malaysia\", \"cctv\", \"dr\", \"happen\", \"summer\", \"mobile\", \"freight\", \"range\", \"livestock\", \"footage\", \"october\", \"explain\", \"korea\", \"st\", \"quiz\", \"export\", \"george\", \"new\", \"festival\", \"australia\", \"say\", \"north\", \"andrew\", \"capital\", \"fix\", \"data\", \"exchange\", \"steve\", \"production\", \"wide\", \"firefighters\", \"miners\", \"pc\", \"unemployment\", \"store\", \"dozens\", \"ballarat\", \"corner\", \"entertainment\", \"stephen\", \"fast\", \"taxi\", \"controversial\", \"josh\", \"fashion\", \"pet\", \"worst\", \"closer\", \"pig\", \"bed\", \"brumbies\", \"migrants\", \"wrong\", \"wave\", \"private\", \"liberals\", \"coal\", \"destroy\", \"underway\", \"reds\", \"hobart\", \"blaze\", \"think\", \"dam\", \"hill\", \"western\", \"hotel\", \"bay\", \"queensland\", \"track\", \"new\", \"food\", \"interview\", \"plan\", \"work\", \"trump\", \"grandstand\", \"tuesday\", \"september\", \"malcolm\", \"spring\", \"sheep\", \"january\", \"department\", \"losses\", \"macquarie\", \"geelong\", \"van\", \"matt\", \"catholic\", \"recover\", \"greg\", \"stories\", \"clive\", \"cameron\", \"fremantle\", \"essendon\", \"relief\", \"myanmar\", \"hawk\", \"ag\", \"inspire\", \"evacuate\", \"fifa\", \"locals\", \"college\", \"lions\", \"royal\", \"alice\", \"wallabies\", \"swan\", \"nrl\", \"commission\", \"afl\", \"interview\", \"coach\", \"eagle\", \"kid\", \"press\", \"win\", \"say\", \"new\", \"scott\", \"monday\", \"july\", \"islamic\", \"clarke\", \"drone\", \"mh\", \"bishop\", \"prime\", \"queen\", \"nick\", \"bird\", \"nbn\", \"tim\", \"space\", \"forecast\", \"reserve\", \"mental\", \"mitchell\", \"earthquake\", \"episode\", \"plus\", \"greyhound\", \"ukraine\", \"bat\", \"environment\", \"immigration\", \"manus\", \"joe\", \"philippines\", \"hockey\", \"cannabis\", \"class\", \"bushfires\", \"islands\", \"human\", \"refuse\", \"northern\", \"territory\", \"lawyer\", \"brexit\", \"png\", \"indonesian\", \"say\", \"state\", \"australia\", \"china\", \"new\", \"minister\", \"health\", \"august\", \"november\", \"syria\", \"april\", \"street\", \"age\", \"jam\", \"chris\", \"marriage\", \"palmer\", \"corruption\", \"fraud\", \"harbour\", \"drown\", \"facebook\", \"bob\", \"cook\", \"industrial\", \"ian\", \"coffs\", \"scandal\", \"voters\", \"basin\", \"dream\", \"eat\", \"tennis\", \"hide\", \"colin\", \"jury\", \"titans\", \"bike\", \"muslim\", \"golf\", \"aleppo\", \"christmas\", \"feel\", \"culture\", \"brown\", \"online\", \"remember\", \"injury\", \"indonesia\", \"care\", \"reporter\", \"parent\", \"boom\", \"wall\", \"mount\", \"say\"], \"Total\": [7460.0, 3663.0, 4501.0, 3987.0, 3053.0, 4990.0, 3511.0, 4547.0, 3506.0, 2651.0, 4973.0, 6912.0, 2201.0, 4494.0, 1941.0, 2842.0, 1829.0, 2402.0, 1842.0, 3198.0, 1816.0, 1964.0, 1843.0, 2292.0, 3421.0, 4307.0, 1997.0, 1599.0, 1491.0, 1661.0, 3987.10009765625, 1449.1507568359375, 1293.73681640625, 1130.36572265625, 965.3614501953125, 907.6980590820312, 875.5597534179688, 902.0934448242188, 598.5430908203125, 563.6859130859375, 557.3113403320312, 505.043701171875, 492.0467224121094, 474.866455078125, 450.544677734375, 438.3509216308594, 457.5911865234375, 430.8756408691406, 416.3409118652344, 412.6011047363281, 401.630126953125, 360.18084716796875, 357.4517517089844, 619.8068237304688, 399.0355529785156, 351.7873229980469, 382.5476379394531, 354.2513427734375, 348.0009460449219, 344.6383056640625, 1804.6092529296875, 588.2921142578125, 402.9277648925781, 4501.83544921875, 582.78955078125, 911.25830078125, 839.6255493164062, 1013.9366455078125, 719.7442016601562, 1393.0064697265625, 4494.16064453125, 2356.215087890625, 3125.9609375, 1581.9100341796875, 2154.323974609375, 928.7374267578125, 1313.659912109375, 750.656005859375, 2784.77294921875, 4952.3271484375, 1174.8309326171875, 1211.3345947265625, 2256.78125, 5180.08349609375, 3125.458740234375, 3914.08349609375, 2543.918212890625, 3392.737548828125, 3263.380859375, 2477.37939453125, 3684.508056640625, 6799.00146484375, 2068.42333984375, 5999.64599609375, 2907.15625, 2504.59912109375, 2336.072998046875, 1859.4205322265625, 1549.7840576171875, 794.9088745117188, 651.6115112304688, 1398.3739013671875, 586.2498168945312, 568.2415771484375, 560.0350952148438, 588.28125, 538.9888916015625, 519.5404052734375, 505.0571594238281, 494.4757995605469, 487.7080383300781, 485.4841613769531, 498.0755310058594, 476.01422119140625, 472.3414001464844, 469.60675048828125, 466.82965087890625, 457.4061584472656, 701.3717041015625, 446.80523681640625, 447.28839111328125, 432.9097595214844, 424.62530517578125, 437.63470458984375, 390.00848388671875, 370.4340515136719, 405.768310546875, 357.6178283691406, 1843.856201171875, 825.3818359375, 496.798583984375, 3511.200439453125, 978.3517456054688, 1997.3037109375, 4990.89990234375, 1790.91552734375, 1598.77880859375, 7460.068359375, 1325.336181640625, 1038.4871826171875, 1387.42431640625, 991.8165893554688, 4307.958984375, 2410.737548828125, 6912.97314453125, 2817.052734375, 2530.433349609375, 2544.578857421875, 3198.780029296875, 1173.7940673828125, 2550.211669921875, 3262.86328125, 2001.570068359375, 2232.89794921875, 1804.5162353515625, 2837.553955078125, 4130.08740234375, 3042.921875, 2081.488037109375, 3350.279052734375, 1898.5191650390625, 2960.92919921875, 2201.259033203125, 1273.654052734375, 1026.82470703125, 933.7433471679688, 920.6361694335938, 917.7141723632812, 789.9553833007812, 771.2107543945312, 760.708984375, 742.9833374023438, 740.4129028320312, 636.6207885742188, 592.39306640625, 590.3643798828125, 579.2794799804688, 652.142578125, 545.28759765625, 540.3439331054688, 503.2087097167969, 1479.544677734375, 476.2532958984375, 413.2591552734375, 404.49127197265625, 374.72991943359375, 605.4586181640625, 371.06622314453125, 362.1430358886719, 352.0106506347656, 347.30999755859375, 345.3500671386719, 2651.806640625, 547.4190063476562, 448.1642150878906, 3506.651123046875, 2402.762451171875, 2292.82421875, 4547.38671875, 2295.142333984375, 836.1902465820312, 1264.0943603515625, 824.4959716796875, 1913.6982421875, 2436.262451171875, 1647.7877197265625, 1400.4180908203125, 2695.370361328125, 1524.3492431640625, 3636.494873046875, 1952.83056640625, 5178.48046875, 3293.311767578125, 2346.865966796875, 5180.08349609375, 3684.508056640625, 2123.872314453125, 2757.993896484375, 1652.914794921875, 1941.832763671875, 1288.9532470703125, 1151.12353515625, 1332.217529296875, 1090.5205078125, 976.056884765625, 951.4591674804688, 876.1622924804688, 738.2957153320312, 699.3115844726562, 1224.7996826171875, 630.6798706054688, 591.1846313476562, 569.84765625, 536.842529296875, 539.1592407226562, 521.6433715820312, 513.8631591796875, 513.1214599609375, 488.1600036621094, 512.4144287109375, 483.5056457519531, 480.1246032714844, 487.0218811035156, 453.5022888183594, 453.3734130859375, 445.7879333496094, 450.2091979980469, 432.5227355957031, 421.8064270019531, 875.4031372070312, 563.810791015625, 1964.43359375, 1909.4693603515625, 870.2650146484375, 2288.1201171875, 1007.8280029296875, 885.6448364257812, 3599.960205078125, 4434.37353515625, 3205.640380859375, 2777.056396484375, 1790.025390625, 6023.9482421875, 1001.5678100585938, 3063.669189453125, 2597.27294921875, 863.1470947265625, 1239.67236328125, 1224.456298828125, 3366.96875, 3497.06689453125, 4973.025390625, 5178.48046875, 6799.00146484375, 1430.061767578125, 1311.19384765625, 1305.192626953125, 1326.5865478515625, 1278.6531982421875, 1032.7706298828125, 871.7300415039062, 1599.793212890625, 858.8092651367188, 666.7626342773438, 657.3439331054688, 654.5213623046875, 600.8786010742188, 597.1170043945312, 577.3816528320312, 576.2568969726562, 531.8944702148438, 484.953857421875, 505.5320739746094, 471.90643310546875, 492.5482177734375, 430.89068603515625, 416.339111328125, 413.2701416015625, 403.5595397949219, 780.0770874023438, 398.1939697265625, 3663.266845703125, 378.46539306640625, 391.0721435546875, 1322.341552734375, 763.264404296875, 624.2661743164062, 538.0376586914062, 1312.4727783203125, 766.9343872070312, 810.2543334960938, 776.4487915039062, 1174.5767822265625, 2842.02099609375, 1630.4439697265625, 3421.27880859375, 1533.165771484375, 1368.4378662109375, 900.4349365234375, 1395.3447265625, 3118.004150390625, 1173.194091796875, 2067.5224609375, 1427.62451171875, 7460.068359375, 6912.97314453125, 3198.780029296875, 1811.9974365234375, 3350.279052734375, 1816.2960205078125, 1491.983154296875, 1303.9832763671875, 1297.4710693359375, 857.6378784179688, 910.6700439453125, 757.2232055664062, 751.141845703125, 711.8302612304688, 682.4756469726562, 636.5191040039062, 636.5064697265625, 639.1124877929688, 653.6694946289062, 618.6344604492188, 559.5863037109375, 538.0540161132812, 537.5798950195312, 525.05859375, 1032.731201171875, 1842.1083984375, 488.4283752441406, 494.78997802734375, 479.81353759765625, 478.8000793457031, 476.8408508300781, 458.1357727050781, 451.50970458984375, 445.78466796875, 436.8975524902344, 441.00616455078125, 683.5336303710938, 1206.966552734375, 692.7587890625, 969.8279418945312, 1063.8699951171875, 829.2813110351562, 1177.06884765625, 702.97412109375, 6799.00146484375, 1278.6807861328125, 6023.9482421875, 5999.64599609375, 2805.646240234375, 976.4122314453125, 1134.51171875, 811.1343994140625, 799.191650390625, 784.3004760742188, 666.1624755859375, 603.4514770507812, 621.4739990234375, 628.60009765625, 569.07080078125, 560.17529296875, 480.8980712890625, 503.5729064941406, 465.95318603515625, 466.9857177734375, 450.93988037109375, 422.5689697265625, 421.93182373046875, 418.08154296875, 576.8507690429688, 430.1087341308594, 399.1551208496094, 397.4126892089844, 384.750732421875, 487.21832275390625, 480.279296875, 370.4408264160156, 369.1502380371094, 402.36749267578125, 351.69976806640625, 391.8150634765625, 422.37506103515625, 627.3556518554688, 719.7555541992188, 1548.7171630859375, 746.59228515625, 611.6260375976562, 553.842041015625, 1505.4461669921875, 954.26220703125, 603.9302978515625, 669.6242065429688, 2002.8946533203125, 1480.8516845703125, 665.0457153320312, 862.6478271484375, 3636.494873046875, 1093.631591796875, 6799.00146484375, 1421.190185546875, 4973.025390625, 3914.08349609375, 2173.749267578125, 3053.057373046875, 1829.2078857421875, 1271.7425537109375, 1269.3272705078125, 865.4782104492188, 787.0382080078125, 660.1559448242188, 569.95703125, 500.1749572753906, 485.8221435546875, 480.5841369628906, 464.8546142578125, 451.7733459472656, 451.21575927734375, 448.07330322265625, 446.8038330078125, 440.3798828125, 434.6222229003906, 433.8068542480469, 432.6784973144531, 422.4883728027344, 402.30523681640625, 412.7803955078125, 392.87823486328125, 423.9103698730469, 384.944091796875, 380.04132080078125, 376.8883361816406, 374.0525817871094, 372.9468688964844, 394.8226623535156, 420.0540466308594, 1521.0679931640625, 666.5991821289062, 744.1263427734375, 699.7042846679688, 1661.5469970703125, 1366.4903564453125, 1927.2698974609375, 4973.025390625, 1129.799072265625, 543.0885620117188, 927.6978149414062, 550.5814819335938, 4434.37353515625, 5999.64599609375, 6799.00146484375, 908.2364501953125, 1313.7415771484375, 1162.8671875, 1034.6519775390625, 688.4766845703125, 668.2744140625, 617.0364379882812, 617.9801025390625, 605.0635986328125, 565.0913696289062, 564.5967407226562, 574.3768310546875, 550.4728393554688, 537.2810668945312, 537.7275390625, 520.3916625976562, 621.318359375, 1140.046875, 487.1395568847656, 514.2822265625, 477.5955505371094, 475.197509765625, 471.58782958984375, 475.8457946777344, 457.31646728515625, 457.4084777832031, 461.7303771972656, 450.3868103027344, 444.16851806640625, 594.5011596679688, 440.8253173828125, 638.573486328125, 512.8816528320312, 459.4771728515625, 600.31689453125, 669.80712890625, 733.1416015625, 1352.2637939453125, 733.3421020507812, 555.4598388671875, 591.7257690429688, 1647.1712646484375, 701.805419921875, 5999.64599609375, 2681.573974609375, 6023.9482421875, 2655.71337890625, 6799.00146484375, 2336.072998046875, 2784.77294921875, 1305.4552001953125, 1251.978271484375, 1176.017578125, 1183.0977783203125, 1125.041748046875, 1136.5203857421875, 1113.080322265625, 814.0101318359375, 768.2847900390625, 716.431396484375, 673.295654296875, 632.0834350585938, 632.9959716796875, 617.3738403320312, 650.2333374023438, 497.492919921875, 483.9296569824219, 481.6192626953125, 480.39208984375, 479.4673156738281, 470.4798583984375, 438.3974914550781, 440.75762939453125, 431.9881591796875, 398.59539794921875, 394.2924499511719, 380.2569580078125, 376.85064697265625, 370.80108642578125, 364.88909912109375, 571.705322265625, 423.87738037109375, 393.487060546875, 391.0657043457031, 1379.03076171875, 480.7284851074219, 468.5322570800781, 546.3338012695312, 862.4152221679688, 771.5742797851562, 715.7363891601562, 1068.86474609375, 1167.7784423828125, 634.7068481445312, 891.3595581054688, 622.3952026367188, 1064.03076171875, 1026.069091796875, 5999.64599609375], \"loglift\": [30.0, 29.0, 28.0, 27.0, 26.0, 25.0, 24.0, 23.0, 22.0, 21.0, 20.0, 19.0, 18.0, 17.0, 16.0, 15.0, 14.0, 13.0, 12.0, 11.0, 10.0, 9.0, 8.0, 7.0, 6.0, 5.0, 4.0, 3.0, 2.0, 1.0, 1.9880000352859497, 1.9875999689102173, 1.9875999689102173, 1.9874999523162842, 1.9873000383377075, 1.9873000383377075, 1.9873000383377075, 1.9872000217437744, 1.986799955368042, 1.9867000579833984, 1.9867000579833984, 1.9865000247955322, 1.9865000247955322, 1.9864000082015991, 1.986299991607666, 1.986299991607666, 1.986299991607666, 1.986199975013733, 1.986199975013733, 1.9860999584197998, 1.9859999418258667, 1.98580002784729, 1.98580002784729, 1.98580002784729, 1.98580002784729, 1.98580002784729, 1.98580002784729, 1.98580002784729, 1.98580002784729, 1.985700011253357, 1.9752000570297241, 1.9838999509811401, 1.9855999946594238, 1.9598000049591064, 1.9807000160217285, 1.962399959564209, 1.9634000062942505, 1.9117000102996826, 1.9375, 1.867400050163269, 1.7309999465942383, 1.7467000484466553, 1.6269999742507935, 1.7354999780654907, 1.6632000207901, 1.816100001335144, 1.7186000347137451, 1.8558000326156616, 1.445199966430664, 1.2400000095367432, 1.6938999891281128, 1.6759999990463257, 1.398800015449524, 1.021299958229065, 1.2170000076293945, 1.1064000129699707, 1.2940000295639038, 1.1375000476837158, 1.1467000246047974, 1.281000018119812, 1.0097999572753906, 0.49129998683929443, 1.3573999404907227, 0.5623000264167786, 1.093999981880188, 1.204800009727478, 1.207200050354004, 1.4014999866485596, 2.201200008392334, 2.2005999088287354, 2.2004001140594482, 2.2004001140594482, 2.2002999782562256, 2.200200080871582, 2.200200080871582, 2.2000999450683594, 2.2000999450683594, 2.2000999450683594, 2.200000047683716, 2.200000047683716, 2.200000047683716, 2.199899911880493, 2.199899911880493, 2.199899911880493, 2.199899911880493, 2.199899911880493, 2.199899911880493, 2.1998000144958496, 2.1998000144958496, 2.1998000144958496, 2.1998000144958496, 2.199700117111206, 2.199700117111206, 2.199700117111206, 2.19950008392334, 2.199399948120117, 2.1993000507354736, 2.1993000507354736, 2.1916000843048096, 2.1953001022338867, 2.1981000900268555, 2.140000104904175, 2.1740000247955322, 2.114300012588501, 1.9946000576019287, 2.0782999992370605, 2.079699993133545, 1.86489999294281, 2.058799982070923, 2.0924999713897705, 2.03629994392395, 2.06820011138916, 1.7980999946594238, 1.9049999713897705, 1.6513999700546265, 1.8112000226974487, 1.8342000246047974, 1.8101999759674072, 1.7477999925613403, 1.9881000518798828, 1.725100040435791, 1.642899990081787, 1.7736999988555908, 1.7339999675750732, 1.6856000423431396, 1.3791999816894531, 1.1354999542236328, 1.2964999675750732, 1.551200032234192, 1.184999942779541, 1.561400055885315, 1.1208000183105469, 2.2288999557495117, 2.228600025177002, 2.2284998893737793, 2.2283999919891357, 2.2283999919891357, 2.228300094604492, 2.2281999588012695, 2.2281999588012695, 2.2281999588012695, 2.228100061416626, 2.228100061416626, 2.2279000282287598, 2.227799892425537, 2.227799892425537, 2.227799892425537, 2.2276999950408936, 2.2276999950408936, 2.2276999950408936, 2.22760009765625, 2.22760009765625, 2.227400064468384, 2.2272000312805176, 2.2272000312805176, 2.2269999980926514, 2.2269999980926514, 2.226900100708008, 2.226900100708008, 2.226799964904785, 2.226799964904785, 2.226799964904785, 2.225399971008301, 2.225100040435791, 2.2251999378204346, 2.1285998821258545, 2.1080000400543213, 2.0671000480651855, 1.9876999855041504, 1.979599952697754, 2.102400064468384, 2.009500026702881, 2.0757999420166016, 1.768399953842163, 1.6719000339508057, 1.7910000085830688, 1.855299949645996, 1.4617999792099, 1.749400019645691, 1.291200041770935, 1.5872999429702759, 0.8974000215530396, 1.1893999576568604, 1.4031000137329102, 0.8066999912261963, 0.864300012588501, 1.3077000379562378, 1.041700005531311, 1.4905999898910522, 2.3059000968933105, 2.3057000637054443, 2.3055999279022217, 2.3055999279022217, 2.305500030517578, 2.3053998947143555, 2.3053998947143555, 2.305299997329712, 2.3050999641418457, 2.3050999641418457, 2.305000066757202, 2.3048999309539795, 2.3048999309539795, 2.304800033569336, 2.3046998977661133, 2.3046998977661133, 2.3046000003814697, 2.3046000003814697, 2.3046000003814697, 2.304500102996826, 2.304500102996826, 2.304500102996826, 2.304500102996826, 2.304500102996826, 2.3043999671936035, 2.3043999671936035, 2.3043999671936035, 2.3043999671936035, 2.30430006980896, 2.30430006980896, 2.29830002784729, 2.302000045776367, 2.2532999515533447, 2.113800048828125, 2.206700086593628, 1.9749000072479248, 2.1061999797821045, 2.1266000270843506, 1.69760000705719, 1.632200002670288, 1.7216999530792236, 1.6252000331878662, 1.7777999639511108, 1.1167000532150269, 1.9767999649047852, 1.363700032234192, 1.3107000589370728, 2.015500068664551, 1.7577999830245972, 1.7648999691009521, 0.9488999843597412, 0.8761000037193298, 0.5426999926567078, 0.5031999945640564, 0.22280000150203705, 2.310499906539917, 2.310499906539917, 2.310499906539917, 2.3104000091552734, 2.3104000091552734, 2.3101999759674072, 2.3101000785827637, 2.3101000785827637, 2.309799909591675, 2.309799909591675, 2.309799909591675, 2.309799909591675, 2.3097000122070312, 2.3097000122070312, 2.3096001148223877, 2.3096001148223877, 2.309499979019165, 2.309299945831299, 2.309299945831299, 2.309299945831299, 2.3092000484466553, 2.3090999126434326, 2.309000015258789, 2.309000015258789, 2.309000015258789, 2.309000015258789, 2.309000015258789, 2.3089001178741455, 2.308799982070923, 2.308799982070923, 2.308500051498413, 2.308500051498413, 2.3087000846862793, 2.308000087738037, 2.2936999797821045, 2.3008999824523926, 2.278899908065796, 2.239300012588501, 2.1768999099731445, 1.9660999774932861, 2.0510001182556152, 1.8671000003814697, 1.9917000532150269, 2.0172998905181885, 2.1407999992370605, 1.9673999547958374, 1.6025999784469604, 2.0153000354766846, 1.7213000059127808, 1.8545000553131104, 0.6233000159263611, 0.5958999991416931, 1.1477999687194824, 1.5443999767303467, 0.9140999913215637, 2.367300033569336, 2.3671998977661133, 2.3671000003814697, 2.3671000003814697, 2.36680006980896, 2.3666999340057373, 2.3666000366210938, 2.3666000366210938, 2.3666000366210938, 2.366499900817871, 2.3664000034332275, 2.3664000034332275, 2.3664000034332275, 2.366300106048584, 2.366300106048584, 2.3661999702453613, 2.3661999702453613, 2.3661999702453613, 2.3661000728607178, 2.365999937057495, 2.365999937057495, 2.365999937057495, 2.365999937057495, 2.365999937057495, 2.365999937057495, 2.365999937057495, 2.3659000396728516, 2.3659000396728516, 2.365799903869629, 2.365799903869629, 2.365799903869629, 2.3582000732421875, 2.215100049972534, 2.24180006980896, 2.1407999992370605, 2.0952000617980957, 2.1435999870300293, 1.8654999732971191, 2.0739998817443848, 0.14880000054836273, 1.566100001335144, 0.15459999442100525, 0.12349999696016312, 0.7534000277519226, 2.383500099182129, 2.383500099182129, 2.3833999633789062, 2.3833000659942627, 2.3833000659942627, 2.3831000328063965, 2.382999897003174, 2.382999897003174, 2.3828999996185303, 2.3828999996185303, 2.3828001022338867, 2.3826000690460205, 2.3826000690460205, 2.3826000690460205, 2.382499933242798, 2.382499933242798, 2.3824000358581543, 2.3824000358581543, 2.3824000358581543, 2.3822999000549316, 2.3822999000549316, 2.3822999000549316, 2.382200002670288, 2.382200002670288, 2.382200002670288, 2.3821001052856445, 2.3821001052856445, 2.3821001052856445, 2.381999969482422, 2.381999969482422, 2.3803999423980713, 2.3777999877929688, 2.338099956512451, 2.289799928665161, 2.1607000827789307, 2.266700029373169, 2.3006999492645264, 2.2864999771118164, 1.97160005569458, 2.109499931335449, 2.254499912261963, 2.212100028991699, 1.7935999631881714, 1.777500033378601, 2.155400037765503, 1.9801000356674194, 0.7364000082015991, 1.7081999778747559, 0.1647000014781952, 1.4782999753952026, 0.3003000020980835, 0.5090000033378601, 1.027400016784668, 2.40910005569458, 2.408900022506714, 2.4086999893188477, 2.4086999893188477, 2.408400058746338, 2.4082999229431152, 2.4079999923706055, 2.407900094985962, 2.4077000617980957, 2.407599925994873, 2.407599925994873, 2.4075000286102295, 2.4075000286102295, 2.4075000286102295, 2.407399892807007, 2.407399892807007, 2.407399892807007, 2.407399892807007, 2.407399892807007, 2.407399892807007, 2.4072999954223633, 2.4072000980377197, 2.4072000980377197, 2.4072000980377197, 2.4072000980377197, 2.407099962234497, 2.407099962234497, 2.407099962234497, 2.407099962234497, 2.407099962234497, 2.406599998474121, 2.403899908065796, 2.3596999645233154, 2.3887999057769775, 2.3752999305725098, 2.3778998851776123, 2.3183000087738037, 2.10260009765625, 2.0109000205993652, 1.7450000047683716, 1.9246000051498413, 2.2416999340057373, 1.8712999820709229, 2.2218000888824463, 0.4652000069618225, 0.014399999752640724, -0.12200000137090683, 1.7193000316619873, 2.422100067138672, 2.421999931335449, 2.4219000339508057, 2.4214999675750732, 2.4214000701904297, 2.421299934387207, 2.421299934387207, 2.421299934387207, 2.4212000370025635, 2.4212000370025635, 2.4212000370025635, 2.4212000370025635, 2.421099901199341, 2.421099901199341, 2.421099901199341, 2.4210000038146973, 2.4210000038146973, 2.4210000038146973, 2.4209001064300537, 2.4209001064300537, 2.4209001064300537, 2.4209001064300537, 2.4209001064300537, 2.420799970626831, 2.420799970626831, 2.420799970626831, 2.420799970626831, 2.420799970626831, 2.420799970626831, 2.420799970626831, 2.4202001094818115, 2.420300006866455, 2.4207000732421875, 2.4147000312805176, 2.3814001083374023, 2.3433001041412354, 2.126499891281128, 2.2785000801086426, 2.3526999950408936, 2.3162999153137207, 1.649999976158142, 2.176300048828125, 0.6575000286102295, 1.1217000484466553, 0.4681999981403351, 0.9614999890327454, -0.03849999979138374, 0.9891999959945679, 0.8036999702453613, 2.5041000843048096, 2.5041000843048096, 2.503999948501587, 2.503999948501587, 2.503999948501587, 2.503999948501587, 2.503999948501587, 2.503700017929077, 2.503700017929077, 2.5035998821258545, 2.503499984741211, 2.5034000873565674, 2.5034000873565674, 2.5034000873565674, 2.5034000873565674, 2.5030999183654785, 2.503000020980835, 2.503000020980835, 2.503000020980835, 2.503000020980835, 2.503000020980835, 2.5027999877929688, 2.5027999877929688, 2.502700090408325, 2.5025999546051025, 2.5025999546051025, 2.502500057220459, 2.502500057220459, 2.502500057220459, 2.5023999214172363, 2.500499963760376, 2.5023000240325928, 2.50219988822937, 2.5023000240325928, 2.48009991645813, 2.4999001026153564, 2.5, 2.491300106048584, 2.4391000270843506, 2.36899995803833, 2.3046000003814697, 2.093400001525879, 2.014899969100952, 2.3285999298095703, 2.1010000705718994, 2.3273000717163086, 1.9199999570846558, 1.8587000370025635, 0.09189999848604202], \"logprob\": [30.0, 29.0, 28.0, 27.0, 26.0, 25.0, 24.0, 23.0, 22.0, 21.0, 20.0, 19.0, 18.0, 17.0, 16.0, 15.0, 14.0, 13.0, 12.0, 11.0, 10.0, 9.0, 8.0, 7.0, 6.0, 5.0, 4.0, 3.0, 2.0, 1.0, -4.367700099945068, -5.380199909210205, -5.493599891662598, -5.628699779510498, -5.7866997718811035, -5.848299980163574, -5.884399890899658, -5.854599952697754, -6.2652997970581055, -6.325300216674805, -6.336699962615967, -6.435400009155273, -6.46150016784668, -6.497099876403809, -6.549699783325195, -6.577199935913086, -6.534299850463867, -6.5945000648498535, -6.628799915313721, -6.637899875640869, -6.664999961853027, -6.774099826812744, -6.781700134277344, -6.231299877166748, -6.6717000007629395, -6.797699928283691, -6.713900089263916, -6.7906999588012695, -6.808599948883057, -6.818299770355225, -5.1732001304626465, -6.285399913787842, -6.662199974060059, -4.274499893188477, -6.297999858856201, -5.869200229644775, -5.950200080871582, -5.813199996948242, -6.130199909210205, -5.539899826049805, -4.505000114440918, -5.135000228881836, -4.9720001220703125, -5.5447001457214355, -5.30810022354126, -5.996600151062012, -5.747399806976318, -6.1697998046875, -5.269400119781494, -4.898900032043457, -5.883800029754639, -5.870999813079834, -5.526100158691406, -5.072700023651123, -5.3821001052856445, -5.2677998542785645, -5.511000156402588, -5.3796000480651855, -5.409299850463867, -5.55049991607666, -5.424799919128418, -5.330699920654297, -5.654600143432617, -5.384699821472168, -5.577600002288818, -5.615799903869629, -5.68310022354126, -5.7170000076293945, -5.0995001792907715, -5.7677001953125, -5.966700077056885, -5.203100204467773, -6.072500228881836, -6.103799819946289, -6.118299961090088, -6.069200038909912, -6.156700134277344, -6.19350004196167, -6.221799850463867, -6.243000030517578, -6.256800174713135, -6.26140022277832, -6.235799789428711, -6.281199932098389, -6.288899898529053, -6.2947001457214355, -6.3007001876831055, -6.321100234985352, -5.893700122833252, -6.344600200653076, -6.343500137329102, -6.376299858093262, -6.395599842071533, -6.365499973297119, -6.480800151824951, -6.53249979019165, -6.441400051116943, -6.567699909210205, -4.935299873352051, -5.735400199890137, -6.240200042724609, -4.342800140380859, -5.586599826812744, -4.932700157165527, -4.136600017547607, -5.077700138092041, -5.189899921417236, -3.864300012588501, -5.3983001708984375, -5.608500003814697, -5.375, -5.678800106048584, -4.480199813842773, -4.953800201416016, -4.1539998054504395, -4.891900062561035, -4.976200103759766, -4.99459981918335, -4.828199863433838, -5.590400218963623, -5.077499866485596, -4.9131999015808105, -5.271200180053711, -5.201499938964844, -5.462900161743164, -5.3165998458862305, -5.184999942779541, -5.329500198364258, -5.454500198364258, -5.344699859619141, -5.536300182342529, -5.53249979019165, -4.720799922943115, -5.268199920654297, -5.483799934387207, -5.57889986038208, -5.593100070953369, -5.596399784088135, -5.746300220489502, -5.770400047302246, -5.78410005569458, -5.807700157165527, -5.811200141906738, -5.962399959564209, -6.0345001220703125, -6.038000106811523, -6.0569000244140625, -5.938499927520752, -6.117499828338623, -6.1265997886657715, -6.19789981842041, -5.1194000244140625, -6.2530999183654785, -6.395199775695801, -6.4166998863220215, -6.493299961090088, -6.013599872589111, -6.503200054168701, -6.527599811553955, -6.556000232696533, -6.569499969482422, -6.575200080871582, -4.538099765777588, -6.116199970245361, -6.316100120544434, -4.355500221252441, -4.754199981689453, -4.841899871826172, -4.236499786376953, -4.928400039672852, -5.815299987792969, -5.494900226593018, -5.855899810791016, -5.321300029754639, -5.176400184631348, -5.448299884796143, -5.5467000007629395, -5.285399913787842, -5.567800045013428, -5.156499862670898, -5.4822001457214355, -5.196899890899658, -5.357500076293945, -5.482600212097168, -5.287300109863281, -5.570300102233887, -5.677800178527832, -5.682600021362305, -5.74560022354126, -4.7692999839782715, -5.179299831390381, -5.292500019073486, -5.146399974822998, -5.34660005569458, -5.457600116729736, -5.483099937438965, -5.5655999183654785, -5.736999988555908, -5.791299819946289, -5.230999946594238, -5.894800186157227, -5.959499835968018, -5.996399879455566, -6.056099891662598, -6.051799774169922, -6.08489990234375, -6.099899768829346, -6.101399898529053, -6.151299953460693, -6.10290002822876, -6.160900115966797, -6.168000221252441, -6.15369987487793, -6.225100040435791, -6.225399971008301, -6.242300033569336, -6.232500076293945, -6.272600173950195, -6.297699928283691, -5.573500156402588, -6.009799957275391, -4.810299873352051, -4.978099822998047, -5.671000003814697, -4.936200141906738, -5.624800205230713, -5.73360013961792, -4.760200023651123, -4.617199897766113, -4.852099895477295, -5.092100143432617, -5.378799915313721, -4.826300144195557, -5.760300159454346, -5.25540018081665, -5.473599910736084, -5.8703999519348145, -5.76609992980957, -5.771299839019775, -5.575900077819824, -5.610799789428711, -5.5920000076293945, -5.591000080108643, -5.599100112915039, -5.070499897003174, -5.157400131225586, -5.161900043487549, -5.145699977874756, -5.182499885559082, -5.396299839019775, -5.565899848937988, -4.958799839019775, -5.581099987030029, -5.8343000411987305, -5.848499774932861, -5.852799892425537, -5.938399791717529, -5.944699764251709, -5.978400230407715, -5.980299949645996, -6.0605998039245605, -6.15310001373291, -6.111599922180176, -6.180500030517578, -6.137700080871582, -6.271599769592285, -6.306000232696533, -6.313399791717529, -6.337200164794922, -5.678199768066406, -6.350599765777588, -4.131499767303467, -6.401500225067139, -6.368800163269043, -5.1508002281188965, -5.700399875640869, -5.901199817657471, -6.050600051879883, -5.173099994659424, -5.703199863433838, -5.670300006866455, -5.752500057220459, -5.401000022888184, -4.7281999588012695, -5.19890022277832, -4.64169979095459, -5.319699764251709, -5.407800197601318, -5.7027997970581055, -5.438199996948242, -4.998899936676025, -5.563799858093262, -5.291100025177002, -5.528299808502197, -5.105899810791016, -5.209400177001953, -5.428199768066406, -5.599899768829346, -5.615600109100342, -4.774700164794922, -4.971499919891357, -5.106200218200684, -5.111199855804443, -5.525599956512451, -5.46560001373291, -5.650199890136719, -5.658299922943115, -5.712100028991699, -5.754300117492676, -5.824100017547607, -5.824100017547607, -5.820099830627441, -5.797599792480469, -5.852700233459473, -5.953100204467773, -5.992400169372559, -5.993299961090088, -6.016900062561035, -5.3404998779296875, -4.7617998123168945, -6.089300155639648, -6.076399803161621, -6.107100009918213, -6.109300136566162, -6.113399982452393, -6.153500080108643, -6.168099880218506, -6.180799961090088, -6.201000213623047, -6.191699981689453, -5.761099815368652, -5.3354997634887695, -5.863999843597412, -5.628600120544434, -5.581600189208984, -5.782299995422363, -5.71019983291626, -6.017199993133545, -5.6732001304626465, -5.926799774169922, -5.788400173187256, -5.823599815368652, -5.953700065612793, -5.3790998458862305, -5.229100227355957, -5.564700126647949, -5.579599857330322, -5.598499774932861, -5.761899948120117, -5.860899925231934, -5.831399917602539, -5.820099830627441, -5.919600009918213, -5.935500144958496, -6.088200092315674, -6.042200088500977, -6.119900226593018, -6.117700099945068, -6.152699947357178, -6.217800140380859, -6.219299793243408, -6.228499889373779, -5.906599998474121, -6.200200080871582, -6.274899959564209, -6.279300212860107, -6.311699867248535, -6.0756001472473145, -6.090000152587891, -6.349699974060059, -6.3531999588012695, -6.267199993133545, -6.401800155639648, -6.295300006866455, -6.222799777984619, -5.8668999671936035, -5.7778000831604, -5.140600204467773, -5.7642998695373535, -5.929699897766113, -6.0432000160217285, -5.358099937438965, -5.67609977722168, -5.98859977722168, -5.927700042724609, -5.2505998611450195, -5.568699836730957, -5.991300106048584, -5.906400203704834, -5.711299896240234, -5.940999984741211, -5.657299995422363, -5.908999919891357, -5.834400177001953, -5.865200042724609, -5.934899806976318, -4.213500022888184, -4.72599983215332, -5.089700222015381, -5.091599941253662, -5.474899768829346, -5.570000171661377, -5.745999813079834, -5.893099784851074, -6.023900032043457, -6.053100109100342, -6.063899993896484, -6.097300052642822, -6.125899791717529, -6.127099990844727, -6.134099960327148, -6.13700008392334, -6.151500225067139, -6.164599895477295, -6.166500091552734, -6.169099807739258, -6.192999839782715, -6.242099761962891, -6.216400146484375, -6.2657999992370605, -6.189799785614014, -6.286300182342529, -6.299099922180176, -6.307499885559082, -6.315100193023682, -6.317999839782715, -6.261499881744385, -6.202199935913086, -4.959700107574463, -5.755499839782715, -5.658999919891357, -5.7179999351501465, -4.912799835205078, -5.323999881744385, -5.071800231933594, -4.389699935913086, -5.6921000480651855, -6.107600212097168, -5.942500114440918, -6.113800048828125, -5.78410005569458, -5.932600021362305, -5.943999767303467, -6.115799903869629, -5.043799877166748, -5.165900230407715, -5.282800197601318, -5.6905999183654785, -5.720399856567383, -5.800300121307373, -5.798799991607666, -5.819900035858154, -5.888299942016602, -5.889200210571289, -5.872000217437744, -5.914599895477295, -5.938899993896484, -5.9380998611450195, -5.970900058746338, -5.793600082397461, -5.186699867248535, -6.0370001792907715, -5.982800006866455, -6.05679988861084, -6.0619001388549805, -6.069499969482422, -6.060500144958496, -6.100299835205078, -6.100100040435791, -6.090700149536133, -6.115600109100342, -6.129499912261963, -5.8379998207092285, -6.1371002197265625, -5.767099857330322, -5.986100196838379, -6.095799922943115, -5.834400177001953, -5.758200168609619, -5.705900192260742, -5.310500144958496, -5.770400047302246, -5.973999977111816, -5.947199821472168, -5.589700222015381, -5.916600227355957, -5.289599895477295, -5.63070011138916, -5.474800109863281, -5.80049991607666, -5.860499858856201, -5.901100158691406, -5.910900115966797, -4.968100070953369, -5.009900093078613, -5.0725998878479, -5.0665998458862305, -5.1168999671936035, -5.106800079345703, -5.127600193023682, -5.440800189971924, -5.498700141906738, -5.568600177764893, -5.630799770355225, -5.6940999031066895, -5.692599773406982, -5.717700004577637, -5.665800094604492, -5.933899879455566, -5.961599826812744, -5.966400146484375, -5.968900203704834, -5.970900058746338, -5.989799976348877, -6.0605998039245605, -6.055200099945068, -6.075399875640869, -6.155900001525879, -6.166800022125244, -6.203100204467773, -6.212200164794922, -6.228400230407715, -6.244500160217285, -5.797399997711182, -6.094799995422363, -6.1691999435424805, -6.1753997802734375, -4.937300205230713, -5.97130012512207, -5.9969000816345215, -5.8520002365112305, -5.447700023651123, -5.6290998458862305, -5.768599987030029, -5.578800201416016, -5.56879997253418, -5.864799976348877, -5.752699851989746, -5.8856000900268555, -5.756700038909912, -5.854400157928467, -5.855100154876709]}, \"token.table\": {\"Topic\": [1, 1, 3, 7, 8, 9, 1, 2, 5, 6, 7, 8, 1, 5, 1, 2, 3, 4, 5, 6, 7, 8, 9, 10, 5, 5, 1, 2, 3, 5, 6, 7, 8, 9, 10, 4, 8, 10, 3, 10, 1, 6, 8, 5, 2, 5, 9, 10, 2, 2, 7, 3, 4, 2, 10, 3, 10, 1, 2, 3, 5, 7, 8, 9, 10, 2, 2, 6, 4, 3, 2, 5, 10, 6, 1, 2, 3, 4, 5, 6, 7, 8, 9, 10, 2, 5, 10, 1, 2, 3, 4, 5, 6, 7, 8, 9, 10, 1, 2, 3, 4, 5, 6, 7, 8, 9, 10, 4, 5, 6, 7, 8, 9, 10, 1, 2, 9, 10, 7, 1, 2, 3, 4, 6, 7, 8, 9, 10, 1, 1, 2, 5, 10, 9, 1, 3, 6, 7, 8, 1, 2, 3, 4, 5, 6, 7, 8, 10, 7, 3, 9, 10, 2, 3, 9, 9, 1, 5, 7, 9, 2, 3, 4, 6, 7, 8, 9, 6, 10, 2, 5, 7, 9, 10, 7, 10, 1, 2, 7, 10, 2, 1, 3, 6, 9, 2, 6, 7, 10, 7, 1, 3, 4, 6, 7, 9, 10, 1, 5, 1, 5, 7, 10, 9, 1, 2, 3, 4, 6, 7, 8, 9, 10, 1, 2, 3, 4, 5, 6, 7, 8, 9, 10, 8, 3, 9, 7, 1, 2, 3, 5, 7, 9, 10, 6, 1, 5, 9, 10, 8, 2, 3, 4, 5, 7, 8, 10, 4, 6, 3, 4, 6, 7, 8, 10, 2, 1, 2, 3, 4, 5, 6, 7, 8, 9, 2, 3, 4, 5, 6, 7, 8, 9, 10, 1, 2, 5, 6, 8, 9, 10, 1, 2, 3, 4, 5, 6, 7, 8, 9, 10, 10, 4, 10, 9, 9, 4, 4, 8, 7, 2, 6, 7, 8, 9, 10, 6, 7, 10, 10, 8, 1, 3, 6, 8, 10, 1, 5, 5, 3, 7, 10, 7, 10, 1, 2, 3, 4, 5, 6, 7, 8, 9, 10, 1, 1, 3, 4, 1, 2, 3, 4, 5, 6, 7, 8, 9, 10, 5, 10, 2, 4, 6, 8, 9, 10, 1, 3, 1, 3, 6, 7, 6, 10, 3, 4, 6, 7, 8, 9, 10, 1, 2, 3, 4, 5, 6, 7, 8, 9, 10, 5, 1, 7, 7, 5, 4, 1, 2, 3, 4, 5, 6, 7, 8, 9, 10, 1, 2, 3, 4, 5, 6, 7, 8, 9, 10, 1, 2, 3, 4, 5, 6, 7, 8, 9, 10, 3, 8, 1, 3, 6, 7, 8, 1, 2, 3, 4, 5, 6, 7, 8, 9, 10, 4, 6, 3, 1, 3, 7, 6, 10, 2, 3, 5, 2, 5, 7, 9, 10, 2, 5, 9, 10, 1, 2, 3, 5, 6, 7, 8, 9, 10, 4, 8, 10, 9, 10, 1, 2, 5, 6, 8, 5, 3, 5, 1, 2, 3, 4, 5, 6, 7, 8, 9, 10, 2, 3, 4, 7, 8, 9, 10, 7, 9, 9, 8, 8, 7, 4, 3, 6, 10, 2, 4, 6, 7, 8, 9, 1, 2, 3, 4, 5, 6, 7, 8, 9, 10, 10, 1, 2, 3, 4, 5, 6, 7, 8, 9, 10, 1, 3, 4, 5, 6, 7, 8, 9, 10, 7, 7, 2, 5, 2, 3, 1, 6, 7, 8, 9, 2, 10, 2, 3, 5, 6, 7, 9, 10, 8, 2, 3, 4, 5, 6, 7, 8, 9, 10, 7, 7, 2, 1, 2, 3, 4, 5, 6, 7, 8, 9, 10, 3, 4, 5, 6, 7, 8, 9, 10, 1, 6, 7, 6, 9, 10, 6, 8, 5, 1, 2, 3, 4, 5, 6, 7, 8, 9, 10, 3, 2, 1, 8, 6, 8, 4, 10, 1, 2, 3, 4, 7, 8, 9, 3, 6, 4, 8, 8, 9, 5, 2, 5, 10, 1, 2, 5, 6, 7, 9, 10, 6, 10, 3, 8, 1, 2, 3, 4, 5, 6, 7, 8, 9, 10, 5, 10, 3, 1, 2, 3, 4, 5, 6, 7, 8, 9, 10, 4, 6, 4, 6, 7, 9, 5, 7, 8, 10, 1, 6, 9, 2, 3, 4, 5, 6, 9, 10, 2, 3, 9, 1, 2, 3, 4, 6, 7, 8, 9, 10, 1, 2, 3, 4, 5, 6, 7, 8, 9, 10, 5, 7, 9, 10, 5, 9, 10, 1, 1, 2, 4, 5, 7, 8, 9, 10, 8, 10, 4, 8, 2, 4, 6, 7, 8, 1, 6, 7, 6, 3, 9, 1, 9, 1, 2, 3, 4, 5, 6, 7, 8, 9, 10, 10, 8, 1, 1, 2, 3, 4, 6, 7, 8, 9, 10, 9, 6, 4, 7, 4, 9, 4, 10, 2, 2, 8, 10, 1, 2, 3, 4, 5, 6, 7, 8, 9, 10, 1, 6, 4, 6, 7, 8, 9, 1, 2, 3, 4, 5, 6, 7, 8, 9, 10, 2, 5, 7, 9, 4, 6, 7, 9, 10, 3, 10, 1, 3, 4, 6, 8, 4, 7, 10, 7, 8, 10, 1, 2, 4, 5, 8, 9, 10, 6, 1, 1, 8, 8, 3, 6, 3, 8, 6, 8, 1, 2, 3, 4, 5, 6, 7, 8, 9, 10, 3, 9, 1, 3, 4, 5, 6, 7, 9, 1, 3, 6, 7, 8, 9, 10, 1, 8, 2, 1, 2, 3, 4, 5, 6, 7, 8, 9, 10, 2, 4, 5, 9, 2, 9, 9, 6, 7, 1, 3, 7, 1, 2, 3, 4, 5, 6, 7, 8, 9, 10, 1, 2, 3, 4, 5, 6, 7, 8, 9, 10, 9, 6, 9, 4, 5, 3, 10, 2, 5, 9, 10, 10, 8, 1, 2, 3, 4, 5, 6, 7, 8, 9, 10, 1, 9, 1, 1, 2, 3, 4, 5, 6, 7, 8, 9, 10, 3, 6, 9, 1, 2, 3, 4, 5, 6, 7, 8, 9, 10, 3, 4, 6, 9, 10, 2, 3, 8, 9, 6, 1, 2, 3, 4, 5, 6, 7, 8, 9, 10, 1, 2, 3, 4, 5, 6, 7, 8, 9, 10, 6, 6, 4, 6, 1, 2, 1, 2, 5, 9, 10, 6, 6, 8, 10, 1, 2, 3, 4, 5, 6, 7, 8, 9, 10, 4, 4, 5, 1, 10, 1, 9, 10, 5, 3, 1, 4, 2, 5, 7, 1, 2, 4, 5, 6, 7, 8, 9, 10, 7, 4, 9, 6, 7, 4, 5, 1, 2, 3, 4, 5, 6, 7, 8, 9, 10, 5, 1, 2, 9, 2, 3, 5, 7, 8, 9, 10, 3, 1, 2, 3, 4, 5, 6, 7, 8, 9, 10, 1, 6, 9, 6, 4, 3, 4, 7, 8, 6, 3, 6, 7, 9, 2, 5, 7, 9, 7, 3, 4, 7, 8, 1, 2, 4, 1, 2, 3, 4, 5, 6, 7, 8, 9, 10, 9, 1, 3, 6, 7, 8, 2, 5, 6, 3, 4, 6, 7, 8, 9, 10, 6, 2, 9, 1, 3, 4, 5, 6, 7, 8, 9, 3, 8, 7, 10, 1, 5, 8, 9, 10, 1, 3, 5, 6, 7, 8, 9, 8, 6, 8, 10, 5, 6, 10, 6, 9, 5, 1, 2, 1, 3, 1, 2, 3, 4, 5, 6, 7, 8, 9, 10, 1, 2, 3, 4, 5, 6, 7, 8, 9, 10, 2, 2, 2, 3, 4, 6, 10, 8, 10, 4, 7, 1, 3, 4, 5, 6, 7, 8, 9, 10, 1, 2, 3, 4, 5, 6, 7, 8, 9, 10, 3, 1, 1, 2, 3, 4, 5, 6, 7, 8, 9, 10, 10, 4, 6, 8, 2, 3, 4, 5, 6, 7, 8, 9, 10, 6, 6, 1, 4, 5, 9, 2, 5, 8, 9, 10, 8, 4, 10, 1, 2, 3, 4, 5, 6, 7, 8, 9, 10, 1, 2, 5, 8, 9, 10, 5, 1, 2, 3, 4, 6, 7, 8, 9, 10, 8, 1, 2, 3, 4, 5, 6, 7, 8, 9, 10, 3, 1, 1, 2, 5, 9, 10, 5, 6, 1, 2, 3, 4, 5, 6, 7, 8, 9, 10, 9, 3, 5, 6, 8, 2, 1, 4, 6, 7, 2, 1, 2, 3, 4, 5, 6, 7, 8, 9, 10, 7, 7, 3, 7, 8, 4, 4, 10, 5, 6, 1, 4, 1, 2, 3, 4, 5, 6, 7, 8, 9, 10, 2, 3, 2, 3, 7, 8, 1, 2, 3, 4, 5, 6, 7, 8, 9, 10, 10, 3, 1, 2, 3, 4, 5, 6, 7, 8, 9, 10, 7, 4, 2, 5, 8, 10, 2, 2, 10, 3, 6, 7, 9, 1, 2, 3, 4, 5, 6, 7, 8, 9, 10, 4, 5, 2, 7, 10, 5, 9, 10, 5, 4, 1, 4, 6, 7, 8, 9, 1, 2, 3, 4, 5, 6, 7, 8, 9, 10, 3, 5, 10, 8, 8, 3, 8, 9, 3, 7, 10, 7, 4, 5, 1, 8, 5, 1, 2, 3, 4, 5, 6, 7, 8, 9, 10, 1, 2, 5, 6, 7, 10, 10, 1, 2, 3, 4, 5, 6, 7, 8, 9, 10, 6, 7, 10, 8, 9, 4, 7, 4, 6, 9, 1, 1, 1, 4, 6, 7, 10, 6, 7, 1, 2, 3, 4, 5, 6, 7, 8, 9, 10, 1, 2, 3, 4, 5, 6, 7, 8, 9, 10, 1, 2, 3, 4, 5, 6, 7, 8, 9, 10, 1, 2, 3, 4, 5, 6, 7, 8, 9, 10, 7, 6, 1, 7, 1, 2, 3, 4, 6, 7, 8, 9, 10, 5, 3, 4, 6, 8, 9, 10, 2], \"Freq\": [0.9992058873176575, 0.0012485628249123693, 0.8856472969055176, 0.10113359242677689, 0.011237066239118576, 0.0004161876277066767, 0.09365390986204147, 0.5968358516693115, 0.2039327770471573, 0.002770825754851103, 0.01163746789097786, 0.09143725037574768, 0.001281924545764923, 0.9973373413085938, 0.0778522789478302, 0.6923715472221375, 0.005927838385105133, 0.00039518921403214335, 0.07824746519327164, 0.014622000977396965, 0.016597947105765343, 0.011065298691391945, 0.043866004794836044, 0.05927838385105133, 0.9992034435272217, 0.9988870024681091, 0.0015566060319542885, 0.008820767514407635, 0.012452848255634308, 0.0005188686773180962, 0.10117939114570618, 0.0010377373546361923, 0.6714161038398743, 0.03476420044898987, 0.16811345517635345, 0.9978498816490173, 0.997547447681427, 0.9995421171188354, 0.9975979924201965, 0.9972748756408691, 0.012001214548945427, 0.0060006072744727135, 0.9795991778373718, 0.9978188872337341, 0.8850505352020264, 0.054416533559560776, 0.0012509548105299473, 0.05879487469792366, 0.9990615248680115, 0.9985482096672058, 0.9995778203010559, 0.9962281584739685, 0.9976237416267395, 0.9963796734809875, 0.002012888202443719, 0.9980521202087402, 0.9990721344947815, 0.00041481081279926, 0.7433409690856934, 0.00041481081279926, 0.11199891567230225, 0.018251676112413406, 0.00041481081279926, 0.06844378262758255, 0.05641426891088486, 0.9974141716957092, 0.000968306150753051, 0.9983236789703369, 0.9985125064849854, 0.998430073261261, 0.9162352085113525, 0.08060867339372635, 0.0025033748243004084, 0.9996369481086731, 0.07014340907335281, 0.3617609143257141, 0.013730200007557869, 0.0399966686964035, 0.2474420815706253, 0.04507087171077728, 0.05163748934864998, 0.02835584618151188, 0.058204106986522675, 0.08357512950897217, 0.9988566040992737, 0.9986134767532349, 0.999651312828064, 0.08200601488351822, 0.0177624374628067, 0.08814816921949387, 0.3042854964733124, 0.04482110217213631, 0.10939668864011765, 0.08134199678897858, 0.06540560722351074, 0.14160148799419403, 0.06507360190153122, 0.056773409247398376, 0.05233195424079895, 0.26397705078125, 0.16472013294696808, 0.10910536348819733, 0.09288439154624939, 0.0500146709382534, 0.05715962499380112, 0.10022245347499847, 0.05271816626191139, 0.007307602558284998, 0.7453754544258118, 0.05188397690653801, 0.0021922807209193707, 0.04384561628103256, 0.024845847859978676, 0.12349848449230194, 0.9977619051933289, 0.9730651378631592, 0.024531055241823196, 0.0020442544482648373, 0.9978891611099243, 0.1076885536313057, 0.057474225759506226, 0.4779435694217682, 0.0012099837185814977, 0.06412913650274277, 0.09316875040531158, 0.04355941340327263, 0.11918339878320694, 0.03569452092051506, 0.9987831711769104, 0.9987910389900208, 0.9934796094894409, 0.0060578021220862865, 0.9982810616493225, 0.9971213340759277, 0.11476293951272964, 0.10664838552474976, 0.055642638355493546, 0.667711615562439, 0.05448341369628906, 0.012290328741073608, 0.03798828646540642, 0.029049867764115334, 0.5893771052360535, 0.09608802199363708, 0.06256894767284393, 0.0268152616918087, 0.10223318636417389, 0.043574802577495575, 0.9968841075897217, 0.9993364810943604, 0.0034983057994395494, 0.9952679872512817, 0.9981517195701599, 0.9976387023925781, 0.9976029396057129, 0.9984140396118164, 0.0012879149289801717, 0.9311624765396118, 0.007727489806711674, 0.05924408882856369, 0.21063393354415894, 0.0020958599634468555, 0.0010479299817234278, 0.0020958599634468555, 0.7597492337226868, 0.0230544600635767, 0.0031437899451702833, 0.9983845949172974, 0.9990091919898987, 0.07671365141868591, 0.7441223859786987, 0.02983308583498001, 0.05540430173277855, 0.09376112371683121, 0.16066962480545044, 0.8370887041091919, 0.0009629391715861857, 0.8964963555335999, 0.0038517566863447428, 0.09821979701519012, 0.9985496997833252, 0.9993606805801392, 0.005069916136562824, 0.09463843703269958, 0.8990651369094849, 0.9990026950836182, 0.0018303828546777368, 0.009151914156973362, 0.9865763187408447, 0.996601402759552, 0.7855819463729858, 0.12477638572454453, 0.002122047357261181, 0.03989449143409729, 0.02164488285779953, 0.02206929214298725, 0.003819685196503997, 0.9987362027168274, 0.9967836141586304, 0.08343430608510971, 0.8743574619293213, 0.03746030107140541, 0.004256852436810732, 0.9989615082740784, 0.17191843688488007, 0.020901937037706375, 0.6307159662246704, 0.0015676452312618494, 0.06897639483213425, 0.07211168110370636, 0.01515390444546938, 0.017766647040843964, 0.0010450968984514475, 0.408990740776062, 0.06638789921998978, 0.04471723735332489, 0.029926152899861336, 0.07395543158054352, 0.0825548991560936, 0.07326747477054596, 0.06638789921998978, 0.07842715829610825, 0.07533134520053864, 0.9984318614006042, 0.0015659905038774014, 0.9975359439849854, 0.9986675381660461, 0.001407449133694172, 0.26072993874549866, 0.001055586850270629, 0.7082988023757935, 0.02427849732339382, 0.000703724566847086, 0.0035186228342354298, 0.9984798431396484, 0.2714556157588959, 0.11389146745204926, 0.0008563268347643316, 0.6122736930847168, 0.9976046085357666, 0.055105481296777725, 0.6186246275901794, 0.04526521638035774, 0.04723326861858368, 0.08659432828426361, 0.07544203102588654, 0.07019388675689697, 0.9979017972946167, 0.9983044862747192, 0.0009984346106648445, 0.7188729643821716, 0.01996869221329689, 0.02096712775528431, 0.11182468384504318, 0.12680119276046753, 0.9971600770950317, 0.431147962808609, 0.018692271783947945, 0.07139834761619568, 0.140651673078537, 0.031562358140945435, 0.11613722890615463, 0.06649545580148697, 0.06618902832269669, 0.057915396988391876, 0.8128794431686401, 0.0006010939832776785, 0.0002003646659431979, 0.09076519310474396, 0.0002003646659431979, 0.023442666977643967, 0.0010018233442679048, 0.019034642726182938, 0.05169408395886421, 0.1500292420387268, 0.6265400648117065, 0.11509706825017929, 0.0004478484916035086, 0.0013435455039143562, 0.004478484857827425, 0.10210945457220078, 0.06288329511880875, 0.019203878939151764, 0.14384081959724426, 0.09187738597393036, 0.08171062171459198, 0.17735347151756287, 0.09564284980297089, 0.04292631894350052, 0.2319527417421341, 0.052339985966682434, 0.9987590909004211, 0.02392985112965107, 0.9753227233886719, 0.9993076324462891, 0.9982810020446777, 0.999260425567627, 0.9979961514472961, 0.9981400370597839, 0.9973363280296326, 0.06372814625501633, 0.01593203656375408, 0.061072807759046555, 0.6160387396812439, 0.11506471037864685, 0.12745629251003265, 0.19951996207237244, 0.7993712425231934, 0.9990253448486328, 0.997742772102356, 0.9979164004325867, 0.1251380890607834, 0.0007318017305806279, 0.06732575595378876, 0.7354607582092285, 0.07025296241044998, 0.9979334473609924, 0.9993389844894409, 0.9981293082237244, 0.9975128173828125, 0.9974222183227539, 0.9980789422988892, 0.9979157447814941, 0.9980756640434265, 0.4623321294784546, 0.01631760410964489, 0.09630586206912994, 0.027835913002490997, 0.04287370666861534, 0.09886548668146133, 0.14525867998600006, 0.036474645137786865, 0.03615469112992287, 0.03711455315351486, 0.9970848560333252, 0.9718258380889893, 0.02754432149231434, 0.00022213162446860224, 0.05826425179839134, 0.667833685874939, 0.007428111508488655, 0.0018570278771221638, 0.05362167954444885, 0.026926904916763306, 0.041783127933740616, 0.01949879340827465, 0.047354210168123245, 0.07544175535440445, 0.9977433085441589, 0.0019108627457171679, 0.0019844656344503164, 0.8185920715332031, 0.0019844656344503164, 0.06647960096597672, 0.08433979004621506, 0.024805819615721703, 0.9981479048728943, 0.9992218017578125, 0.9917816519737244, 0.001715885242447257, 0.003431770484894514, 0.001715885242447257, 0.002134324749931693, 0.9945953488349915, 0.0004370399983599782, 0.7180566787719727, 0.03190391883254051, 0.0004370399983599782, 0.11931192129850388, 0.08216352015733719, 0.04763735830783844, 0.49962297081947327, 0.00864807702600956, 0.1745339184999466, 0.011006643064320087, 0.021227097138762474, 0.08019125461578369, 0.10613548755645752, 0.031054457649588585, 0.04992298781871796, 0.01729615405201912, 0.9995578527450562, 0.15680436789989471, 0.8422634601593018, 0.9985089302062988, 0.9980791807174683, 0.9990860819816589, 0.04583384096622467, 0.01527794636785984, 0.07138967514038086, 0.5441727042198181, 0.043889373540878296, 0.06861186772584915, 0.03833375871181488, 0.0880565270781517, 0.039722662419080734, 0.04472271725535393, 0.0014510120963677764, 0.20942939817905426, 0.0009673413587734103, 0.02273252233862877, 0.5542865991592407, 0.02031416818499565, 0.062393516302108765, 0.004836706910282373, 0.07206693291664124, 0.050301749259233475, 0.02022763341665268, 0.5718903541564941, 0.05087555944919586, 0.01838875748217106, 0.17929038405418396, 0.013485088013112545, 0.02543777972459793, 0.004597189370542765, 0.05577922984957695, 0.060069940984249115, 0.9992039203643799, 0.9976509213447571, 0.01607302948832512, 0.029467221349477768, 0.01607302948832512, 0.889374315738678, 0.04955850914120674, 0.005452205892652273, 0.16292473673820496, 0.015073745511472225, 0.03752400353550911, 0.4923020899295807, 0.008338667452335358, 0.05163559690117836, 0.025016002357006073, 0.0471455417573452, 0.15426534414291382, 0.9983202815055847, 0.9993030428886414, 0.9991968274116516, 0.9987918138504028, 0.9994864463806152, 0.9979543089866638, 0.9983289837837219, 0.9977125525474548, 0.11772088706493378, 0.037759531289339066, 0.8429259657859802, 0.23578402400016785, 0.7087854146957397, 0.051600150763988495, 0.0021500063594430685, 0.0007166687864810228, 0.22877204418182373, 0.7709556818008423, 0.9980929493904114, 0.9993944764137268, 0.10273656994104385, 0.6207327842712402, 0.01019523199647665, 0.0827382281422615, 0.02823295071721077, 0.034506939351558685, 0.034114815294742584, 0.03725181147456169, 0.04901554062962532, 0.9995711445808411, 0.845166027545929, 0.1528295874595642, 0.9975067377090454, 0.9985062479972839, 0.97447669506073, 0.001097383676096797, 0.005486918613314629, 0.017558138817548752, 0.001097383676096797, 0.9969266057014465, 0.0018586060032248497, 0.9962127804756165, 0.42708873748779297, 0.0008842417155392468, 0.07457105070352554, 0.11554091423749924, 0.022400788962841034, 0.09932981431484222, 0.04863329231739044, 0.06396014988422394, 0.08518195152282715, 0.06248641386628151, 0.005792755633592606, 0.0023171021603047848, 0.7472654581069946, 0.0011585510801523924, 0.12975771725177765, 0.056769002228975296, 0.056769002228975296, 0.9986535310745239, 0.9991070032119751, 0.998753011226654, 0.9967555999755859, 0.997642993927002, 0.9983418583869934, 0.9972396492958069, 0.11692381650209427, 0.8819808959960938, 0.0014435038901865482, 0.0033982719760388136, 0.1027977243065834, 0.604892373085022, 0.12233778834342957, 0.07646112143993378, 0.08835507184267044, 0.06178272143006325, 0.404545396566391, 0.0755852460861206, 0.08544418960809708, 0.048966094851493835, 0.05553872510790825, 0.05685324966907501, 0.056524619460105896, 0.0607968270778656, 0.0943172425031662, 0.9981032609939575, 0.014125143177807331, 0.05838392302393913, 0.397858202457428, 0.07345074415206909, 0.12053455412387848, 0.04849632456898689, 0.13042216002941132, 0.03531285747885704, 0.04096291586756706, 0.08098415285348892, 0.21199995279312134, 0.5264153480529785, 0.004096617456525564, 0.04147825390100479, 0.10856036841869354, 0.051719795912504196, 0.02048308774828911, 0.034821249544620514, 0.0005120771820656955, 0.9989615678787231, 0.9974130988121033, 0.2726384997367859, 0.7266011238098145, 0.9985274076461792, 0.999068021774292, 0.98691725730896, 0.009974458254873753, 0.0005541365826502442, 0.0005541365826502442, 0.0016624097479507327, 0.0041603525169193745, 0.994324266910553, 0.1423341929912567, 0.0860261619091034, 0.002346168039366603, 0.44890016317367554, 0.12356484681367874, 0.11026989668607712, 0.0868082195520401, 0.997186005115509, 0.0005237057339400053, 0.0005237057339400053, 0.8248364925384521, 0.0005237057339400053, 0.0272326972335577, 0.0010474114678800106, 0.07750844210386276, 0.047133512794971466, 0.02042452245950699, 0.9990453720092773, 0.9986014366149902, 0.9988282918930054, 0.09246373921632767, 0.0021305009722709656, 0.4376048743724823, 0.03536631539463997, 0.09885524213314056, 0.08266343176364899, 0.12101244926452637, 0.040053416043519974, 0.06391502916812897, 0.02599211037158966, 0.18857434391975403, 0.0014072711346670985, 0.0309599656611681, 0.16957618296146393, 0.4038868248462677, 0.056290846318006516, 0.11469259858131409, 0.03377451002597809, 0.0029259715229272842, 0.9904413819313049, 0.0058519430458545685, 0.998041033744812, 0.9992473721504211, 0.9982859492301941, 0.9982398152351379, 0.9988440275192261, 0.9992575645446777, 0.696745753288269, 0.0006398032419383526, 0.05598278343677521, 0.005438327789306641, 0.013115966692566872, 0.08029530942440033, 0.06494002789258957, 0.031670261174440384, 0.025592129677534103, 0.025592129677534103, 0.9975908994674683, 0.9981065392494202, 0.9984310865402222, 0.9981615543365479, 0.7454044222831726, 0.2532098889350891, 0.9973141551017761, 0.9962208271026611, 0.7732256054878235, 0.0008900438551791012, 0.06185804679989815, 0.0008900438551791012, 0.06920091062784195, 0.02403118461370468, 0.07009094953536987, 0.8801824450492859, 0.11839410662651062, 0.9986734390258789, 0.9993396401405334, 0.9991374015808105, 0.9987534880638123, 0.9980331063270569, 0.9897735118865967, 0.0048810746520757675, 0.0048810746520757675, 0.05646205320954323, 0.8751618266105652, 0.060495056211948395, 0.0020165019668638706, 0.0010082509834319353, 0.0010082509834319353, 0.0030247527174651623, 0.9982365965843201, 0.9984265565872192, 0.9987905621528625, 0.9978524446487427, 0.5810168385505676, 0.013645636849105358, 0.03950052708387375, 0.0043091485276818275, 0.03160042315721512, 0.07289642840623856, 0.030882230028510094, 0.008618297055363655, 0.19822083413600922, 0.019391167908906937, 0.9970015287399292, 0.9966944456100464, 0.9977912306785583, 0.08188149333000183, 0.10434897243976593, 0.042937856167554855, 0.018473263829946518, 0.051924847066402435, 0.027959533035755157, 0.5536985993385315, 0.07289449870586395, 0.029457366093993187, 0.01597687602043152, 0.991543173789978, 0.006853985134512186, 0.24975983798503876, 0.08834590017795563, 0.6615979075431824, 0.998127818107605, 0.1157815158367157, 0.7954340577125549, 0.08570839464664459, 0.001503656036220491, 0.9997240900993347, 0.0388171449303627, 0.9599778652191162, 0.0012137485900893807, 0.6451073884963989, 0.006068742834031582, 0.13836733996868134, 0.11105799674987793, 0.09770675748586655, 0.9991838335990906, 0.9987079501152039, 0.9993090033531189, 0.9984181523323059, 0.019359953701496124, 0.07663314789533615, 0.004033323843032122, 0.5775719881057739, 0.06130652129650116, 0.034686584025621414, 0.029039930552244186, 0.14197300374507904, 0.05565986782312393, 0.5322895050048828, 0.0038676802068948746, 0.015470720827579498, 0.07010170072317123, 0.09379124641418457, 0.09089048206806183, 0.02659030072391033, 0.08508896082639694, 0.06284980475902557, 0.019338401034474373, 0.15436938405036926, 0.033680595457553864, 0.14875595271587372, 0.6623850464820862, 0.21800914406776428, 0.7822681069374084, 0.9987142086029053, 0.9985684156417847, 0.0007004642975516617, 0.1674109697341919, 0.07985293120145798, 0.6332197189331055, 0.011207428760826588, 0.018912535160779953, 0.025917179882526398, 0.06164085865020752, 0.18023395538330078, 0.8187372088432312, 0.9987913966178894, 0.9972599744796753, 0.0890805795788765, 0.17152535915374756, 0.10034133493900299, 0.124471515417099, 0.5145760774612427, 0.9503376483917236, 0.001389382523484528, 0.04723900556564331, 0.9989522695541382, 0.9971289038658142, 0.9993698596954346, 0.006663147360086441, 0.9911431670188904, 0.002839847467839718, 0.6765936613082886, 0.0010649428004398942, 0.00035498093347996473, 0.15583662688732147, 0.00035498093347996473, 0.028043493628501892, 0.019168971106410027, 0.03869292140007019, 0.07703085988759995, 0.9990294575691223, 0.9983208775520325, 0.9967793226242065, 0.49285951256752014, 0.003632871201261878, 0.12755413353443146, 0.01089861337095499, 0.048034630715847015, 0.14087466895580292, 0.10010578483343124, 0.05610767751932144, 0.020182617008686066, 0.9973692297935486, 0.9993410706520081, 0.9991763830184937, 0.9971060752868652, 0.9988924264907837, 0.9992542862892151, 0.999023973941803, 0.9978395700454712, 0.9978681206703186, 0.175703763961792, 0.5842419862747192, 0.23930206894874573, 0.0023383069783449173, 0.13532951474189758, 0.0014614418614655733, 0.0020460186060518026, 0.6415729522705078, 0.0005845767445862293, 0.07248751819133759, 0.00029228837229311466, 0.07482582330703735, 0.06927234679460526, 0.8765666484832764, 0.12255946546792984, 0.006186664570122957, 0.7970485687255859, 0.10826662927865982, 0.0010311107616871595, 0.08764441311359406, 0.7222683429718018, 0.0009283654508180916, 0.03434952348470688, 0.03156442567706108, 0.0018567309016361833, 0.057558659464120865, 0.04502572491765022, 0.01624639518558979, 0.041312262415885925, 0.04873918741941452, 0.9978693723678589, 0.9972584247589111, 0.06481116265058517, 0.9325606822967529, 0.9483649730682373, 0.0055995783768594265, 0.0005090525955893099, 0.0010181051911786199, 0.04428757354617119, 0.9951709508895874, 0.0022313250228762627, 0.9754348397254944, 0.009528056718409061, 0.009528056718409061, 0.0023820141796022654, 0.00357302138581872, 0.08058291673660278, 0.9100311994552612, 0.008336163125932217, 0.0023806460667401552, 0.995110034942627, 0.0023806460667401552, 0.12531253695487976, 0.05401402711868286, 0.5059313774108887, 0.046812158077955246, 0.08714263141155243, 0.08858300745487213, 0.09182384610176086, 0.9977184534072876, 0.9978727102279663, 0.9976974129676819, 0.9974611401557922, 0.9983077049255371, 0.9955810904502869, 0.003653508611023426, 0.996843695640564, 0.9987845420837402, 0.9984034299850464, 0.9994474649429321, 0.00040214110049419105, 0.7140685319900513, 0.0017426114063709974, 0.018498489633202553, 0.18498490750789642, 0.0010723762679845095, 0.020911335945129395, 0.0072385394014418125, 0.013136608526110649, 0.038069356232881546, 0.9969531297683716, 0.9991411566734314, 0.08983579277992249, 0.03838438168168068, 0.5822992920875549, 0.052268095314502716, 0.0816688984632492, 0.056351542472839355, 0.09800267964601517, 0.0008555171079933643, 0.9042815566062927, 0.07927791774272919, 0.014828963205218315, 0.0005703447386622429, 0.00028517236933112144, 0.9983277320861816, 0.9987080693244934, 0.9973055720329285, 0.9982227683067322, 0.025542262941598892, 0.2542346119880676, 0.03623437136411667, 0.25720465183258057, 0.13691841065883636, 0.04603547230362892, 0.07187473773956299, 0.08583388477563858, 0.04662948101758957, 0.03920440375804901, 0.8476138114929199, 0.0021622800268232822, 0.13406136631965637, 0.015135960653424263, 0.0008771569118835032, 0.9982045888900757, 0.9983202815055847, 0.9992459416389465, 0.9980103373527527, 0.9979677796363831, 0.997688889503479, 0.9981183409690857, 0.45803362131118774, 0.03210516273975372, 0.03809812292456627, 0.0021403441205620766, 0.045803364366292953, 0.048371776938438416, 0.05008405074477196, 0.03724198788404465, 0.2384343296289444, 0.04922791197896004, 0.013391816057264805, 0.4394630193710327, 0.025373967364430428, 0.06660666316747665, 0.22378429770469666, 0.017620811238884926, 0.0549769289791584, 0.06766390800476074, 0.04616652429103851, 0.04510927572846413, 0.9976606965065002, 0.9988710880279541, 0.999435544013977, 0.9980881810188293, 0.9994891285896301, 0.4756014943122864, 0.5243311524391174, 0.9401342868804932, 0.013100932352244854, 0.00028480286709964275, 0.046422868967056274, 0.997930109500885, 0.9977645874023438, 0.16435588896274567, 0.02708347700536251, 0.46412917971611023, 0.05119889974594116, 0.02856750227510929, 0.07308828830718994, 0.04526279494166374, 0.0964616984128952, 0.01855032704770565, 0.03116454929113388, 0.9969182014465332, 0.9991410374641418, 0.996467649936676, 0.22385640442371368, 0.05544931814074516, 0.09427855163812637, 0.12443003803491592, 0.07118692249059677, 0.10869242995977402, 0.10869242995977402, 0.07957050949335098, 0.08530664443969727, 0.048389457166194916, 0.9963018894195557, 0.003393912687897682, 0.9989430904388428, 0.11441214382648468, 0.0980166345834732, 0.17642994225025177, 0.0384938046336174, 0.09195742011070251, 0.19888466596603394, 0.19781538844108582, 0.024593263864517212, 0.05631501227617264, 0.002851393073797226, 0.18857267498970032, 0.0007395006832666695, 0.06581556051969528, 0.7439376711845398, 0.9992186427116394, 0.0036110924556851387, 0.0012036975240334868, 0.9130045771598816, 0.08245328068733215, 0.9992864727973938, 0.380302757024765, 0.06486381590366364, 0.24111580848693848, 0.021235179156064987, 0.06003764271736145, 0.07316484302282333, 0.0745161697268486, 0.01621595397591591, 0.04208426550030708, 0.02644745074212551, 0.4567597210407257, 0.10061490535736084, 0.09981637448072433, 0.012377230450510979, 0.07985309511423111, 0.09662225097417831, 0.04751259461045265, 0.04871039092540741, 0.035135362297296524, 0.02195960283279419, 0.9982593059539795, 0.9989744424819946, 0.14084897935390472, 0.8583502173423767, 0.9971237182617188, 0.9978406429290771, 0.011317882686853409, 0.8669498562812805, 0.09884284436702728, 0.013581459410488605, 0.009054306894540787, 0.9991844892501831, 0.061455316841602325, 0.0011595342075452209, 0.936903715133667, 0.07605259865522385, 0.03231419250369072, 0.08551837503910065, 0.38972875475883484, 0.031987786293029785, 0.07605259865522385, 0.06103792041540146, 0.11097803711891174, 0.0737677589058876, 0.0623435452580452, 0.9995173811912537, 0.016762252897024155, 0.9828775525093079, 0.9967215061187744, 0.999397873878479, 0.2041824758052826, 0.12677264213562012, 0.6675196290016174, 0.9987702965736389, 0.9987854361534119, 0.9974048733711243, 0.9987666606903076, 0.0013101620133966208, 0.9970332384109497, 0.9979019165039062, 0.07835378497838974, 0.33942046761512756, 0.1111137643456459, 0.10942510515451431, 0.07126141339540482, 0.1290135532617569, 0.054712552577257156, 0.05741440877318382, 0.04930884391069412, 0.9980487823486328, 0.9995226860046387, 0.9974749088287354, 0.9989758133888245, 0.9988099932670593, 0.997814416885376, 0.9988561868667603, 0.41414546966552734, 0.010219505988061428, 0.08252251148223877, 0.025293277576565742, 0.04138899967074394, 0.11548041552305222, 0.15329259634017944, 0.04164448752999306, 0.06233898550271988, 0.05390789359807968, 0.9992538094520569, 0.0007151163299567997, 0.9983024001121521, 0.9974799752235413, 0.10017172992229462, 0.06678115576505661, 0.135990709066391, 0.10684984922409058, 0.05949593707919121, 0.4620041847229004, 0.0679953545331955, 0.9994280338287354, 0.06393776088953018, 0.5767416954040527, 0.02227695658802986, 0.008390022441744804, 0.1799515187740326, 0.014320900663733482, 0.037755101919174194, 0.01967315562069416, 0.04108217731118202, 0.03601923584938049, 0.842003345489502, 0.11521017551422119, 0.041992492973804474, 0.9992562532424927, 0.9982324838638306, 0.0236114002764225, 0.11442448198795319, 0.03087644651532173, 0.8282153010368347, 0.9991229772567749, 0.8500433564186096, 0.11775869876146317, 0.03183846175670624, 0.998242199420929, 0.0015939922304823995, 0.0015939922304823995, 0.9548013210296631, 0.04144379496574402, 0.9992518424987793, 0.8574935793876648, 0.002425724407657981, 0.06306883692741394, 0.07519745826721191, 0.9961037635803223, 0.003399671521037817, 0.9976576566696167, 0.30759310722351074, 0.051923416554927826, 0.35344362258911133, 0.020040616393089294, 0.04949425160884857, 0.06376560032367706, 0.07287497073411942, 0.014574994333088398, 0.04736873134970665, 0.018522389233112335, 0.9980686902999878, 0.2353914976119995, 0.3913108706474304, 0.10312128067016602, 0.19249305129051208, 0.07754720002412796, 0.10008666664361954, 0.10008666664361954, 0.7994874715805054, 0.8029463887214661, 0.07594370096921921, 0.03638968989253044, 0.061704255640506744, 0.020568083971738815, 0.0007910801796242595, 0.001582160359248519, 0.9979456067085266, 0.9980442523956299, 0.0014257775619626045, 0.15638187527656555, 0.6876518130302429, 0.001428144983947277, 0.005712579935789108, 0.0178518109023571, 0.05783987045288086, 0.07212132215499878, 0.0007140724919736385, 0.9960907101631165, 0.9982009530067444, 0.9063956141471863, 0.09208402037620544, 0.9987878799438477, 0.002727986080572009, 0.045011769980192184, 0.9234232306480408, 0.028643852099776268, 0.7635157108306885, 0.1217971220612526, 0.0038061600644141436, 0.08601921796798706, 0.020553264766931534, 0.0007612320478074253, 0.0038061600644141436, 0.9981094002723694, 0.0038881544023752213, 0.1218288391828537, 0.8735387325286865, 0.9979555010795593, 0.160704106092453, 0.8381822109222412, 0.998921275138855, 0.9978781342506409, 0.9983183145523071, 0.9990926384925842, 0.997898519039154, 0.8858537673950195, 0.11342373490333557, 0.09235458076000214, 0.013545338995754719, 0.572598397731781, 0.018881380558013916, 0.04391973465681076, 0.051718566566705704, 0.09810108691453934, 0.02914300188422203, 0.06115925684571266, 0.018881380558013916, 0.1666668951511383, 0.07505529373884201, 0.14128054678440094, 0.013245051726698875, 0.46468058228492737, 0.019867578521370888, 0.05187645182013512, 0.043598294258117676, 0.019867578521370888, 0.004966894630342722, 0.9979068636894226, 0.9981977939605713, 0.9989598393440247, 0.0011490752222016454, 0.9054713249206543, 0.0907769426703453, 0.0022981504444032907, 0.9513052701950073, 0.04799259454011917, 0.9985306262969971, 0.0008164600585587323, 0.1156708300113678, 0.7852861881256104, 0.004837943706661463, 0.0026388783007860184, 0.06421270221471786, 0.004837943706661463, 0.0019791587255895138, 0.007916634902358055, 0.012314765714108944, 0.37589821219444275, 0.05916665121912956, 0.2553936541080475, 0.02171253226697445, 0.04179662466049194, 0.09336388856172562, 0.06242353096604347, 0.030126137658953667, 0.0396253727376461, 0.020084092393517494, 0.9990248680114746, 0.9985431432723999, 0.24034751951694489, 0.034168682992458344, 0.07250427454710007, 0.049002889543771744, 0.05466989055275917, 0.10600625723600388, 0.09133872389793396, 0.09117204695940018, 0.1711767613887787, 0.08950527757406235, 0.9989800453186035, 0.31379494071006775, 0.18387281894683838, 0.5009708404541016, 0.5272530317306519, 0.03265703096985817, 0.0026336314622312784, 0.1896214783191681, 0.0410846509039402, 0.0958641916513443, 0.03792429342865944, 0.06320715695619583, 0.00948107335716486, 0.9979838728904724, 0.9988335967063904, 0.926093339920044, 0.0039450195617973804, 0.0009862548904493451, 0.06805159151554108, 0.8839054703712463, 0.05807085707783699, 0.0011167472694069147, 0.010050725191831589, 0.04690338298678398, 0.9989543557167053, 0.9950146675109863, 0.0017736447043716908, 0.5547724366188049, 0.02968830056488514, 0.04696955159306526, 0.03013140894472599, 0.10413060337305069, 0.06336458027362823, 0.06823877990245819, 0.026143427938222885, 0.049185093492269516, 0.027472754940390587, 0.0004996077623218298, 0.65198814868927, 0.061451759189367294, 0.07044469565153122, 0.025979604572057724, 0.18935135006904602, 0.9991625547409058, 0.06796964257955551, 0.00043570282286964357, 0.7790366411209106, 0.04182747006416321, 0.020042330026626587, 0.022656546905636787, 0.02744927816092968, 0.028320683166384697, 0.012199679389595985, 0.9982489943504333, 0.0007859846809878945, 0.675946831703186, 0.003929923288524151, 0.038906242698431015, 0.1513020545244217, 0.00039299234049394727, 0.0424431711435318, 0.003143938723951578, 0.05069601163268089, 0.03222537040710449, 0.9986764788627625, 0.9992309808731079, 0.0013038924662396312, 0.0013038924662396312, 0.9896544218063354, 0.0026077849324792624, 0.003911677747964859, 0.9979717135429382, 0.0016018807655200362, 0.06948680430650711, 0.05747674033045769, 0.15555892884731293, 0.23934343457221985, 0.10065577924251556, 0.1261056810617447, 0.1072327196598053, 0.017157236114144325, 0.1049450933933258, 0.022304406389594078, 0.9986470341682434, 0.997126579284668, 0.998879075050354, 0.0006250807782635093, 0.9986808896064758, 0.9978150725364685, 0.06767744570970535, 0.0892966240644455, 0.7613711953163147, 0.08177690953016281, 0.9994940757751465, 0.3389800190925598, 0.00783122144639492, 0.04624149948358536, 0.08614343404769897, 0.05631021410226822, 0.04885190725326538, 0.07532889395952225, 0.03244363144040108, 0.2722281813621521, 0.035799868404865265, 0.9977915287017822, 0.9982549548149109, 0.9982479810714722, 0.9988623261451721, 0.9985683560371399, 0.9989219903945923, 0.9981244802474976, 0.9990740418434143, 0.9990577101707458, 0.9975208640098572, 0.9981753826141357, 0.998430609703064, 0.5560871958732605, 0.010756039060652256, 0.06830085068941116, 0.03173031657934189, 0.048402175307273865, 0.08766172081232071, 0.0467887707054615, 0.039259541779756546, 0.05539360269904137, 0.05539360269904137, 0.9982723593711853, 0.9973684549331665, 0.9981653094291687, 0.0028583502862602472, 0.027154328301548958, 0.9689807891845703, 0.026391692459583282, 0.3443026542663574, 0.039224352687597275, 0.14745450019836426, 0.11355692148208618, 0.06610029935836792, 0.11210416257381439, 0.05980502814054489, 0.027602320536971092, 0.06343691051006317, 0.9991347193717957, 0.9994423389434814, 0.7314246892929077, 0.023115001618862152, 0.0908089280128479, 0.0024766072165220976, 0.028068214654922485, 0.04210232198238373, 0.03219589218497276, 0.01981285773217678, 0.017336251214146614, 0.012383036315441132, 0.9985251426696777, 0.9989542365074158, 0.8076373934745789, 0.1610163152217865, 0.0008519382099620998, 0.029817836359143257, 0.9978220462799072, 0.9990377426147461, 0.9967221021652222, 0.0572720430791378, 0.04772670194506645, 0.0286360215395689, 0.8658987283706665, 0.038116902112960815, 0.06314314901828766, 0.04851242154836655, 0.3696184456348419, 0.0681484043598175, 0.14861741662025452, 0.043507169932127, 0.10241511464118958, 0.07969897985458374, 0.03850192204117775, 0.9982450008392334, 0.9979329109191895, 0.9971195459365845, 0.87758469581604, 0.12087487429380417, 0.9990862607955933, 0.99761563539505, 0.997563362121582, 0.9989475011825562, 0.9989171624183655, 0.07315077632665634, 0.11795562505722046, 0.084123395383358, 0.5083978772163391, 0.0905240848660469, 0.12527070939540863, 0.05332723259925842, 0.5217421054840088, 0.007206383161246777, 0.029786383733153343, 0.0586119145154953, 0.07398553192615509, 0.04996425658464432, 0.016334468498826027, 0.06725957244634628, 0.12154766172170639, 0.001512468559667468, 0.9974730014801025, 0.000756234279833734, 0.999653697013855, 0.9994161128997803, 0.9982801079750061, 0.0013517672196030617, 0.9982225298881531, 0.0719393864274025, 0.9188621044158936, 0.008174929767847061, 0.9981325268745422, 0.03085451014339924, 0.9688315987586975, 0.9985896944999695, 0.9982882142066956, 0.9985377788543701, 0.7447879910469055, 0.022982031106948853, 0.10214235633611679, 0.0008511862833984196, 0.028089148923754692, 0.028089148923754692, 0.04681524634361267, 0.0034047451335936785, 0.020428471267223358, 0.0025535589084029198, 0.7769089341163635, 0.06637545675039291, 0.11062575876712799, 0.0012642943765968084, 0.013907238841056824, 0.030975213274359703, 0.9990932941436768, 0.4731109142303467, 0.04704858735203743, 0.1575017124414444, 0.0244329571723938, 0.051490943878889084, 0.07148154824972153, 0.07410657405853271, 0.03170226886868477, 0.0488659143447876, 0.020394451916217804, 0.42761921882629395, 0.01503715943545103, 0.5573146939277649, 0.9662337899208069, 0.032252587378025055, 0.0047351280227303505, 0.9943768978118896, 0.0005428562290035188, 0.9983125925064087, 0.0010857124580070376, 0.9994304776191711, 0.9976470470428467, 0.1762499213218689, 0.15193958580493927, 0.12560339272022247, 0.5449566841125488, 0.0006752870976924896, 0.9992042779922485, 0.9992372989654541, 0.047131799161434174, 0.020070478320121765, 0.04442566633224487, 0.5096548795700073, 0.01578577049076557, 0.039464425295591354, 0.05479917302727699, 0.14319948852062225, 0.07126147300004959, 0.05434815213084221, 0.000312619173200801, 0.6352421641349792, 0.000625238346401602, 0.0009378575487062335, 0.31230655312538147, 0.000312619173200801, 0.011566909961402416, 0.000312619173200801, 0.001875715097412467, 0.036576446145772934, 0.19137442111968994, 0.037722840905189514, 0.08970675617456436, 0.04048305004835129, 0.08326627314090729, 0.0966072753071785, 0.2576194107532501, 0.05244395136833191, 0.07774585485458374, 0.07314550876617432, 0.012478006072342396, 0.0003119501634500921, 0.062390029430389404, 0.5574549436569214, 0.005615102592855692, 0.06519757956266403, 0.022460410371422768, 0.11916495859622955, 0.10699889808893204, 0.04772837460041046, 0.997499406337738, 0.9992642402648926, 0.0025522245559841394, 0.9953675270080566, 0.06598999351263046, 0.1769402027130127, 0.30493178963661194, 0.1182018592953682, 0.04858604073524475, 0.08919526636600494, 0.08665718883275986, 0.06055125966668129, 0.04858604073524475, 0.9990894794464111, 0.06097252294421196, 0.8355494141578674, 0.0553269200026989, 0.01016208715736866, 0.03613186627626419, 0.001129120821133256, 0.999112069606781], \"Term\": [\"abbott\", \"abc\", \"abc\", \"abc\", \"abc\", \"abc\", \"abuse\", \"abuse\", \"abuse\", \"abuse\", \"abuse\", \"abuse\", \"accident\", \"accident\", \"accuse\", \"accuse\", \"accuse\", \"accuse\", \"accuse\", \"accuse\", \"accuse\", \"accuse\", \"accuse\", \"accuse\", \"adam\", \"afghanistan\", \"afl\", \"afl\", \"afl\", \"afl\", \"afl\", \"afl\", \"afl\", \"afl\", \"afl\", \"africa\", \"ag\", \"age\", \"agriculture\", \"aleppo\", \"alice\", \"alice\", \"alice\", \"allegations\", \"allege\", \"allege\", \"allege\", \"allege\", \"allegedly\", \"analysis\", \"andrew\", \"animals\", \"anniversary\", \"appear\", \"appear\", \"approach\", \"april\", \"arrest\", \"arrest\", \"arrest\", \"arrest\", \"arrest\", \"arrest\", \"arrest\", \"arrest\", \"arson\", \"art\", \"art\", \"asbestos\", \"ash\", \"assault\", \"assault\", \"assault\", \"asylum\", \"attack\", \"attack\", \"attack\", \"attack\", \"attack\", \"attack\", \"attack\", \"attack\", \"attack\", \"attack\", \"attempt\", \"audio\", \"august\", \"australia\", \"australia\", \"australia\", \"australia\", \"australia\", \"australia\", \"australia\", \"australia\", \"australia\", \"australia\", \"australian\", \"australian\", \"australian\", \"australian\", \"australian\", \"australian\", \"australian\", \"australian\", \"australian\", \"australian\", \"baby\", \"baby\", \"baby\", \"baby\", \"baby\", \"baby\", \"baby\", \"backpacker\", \"bail\", \"bail\", \"bail\", \"ballarat\", \"bank\", \"bank\", \"bank\", \"bank\", \"bank\", \"bank\", \"bank\", \"bank\", \"bank\", \"barnett\", \"barrier\", \"bash\", \"bash\", \"basin\", \"bat\", \"bay\", \"bay\", \"bay\", \"bay\", \"bay\", \"beat\", \"beat\", \"beat\", \"beat\", \"beat\", \"beat\", \"beat\", \"beat\", \"beat\", \"bed\", \"ben\", \"bike\", \"bike\", \"bikie\", \"billion\", \"bird\", \"bishop\", \"blast\", \"blast\", \"blast\", \"blast\", \"blaze\", \"blaze\", \"blaze\", \"blaze\", \"blaze\", \"blaze\", \"blaze\", \"blog\", \"bob\", \"bomb\", \"bomb\", \"bomb\", \"bomb\", \"bomb\", \"boom\", \"boom\", \"boy\", \"boy\", \"boy\", \"boy\", \"brawl\", \"breakfast\", \"brexit\", \"brexit\", \"brexit\", \"broome\", \"brown\", \"brown\", \"brown\", \"brumbies\", \"budget\", \"budget\", \"budget\", \"budget\", \"budget\", \"budget\", \"budget\", \"bunbury\", \"bundaberg\", \"bus\", \"bus\", \"bus\", \"bus\", \"bushfires\", \"business\", \"business\", \"business\", \"business\", \"business\", \"business\", \"business\", \"business\", \"business\", \"call\", \"call\", \"call\", \"call\", \"call\", \"call\", \"call\", \"call\", \"call\", \"call\", \"cameron\", \"cannabis\", \"cannabis\", \"capital\", \"car\", \"car\", \"car\", \"car\", \"car\", \"car\", \"car\", \"carbon\", \"care\", \"care\", \"care\", \"care\", \"catholic\", \"cattle\", \"cattle\", \"cattle\", \"cattle\", \"cattle\", \"cattle\", \"cattle\", \"cbd\", \"cctv\", \"celebrate\", \"celebrate\", \"celebrate\", \"celebrate\", \"celebrate\", \"celebrate\", \"cent\", \"change\", \"change\", \"change\", \"change\", \"change\", \"change\", \"change\", \"change\", \"change\", \"charge\", \"charge\", \"charge\", \"charge\", \"charge\", \"charge\", \"charge\", \"charge\", \"charge\", \"child\", \"child\", \"child\", \"child\", \"child\", \"child\", \"child\", \"china\", \"china\", \"china\", \"china\", \"china\", \"china\", \"china\", \"china\", \"china\", \"china\", \"chris\", \"christmas\", \"christmas\", \"clarke\", \"class\", \"climate\", \"clinton\", \"clive\", \"closer\", \"coach\", \"coach\", \"coach\", \"coach\", \"coach\", \"coach\", \"coal\", \"coal\", \"coffs\", \"colin\", \"college\", \"commission\", \"commission\", \"commission\", \"commission\", \"commission\", \"commonwealth\", \"communities\", \"compensation\", \"confidence\", \"controversial\", \"cook\", \"corner\", \"corruption\", \"council\", \"council\", \"council\", \"council\", \"council\", \"council\", \"council\", \"council\", \"council\", \"council\", \"councils\", \"country\", \"country\", \"country\", \"court\", \"court\", \"court\", \"court\", \"court\", \"court\", \"court\", \"court\", \"court\", \"court\", \"crash\", \"crash\", \"cricket\", \"cricket\", \"cricket\", \"cricket\", \"cricket\", \"cricket\", \"crocodile\", \"crop\", \"csg\", \"csg\", \"csg\", \"csg\", \"culture\", \"culture\", \"cup\", \"cup\", \"cup\", \"cup\", \"cup\", \"cup\", \"cup\", \"cut\", \"cut\", \"cut\", \"cut\", \"cut\", \"cut\", \"cut\", \"cut\", \"cut\", \"cut\", \"dairy\", \"dam\", \"dam\", \"data\", \"daughter\", \"david\", \"day\", \"day\", \"day\", \"day\", \"day\", \"day\", \"day\", \"day\", \"day\", \"day\", \"dead\", \"dead\", \"dead\", \"dead\", \"dead\", \"dead\", \"dead\", \"dead\", \"dead\", \"dead\", \"death\", \"death\", \"death\", \"death\", \"death\", \"death\", \"death\", \"death\", \"death\", \"death\", \"december\", \"department\", \"destroy\", \"destroy\", \"destroy\", \"destroy\", \"destroy\", \"die\", \"die\", \"die\", \"die\", \"die\", \"die\", \"die\", \"die\", \"die\", \"die\", \"disability\", \"disease\", \"dollar\", \"domestic\", \"donald\", \"dozens\", \"dr\", \"dream\", \"drink\", \"drink\", \"drink\", \"drive\", \"drive\", \"drive\", \"drive\", \"drive\", \"driver\", \"driver\", \"drone\", \"drown\", \"drug\", \"drug\", \"drug\", \"drug\", \"drug\", \"drug\", \"drug\", \"drug\", \"drug\", \"drum\", \"eagle\", \"eagle\", \"earthquake\", \"eat\", \"education\", \"education\", \"education\", \"education\", \"education\", \"egypt\", \"elderly\", \"elderly\", \"election\", \"election\", \"election\", \"election\", \"election\", \"election\", \"election\", \"election\", \"election\", \"election\", \"england\", \"england\", \"england\", \"england\", \"england\", \"england\", \"england\", \"entertainment\", \"environment\", \"episode\", \"essendon\", \"evacuate\", \"exchange\", \"exhibition\", \"explain\", \"explain\", \"explain\", \"export\", \"export\", \"export\", \"export\", \"export\", \"export\", \"face\", \"face\", \"face\", \"face\", \"face\", \"face\", \"face\", \"face\", \"face\", \"face\", \"facebook\", \"fall\", \"fall\", \"fall\", \"fall\", \"fall\", \"fall\", \"fall\", \"fall\", \"fall\", \"fall\", \"farmers\", \"farmers\", \"farmers\", \"farmers\", \"farmers\", \"farmers\", \"farmers\", \"farmers\", \"farmers\", \"fashion\", \"fast\", \"fatal\", \"fatal\", \"fc\", \"february\", \"federal\", \"federal\", \"federal\", \"federal\", \"federal\", \"feel\", \"feel\", \"festival\", \"festival\", \"festival\", \"festival\", \"festival\", \"festival\", \"festival\", \"fifa\", \"final\", \"final\", \"final\", \"final\", \"final\", \"final\", \"final\", \"final\", \"final\", \"firefighters\", \"fix\", \"flat\", \"flood\", \"flood\", \"flood\", \"flood\", \"flood\", \"flood\", \"flood\", \"flood\", \"flood\", \"flood\", \"food\", \"food\", \"food\", \"food\", \"food\", \"food\", \"food\", \"food\", \"footage\", \"footage\", \"footage\", \"football\", \"forecast\", \"fraud\", \"freight\", \"fremantle\", \"friday\", \"fund\", \"fund\", \"fund\", \"fund\", \"fund\", \"fund\", \"fund\", \"fund\", \"fund\", \"fund\", \"gain\", \"gang\", \"gap\", \"geelong\", \"george\", \"george\", \"girls\", \"golf\", \"government\", \"government\", \"government\", \"government\", \"government\", \"government\", \"government\", \"grain\", \"grain\", \"grand\", \"grandstand\", \"greg\", \"greyhound\", \"gst\", \"guilty\", \"guilty\", \"guilty\", \"gun\", \"gun\", \"gun\", \"gun\", \"gun\", \"gun\", \"gun\", \"happen\", \"harbour\", \"harvest\", \"hawk\", \"health\", \"health\", \"health\", \"health\", \"health\", \"health\", \"health\", \"health\", \"health\", \"health\", \"helicopter\", \"hide\", \"higher\", \"hill\", \"hill\", \"hill\", \"hill\", \"hill\", \"hill\", \"hill\", \"hill\", \"hill\", \"hill\", \"history\", \"history\", \"hobart\", \"hobart\", \"hobart\", \"hockey\", \"hotel\", \"hotel\", \"hotel\", \"hotel\", \"hour\", \"human\", \"human\", \"hunter\", \"hunter\", \"hunter\", \"hunter\", \"hunter\", \"hunter\", \"ian\", \"icac\", \"ice\", \"immigration\", \"india\", \"india\", \"india\", \"india\", \"india\", \"india\", \"india\", \"india\", \"india\", \"indigenous\", \"indigenous\", \"indigenous\", \"indigenous\", \"indigenous\", \"indigenous\", \"indigenous\", \"indigenous\", \"indigenous\", \"indigenous\", \"indonesia\", \"indonesia\", \"indonesia\", \"indonesia\", \"indonesian\", \"indonesian\", \"industrial\", \"infrastructure\", \"injure\", \"injure\", \"injure\", \"injure\", \"injure\", \"injure\", \"injure\", \"injure\", \"injury\", \"injury\", \"inside\", \"inspire\", \"interview\", \"interview\", \"interview\", \"interview\", \"interview\", \"investment\", \"investment\", \"investment\", \"iron\", \"isa\", \"islamic\", \"islands\", \"islands\", \"jail\", \"jail\", \"jail\", \"jail\", \"jail\", \"jail\", \"jail\", \"jail\", \"jail\", \"jail\", \"jam\", \"january\", \"jason\", \"job\", \"job\", \"job\", \"job\", \"job\", \"job\", \"job\", \"job\", \"job\", \"joe\", \"john\", \"johnson\", \"josh\", \"joyce\", \"july\", \"june\", \"jury\", \"justice\", \"kid\", \"kid\", \"kid\", \"kill\", \"kill\", \"kill\", \"kill\", \"kill\", \"kill\", \"kill\", \"kill\", \"kill\", \"kill\", \"know\", \"know\", \"korea\", \"korea\", \"korea\", \"korea\", \"korea\", \"labor\", \"labor\", \"labor\", \"labor\", \"labor\", \"labor\", \"labor\", \"labor\", \"labor\", \"labor\", \"lanka\", \"launceston\", \"lawyer\", \"lawyer\", \"league\", \"league\", \"league\", \"league\", \"league\", \"levy\", \"levy\", \"liberal\", \"liberal\", \"liberal\", \"liberal\", \"liberal\", \"liberals\", \"liberals\", \"liberals\", \"lions\", \"lions\", \"lions\", \"live\", \"live\", \"live\", \"live\", \"live\", \"live\", \"live\", \"livestock\", \"loan\", \"lobby\", \"locals\", \"losses\", \"lower\", \"lower\", \"luke\", \"macquarie\", \"malaysia\", \"malcolm\", \"man\", \"man\", \"man\", \"man\", \"man\", \"man\", \"man\", \"man\", \"man\", \"man\", \"manchester\", \"manus\", \"mark\", \"mark\", \"mark\", \"mark\", \"mark\", \"mark\", \"mark\", \"market\", \"market\", \"market\", \"market\", \"market\", \"market\", \"marriage\", \"martin\", \"matt\", \"matthew\", \"melbourne\", \"melbourne\", \"melbourne\", \"melbourne\", \"melbourne\", \"melbourne\", \"melbourne\", \"melbourne\", \"melbourne\", \"melbourne\", \"men\", \"men\", \"men\", \"men\", \"mental\", \"mental\", \"mh\", \"michael\", \"migrants\", \"mike\", \"milk\", \"miners\", \"minister\", \"minister\", \"minister\", \"minister\", \"minister\", \"minister\", \"minister\", \"minister\", \"minister\", \"minister\", \"miss\", \"miss\", \"miss\", \"miss\", \"miss\", \"miss\", \"miss\", \"miss\", \"miss\", \"miss\", \"mitchell\", \"mobile\", \"monday\", \"morrison\", \"mother\", \"mount\", \"mount\", \"murder\", \"murder\", \"murder\", \"murder\", \"muslim\", \"myanmar\", \"national\", \"national\", \"national\", \"national\", \"national\", \"national\", \"national\", \"national\", \"national\", \"national\", \"native\", \"nbn\", \"ndis\", \"new\", \"new\", \"new\", \"new\", \"new\", \"new\", \"new\", \"new\", \"new\", \"new\", \"news\", \"news\", \"nick\", \"north\", \"north\", \"north\", \"north\", \"north\", \"north\", \"north\", \"north\", \"north\", \"north\", \"northern\", \"northern\", \"northern\", \"northern\", \"november\", \"nrl\", \"nrl\", \"nrl\", \"nrl\", \"nrn\", \"nsw\", \"nsw\", \"nsw\", \"nsw\", \"nsw\", \"nsw\", \"nsw\", \"nsw\", \"nsw\", \"nsw\", \"nt\", \"nt\", \"nt\", \"nt\", \"nt\", \"nt\", \"nt\", \"nt\", \"nt\", \"nt\", \"ntch\", \"nuclear\", \"october\", \"october\", \"odi\", \"offences\", \"officer\", \"officer\", \"officer\", \"officer\", \"officer\", \"olympics\", \"online\", \"online\", \"online\", \"open\", \"open\", \"open\", \"open\", \"open\", \"open\", \"open\", \"open\", \"open\", \"open\", \"outback\", \"pacific\", \"pacific\", \"package\", \"palmer\", \"parent\", \"parent\", \"parent\", \"parramatta\", \"partner\", \"patient\", \"patients\", \"paul\", \"paul\", \"pc\", \"perth\", \"perth\", \"perth\", \"perth\", \"perth\", \"perth\", \"perth\", \"perth\", \"perth\", \"pet\", \"peter\", \"philippines\", \"phone\", \"pig\", \"pilbara\", \"pilot\", \"plan\", \"plan\", \"plan\", \"plan\", \"plan\", \"plan\", \"plan\", \"plan\", \"plan\", \"plan\", \"plane\", \"plead\", \"plead\", \"plus\", \"png\", \"png\", \"png\", \"png\", \"png\", \"png\", \"png\", \"podcast\", \"police\", \"police\", \"police\", \"police\", \"police\", \"police\", \"police\", \"police\", \"police\", \"police\", \"policy\", \"policy\", \"policy\", \"politics\", \"presidential\", \"press\", \"press\", \"press\", \"press\", \"preview\", \"price\", \"price\", \"price\", \"prime\", \"private\", \"private\", \"private\", \"private\", \"production\", \"profit\", \"profit\", \"profit\", \"profit\", \"protection\", \"protection\", \"punch\", \"qld\", \"qld\", \"qld\", \"qld\", \"qld\", \"qld\", \"qld\", \"qld\", \"qld\", \"qld\", \"queen\", \"queensland\", \"queensland\", \"queensland\", \"queensland\", \"queensland\", \"quiz\", \"quiz\", \"quiz\", \"rain\", \"rain\", \"rain\", \"rain\", \"rain\", \"rain\", \"rain\", \"range\", \"rape\", \"rape\", \"rat\", \"rat\", \"rat\", \"rat\", \"rat\", \"rat\", \"rat\", \"rat\", \"rba\", \"recover\", \"reds\", \"reds\", \"reform\", \"refuse\", \"refuse\", \"refuse\", \"refuse\", \"regional\", \"regional\", \"regional\", \"regional\", \"regional\", \"regional\", \"regional\", \"relief\", \"remember\", \"remember\", \"remember\", \"remote\", \"reporter\", \"reporter\", \"researchers\", \"reserve\", \"respond\", \"response\", \"richard\", \"rio\", \"rio\", \"rise\", \"rise\", \"rise\", \"rise\", \"rise\", \"rise\", \"rise\", \"rise\", \"rise\", \"rise\", \"road\", \"road\", \"road\", \"road\", \"road\", \"road\", \"road\", \"road\", \"road\", \"road\", \"robbery\", \"robert\", \"rockhampton\", \"round\", \"round\", \"round\", \"round\", \"royal\", \"royal\", \"rugby\", \"rugby\", \"rural\", \"rural\", \"rural\", \"rural\", \"rural\", \"rural\", \"rural\", \"rural\", \"rural\", \"sa\", \"sa\", \"sa\", \"sa\", \"sa\", \"sa\", \"sa\", \"sa\", \"sa\", \"sa\", \"sach\", \"sam\", \"say\", \"say\", \"say\", \"say\", \"say\", \"say\", \"say\", \"say\", \"say\", \"say\", \"scandal\", \"scott\", \"scott\", \"scott\", \"search\", \"search\", \"search\", \"search\", \"search\", \"search\", \"search\", \"search\", \"search\", \"seeker\", \"seekers\", \"senate\", \"senate\", \"senate\", \"senate\", \"sentence\", \"sentence\", \"sentence\", \"sentence\", \"sentence\", \"september\", \"series\", \"series\", \"service\", \"service\", \"service\", \"service\", \"service\", \"service\", \"service\", \"service\", \"service\", \"service\", \"sex\", \"sex\", \"sex\", \"sex\", \"sex\", \"sex\", \"sexual\", \"share\", \"share\", \"share\", \"share\", \"share\", \"share\", \"share\", \"share\", \"share\", \"sheep\", \"shoot\", \"shoot\", \"shoot\", \"shoot\", \"shoot\", \"shoot\", \"shoot\", \"shoot\", \"shoot\", \"shoot\", \"shorten\", \"social\", \"soldier\", \"soldier\", \"soldier\", \"soldier\", \"soldier\", \"son\", \"son\", \"south\", \"south\", \"south\", \"south\", \"south\", \"south\", \"south\", \"south\", \"south\", \"south\", \"space\", \"spike\", \"sport\", \"sport\", \"spring\", \"sri\", \"st\", \"st\", \"st\", \"st\", \"stab\", \"state\", \"state\", \"state\", \"state\", \"state\", \"state\", \"state\", \"state\", \"state\", \"state\", \"stephen\", \"steve\", \"stock\", \"store\", \"stories\", \"story\", \"stream\", \"street\", \"suicide\", \"summer\", \"sunday\", \"sunshine\", \"support\", \"support\", \"support\", \"support\", \"support\", \"support\", \"support\", \"support\", \"support\", \"support\", \"supreme\", \"surge\", \"suspicious\", \"swan\", \"swan\", \"swan\", \"sydney\", \"sydney\", \"sydney\", \"sydney\", \"sydney\", \"sydney\", \"sydney\", \"sydney\", \"sydney\", \"sydney\", \"syria\", \"syrian\", \"tas\", \"tas\", \"tas\", \"tas\", \"tas\", \"tas\", \"tas\", \"tas\", \"tas\", \"tas\", \"taxi\", \"technology\", \"teen\", \"teen\", \"teen\", \"teen\", \"teenager\", \"teens\", \"tennis\", \"territory\", \"territory\", \"territory\", \"territory\", \"test\", \"test\", \"test\", \"test\", \"test\", \"test\", \"test\", \"test\", \"test\", \"test\", \"th\", \"thailand\", \"theft\", \"think\", \"think\", \"thursday\", \"tim\", \"titans\", \"toddler\", \"tony\", \"track\", \"track\", \"track\", \"track\", \"track\", \"track\", \"trial\", \"trial\", \"trial\", \"trial\", \"trial\", \"trial\", \"trial\", \"trial\", \"trial\", \"trial\", \"truck\", \"truck\", \"truck\", \"trump\", \"tuesday\", \"turnbull\", \"turnbull\", \"ukraine\", \"underway\", \"underway\", \"underway\", \"unemployment\", \"university\", \"university\", \"update\", \"van\", \"vanuatu\", \"vic\", \"vic\", \"vic\", \"vic\", \"vic\", \"vic\", \"vic\", \"vic\", \"vic\", \"vic\", \"violence\", \"violence\", \"violence\", \"violence\", \"violence\", \"violence\", \"voters\", \"wa\", \"wa\", \"wa\", \"wa\", \"wa\", \"wa\", \"wa\", \"wa\", \"wa\", \"wa\", \"wall\", \"wall\", \"wall\", \"wallabies\", \"wallabies\", \"wave\", \"wave\", \"weather\", \"weather\", \"weather\", \"wednesday\", \"welfare\", \"western\", \"western\", \"western\", \"western\", \"western\", \"whale\", \"wide\", \"win\", \"win\", \"win\", \"win\", \"win\", \"win\", \"win\", \"win\", \"win\", \"win\", \"woman\", \"woman\", \"woman\", \"woman\", \"woman\", \"woman\", \"woman\", \"woman\", \"woman\", \"woman\", \"work\", \"work\", \"work\", \"work\", \"work\", \"work\", \"work\", \"work\", \"work\", \"work\", \"world\", \"world\", \"world\", \"world\", \"world\", \"world\", \"world\", \"world\", \"world\", \"world\", \"worst\", \"wrap\", \"wrong\", \"wrong\", \"year\", \"year\", \"year\", \"year\", \"year\", \"year\", \"year\", \"year\", \"year\", \"yo\", \"zealand\", \"zealand\", \"zealand\", \"zealand\", \"zealand\", \"zealand\", \"zoo\"]}, \"R\": 30, \"lambda.step\": 0.01, \"plot.opts\": {\"xlab\": \"PC1\", \"ylab\": \"PC2\"}, \"topic.order\": [7, 8, 1, 9, 6, 10, 2, 4, 3, 5]};\n",
              "\n",
              "function LDAvis_load_lib(url, callback){\n",
              "  var s = document.createElement('script');\n",
              "  s.src = url;\n",
              "  s.async = true;\n",
              "  s.onreadystatechange = s.onload = callback;\n",
              "  s.onerror = function(){console.warn(\"failed to load library \" + url);};\n",
              "  document.getElementsByTagName(\"head\")[0].appendChild(s);\n",
              "}\n",
              "\n",
              "if(typeof(LDAvis) !== \"undefined\"){\n",
              "   // already loaded: just create the visualization\n",
              "   !function(LDAvis){\n",
              "       new LDAvis(\"#\" + \"ldavis_el1411403971451154082284123276\", ldavis_el1411403971451154082284123276_data);\n",
              "   }(LDAvis);\n",
              "}else if(typeof define === \"function\" && define.amd){\n",
              "   // require.js is available: use it to load d3/LDAvis\n",
              "   require.config({paths: {d3: \"https://cdnjs.cloudflare.com/ajax/libs/d3/3.5.5/d3.min\"}});\n",
              "   require([\"d3\"], function(d3){\n",
              "      window.d3 = d3;\n",
              "      LDAvis_load_lib(\"https://cdn.rawgit.com/bmabey/pyLDAvis/files/ldavis.v1.0.0.js\", function(){\n",
              "        new LDAvis(\"#\" + \"ldavis_el1411403971451154082284123276\", ldavis_el1411403971451154082284123276_data);\n",
              "      });\n",
              "    });\n",
              "}else{\n",
              "    // require.js not available: dynamically load d3 & LDAvis\n",
              "    LDAvis_load_lib(\"https://cdnjs.cloudflare.com/ajax/libs/d3/3.5.5/d3.min.js\", function(){\n",
              "         LDAvis_load_lib(\"https://cdn.rawgit.com/bmabey/pyLDAvis/files/ldavis.v1.0.0.js\", function(){\n",
              "                 new LDAvis(\"#\" + \"ldavis_el1411403971451154082284123276\", ldavis_el1411403971451154082284123276_data);\n",
              "            })\n",
              "         });\n",
              "}\n",
              "</script>"
            ],
            "text/plain": [
              "PreparedData(topic_coordinates=                x           y  topics  cluster       Freq\n",
              "topic                                                    \n",
              "6      -75.674393   57.601913       1        1  13.693484\n",
              "7      -32.654701 -119.089577       2        1  11.061133\n",
              "0      -86.308319  -31.780380       3        1  10.760223\n",
              "8       -7.577353  -46.746807       4        1   9.962660\n",
              "5       -3.299406   28.583500       5        1   9.914999\n",
              "9       94.423058   59.448875       6        1   9.368862\n",
              "1      132.890213  -35.508640       7        1   9.214301\n",
              "3       16.216301  104.068535       8        1   8.987041\n",
              "2       61.687859 -100.284302       9        1   8.867968\n",
              "4       59.763020  -12.844320      10        1   8.169328, topic_info=      Category         Freq        Term        Total  loglift  logprob\n",
              "term                                                                  \n",
              "298    Default  7460.000000         man  7460.000000  30.0000  30.0000\n",
              "212    Default  3663.000000       crash  3663.000000  29.0000  29.0000\n",
              "458    Default  4501.000000     country  4501.000000  28.0000  28.0000\n",
              "4560   Default  3987.000000        hour  3987.000000  27.0000  27.0000\n",
              "7903   Default  3053.000000       trump  3053.000000  26.0000  26.0000\n",
              "348    Default  4990.000000      charge  4990.000000  25.0000  25.0000\n",
              "326    Default  3511.000000      murder  3511.000000  24.0000  24.0000\n",
              "1394   Default  4547.000000       rural  4547.000000  23.0000  23.0000\n",
              "1221   Default  3506.000000      market  3506.000000  22.0000  22.0000\n",
              "1397   Default  2651.000000        news  2651.000000  21.0000  21.0000\n",
              "1451   Default  4973.000000   interview  4973.000000  20.0000  20.0000\n",
              "256    Default  6912.000000      police  6912.000000  19.0000  19.0000\n",
              "14632  Default  2201.000000     podcast  2201.000000  18.0000  18.0000\n",
              "2728   Default  4494.000000  government  4494.000000  17.0000  17.0000\n",
              "3244   Default  1941.000000        drum  1941.000000  16.0000  16.0000\n",
              "609    Default  2842.000000         car  2842.000000  15.0000  15.0000\n",
              "6283   Default  1829.000000  grandstand  1829.000000  14.0000  14.0000\n",
              "5081   Default  2402.000000         abc  2402.000000  13.0000  13.0000\n",
              "732    Default  1842.000000     weather  1842.000000  12.0000  12.0000\n",
              "1203   Default  3198.000000       woman  3198.000000  11.0000  11.0000\n",
              "16928  Default  1816.000000         nrn  1816.000000  10.0000  10.0000\n",
              "1298   Default  1964.000000      league  1964.000000   9.0000   9.0000\n",
              "875    Default  1843.000000      guilty  1843.000000   8.0000   8.0000\n",
              "896    Default  2292.000000       price  2292.000000   7.0000   7.0000\n",
              "587    Default  3421.000000        kill  3421.000000   6.0000   6.0000\n",
              "232    Default  4307.000000       court  4307.000000   5.0000   5.0000\n",
              "1710   Default  1997.000000     assault  1997.000000   4.0000   4.0000\n",
              "1171   Default  1599.000000       sport  1599.000000   3.0000   3.0000\n",
              "5077   Default  1491.000000        john  1491.000000   2.0000   2.0000\n",
              "2447   Default  1661.000000         nrl  1661.000000   1.0000   1.0000\n",
              "...        ...          ...         ...          ...      ...      ...\n",
              "1430   Topic10   478.608734       coffs   479.467316   2.5030  -5.9709\n",
              "6039   Topic10   469.622253     scandal   470.479858   2.5030  -5.9898\n",
              "3476   Topic10   437.540192      voters   438.397491   2.5028  -6.0606\n",
              "4022   Topic10   439.883820       basin   440.757629   2.5028  -6.0552\n",
              "738    Topic10   431.095123       dream   431.988159   2.5027  -6.0754\n",
              "6975   Topic10   397.735016         eat   398.595398   2.5026  -6.1559\n",
              "3240   Topic10   393.430695      tennis   394.292450   2.5026  -6.1668\n",
              "1396   Topic10   379.399536        hide   380.256958   2.5025  -6.2031\n",
              "7946   Topic10   375.992920       colin   376.850647   2.5025  -6.2122\n",
              "325    Topic10   369.943298        jury   370.801086   2.5025  -6.2284\n",
              "14165  Topic10   364.031891      titans   364.889099   2.5024  -6.2445\n",
              "5663   Topic10   569.257812        bike   571.705322   2.5005  -5.7974\n",
              "2303   Topic10   422.826996      muslim   423.877380   2.5023  -6.0948\n",
              "249    Topic10   392.483612        golf   393.487061   2.5022  -6.1692\n",
              "16676  Topic10   390.078796      aleppo   391.065704   2.5023  -6.1754\n",
              "779    Topic10  1345.440308   christmas  1379.030762   2.4801  -4.9373\n",
              "248    Topic10   478.403870        feel   480.728485   2.4999  -5.9713\n",
              "2037   Topic10   466.297150     culture   468.532257   2.5000  -5.9969\n",
              "1877   Topic10   539.036072       brown   546.333801   2.4913  -5.8520\n",
              "2480   Topic10   807.552002      online   862.415222   2.4391  -5.4477\n",
              "638    Topic10   673.628479    remember   771.574280   2.3690  -5.6291\n",
              "1158   Topic10   585.868713      injury   715.736389   2.3046  -5.7686\n",
              "1445   Topic10   708.344238   indonesia  1068.864746   2.0934  -5.5788\n",
              "1558   Topic10   715.482605        care  1167.778442   2.0149  -5.5688\n",
              "1251   Topic10   532.166321    reporter   634.706848   2.3286  -5.8648\n",
              "3734   Topic10   595.257690      parent   891.359558   2.1010  -5.7527\n",
              "2086   Topic10   521.202698        boom   622.395203   2.3273  -5.8856\n",
              "2285   Topic10   592.897949        wall  1064.030762   1.9200  -5.7567\n",
              "5715   Topic10   537.730896       mount  1026.069092   1.8587  -5.8544\n",
              "442    Topic10   537.321411         say  5999.645996   0.0919  -5.8551\n",
              "\n",
              "[572 rows x 6 columns], token_table=      Topic      Freq         Term\n",
              "term                              \n",
              "2857      1  0.999206       abbott\n",
              "5081      1  0.001249          abc\n",
              "5081      3  0.885647          abc\n",
              "5081      7  0.101134          abc\n",
              "5081      8  0.011237          abc\n",
              "5081      9  0.000416          abc\n",
              "2118      1  0.093654        abuse\n",
              "2118      2  0.596836        abuse\n",
              "2118      5  0.203933        abuse\n",
              "2118      6  0.002771        abuse\n",
              "2118      7  0.011637        abuse\n",
              "2118      8  0.091437        abuse\n",
              "994       1  0.001282     accident\n",
              "994       5  0.997337     accident\n",
              "231       1  0.077852       accuse\n",
              "231       2  0.692372       accuse\n",
              "231       3  0.005928       accuse\n",
              "231       4  0.000395       accuse\n",
              "231       5  0.078247       accuse\n",
              "231       6  0.014622       accuse\n",
              "231       7  0.016598       accuse\n",
              "231       8  0.011065       accuse\n",
              "231       9  0.043866       accuse\n",
              "231      10  0.059278       accuse\n",
              "4421      5  0.999203         adam\n",
              "4686      5  0.998887  afghanistan\n",
              "602       1  0.001557          afl\n",
              "602       2  0.008821          afl\n",
              "602       3  0.012453          afl\n",
              "602       5  0.000519          afl\n",
              "...     ...       ...          ...\n",
              "462       2  0.000312        world\n",
              "462       3  0.062390        world\n",
              "462       4  0.557455        world\n",
              "462       5  0.005615        world\n",
              "462       6  0.065198        world\n",
              "462       7  0.022460        world\n",
              "462       8  0.119165        world\n",
              "462       9  0.106999        world\n",
              "462      10  0.047728        world\n",
              "2379      7  0.997499        worst\n",
              "5593      6  0.999264         wrap\n",
              "1415      1  0.002552        wrong\n",
              "1415      7  0.995368        wrong\n",
              "1304      1  0.065990         year\n",
              "1304      2  0.176940         year\n",
              "1304      3  0.304932         year\n",
              "1304      4  0.118202         year\n",
              "1304      6  0.048586         year\n",
              "1304      7  0.089195         year\n",
              "1304      8  0.086657         year\n",
              "1304      9  0.060551         year\n",
              "1304     10  0.048586         year\n",
              "1487      5  0.999089           yo\n",
              "417       3  0.060973      zealand\n",
              "417       4  0.835549      zealand\n",
              "417       6  0.055327      zealand\n",
              "417       8  0.010162      zealand\n",
              "417       9  0.036132      zealand\n",
              "417      10  0.001129      zealand\n",
              "5570      2  0.999112          zoo\n",
              "\n",
              "[1564 rows x 3 columns], R=30, lambda_step=0.01, plot_opts={'xlab': 'PC1', 'ylab': 'PC2'}, topic_order=[7, 8, 1, 9, 6, 10, 2, 4, 3, 5])"
            ]
          },
          "metadata": {
            "tags": []
          },
          "execution_count": 57
        }
      ]
    }
  ]
}