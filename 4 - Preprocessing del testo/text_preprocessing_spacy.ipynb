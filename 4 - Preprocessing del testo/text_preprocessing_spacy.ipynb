{
  "nbformat": 4,
  "nbformat_minor": 0,
  "metadata": {
    "colab": {
      "name": "text_preprocessing_spacy.ipynb",
      "version": "0.3.2",
      "provenance": [],
      "include_colab_link": true
    },
    "kernelspec": {
      "name": "python3",
      "display_name": "Python 3"
    }
  },
  "cells": [
    {
      "cell_type": "markdown",
      "metadata": {
        "id": "view-in-github",
        "colab_type": "text"
      },
      "source": [
        "<a href=\"https://colab.research.google.com/github/ProfAI/nlp00/blob/master/4%20-%20Preprocessing%20del%20testo/text_preprocessing_spacy.ipynb\" target=\"_parent\"><img src=\"https://colab.research.google.com/assets/colab-badge.svg\" alt=\"Open In Colab\"/></a>"
      ]
    },
    {
      "metadata": {
        "id": "r9lp6Cf0pa2M",
        "colab_type": "text"
      },
      "cell_type": "markdown",
      "source": [
        "# Preprocessing del testo con Spacy\n",
        "\n",
        "In questo notebook vedremo come possiamo eseguire la tokenizzazione, la rimozione delle stopwords e la lemmatizzazione con [Spacy](https://spacy.io/), una libreria Python per il natural language processing ad alte prestazioni progettata per essere utilizzata in produzione.\n",
        "Spacy adotta una politica del tipo \"pochi ma buoni\", cioè implementa solamente la tecnica più peformante per ogni tipo di operazione, per questo motivo spacy non implementa una funzione per lo stemming dato che queste solitamente portano a risultati più scarsi rispetto alla lemmatizzazione. "
      ]
    },
    {
      "metadata": {
        "id": "B0MMYiLYt-kH",
        "colab_type": "text"
      },
      "cell_type": "markdown",
      "source": [
        "## Caricare un modello linguistico\n",
        "Per utilizzare Spacy dobbiamo prima scaricare e installare il modello per la lingua che vogliamo utilizzare, Spacy supporta oltre 49 lingue, [qui puoi trovare l'elenco completo con i relativi modelli](https://spacy.io/usage/models). Scarichiamo ed installiamo il modello per la lingua inglese."
      ]
    },
    {
      "metadata": {
        "id": "-gM65Yu2pWdB",
        "colab_type": "code",
        "colab": {
          "base_uri": "https://localhost:8080/",
          "height": 34
        },
        "outputId": "ce87aafc-50f8-40e2-812c-b5c7e9ee4e88"
      },
      "cell_type": "code",
      "source": [
        "import spacy\n",
        "\n",
        "nlp = spacy.load(\"en_core_web_sm\")\n",
        "type(nlp)"
      ],
      "execution_count": 2,
      "outputs": [
        {
          "output_type": "execute_result",
          "data": {
            "text/plain": [
              "spacy.lang.en.English"
            ]
          },
          "metadata": {
            "tags": []
          },
          "execution_count": 2
        }
      ]
    },
    {
      "metadata": {
        "id": "lZC5qfmCu0W_",
        "colab_type": "text"
      },
      "cell_type": "markdown",
      "source": [
        "L'output della funzione load è un'oggetto di tipo *Language*, che possiamo utilizzare per processare il nostro testo."
      ]
    },
    {
      "metadata": {
        "id": "Ry8GhJMAum-D",
        "colab_type": "code",
        "colab": {
          "base_uri": "https://localhost:8080/",
          "height": 34
        },
        "outputId": "77641dce-a74a-48e1-9605-fd4a54b831c6"
      },
      "cell_type": "code",
      "source": [
        "doc = nlp(\"That's was a great play by you\")\n",
        "type(doc)"
      ],
      "execution_count": 13,
      "outputs": [
        {
          "output_type": "execute_result",
          "data": {
            "text/plain": [
              "spacy.tokens.doc.Doc"
            ]
          },
          "metadata": {
            "tags": []
          },
          "execution_count": 13
        }
      ]
    },
    {
      "metadata": {
        "id": "G5Ej3mQ7vmWN",
        "colab_type": "text"
      },
      "cell_type": "markdown",
      "source": [
        "doc è un oggetto contentente il testo già processato, cosa vuol dire questo ? Che operazioni come tokenizzazione e lemmatizzazione sono già state eseguite e possiamo utilizzare degli appositi attributi per accedere ai risultati."
      ]
    },
    {
      "metadata": {
        "id": "JqIaTSlyv7rf",
        "colab_type": "text"
      },
      "cell_type": "markdown",
      "source": [
        "## Tokenizzazione\n",
        "Possiamo accedere ai singoli token utilizzando l'attributo *.text*"
      ]
    },
    {
      "metadata": {
        "id": "jdpkGGOnwA0Y",
        "colab_type": "code",
        "colab": {
          "base_uri": "https://localhost:8080/",
          "height": 223
        },
        "outputId": "44823698-fcc1-4c13-ac09-4dfd56aab0ef"
      },
      "cell_type": "code",
      "source": [
        "print(\"Primo token: %s\" % doc[0].text)\n",
        "print(\"Ultimo token: %s\" % doc[-1].text)\n",
        "\n",
        "print(\"\\n\")\n",
        "\n",
        "for token in doc:\n",
        "    print(token.text)"
      ],
      "execution_count": 14,
      "outputs": [
        {
          "output_type": "stream",
          "text": [
            "Primo token: That\n",
            "Ultimo token: you\n",
            "\n",
            "\n",
            "That\n",
            "'s\n",
            "was\n",
            "a\n",
            "great\n",
            "play\n",
            "by\n",
            "you\n"
          ],
          "name": "stdout"
        }
      ]
    },
    {
      "metadata": {
        "id": "bghHedW5wx3I",
        "colab_type": "text"
      },
      "cell_type": "markdown",
      "source": [
        "## Lemmatizzazione\n",
        "Possiamo accedere al lemma di ogni parola tramite l'attributo *.lemma_*"
      ]
    },
    {
      "metadata": {
        "id": "G7pBilBTw5AX",
        "colab_type": "code",
        "colab": {
          "base_uri": "https://localhost:8080/",
          "height": 171
        },
        "outputId": "89c5230e-80a7-40ac-a8cd-dd2f16b26403"
      },
      "cell_type": "code",
      "source": [
        "print(\"TOKEN\\t\\tLEMMA\")\n",
        "\n",
        "for token in doc:\n",
        "  print(\"%s\\t\\t%s\" % (token.text, token.lemma_))"
      ],
      "execution_count": 15,
      "outputs": [
        {
          "output_type": "stream",
          "text": [
            "TOKEN\t\tLEMMA\n",
            "That\t\tthat\n",
            "'s\t\tbe\n",
            "was\t\tbe\n",
            "a\t\ta\n",
            "great\t\tgreat\n",
            "play\t\tplay\n",
            "by\t\tby\n",
            "you\t\t-PRON-\n"
          ],
          "name": "stdout"
        }
      ]
    },
    {
      "metadata": {
        "id": "V45mT4wmxG6h",
        "colab_type": "text"
      },
      "cell_type": "markdown",
      "source": [
        "**NOTA BENE**\n",
        "<br>\n",
        "Utilizzando l'attributo *.lemma*, quindi senza trattino basso (_), accediamo agli hash che codificano i lemma all'interno del dizionario di Spacy, non penso che tu avrai mai bisogno degli hash ma ti do questa informazione perché potresti scordarti di inserire il _ e non comprendere cosa sono tutti quei numeri che vengono fuori (esperienza personale :) )"
      ]
    },
    {
      "metadata": {
        "id": "6kV10_71vcOc",
        "colab_type": "code",
        "colab": {
          "base_uri": "https://localhost:8080/",
          "height": 137
        },
        "outputId": "c3a5a344-e7b0-4821-d600-5d603f42d9a0"
      },
      "cell_type": "code",
      "source": [
        "print(\"TOKEN\\t\\tLEMMA\\t\\tHASH\")\n",
        "\n",
        "for token in doc:\n",
        "  print(\"%s\\t\\t%s\\t\\t%s\" % (token.text, token.lemma_, token.lemma))"
      ],
      "execution_count": 12,
      "outputs": [
        {
          "output_type": "stream",
          "text": [
            "TOKEN\t\tLEMMA\t\tHASH\n",
            "Oggi\t\toggi\t\t17614277661325545673\n",
            "è\t\tè\t\t2776894843003769526\n",
            "una\t\tuna\t\t1019041181156623609\n",
            "bella\t\tbella\t\t13216112095347761205\n",
            "giornata\t\tgiornata\t\t17836454894616729716\n",
            "d'estate\t\td'estate\t\t15908858988313781370\n"
          ],
          "name": "stdout"
        }
      ]
    },
    {
      "metadata": {
        "id": "kX4RTKLPyTGM",
        "colab_type": "text"
      },
      "cell_type": "markdown",
      "source": [
        "## Stop words\n",
        "Anche Spacy ci mette a disposizione un'elenco di stop words, più corposo di quello di NLTK."
      ]
    },
    {
      "metadata": {
        "id": "E7NJG1zDxmhZ",
        "colab_type": "code",
        "colab": {
          "base_uri": "https://localhost:8080/",
          "height": 51
        },
        "outputId": "14bf3471-a02f-4a58-df45-33093122b242"
      },
      "cell_type": "code",
      "source": [
        "stopwords = nlp.Defaults.stop_words\n",
        "\n",
        "print(type(stopwords))\n",
        "\n",
        "print(\"Stop words totali: %d\" % len(stopwords))"
      ],
      "execution_count": 17,
      "outputs": [
        {
          "output_type": "stream",
          "text": [
            "<class 'set'>\n",
            "Stop words totali: 305\n"
          ],
          "name": "stdout"
        }
      ]
    },
    {
      "metadata": {
        "id": "ylPkeldSyrUx",
        "colab_type": "text"
      },
      "cell_type": "markdown",
      "source": [
        "Le stop words vengono tornate all'interno di un set, che è un formato conveniente per eseguire operazioni di sottrazione tra insiemi, se vogliamo utilizzare l'indexing per stampare una parte del set dobbiamo convertirlo in una lista. "
      ]
    },
    {
      "metadata": {
        "id": "tpKlr8VgypCd",
        "colab_type": "code",
        "colab": {
          "base_uri": "https://localhost:8080/",
          "height": 34
        },
        "outputId": "7b5ad53a-0f2d-41bd-e25a-3a0d68783e72"
      },
      "cell_type": "code",
      "source": [
        "print(\"Prime 10 stop words: %s\" % list(stopwords)[:10])"
      ],
      "execution_count": 18,
      "outputs": [
        {
          "output_type": "stream",
          "text": [
            "Prime 10 stop words: ['somewhere', 'they', 'or', 'ten', 'it', 'sixty', 'elsewhere', 'everyone', 'ourselves', 'serious']\n"
          ],
          "name": "stdout"
        }
      ]
    },
    {
      "metadata": {
        "id": "Xwn-jr-NzJW7",
        "colab_type": "text"
      },
      "cell_type": "markdown",
      "source": [
        "Con Spacy non abbiamo bisogno di effettuare la rimozione delle stop words manualmente, dato che anche questo viene eseguito durante la creazione dell'oggetto *Doc*, possiamo vedere se un token è una stop words con l'attributo *is_stop*."
      ]
    },
    {
      "metadata": {
        "id": "OhwU3Epgy7Cg",
        "colab_type": "code",
        "colab": {
          "base_uri": "https://localhost:8080/",
          "height": 171
        },
        "outputId": "f421f331-5748-4fa2-df85-1d008fd9a48b"
      },
      "cell_type": "code",
      "source": [
        "print(\"TOKEN\\t\\tIS STOP\")\n",
        "\n",
        "for token in doc:\n",
        "  print(\"%s\\t\\t%s\" % (token.text, token.is_stop))"
      ],
      "execution_count": 25,
      "outputs": [
        {
          "output_type": "stream",
          "text": [
            "TOKEN\t\tIS STOP\n",
            "That\t\tFalse\n",
            "'s\t\tFalse\n",
            "was\t\tTrue\n",
            "a\t\tTrue\n",
            "great\t\tFalse\n",
            "play\t\tFalse\n",
            "by\t\tTrue\n",
            "you\t\tTrue\n"
          ],
          "name": "stdout"
        }
      ]
    },
    {
      "metadata": {
        "id": "0aFU8F8Szxm-",
        "colab_type": "text"
      },
      "cell_type": "markdown",
      "source": [
        "Quindi per rimuovere le stop words possiamo controllare tale attributo."
      ]
    },
    {
      "metadata": {
        "id": "BEasenskzHqa",
        "colab_type": "code",
        "colab": {
          "base_uri": "https://localhost:8080/",
          "height": 34
        },
        "outputId": "c4e8915c-6325-4c53-f8ca-6698bc2a3738"
      },
      "cell_type": "code",
      "source": [
        "tokens_filtered = []\n",
        "\n",
        "for token in doc:\n",
        "  if(not token.is_stop):\n",
        "    tokens_filtered.append(token)\n",
        "\n",
        "print(tokens_filtered)"
      ],
      "execution_count": 24,
      "outputs": [
        {
          "output_type": "stream",
          "text": [
            "[That, 's, great, play]\n"
          ],
          "name": "stdout"
        }
      ]
    },
    {
      "metadata": {
        "id": "dzZPEN7r0rQ-",
        "colab_type": "text"
      },
      "cell_type": "markdown",
      "source": [
        "## Un'esempio in Italiano\n",
        "Facciamo adesso un'esempio in italiano. Installiamo il modello per la lingua italiana."
      ]
    },
    {
      "metadata": {
        "id": "21xGYssE0-eP",
        "colab_type": "code",
        "colab": {
          "base_uri": "https://localhost:8080/",
          "height": 260
        },
        "outputId": "38be1394-8ca2-46b0-ba4c-901290ec0a09"
      },
      "cell_type": "code",
      "source": [
        "!python -m spacy download it_core_news_sm"
      ],
      "execution_count": 27,
      "outputs": [
        {
          "output_type": "stream",
          "text": [
            "Collecting it_core_news_sm==2.0.0 from https://github.com/explosion/spacy-models/releases/download/it_core_news_sm-2.0.0/it_core_news_sm-2.0.0.tar.gz#egg=it_core_news_sm==2.0.0\n",
            "\u001b[?25l  Downloading https://github.com/explosion/spacy-models/releases/download/it_core_news_sm-2.0.0/it_core_news_sm-2.0.0.tar.gz (36.5MB)\n",
            "\u001b[K    100% |████████████████████████████████| 36.5MB 110.7MB/s \n",
            "\u001b[?25hInstalling collected packages: it-core-news-sm\n",
            "  Running setup.py install for it-core-news-sm ... \u001b[?25ldone\n",
            "\u001b[?25hSuccessfully installed it-core-news-sm-2.0.0\n",
            "\n",
            "\u001b[93m    Linking successful\u001b[0m\n",
            "    /usr/local/lib/python3.6/dist-packages/it_core_news_sm -->\n",
            "    /usr/local/lib/python3.6/dist-packages/spacy/data/it_core_news_sm\n",
            "\n",
            "    You can now load the model via spacy.load('it_core_news_sm')\n",
            "\n"
          ],
          "name": "stdout"
        }
      ]
    },
    {
      "metadata": {
        "id": "4YmRWaFw1FII",
        "colab_type": "text"
      },
      "cell_type": "markdown",
      "source": [
        "e carichiamolo"
      ]
    },
    {
      "metadata": {
        "id": "M3-f9goW0HmG",
        "colab_type": "code",
        "colab": {
          "base_uri": "https://localhost:8080/",
          "height": 34
        },
        "outputId": "ef9ab477-79b9-40fd-ee82-23276ab2d66d"
      },
      "cell_type": "code",
      "source": [
        "import spacy\n",
        "\n",
        "nlp = spacy.load(\"it_core_news_sm\")\n",
        "type(nlp)"
      ],
      "execution_count": 28,
      "outputs": [
        {
          "output_type": "execute_result",
          "data": {
            "text/plain": [
              "spacy.lang.it.Italian"
            ]
          },
          "metadata": {
            "tags": []
          },
          "execution_count": 28
        }
      ]
    },
    {
      "metadata": {
        "id": "LFDrDPoj1ISr",
        "colab_type": "text"
      },
      "cell_type": "markdown",
      "source": [
        "creiamo il documento e vediamo i tokens, i lemma e le stop words."
      ]
    },
    {
      "metadata": {
        "id": "HJUit_tf052A",
        "colab_type": "code",
        "colab": {
          "base_uri": "https://localhost:8080/",
          "height": 240
        },
        "outputId": "9c1cddf1-fcde-4546-9d1e-c0848c5515ab"
      },
      "cell_type": "code",
      "source": [
        "doc = nlp(\"Oggi è una giornata afosa, ho voglia di una granita fresca\")\n",
        "\n",
        "print(\"TOKEN\\t\\tLEMMA\\t\\tIS STOP\")\n",
        "\n",
        "for token in doc:\n",
        "  print(\"%s\\t\\t%s\\t\\t%s\" % (token.text, token.lemma_, token.is_stop))"
      ],
      "execution_count": 31,
      "outputs": [
        {
          "output_type": "stream",
          "text": [
            "TOKEN\t\tLEMMA\t\tIS STOP\n",
            "Oggi\t\tOggi\t\tFalse\n",
            "è\t\tessere\t\tFalse\n",
            "una\t\tuna\t\tTrue\n",
            "giornata\t\tgiornata\t\tFalse\n",
            "afosa\t\tafoso\t\tFalse\n",
            ",\t\t,\t\tFalse\n",
            "ho\t\tavere\t\tTrue\n",
            "voglia\t\tvolere\t\tFalse\n",
            "di\t\tdi\t\tTrue\n",
            "una\t\tuna\t\tTrue\n",
            "granita\t\tgranire\t\tFalse\n",
            "fresca\t\tfresco\t\tFalse\n"
          ],
          "name": "stdout"
        }
      ]
    },
    {
      "metadata": {
        "id": "4x2fbGTi1sHJ",
        "colab_type": "code",
        "colab": {}
      },
      "cell_type": "code",
      "source": [
        ""
      ],
      "execution_count": 0,
      "outputs": []
    }
  ]
}