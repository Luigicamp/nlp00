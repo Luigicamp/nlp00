{
  "nbformat": 4,
  "nbformat_minor": 0,
  "metadata": {
    "colab": {
      "name": "dante_RNN.ipynb",
      "version": "0.3.2",
      "provenance": [],
      "include_colab_link": true
    },
    "kernelspec": {
      "name": "python3",
      "display_name": "Python 3"
    },
    "accelerator": "GPU"
  },
  "cells": [
    {
      "cell_type": "markdown",
      "metadata": {
        "id": "view-in-github",
        "colab_type": "text"
      },
      "source": [
        "<a href=\"https://colab.research.google.com/github/ProfAI/nlp00/blob/master/8%20-%20Chatbot/dante_RNN.ipynb\" target=\"_parent\"><img src=\"https://colab.research.google.com/assets/colab-badge.svg\" alt=\"Open In Colab\"/></a>"
      ]
    },
    {
      "metadata": {
        "id": "q3cb6BFDHJ44",
        "colab_type": "code",
        "colab": {
          "base_uri": "https://localhost:8080/",
          "height": 226
        },
        "outputId": "babe69d9-c446-469c-93d3-d974e870fddd"
      },
      "cell_type": "code",
      "source": [
        "!wget https://www.liberliber.it/mediateca/libri/a/alighieri/la_divina_commedia/txt/la_divin.zip"
      ],
      "execution_count": 3,
      "outputs": [
        {
          "output_type": "stream",
          "text": [
            "--2019-04-20 16:34:03--  https://www.liberliber.it/mediateca/libri/a/alighieri/la_divina_commedia/txt/la_divin.zip\n",
            "Resolving www.liberliber.it (www.liberliber.it)... 93.186.244.67\n",
            "Connecting to www.liberliber.it (www.liberliber.it)|93.186.244.67|:443... connected.\n",
            "HTTP request sent, awaiting response... 200 OK\n",
            "Length: 232691 (227K) [application/zip]\n",
            "Saving to: ‘la_divin.zip’\n",
            "\n",
            "la_divin.zip        100%[===================>] 227.24K   462KB/s    in 0.5s    \n",
            "\n",
            "2019-04-20 16:34:05 (462 KB/s) - ‘la_divin.zip’ saved [232691/232691]\n",
            "\n"
          ],
          "name": "stdout"
        }
      ]
    },
    {
      "metadata": {
        "id": "_kJMMCZmIgvK",
        "colab_type": "code",
        "colab": {
          "base_uri": "https://localhost:8080/",
          "height": 51
        },
        "outputId": "badc7e3e-7273-4c1a-f5e3-615d665fbcf9"
      },
      "cell_type": "code",
      "source": [
        "!unzip la_divin.zip"
      ],
      "execution_count": 4,
      "outputs": [
        {
          "output_type": "stream",
          "text": [
            "Archive:  la_divin.zip\n",
            "  inflating: la_divin.txt            \n"
          ],
          "name": "stdout"
        }
      ]
    },
    {
      "metadata": {
        "id": "r6Jb2lDdJ4rJ",
        "colab_type": "code",
        "colab": {
          "base_uri": "https://localhost:8080/",
          "height": 103
        },
        "outputId": "3625b768-f753-4cff-c5b9-1728eb9db381"
      },
      "cell_type": "code",
      "source": [
        "with open(\"la_divin.txt\", encoding=\"latin-1\") as divine_file:\n",
        "  divine_txt = divine_file.read()\n",
        "  \n",
        "print(divine_txt[:100])"
      ],
      "execution_count": 5,
      "outputs": [
        {
          "output_type": "stream",
          "text": [
            "Dante Alighieri\n",
            "La Divina Commedia\n",
            "\n",
            "Questo e-book è stato realizzato anche grazie al sostegno di:\n",
            "E-\n"
          ],
          "name": "stdout"
        }
      ]
    },
    {
      "metadata": {
        "id": "l8fKWhRlKLPR",
        "colab_type": "code",
        "colab": {
          "base_uri": "https://localhost:8080/",
          "height": 68
        },
        "outputId": "6f236531-269a-4f13-9ca9-db52db2b1841"
      },
      "cell_type": "code",
      "source": [
        "start = divine_txt.find(\"Nel mezzo del cammin di nostra vita\")\n",
        "end = divine_txt.find(\"l'amor che move il sole e l'altre stelle.\")\n",
        "\n",
        "divine_txt = divine_txt[start:end]\n",
        "\n",
        "print(divine_txt[:100])"
      ],
      "execution_count": 6,
      "outputs": [
        {
          "output_type": "stream",
          "text": [
            "Nel mezzo del cammin di nostra vita\n",
            "mi ritrovai per una selva oscura,\n",
            "ché la diritta via era smarrit\n"
          ],
          "name": "stdout"
        }
      ]
    },
    {
      "metadata": {
        "id": "R_WfHALrSGQG",
        "colab_type": "code",
        "colab": {}
      },
      "cell_type": "code",
      "source": [
        "import re\n",
        "\n",
        "divine_txt = re.sub(\"[\\(\\[].*?[\\)\\]]\", \"\", divine_txt)\n",
        "divine_txt = re.sub(\"[A-Z][A-Z]+\",\"\",divine_txt)\n",
        "\n",
        "divine_txt = divine_txt.replace(\"di Dante Alighieri\",\"\")\n",
        "\n",
        "divine_txt = divine_txt.replace(\"\\n\",\" \")\n",
        "divine_txt = divine_txt.lower()"
      ],
      "execution_count": 0,
      "outputs": []
    },
    {
      "metadata": {
        "id": "pPfFyPhvQQ7F",
        "colab_type": "code",
        "colab": {
          "base_uri": "https://localhost:8080/",
          "height": 54
        },
        "outputId": "23057c91-8d36-4239-89fb-e3e46de91564"
      },
      "cell_type": "code",
      "source": [
        "\"\"\"\n",
        "import string\n",
        "\n",
        "divine_txt = re.sub(r'[^\\w\\s]','',divine_txt)\n",
        "divine_txt = divine_txt.replace(\"\\n\",\" \")\n",
        "divine_txt = divine_txt.lower()\n",
        "\n",
        "print(divine_txt[:100])\n",
        "\"\"\""
      ],
      "execution_count": 59,
      "outputs": [
        {
          "output_type": "stream",
          "text": [
            "['Nel mezzo del cammin di nostra vita\\nmi ritrovai per una selva oscura,\\nché la diritta via era smarrita', \"\\nAhi quanto a dir qual era è cosa dura\\nesta selva selvaggia e aspra e forte\\nche nel pensier rinova la paura!\\nTant' è amara che poco è più morte;\\nma per trattar del ben ch'i' vi trovai,\\ndirò de l'altre cose ch'i' v'ho scorte\", \"\\nIo non so ben ridir com' i' v'intrai,\\ntant' era pien di sonno a quel punto\\nche la verace via abbandonai\", \"\\nMa poi ch'i' fui al piè d'un colle giunto,\\nlà dove terminava quella valle\\nche m'avea di paura il cor compunto,\\nguardai in alto e vidi le sue spalle\\nvestite già de' raggi del pianeta\\nche mena dritto altrui per ogne calle\", \"\\nAllor fu la paura un poco queta,\\nche nel lago del cor m'era durata\\nla notte ch'i' passai con tanta pieta\", \"\\nE come quei che con lena affannata,\\nuscito fuor del pelago a la riva,\\nsi volge a l'acqua perigliosa e guata,\\ncosì l'animo mio, ch'ancor fuggiva,\\nsi volse a retro a rimirar lo passo\\nche non lasciò già mai persona viva\", \"\\nPoi ch'èi posato un poco il corpo lasso,\\nripresi via per la piaggia diserta,\\nsì che 'l piè fermo sempre era 'l più basso\", \"\\nEd ecco, quasi al cominciar de l'erta,\\nuna lonza leggiera e presta molto,\\nche di pel macolato era coverta;\\ne non mi si partia dinanzi al volto,\\nanzi 'mpediva tanto il mio cammino,\\nch'i' fui per ritornar più volte vòlto\", \"\\nTemp' era dal principio del mattino,\\ne 'l sol montava 'n sù con quelle stelle\\nch'eran con lui quando l'amor divino\\nmosse di prima quelle cose belle;\\nsì ch'a bene sperar m'era cagione\\ndi quella fiera a la gaetta pelle\\nl'ora del tempo e la dolce stagione;\\nma non sì che paura non mi desse\\nla vista che m'apparve d'un leone\", \"\\nQuesti parea che contra me venisse\\ncon la test' alta e con rabbiosa fame,\\nsì che parea che l'aere ne tremesse\", \"\\nEd una lupa, che di tutte brame\\nsembiava carca ne la sua magrezza,\\ne molte genti fé già viver grame,\\nquesta mi porse tanto di gravezza\\ncon la paura ch'uscia di sua vista,\\nch'io perdei la speranza de l'altezza\", \"\\nE qual è quei che volontieri acquista,\\ne giugne 'l tempo che perder lo face,\\nche 'n tutti suoi pensier piange e s'attrista;\\ntal mi fece la bestia sanza pace,\\nche, venendomi 'ncontro, a poco a poco\\nmi ripigneva là dove 'l sol tace\", \"\\nMentre ch'i' rovinava in basso loco,\\ndinanzi a li occhi mi si fu offerto\\nchi per lungo silenzio parea fioco\", '\\nQuando vidi costui nel gran diserto,\\n«Miserere di me», gridai a lui,\\n«qual che tu sii, od ombra od omo certo!»', '\\nRispuosemi: «Non omo, omo già fui,\\ne li parenti miei furon lombardi,\\nmantoani per patrïa ambedui', \"\\nNacqui sub Iulio, ancor che fosse tardi,\\ne vissi a Roma sotto 'l buono Augusto\\nnel tempo de li dèi falsi e bugiardi\", \"\\nPoeta fui, e cantai di quel giusto\\nfigliuol d'Anchise che venne di Troia,\\npoi che 'l superbo Ilïón fu combusto\", \"\\nMa tu perché ritorni a tanta noia?\\nperché non sali il dilettoso monte\\nch'è principio e cagion di tutta gioia?»\", \"\\n«Or se' tu quel Virgilio e quella fonte\\nche spandi di parlar sì largo fiume?»,\\nrispuos' io lui con vergognosa fronte\", \"\\n«O de li altri poeti onore e lume,\\nvagliami 'l lungo studio e 'l grande amore\\nche m'ha fatto cercar lo tuo volume\", \"\\nTu se' lo mio maestro e 'l mio autore,\\ntu se' solo colui da cu' io tolsi\\nlo bello stilo che m'ha fatto onore\", \"\\nVedi la bestia per cu' io mi volsi;\\naiutami da lei, famoso saggio,\\nch'ella mi fa tremar le vene e i polsi»\", \"\\n«A te convien tenere altro vïaggio»,\\nrispuose, poi che lagrimar mi vide,\\n«se vuo' campar d'esto loco selvaggio;\\nché questa bestia, per la qual tu gride,\\nnon lascia altrui passar per la sua via,\\nma tanto lo 'mpedisce che l'uccide;\\ne ha natura sì malvagia e ria,\\nche mai non empie la bramosa voglia,\\ne dopo 'l pasto ha più fame che pria\", \"\\nMolti son li animali a cui s'ammoglia,\\ne più saranno ancora, infin che 'l veltro\\nverrà, che la farà morir con doglia\", '\\nQuesti non ciberà terra né peltro,\\nma sapïenza, amore e virtute,\\ne sua nazion sarà tra feltro e feltro', '\\nDi quella umile Italia fia salute\\nper cui morì la vergine Cammilla,\\nEurialo e Turno e Niso di ferute', \"\\nQuesti la caccerà per ogne villa,\\nfin che l'avrà rimessa ne lo 'nferno,\\nlà onde 'nvidia prima dipartilla\", \"\\nOnd' io per lo tuo me' penso e discerno\\nche tu mi segui, e io sarò tua guida,\\ne trarrotti di qui per loco etterno;\\nove udirai le disperate strida,\\nvedrai li antichi spiriti dolenti,\\nch'a la seconda morte ciascun grida;\\ne vederai color che son contenti\\nnel foco, perché speran di venire\\nquando che sia a le beate genti\", \"\\nA le quai poi se tu vorrai salire,\\nanima fia a ciò più di me degna:\\ncon lei ti lascerò nel mio partire;\\nché quello imperador che là sù regna,\\nperch' i' fu' ribellante a la sua legge,\\nnon vuol che 'n sua città per me si vegna\", \"\\nIn tutte parti impera e quivi regge;\\nquivi è la sua città e l'alto seggio:\\noh felice colui cu' ivi elegge!»\", \"\\nE io a lui: «Poeta, io ti richeggio\\nper quello Dio che tu non conoscesti,\\na ciò ch'io fugga questo male e peggio,\\nche tu mi meni là dov' or dicesti,\\nsì ch'io veggia la porta di san Pietro\\ne color cui tu fai cotanto mesti»\", '\\nAllor si mosse, e io li tenni dietro', \"\\n\\n \\n\\n\\n\\nLo giorno se n'andava, e l'aere bruno\\ntoglieva li animai che sono in terra\\nda le fatiche loro; e io sol uno\\nm'apparecchiava a sostener la guerra\\nsì del cammino e sì de la pietate,\\nche ritrarrà la mente che non erra\", \"\\nO muse, o alto ingegno, or m'aiutate;\\no mente che scrivesti ciò ch'io vidi,\\nqui si parrà la tua nobilitate\", \"\\nIo cominciai: «Poeta che mi guidi,\\nguarda la mia virtù s'ell' è possente,\\nprima ch'a l'alto passo tu mi fidi\", '\\nTu dici che di Silvïo il parente,\\ncorruttibile ancora, ad immortale\\nsecolo andò, e fu sensibilmente', \"\\nPerò, se l'avversario d'ogne male\\ncortese i fu, pensando l'alto effetto\\nch'uscir dovea di lui, e 'l chi e 'l quale\\nnon pare indegno ad omo d'intelletto;\\nch'e' fu de l'alma Roma e di suo impero\\nne l'empireo ciel per padre eletto:\\nla quale e 'l quale, a voler dir lo vero,\\nfu stabilita per lo loco santo\\nu' siede il successor del maggior Piero\", \"\\nPer quest' andata onde li dai tu vanto,\\nintese cose che furon cagione\\ndi sua vittoria e del papale ammanto\", \"\\nAndovvi poi lo Vas d'elezïone,\\nper recarne conforto a quella fede\\nch'è principio a la via di salvazione\", \"\\nMa io, perché venirvi? o chi 'l concede?\\nIo non Enëa, io non Paulo sono;\\nme degno a ciò né io né altri 'l crede\", \"\\nPer che, se del venire io m'abbandono,\\ntemo che la venuta non sia folle\", \"\\nSe' savio; intendi me' ch'i' non ragiono»\", \"\\nE qual è quei che disvuol ciò che volle\\ne per novi pensier cangia proposta,\\nsì che dal cominciar tutto si tolle,\\ntal mi fec' ïo 'n quella oscura costa,\\nperché, pensando, consumai la 'mpresa\\nche fu nel cominciar cotanto tosta\", \"\\n«S'i' ho ben la parola tua intesa»,\\nrispuose del magnanimo quell' ombra,\\n«l'anima tua è da viltade offesa;\\nla qual molte fïate l'omo ingombra\\nsì che d'onrata impresa lo rivolve,\\ncome falso veder bestia quand' ombra\", \"\\nDa questa tema acciò che tu ti solve,\\ndirotti perch' io venni e quel ch'io 'ntesi\\nnel primo punto che di te mi dolve\", '\\nIo era tra color che son sospesi,\\ne donna mi chiamò beata e bella,\\ntal che di comandare io la richiesi', '\\nLucevan li occhi suoi più che la stella;\\ne cominciommi a dir soave e piana,\\ncon angelica voce, in sua favella:\\n\"O anima cortese mantoana,\\ndi cui la fama ancor nel mondo dura,\\ne durerà quanto \\'l mondo lontana,\\nl\\'amico mio, e non de la ventura,\\nne la diserta piaggia è impedito\\nsì nel cammin, che vòlt\\' è per paura;\\ne temo che non sia già sì smarrito,\\nch\\'io mi sia tardi al soccorso levata,\\nper quel ch\\'i\\' ho di lui nel cielo udito', \"\\nOr movi, e con la tua parola ornata\\ne con ciò c'ha mestieri al suo campare,\\nl'aiuta sì ch'i' ne sia consolata\", \"\\nI' son Beatrice che ti faccio andare;\\nvegno del loco ove tornar disio;\\namor mi mosse, che mi fa parlare\", '\\nQuando sarò dinanzi al segnor mio,\\ndi te mi loderò sovente a lui\"', '\\nTacette allora, e poi comincia\\' io:\\n\"O donna di virtù sola per cui\\nl\\'umana spezie eccede ogne contento\\ndi quel ciel c\\'ha minor li cerchi sui,\\ntanto m\\'aggrada il tuo comandamento,\\nche l\\'ubidir, se già fosse, m\\'è tardi;\\npiù non t\\'è uo\\' ch\\'aprirmi il tuo talento', '\\nMa dimmi la cagion che non ti guardi\\nde lo scender qua giuso in questo centro\\nde l\\'ampio loco ove tornar tu ardi\"', '\\n\"Da che tu vuo\\' saver cotanto a dentro,\\ndirotti brievemente\", mi rispuose,\\n\"perch\\' i\\' non temo di venir qua entro', \"\\nTemer si dee di sole quelle cose\\nc'hanno potenza di fare altrui male;\\nde l'altre no, ché non son paurose\", \"\\nI' son fatta da Dio, sua mercé, tale,\\nche la vostra miseria non mi tange,\\nné fiamma d'esto 'ncendio non m'assale\", \"\\nDonna è gentil nel ciel che si compiange\\ndi questo 'mpedimento ov' io ti mando,\\nsì che duro giudicio là sù frange\", '\\nQuesta chiese Lucia in suo dimando\\ne disse: - Or ha bisogno il tuo fedele\\ndi te, e io a te lo raccomando -', \"\\nLucia, nimica di ciascun crudele,\\nsi mosse, e venne al loco dov' i' era,\\nche mi sedea con l'antica Rachele\", \"\\nDisse: - Beatrice, loda di Dio vera,\\nché non soccorri quei che t'amò tanto,\\nch'uscì per te de la volgare schiera?\\nNon odi tu la pieta del suo pianto,\\nnon vedi tu la morte che 'l combatte\\nsu la fiumana ove 'l mar non ha vanto? -\", '\\nAl mondo non fur mai persone ratte\\na far lor pro o a fuggir lor danno,\\ncom\\' io, dopo cotai parole fatte,\\nvenni qua giù del mio beato scanno,\\nfidandomi del tuo parlare onesto,\\nch\\'onora te e quei ch\\'udito l\\'hanno\"', \"\\nPoscia che m'ebbe ragionato questo,\\nli occhi lucenti lagrimando volse,\\nper che mi fece del venir più presto\", \"\\nE venni a te così com' ella volse:\\nd'inanzi a quella fiera ti levai\\nche del bel monte il corto andar ti tolse\", \"\\nDunque: che è? perché, perché restai,\\nperché tanta viltà nel core allette,\\nperché ardire e franchezza non hai,\\nposcia che tai tre donne benedette\\ncuran di te ne la corte del cielo,\\ne 'l mio parlar tanto ben ti promette?»\", \"\\nQuali fioretti dal notturno gelo\\nchinati e chiusi, poi che 'l sol li 'mbianca,\\nsi drizzan tutti aperti in loro stelo,\\ntal mi fec' io di mia virtude stanca,\\ne tanto buono ardire al cor mi corse,\\nch'i' cominciai come persona franca:\\n«Oh pietosa colei che mi soccorse!\\ne te cortese ch'ubidisti tosto\\na le vere parole che ti porse!\\nTu m'hai con disiderio il cor disposto\\nsì al venir con le parole tue,\\nch'i' son tornato nel primo proposto\", \"\\nOr va, ch'un sol volere è d'ambedue:\\ntu duca, tu segnore e tu maestro»\", '\\nCosì li dissi; e poi che mosso fue,\\nintrai per lo cammino alto e silvestro', \"\\n\\n \\n\\n\\n\\n'Per me si va ne la città dolente,\\nper me si va ne l'etterno dolore,\\nper me si va tra la perduta gente\", \"\\nGiustizia mosse il mio alto fattore;\\nfecemi la divina podestate,\\nla somma sapïenza e 'l primo amore\", '\\nDinanzi a me non fuor cose create\\nse non etterne, e io etterno duro', \"\\nLasciate ogne speranza, voi ch'intrate'\", \"\\nQueste parole di colore oscuro\\nvid' ïo scritte al sommo d'una porta;\\nper ch'io: «Maestro, il senso lor m'è duro»\", '\\nEd elli a me, come persona accorta:\\n«Qui si convien lasciare ogne sospetto;\\nogne viltà convien che qui sia morta', \"\\nNoi siam venuti al loco ov' i' t'ho detto\\nche tu vedrai le genti dolorose\\nc'hanno perduto il ben de l'intelletto»\", \"\\nE poi che la sua mano a la mia puose\\ncon lieto volto, ond' io mi confortai,\\nmi mise dentro a le segrete cose\", \"\\nQuivi sospiri, pianti e alti guai\\nrisonavan per l'aere sanza stelle,\\nper ch'io al cominciar ne lagrimai\", \"\\nDiverse lingue, orribili favelle,\\nparole di dolore, accenti d'ira,\\nvoci alte e fioche, e suon di man con elle\\nfacevano un tumulto, il qual s'aggira\\nsempre in quell' aura sanza tempo tinta,\\ncome la rena quando turbo spira\", \"\\nE io ch'avea d'error la testa cinta,\\ndissi: «Maestro, che è quel ch'i' odo?\\ne che gent' è che par nel duol sì vinta?»\", \"\\nEd elli a me: «Questo misero modo\\ntegnon l'anime triste di coloro\\nche visser sanza 'nfamia e sanza lodo\", '\\nMischiate sono a quel cattivo coro\\nde li angeli che non furon ribelli\\nné fur fedeli a Dio, ma per sé fuoro', \"\\nCaccianli i ciel per non esser men belli,\\nné lo profondo inferno li riceve,\\nch'alcuna gloria i rei avrebber d'elli»\", '\\nE io: «Maestro, che è tanto greve\\na lor che lamentar li fa sì forte?»', '\\nRispuose: «Dicerolti molto breve', \"\\nQuesti non hanno speranza di morte,\\ne la lor cieca vita è tanto bassa,\\nche 'nvidïosi son d'ogne altra sorte\", '\\nFama di loro il mondo esser non lassa;\\nmisericordia e giustizia li sdegna:\\nnon ragioniam di lor, ma guarda e passa»', \"\\nE io, che riguardai, vidi una 'nsegna\\nche girando correva tanto ratta,\\nche d'ogne posa mi parea indegna;\\ne dietro le venìa sì lunga tratta\\ndi gente, ch'i' non averei creduto\\nche morte tanta n'avesse disfatta\", \"\\nPoscia ch'io v'ebbi alcun riconosciuto,\\nvidi e conobbi l'ombra di colui\\nche fece per viltade il gran rifiuto\", \"\\nIncontanente intesi e certo fui\\nche questa era la setta d'i cattivi,\\na Dio spiacenti e a' nemici sui\", \"\\nQuesti sciaurati, che mai non fur vivi,\\nerano ignudi e stimolati molto\\nda mosconi e da vespe ch'eran ivi\", \"\\nElle rigavan lor di sangue il volto,\\nche, mischiato di lagrime, a' lor piedi\\nda fastidiosi vermi era ricolto\", \"\\nE poi ch'a riguardar oltre mi diedi,\\nvidi genti a la riva d'un gran fiume;\\nper ch'io dissi: «Maestro, or mi concedi\\nch'i' sappia quali sono, e qual costume\\nle fa di trapassar parer sì pronte,\\ncom' i' discerno per lo fioco lume»\", \"\\nEd elli a me: «Le cose ti fier conte\\nquando noi fermerem li nostri passi\\nsu la trista riviera d'Acheronte»\", \"\\nAllor con li occhi vergognosi e bassi,\\ntemendo no 'l mio dir li fosse grave,\\ninfino al fiume del parlar mi trassi\", \"\\nEd ecco verso noi venir per nave\\nun vecchio, bianco per antico pelo,\\ngridando: «Guai a voi, anime prave!\\nNon isperate mai veder lo cielo:\\ni' vegno per menarvi a l'altra riva\\nne le tenebre etterne, in caldo e 'n gelo\", \"\\nE tu che se' costì, anima viva,\\npàrtiti da cotesti che son morti»\", \"\\nMa poi che vide ch'io non mi partiva,\\ndisse: «Per altra via, per altri porti\\nverrai a piaggia, non qui, per passare:\\npiù lieve legno convien che ti porti»\", \"\\nE 'l duca lui: «Caron, non ti crucciare:\\nvuolsi così colà dove si puote\\nciò che si vuole, e più non dimandare»\", \"\\nQuinci fuor quete le lanose gote\\nal nocchier de la livida palude,\\nche 'ntorno a li occhi avea di fiamme rote\", \"\\nMa quell' anime, ch'eran lasse e nude,\\ncangiar colore e dibattero i denti,\\nratto che 'nteser le parole crude\", \"\\nBestemmiavano Dio e lor parenti,\\nl'umana spezie e 'l loco e 'l tempo e 'l seme\\ndi lor semenza e di lor nascimenti\", \"\\nPoi si ritrasser tutte quante insieme,\\nforte piangendo, a la riva malvagia\\nch'attende ciascun uom che Dio non teme\"]\n"
          ],
          "name": "stdout"
        }
      ]
    },
    {
      "metadata": {
        "id": "1p0leKS7ed-F",
        "colab_type": "code",
        "colab": {
          "base_uri": "https://localhost:8080/",
          "height": 260
        },
        "outputId": "b9a49fd1-47c1-4378-e7c6-89ca1032ea01"
      },
      "cell_type": "code",
      "source": [
        "!python -m spacy download it_core_news_sm"
      ],
      "execution_count": 9,
      "outputs": [
        {
          "output_type": "stream",
          "text": [
            "Collecting it_core_news_sm==2.0.0 from https://github.com/explosion/spacy-models/releases/download/it_core_news_sm-2.0.0/it_core_news_sm-2.0.0.tar.gz#egg=it_core_news_sm==2.0.0\n",
            "\u001b[?25l  Downloading https://github.com/explosion/spacy-models/releases/download/it_core_news_sm-2.0.0/it_core_news_sm-2.0.0.tar.gz (36.5MB)\n",
            "\u001b[K    100% |████████████████████████████████| 36.5MB 73.7MB/s \n",
            "\u001b[?25hInstalling collected packages: it-core-news-sm\n",
            "  Running setup.py install for it-core-news-sm ... \u001b[?25ldone\n",
            "\u001b[?25hSuccessfully installed it-core-news-sm-2.0.0\n",
            "\n",
            "\u001b[93m    Linking successful\u001b[0m\n",
            "    /usr/local/lib/python3.6/dist-packages/it_core_news_sm -->\n",
            "    /usr/local/lib/python3.6/dist-packages/spacy/data/it_core_news_sm\n",
            "\n",
            "    You can now load the model via spacy.load('it_core_news_sm')\n",
            "\n"
          ],
          "name": "stdout"
        }
      ]
    },
    {
      "metadata": {
        "id": "Uw_ynE1men3a",
        "colab_type": "code",
        "colab": {
          "base_uri": "https://localhost:8080/",
          "height": 188
        },
        "outputId": "7801d3bd-6cec-47db-b1f7-c08d633e5584"
      },
      "cell_type": "code",
      "source": [
        "import spacy\n",
        "\n",
        "nlp = spacy.load(\"it_core_news_sm\")\n",
        "\n",
        "def preprocess(text):\n",
        "\n",
        "  tokens = nlp(text)\n",
        "  tokens_filtered = [token.text for token in tokens]\n",
        "  return tokens_filtered\n",
        "\n",
        "tokens = preprocess(divine_txt)\n",
        "tokens[:10]"
      ],
      "execution_count": 10,
      "outputs": [
        {
          "output_type": "execute_result",
          "data": {
            "text/plain": [
              "['nel',\n",
              " 'mezzo',\n",
              " 'del',\n",
              " 'cammin',\n",
              " 'di',\n",
              " 'nostra',\n",
              " 'vita',\n",
              " 'mi',\n",
              " 'ritrovai',\n",
              " 'per']"
            ]
          },
          "metadata": {
            "tags": []
          },
          "execution_count": 10
        }
      ]
    },
    {
      "metadata": {
        "id": "6oXESRj8dUx3",
        "colab_type": "code",
        "colab": {
          "base_uri": "https://localhost:8080/",
          "height": 51
        },
        "outputId": "5b50397c-5fe6-439a-8eeb-d8a2b48bf0d2"
      },
      "cell_type": "code",
      "source": [
        "maxlen = 10\n",
        "\n",
        "divine_sents = []\n",
        "\n",
        "for i in range(maxlen, len(tokens)):\n",
        "  divine_sents.append(tokens[i-maxlen:i])\n",
        "  \n",
        "print(divine_sents[0])\n",
        "print(divine_sents[1])"
      ],
      "execution_count": 11,
      "outputs": [
        {
          "output_type": "stream",
          "text": [
            "['nel', 'mezzo', 'del', 'cammin', 'di', 'nostra', 'vita', 'mi', 'ritrovai', 'per']\n",
            "['mezzo', 'del', 'cammin', 'di', 'nostra', 'vita', 'mi', 'ritrovai', 'per', 'una']\n"
          ],
          "name": "stdout"
        }
      ]
    },
    {
      "metadata": {
        "id": "ZLBDHWQZWpm8",
        "colab_type": "code",
        "colab": {
          "base_uri": "https://localhost:8080/",
          "height": 51
        },
        "outputId": "3ee063b1-762f-42d3-d2ca-e0f6defba5ea"
      },
      "cell_type": "code",
      "source": [
        "from keras.preprocessing.text import Tokenizer\n",
        "\n",
        "tokenizer = Tokenizer()\n",
        "tokenizer.fit_on_texts(divine_sents)\n",
        "divine_sents = tokenizer.texts_to_sequences(divine_sents)\n",
        "\n",
        "divine_sents[0]"
      ],
      "execution_count": 12,
      "outputs": [
        {
          "output_type": "stream",
          "text": [
            "Using TensorFlow backend.\n"
          ],
          "name": "stderr"
        },
        {
          "output_type": "execute_result",
          "data": {
            "text/plain": [
              "[44, 234, 31, 617, 8, 196, 164, 22, 13631, 11]"
            ]
          },
          "metadata": {
            "tags": []
          },
          "execution_count": 12
        }
      ]
    },
    {
      "metadata": {
        "id": "24kyU6HsiTf5",
        "colab_type": "code",
        "colab": {}
      },
      "cell_type": "code",
      "source": [
        "import numpy as np\n",
        "divine_sents = np.array(divine_sents)\n",
        "\n",
        "X = divine_sents[:,:-1]\n",
        "Y = divine_sents[:,-1]"
      ],
      "execution_count": 0,
      "outputs": []
    },
    {
      "metadata": {
        "id": "UteQnvyqcXbl",
        "colab_type": "code",
        "colab": {
          "base_uri": "https://localhost:8080/",
          "height": 34
        },
        "outputId": "787ef81a-e3ea-41e4-dbcc-6d513af2592d"
      },
      "cell_type": "code",
      "source": [
        "from keras.utils import to_categorical\n",
        "\n",
        "vocab_size = len(tokenizer.word_counts)\n",
        "\n",
        "Y = to_categorical(Y, num_classes=vocab_size+1)\n",
        "Y.shape"
      ],
      "execution_count": 14,
      "outputs": [
        {
          "output_type": "execute_result",
          "data": {
            "text/plain": [
              "(117816, 13632)"
            ]
          },
          "metadata": {
            "tags": []
          },
          "execution_count": 14
        }
      ]
    },
    {
      "metadata": {
        "id": "zunahaBbkbdc",
        "colab_type": "code",
        "colab": {}
      },
      "cell_type": "code",
      "source": [
        "from keras import Model, Sequential\n",
        "from keras.layers import Embedding, LSTM, Dense\n",
        "\n",
        "model = Sequential()\n",
        "model.add(Embedding(vocab_size+1, maxlen-1, input_length=maxlen-1))\n",
        "model.add(LSTM(50, return_sequences=True))\n",
        "model.add(LSTM(50))\n",
        "model.add(Dense(50, activation=\"relu\"))\n",
        "model.add(Dense(vocab_size+1, activation=\"softmax\"))"
      ],
      "execution_count": 0,
      "outputs": []
    },
    {
      "metadata": {
        "id": "7Y29LJ9Dk596",
        "colab_type": "code",
        "colab": {}
      },
      "cell_type": "code",
      "source": [
        "model.compile(loss=\"categorical_crossentropy\", optimizer=\"adam\", metrics=[\"accuracy\"])"
      ],
      "execution_count": 0,
      "outputs": []
    },
    {
      "metadata": {
        "id": "TEjQFmPklCQ4",
        "colab_type": "code",
        "colab": {
          "base_uri": "https://localhost:8080/",
          "height": 448
        },
        "outputId": "be610047-17f0-482b-980b-444fac3d84ee"
      },
      "cell_type": "code",
      "source": [
        "model.fit(X, Y, batch_size=128, epochs=10)"
      ],
      "execution_count": 20,
      "outputs": [
        {
          "output_type": "stream",
          "text": [
            "WARNING:tensorflow:From /usr/local/lib/python3.6/dist-packages/tensorflow/python/ops/math_ops.py:3066: to_int32 (from tensorflow.python.ops.math_ops) is deprecated and will be removed in a future version.\n",
            "Instructions for updating:\n",
            "Use tf.cast instead.\n",
            "Epoch 1/10\n",
            "117816/117816 [==============================] - 45s 381us/step - loss: 6.9463 - acc: 0.0720\n",
            "Epoch 2/10\n",
            "117816/117816 [==============================] - 43s 361us/step - loss: 6.5358 - acc: 0.0749\n",
            "Epoch 3/10\n",
            "117816/117816 [==============================] - 43s 362us/step - loss: 6.3568 - acc: 0.0915\n",
            "Epoch 4/10\n",
            "117816/117816 [==============================] - 42s 360us/step - loss: 6.2007 - acc: 0.1089\n",
            "Epoch 5/10\n",
            "117816/117816 [==============================] - 41s 352us/step - loss: 6.0883 - acc: 0.1193\n",
            "Epoch 6/10\n",
            "117816/117816 [==============================] - 42s 358us/step - loss: 5.9765 - acc: 0.1284\n",
            "Epoch 7/10\n",
            "117816/117816 [==============================] - 42s 355us/step - loss: 5.8779 - acc: 0.1363\n",
            "Epoch 8/10\n",
            "117816/117816 [==============================] - 42s 359us/step - loss: 5.7904 - acc: 0.1438\n",
            "Epoch 9/10\n",
            "117816/117816 [==============================] - 41s 351us/step - loss: 5.7111 - acc: 0.1494\n",
            "Epoch 10/10\n",
            "117816/117816 [==============================] - 43s 364us/step - loss: 5.6370 - acc: 0.1540\n"
          ],
          "name": "stdout"
        },
        {
          "output_type": "execute_result",
          "data": {
            "text/plain": [
              "<keras.callbacks.History at 0x7f7e7cefcf28>"
            ]
          },
          "metadata": {
            "tags": []
          },
          "execution_count": 20
        }
      ]
    },
    {
      "metadata": {
        "id": "YXoCrALyhHdx",
        "colab_type": "text"
      },
      "cell_type": "markdown",
      "source": [
        "# PARCHEGGIO"
      ]
    },
    {
      "metadata": {
        "id": "8zMNFY1abdH9",
        "colab_type": "code",
        "colab": {
          "base_uri": "https://localhost:8080/",
          "height": 54
        },
        "outputId": "cb788a2f-2d70-448b-9eaf-c77d00d47f5a"
      },
      "cell_type": "code",
      "source": [
        "import string\n",
        "\n",
        "divine_txt = divine_txt.lower()\n",
        "divine_sents = divine_txt.split(\".\")\n",
        "\n",
        "divine_sents = [re.sub(r'[^\\w\\s]','', sent) for sent in divine_sents]\n",
        "divine_sents = [sent.replace(\"\\n\",\" \",) for sent in divine_sents]\n",
        "\n",
        "print(divine_sents[0])"
      ],
      "execution_count": 70,
      "outputs": [
        {
          "output_type": "stream",
          "text": [
            "nel mezzo del cammin di nostra vita mi ritrovai per una selva oscura ché la diritta via era smarrita\n"
          ],
          "name": "stdout"
        }
      ]
    }
  ]
}