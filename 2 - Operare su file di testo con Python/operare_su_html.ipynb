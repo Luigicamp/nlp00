{
  "nbformat": 4,
  "nbformat_minor": 0,
  "metadata": {
    "colab": {
      "name": "operare_su_html.ipynb",
      "version": "0.3.2",
      "provenance": [],
      "include_colab_link": true
    },
    "kernelspec": {
      "name": "python3",
      "display_name": "Python 3"
    }
  },
  "cells": [
    {
      "cell_type": "markdown",
      "metadata": {
        "id": "view-in-github",
        "colab_type": "text"
      },
      "source": [
        "<a href=\"https://colab.research.google.com/github/ProfAI/nlp00/blob/master/2%20-%20Operare%20su%20file%20di%20testo%20con%20Python/operare_su_html.ipynb\" target=\"_parent\"><img src=\"https://colab.research.google.com/assets/colab-badge.svg\" alt=\"Open In Colab\"/></a>"
      ]
    },
    {
      "metadata": {
        "id": "3iCaJ0UMITXX",
        "colab_type": "text"
      },
      "cell_type": "markdown",
      "source": [
        "# Operare su file HTML e pagine Web."
      ]
    },
    {
      "metadata": {
        "id": "1DNGtA85IQvH",
        "colab_type": "code",
        "colab": {
          "base_uri": "https://localhost:8080/",
          "height": 34
        },
        "outputId": "89970162-92f4-4c4f-90a7-5d6f0834278c"
      },
      "cell_type": "code",
      "source": [
        "!pip install beautifulsoup4"
      ],
      "execution_count": 1,
      "outputs": [
        {
          "output_type": "stream",
          "text": [
            "Requirement already satisfied: beautifulsoup4 in /usr/local/lib/python3.6/dist-packages (4.6.3)\n"
          ],
          "name": "stdout"
        }
      ]
    },
    {
      "metadata": {
        "id": "pK-osYD5JLID",
        "colab_type": "code",
        "colab": {
          "base_uri": "https://localhost:8080/",
          "height": 54
        },
        "outputId": "760fdaa0-34d5-46d4-a931-1c5f30481ff7"
      },
      "cell_type": "code",
      "source": [
        "import urllib.request\n",
        "\n",
        "html_page = urllib.request.urlopen(\"https://profession.ai\")\n",
        "html_code = html_page.read()\n",
        "print(html_code)"
      ],
      "execution_count": 8,
      "outputs": [
        {
          "output_type": "stream",
          "text": [
            "b'<!DOCTYPE html><html lang=\"en\"><head><!--Start of Tawk.to Script-->\\n<script type=\"text/javascript\">\\nvar Tawk_API=Tawk_API||{}, Tawk_LoadStart=new Date();\\n(function(){\\nvar s1=document.createElement(\"script\"),s0=document.getElementsByTagName(\"script\")[0];\\ns1.async=true;\\ns1.src=\\'https://embed.tawk.to/5c79803c3341d22d9ce6dc63/default\\';\\ns1.charset=\\'UTF-8\\';\\ns1.setAttribute(\\'crossorigin\\',\\'*\\');\\ns0.parentNode.insertBefore(s1,s0);\\n})();\\n</script>\\n<!--End of Tawk.to Script--><meta charSet=\"utf-8\"/><meta http-equiv=\"x-ua-compatible\" content=\"ie=edge\"/><meta name=\"viewport\" content=\"width=device-width, initial-scale=1, shrink-to-fit=no\"/><style data-href=\"/styles.b08f62e3242e41e0a9da.css\">:root{--white:#fff;--black:#000;--grey:#707070;--green:#032b35;--bg-light:#fafafa;--bg-dark:#f0f0f0;--bg-footer:#111;--headline:56px;--subheadline:24px;--quote:22px;--header:36px;--paragraph:18px;--footer:16px;--light:100;--normal:300;--semibold:400;--bold:600;--black:900}body{margin:0;padding:0;font-family:Lato}.index-module--hero--3KsId{height:900px;background-image:url(/static/bg.png);padding:50px 100px 0}.index-module--hero--3KsId h1{font-weight:var(--black);color:var(--white);font-size:var(--headline);line-height:125%;margin-bottom:10px}.index-module--heroTitle--2VgYy{padding:250px 0 0;margin-bottom:30px}.index-module--heroTitle--2VgYy span{font-weight:var(--normal);color:var(--white);font-size:var(--subheadline)}.index-module--quote--_yaf9{text-align:center;margin:10% 15%;-webkit-align-content:center;align-content:center}.index-module--quote--_yaf9 p{font-weight:var(--light);color:var(--paragraph);font-size:var(--quote);line-height:150%}.index-module--quote--_yaf9 h3{text-align:center;font-weight:var(--black);color:var(--black);font-size:var(--quote)}.index-module--block_left--VvYyd{-webkit-align-items:center;align-items:center;-webkit-align-content:center;align-content:center;padding:100px 10%;background-color:var(--bg-light)}.index-module--block_left--VvYyd h3{height:5px;font-weight:var(--black);font-size:var(--header);color:var(--grey)}.index-module--block_left--VvYyd p{font-weight:var(--normal);font-size:var(--paragraph);color:var(--grey);line-height:175%}.index-module--block_right--4UwEp{-webkit-align-items:center;align-items:center;-webkit-align-content:center;align-content:center;padding:100px 10%;background-color:var(--white)}.index-module--block_right--4UwEp h3{height:5px;text-align:right;font-weight:var(--black);font-size:var(--header);color:var(--grey)}.index-module--block_right--4UwEp p{text-align:right;font-weight:var(--normal);font-size:var(--paragraph);color:var(--grey);line-height:175%}#index-module--form--27BQq{display:inline-block;text-align:center;-webkit-align-items:center;align-items:center;-webkit-align-content:center;align-content:center}#index-module--button--2HMS_{background:linear-gradient(270deg,#84ffbe,#44e6b8),#c4c4c4}#index-module--button--2HMS_,#index-module--menu--3FdTV{font-weight:var(--bold);color:var(--green);padding:10px 30px}#index-module--menu--3FdTV{background:var(--white);border-radius:30px;float:right}#index-module--menu_icon--1VW8u{background:transparent;font-weight:var(--bold);color:var(--white);padding:5px 0 10px 30px;float:right}#index-module--line--3y6To{display:inline-block;height:5px;width:100px;background:linear-gradient(270deg,#84ffbe,#44e6b8),#c4c4c4;border-radius:4px}.index-module--catalog--H0_c7{padding:20px 100px;background-color:var(--bg-dark)}.index-module--catalog--H0_c7 h3{font-size:var(--header);font-weight:var(--bold)}.index-module--catalog--H0_c7 ul{padding-left:20px}.index-module--catalog--H0_c7 li{text-align:left;font-weight:var(--normal);font-size:var(--paragraph);color:var(--grey);margin:0 0 10px}.index-module--cta--5CvVF{text-align:center;padding:5% 15%;-webkit-align-content:center;align-content:center;background-color:var(--green)}.index-module--cta--5CvVF p{font-weight:var(--semibold);color:var(--white);font-size:var(--quote);line-height:200%}.index-module--footer--2_iT4{width:100%;display:inline-block;background-color:var(--bg-footer)}.index-module--footer--2_iT4 img{display:inline-block;text-align:\"center\";padding:50px}.index-module--footer--2_iT4 span{color:var(--white);line-height:200%;font-size:var(--footer)}.index-module--footer--2_iT4 a{color:var(--white);text-decoration:none}@media screen and (orientation:portrait){:root{--headline:36px;--subheadline:22px;--header:26px}.index-module--hero--3KsId{height:600px;padding:50px 25px 0 50px}.index-module--heroTitle--2VgYy{padding:140px 0 0;margin-bottom:30px}.index-module--myTypist--2MSi9{min-height:60px;height:60px}.index-module--block_left--VvYyd,.index-module--block_right--4UwEp{padding:50px 10%}.index-module--catalog--H0_c7{padding:10px 50px}.index-module--cta--5CvVF{padding:5% 15% 10%}.index-module--footer--2_iT4{display:block;padding-bottom:30px}.index-module--footer--2_iT4 div,.index-module--footer--2_iT4 span{display:block;text-align:center}}</style><meta name=\"generator\" content=\"Gatsby 2.1.18\"/><title data-react-helmet=\"true\">Home | ProfessionAI</title><meta data-react-helmet=\"true\" name=\"description\" content=\"Impara Machine Learning, Deep Learning, Data Science, Computer Vision e tutto ci\\xc3\\xb2 che riguarda l&#x27;intelligenza artificiale.\"/><meta data-react-helmet=\"true\" property=\"og:title\" content=\"Home\"/><meta data-react-helmet=\"true\" property=\"og:description\" content=\"Impara Machine Learning, Deep Learning, Data Science, Computer Vision e tutto ci\\xc3\\xb2 che riguarda l&#x27;intelligenza artificiale.\"/><meta data-react-helmet=\"true\" property=\"og:type\" content=\"website\"/><meta data-react-helmet=\"true\" name=\"twitter:card\" content=\"summary\"/><meta data-react-helmet=\"true\" name=\"twitter:creator\" content=\"@professio.ai\"/><meta data-react-helmet=\"true\" name=\"twitter:title\" content=\"Home\"/><meta data-react-helmet=\"true\" name=\"twitter:description\" content=\"Impara Machine Learning, Deep Learning, Data Science, Computer Vision e tutto ci\\xc3\\xb2 che riguarda l&#x27;intelligenza artificiale.\"/><meta data-react-helmet=\"true\" name=\"keywords\" content=\"artificial intelligence, deep learning, machine learning\"/><link rel=\"shortcut icon\" href=\"/icons/icon-48x48.png\"/><link rel=\"manifest\" href=\"/manifest.webmanifest\"/><meta name=\"theme-color\" content=\"#663399\"/><link rel=\"apple-touch-icon\" sizes=\"48x48\" href=\"/icons/icon-48x48.png\"/><link rel=\"apple-touch-icon\" sizes=\"72x72\" href=\"/icons/icon-72x72.png\"/><link rel=\"apple-touch-icon\" sizes=\"96x96\" href=\"/icons/icon-96x96.png\"/><link rel=\"apple-touch-icon\" sizes=\"144x144\" href=\"/icons/icon-144x144.png\"/><link rel=\"apple-touch-icon\" sizes=\"192x192\" href=\"/icons/icon-192x192.png\"/><link rel=\"apple-touch-icon\" sizes=\"256x256\" href=\"/icons/icon-256x256.png\"/><link rel=\"apple-touch-icon\" sizes=\"384x384\" href=\"/icons/icon-384x384.png\"/><link rel=\"apple-touch-icon\" sizes=\"512x512\" href=\"/icons/icon-512x512.png\"/><link rel=\"shortcut icon\" href=\"/icons-6cc676c34171efc746c40c71f85c5bb5/favicon.ico\"/><link rel=\"icon\" type=\"image/png\" sizes=\"16x16\" href=\"/icons-6cc676c34171efc746c40c71f85c5bb5/favicon-16x16.png\"/><link rel=\"icon\" type=\"image/png\" sizes=\"32x32\" href=\"/icons-6cc676c34171efc746c40c71f85c5bb5/favicon-32x32.png\"/><link rel=\"manifest\" href=\"/icons-6cc676c34171efc746c40c71f85c5bb5/manifest.json\"/><meta name=\"mobile-web-app-capable\" content=\"yes\"/><meta name=\"theme-color\" content=\"#fff\"/><meta name=\"application-name\" content=\"gatsby-starter-default\"/><link rel=\"apple-touch-icon\" sizes=\"57x57\" href=\"/icons-6cc676c34171efc746c40c71f85c5bb5/apple-touch-icon-57x57.png\"/><link rel=\"apple-touch-icon\" sizes=\"60x60\" href=\"/icons-6cc676c34171efc746c40c71f85c5bb5/apple-touch-icon-60x60.png\"/><link rel=\"apple-touch-icon\" sizes=\"72x72\" href=\"/icons-6cc676c34171efc746c40c71f85c5bb5/apple-touch-icon-72x72.png\"/><link rel=\"apple-touch-icon\" sizes=\"76x76\" href=\"/icons-6cc676c34171efc746c40c71f85c5bb5/apple-touch-icon-76x76.png\"/><link rel=\"apple-touch-icon\" sizes=\"114x114\" href=\"/icons-6cc676c34171efc746c40c71f85c5bb5/apple-touch-icon-114x114.png\"/><link rel=\"apple-touch-icon\" sizes=\"120x120\" href=\"/icons-6cc676c34171efc746c40c71f85c5bb5/apple-touch-icon-120x120.png\"/><link rel=\"apple-touch-icon\" sizes=\"144x144\" href=\"/icons-6cc676c34171efc746c40c71f85c5bb5/apple-touch-icon-144x144.png\"/><link rel=\"apple-touch-icon\" sizes=\"152x152\" href=\"/icons-6cc676c34171efc746c40c71f85c5bb5/apple-touch-icon-152x152.png\"/><link rel=\"apple-touch-icon\" sizes=\"167x167\" href=\"/icons-6cc676c34171efc746c40c71f85c5bb5/apple-touch-icon-167x167.png\"/><link rel=\"apple-touch-icon\" sizes=\"180x180\" href=\"/icons-6cc676c34171efc746c40c71f85c5bb5/apple-touch-icon-180x180.png\"/><link rel=\"apple-touch-icon\" sizes=\"1024x1024\" href=\"/icons-6cc676c34171efc746c40c71f85c5bb5/apple-touch-icon-1024x1024.png\"/><meta name=\"apple-mobile-web-app-capable\" content=\"yes\"/><meta name=\"apple-mobile-web-app-status-bar-style\" content=\"black-translucent\"/><meta name=\"apple-mobile-web-app-title\" content=\"gatsby-starter-default\"/><link rel=\"apple-touch-startup-image\" media=\"(device-width: 320px) and (device-height: 480px) and (-webkit-device-pixel-ratio: 1)\" href=\"/icons-6cc676c34171efc746c40c71f85c5bb5/apple-touch-startup-image-320x460.png\"/><link rel=\"apple-touch-startup-image\" media=\"(device-width: 320px) and (device-height: 480px) and (-webkit-device-pixel-ratio: 2)\" href=\"/icons-6cc676c34171efc746c40c71f85c5bb5/apple-touch-startup-image-640x920.png\"/><link rel=\"apple-touch-startup-image\" media=\"(device-width: 320px) and (device-height: 568px) and (-webkit-device-pixel-ratio: 2)\" href=\"/icons-6cc676c34171efc746c40c71f85c5bb5/apple-touch-startup-image-640x1096.png\"/><link rel=\"apple-touch-startup-image\" media=\"(device-width: 375px) and (device-height: 667px) and (-webkit-device-pixel-ratio: 2)\" href=\"/icons-6cc676c34171efc746c40c71f85c5bb5/apple-touch-startup-image-750x1294.png\"/><link rel=\"apple-touch-startup-image\" media=\"(device-width: 414px) and (device-height: 736px) and (orientation: landscape) and (-webkit-device-pixel-ratio: 3)\" href=\"/icons-6cc676c34171efc746c40c71f85c5bb5/apple-touch-startup-image-1182x2208.png\"/><link rel=\"apple-touch-startup-image\" media=\"(device-width: 414px) and (device-height: 736px) and (orientation: portrait) and (-webkit-device-pixel-ratio: 3)\" href=\"/icons-6cc676c34171efc746c40c71f85c5bb5/apple-touch-startup-image-1242x2148.png\"/><link rel=\"apple-touch-startup-image\" media=\"(device-width: 768px) and (device-height: 1024px) and (orientation: landscape) and (-webkit-device-pixel-ratio: 1)\" href=\"/icons-6cc676c34171efc746c40c71f85c5bb5/apple-touch-startup-image-748x1024.png\"/><link rel=\"apple-touch-startup-image\" media=\"(device-width: 768px) and (device-height: 1024px) and (orientation: portrait) and (-webkit-device-pixel-ratio: 1)\" href=\"/icons-6cc676c34171efc746c40c71f85c5bb5/apple-touch-startup-image-768x1004.png\"/><link rel=\"apple-touch-startup-image\" media=\"(device-width: 768px) and (device-height: 1024px) and (orientation: landscape) and (-webkit-device-pixel-ratio: 2)\" href=\"/icons-6cc676c34171efc746c40c71f85c5bb5/apple-touch-startup-image-1496x2048.png\"/><link rel=\"apple-touch-startup-image\" media=\"(device-width: 768px) and (device-height: 1024px) and (orientation: portrait) and (-webkit-device-pixel-ratio: 2)\" href=\"/icons-6cc676c34171efc746c40c71f85c5bb5/apple-touch-startup-image-1536x2008.png\"/><link as=\"script\" rel=\"preload\" href=\"/component---src-pages-index-js-e90b88725585f66733c2.js\"/><link as=\"script\" rel=\"preload\" href=\"/app-4686dbac1a86c743a8d5.js\"/><link as=\"script\" rel=\"preload\" href=\"/7-4a7ac3407dbce935083f.js\"/><link as=\"script\" rel=\"preload\" href=\"/0-35ae190e2268f18748c6.js\"/><link as=\"script\" rel=\"preload\" href=\"/styles-e23d57e2803a031cffd9.js\"/><link as=\"script\" rel=\"preload\" href=\"/webpack-runtime-e747dc801e9a0589774c.js\"/><link as=\"fetch\" rel=\"preload\" href=\"/static/d/173/path---index-6a9-NZuapzHg3X9TaN1iIixfv1W23E.json\" crossorigin=\"use-credentials\"/></head><body><noscript id=\"gatsby-noscript\">This app works best with JavaScript enabled.</noscript><div id=\"___gatsby\"><div style=\"outline:none\" tabindex=\"-1\" role=\"group\"><html><body><div class=\"index-module--hero--3KsId\"><div><img src=\"/static/logo.svg\" width=\"200px\"/><button class=\"jss55 jss29 jss40 jss43\" tabindex=\"0\" type=\"button\" id=\"index-module--menu--3FdTV\"><span class=\"jss30\">MENU</span></button></div><div class=\"index-module--heroTitle--2VgYy\"><h1 class=\"jss58 jss70\">Impara oggi<br/>le professioni di domani</h1><div class=\"Typist index-module--myTypist--2MSi9\"><span class=\"Cursor Cursor--blinking\">|</span></div></div><button class=\"jss55 jss29 jss40 jss43\" tabindex=\"0\" type=\"button\" id=\"index-module--button--2HMS_\"><span class=\"jss30\">ISCRIVITI</span></button></div><div class=\"index-module--quote--_yaf9\"><p>La maggior parte delle persone non riesce a capire quanto velocemente l\\xe2\\x80\\x99Intelligenza Artificiale stia avanzando, <br/>\\xc3\\xa8 molto pi\\xc3\\xb9 veloce di qualsiasi cosa sia mai stata realizzata nella storia dell\\xe2\\x80\\x99uomo</p><h3>ELON MUSK</h3></div><div class=\"jss94 jss117 index-module--block_left--VvYyd\"><div class=\"jss95 jss150\" style=\"text-align:left\"><h3>Cavalca la rivoluzione</h3><div id=\"index-module--line--3y6To\"></div><p>L&#x27;era delle macchine intelligenti \\xc3\\xa8 gi\\xc3\\xa0 iniziata, ci troviamo agli albori di una <b>nuova rivoluzione industriale</b>. L&#x27;intelligenza artificiale sta facendo progressi esponenziali, giorno dopo giorno. Noi vogliamo permetterti di apprendere <b>i segreti dell&#x27;AI</b> per utilizzarla all&#x27;interno della tua professione attuale, avviare una nuova carriera o lanciare una tua attivit\\xc3\\xa0.</p></div><div class=\"jss95 jss150\" style=\"text-align:center\"><img src=\"/static/ai_stats.svg\" width=\"500px\"/></div></div><div class=\"jss94 jss117 index-module--block_right--4UwEp\"><div class=\"jss95 jss150\" style=\"text-align:center\"><img src=\"/static/frameworks.svg\" width=\"500px\"/></div><div class=\"jss95 jss150\" style=\"text-align:right\"><h3>AI alla portata di tutti</h3><div id=\"index-module--line--3y6To\"></div><p>Il nostro obiettivo \\xc3\\xa8 <b>rendere le complessit\\xc3\\xa0 dell&#x27;intelligenza artificiale accessibili a chiunque</b>, indipendentemente dalla base di partenza e dalle aspirazioni di carriera. Non devi avere un dottorato in matematica per seguire i nostri corsi e neanche una laurea in informatica, ogni nostro contenuto viene creato con in mente gli studenti delle prime classi superiori e lavoratori che vogliono aggiungere AI e Data Science al proprio bagaglio di skills.</p></div></div><div class=\"jss94 jss117 index-module--block_left--VvYyd\"><div class=\"jss95 jss150\" style=\"text-align:left\"><h3>Un&#x27;approccio pratico</h3><div id=\"index-module--line--3y6To\"></div><p>La teoria \\xc3\\xa8 fondamentale, ma \\xc3\\xa8 la pratica a fare la differenza. La nostra idea \\xc3\\xa8 quella di mettere ogni studente nella condizione di poter sperimentare ci\\xc3\\xb2 che sta apprendendo a partire dal <b>giorno zero</b>. Ogni lezione di teoria \\xc3\\xa8 seguita da un laboratorio di coding interattivo, in cui mettere subito all&#x27;opera quanto appreso osservando problemi comuni e studiando le best practices.</p></div><div class=\"jss95 jss150\" style=\"text-align:center\"><img src=\"/static/ai_image.svg\" width=\"500px\"/></div></div><div class=\"index-module--catalog--H0_c7\"><h3>I CORSI</h3><ul><li>I nostri corsi possono essere <b>seguiti online</b> in qualsiasi momento e in qualisasi luogo, tramite il sito web e le app di Udemy per Android e iOS.</li><li>Ogni singolo corso ha un costo di <b>soli 9,99 \\xe2\\x82\\xac</b>  se acquistato tramite i nostri canali nel quale sono anche <b>inclusi tutti gli  aggiornamenti futuri</b>.</li><li>Se per qualche motivo uno dei nostri corsi non dovesse soddisfarti hai fino a 30 giorni di tempo per richiedere un <b>rimborso totale e immediato</b>.09</li></ul><div class=\"jss94\" style=\"margin:30px auto;max-width:1400px\"><div class=\"jss95 jss150\"><div class=\"jss196 jss199 jss197 jss195 jss191\"><button class=\"jss55 jss223\" tabindex=\"0\" type=\"button\"><div class=\"jss226 jss192\" style=\"background-image:url(&quot;/static/courses/ml00.jpg&quot;)\" title=\"Machine Learning con Python\"></div><div class=\"jss228\"><h2 class=\"jss58 jss74 jss85 jss193\">Machine Learning con Python</h2><p class=\"jss58 jss67 jss194\">Impara a creare i tuoi algoritmi di Machine Learning con Python e Scikit-learn.</p></div><span class=\"jss225\"></span></button><div class=\"jss229\"><button class=\"jss55 jss29 jss31 jss32 jss34 jss35 jss52 jss231\" tabindex=\"0\" type=\"button\"><span class=\"jss30\">VAI AL CORSO</span></button></div></div></div><div class=\"jss95 jss150\"><div class=\"jss196 jss199 jss197 jss195 jss191\"><button class=\"jss55 jss223\" tabindex=\"0\" type=\"button\"><div class=\"jss226 jss192\" style=\"background-image:url(&quot;/static/courses/dl00.jpg&quot;)\" title=\"Deep Learning con Python\"></div><div class=\"jss228\"><h2 class=\"jss58 jss74 jss85 jss193\">Deep Learning con Python</h2><p class=\"jss58 jss67 jss194\">Scopri il funzionamento del Deep Learning e impara a creare le tue reti neurali con Keras e Tensorflow.</p></div><span class=\"jss225\"></span></button><div class=\"jss229\"><button class=\"jss55 jss29 jss31 jss32 jss34 jss35 jss52 jss231\" tabindex=\"0\" type=\"button\"><span class=\"jss30\">VAI AL CORSO</span></button></div></div></div><div class=\"jss95 jss150\"><div class=\"jss196 jss199 jss197 jss195 jss191\"><button class=\"jss55 jss223\" tabindex=\"0\" type=\"button\"><div class=\"jss226 jss192\" style=\"background-image:url(&quot;/static/courses/cv00.jpg&quot;)\" title=\"Computer Vision con Python\"></div><div class=\"jss228\"><h2 class=\"jss58 jss74 jss85 jss193\">Computer Vision con Python</h2><p class=\"jss58 jss67 jss194\">Impara le basi della computer vision per il riconoscimento di persone e oggetti utilizzando OpenCV.</p></div><span class=\"jss225\"></span></button><div class=\"jss229\"><button class=\"jss55 jss29 jss31 jss33 jss34 jss36 jss52 jss231\" tabindex=\"0\" type=\"button\"><span class=\"jss30\">IN ARRIVO</span></button></div></div></div><div class=\"jss95 jss150\"><div class=\"jss196 jss199 jss197 jss195 jss191\"><button class=\"jss55 jss223\" tabindex=\"0\" type=\"button\"><div class=\"jss226 jss192\" style=\"background-image:url(&quot;/static/courses/nlp00.jpg&quot;)\" title=\"NLP con Python\"></div><div class=\"jss228\"><h2 class=\"jss58 jss74 jss85 jss193\">NLP con Python</h2><p class=\"jss58 jss67 jss194\">Scopri come processare il linguaggio naturale, classificare testi e creare  chatbot con NLTK.</p></div><span class=\"jss225\"></span></button><div class=\"jss229\"><button class=\"jss55 jss29 jss31 jss33 jss34 jss36 jss52 jss231\" tabindex=\"0\" type=\"button\"><span class=\"jss30\">IN ARRIVO</span></button></div></div></div></div></div><div class=\"index-module--cta--5CvVF\"><p>Nel 2020 le nuove posizioni lavorative nel settore dell\\xe2\\x80\\x99AI saranno <b>oltre 2 milioni</b>.<br/>Riserva il tuo posto adesso e investi nel tuo futuro.</p><div id=\"index-module--form--27BQq\"><button class=\"jss55 jss29 jss40 jss43\" tabindex=\"0\" type=\"button\" id=\"index-module--button--2HMS_\"><span class=\"jss30\">ISCRIVITI</span></button></div></div><div class=\"jss94 jss117 index-module--footer--2_iT4\"><div class=\"jss95 jss150\" style=\"display:flex;align-items:center;justify-content:center\"><span>2017 All right Reserved</span></div><div class=\"jss95 jss150\" style=\"display:flex;align-items:center;justify-content:center\"><img src=\"/static/logo_white.svg\" width=\"200px\"/></div><div class=\"jss95 jss150\" style=\"display:flex;align-items:center;justify-content:center\"><span><a href=\"mailto:support@profession.ai\">support@profession.ai</a><br/><a href=\"https://www.iubenda.com/privacy-policy/47767621\">Privacy Policy</a></span></div></div></body></html></div></div><script id=\"gatsby-script-loader\">/*<![CDATA[*/window.page={\"componentChunkName\":\"component---src-pages-index-js\",\"jsonName\":\"index\",\"path\":\"/\"};window.dataPath=\"173/path---index-6a9-NZuapzHg3X9TaN1iIixfv1W23E\";/*]]>*/</script><script id=\"gatsby-chunk-mapping\">/*<![CDATA[*/window.___chunkMapping={\"app\":[\"/app-4686dbac1a86c743a8d5.js\"],\"component---src-pages-404-js\":[\"/component---src-pages-404-js-6c50ddd722d5abcced20.js\"],\"component---src-pages-index-js\":[\"/component---src-pages-index-js-e90b88725585f66733c2.js\"],\"pages-manifest\":[\"/pages-manifest-3734e866600ac1d30820.js\"]};/*]]>*/</script><script src=\"/webpack-runtime-e747dc801e9a0589774c.js\" async=\"\"></script><script src=\"/styles-e23d57e2803a031cffd9.js\" async=\"\"></script><script src=\"/0-35ae190e2268f18748c6.js\" async=\"\"></script><script src=\"/7-4a7ac3407dbce935083f.js\" async=\"\"></script><script src=\"/app-4686dbac1a86c743a8d5.js\" async=\"\"></script><script src=\"/component---src-pages-index-js-e90b88725585f66733c2.js\" async=\"\"></script></body></html>\\n'\n"
          ],
          "name": "stdout"
        }
      ]
    },
    {
      "metadata": {
        "id": "Ya9duoRtIoB7",
        "colab_type": "code",
        "colab": {
          "base_uri": "https://localhost:8080/",
          "height": 54
        },
        "outputId": "c7813744-5761-424a-b60c-a18a5621ecd2"
      },
      "cell_type": "code",
      "source": [
        "from bs4 import BeautifulSoup\n",
        "\n",
        "soup = BeautifulSoup(html_code)"
      ],
      "execution_count": 17,
      "outputs": [
        {
          "output_type": "stream",
          "text": [
            "[<p>La maggior parte delle persone non riesce a capire quanto velocemente l’Intelligenza Artificiale stia avanzando, <br/>è molto più veloce di qualsiasi cosa sia mai stata realizzata nella storia dell’uomo</p>, <p>L'era delle macchine intelligenti è già iniziata, ci troviamo agli albori di una <b>nuova rivoluzione industriale</b>. L'intelligenza artificiale sta facendo progressi esponenziali, giorno dopo giorno. Noi vogliamo permetterti di apprendere <b>i segreti dell'AI</b> per utilizzarla all'interno della tua professione attuale, avviare una nuova carriera o lanciare una tua attività.</p>, <p>Il nostro obiettivo è <b>rendere le complessità dell'intelligenza artificiale accessibili a chiunque</b>, indipendentemente dalla base di partenza e dalle aspirazioni di carriera. Non devi avere un dottorato in matematica per seguire i nostri corsi e neanche una laurea in informatica, ogni nostro contenuto viene creato con in mente gli studenti delle prime classi superiori e lavoratori che vogliono aggiungere AI e Data Science al proprio bagaglio di skills.</p>, <p>La teoria è fondamentale, ma è la pratica a fare la differenza. La nostra idea è quella di mettere ogni studente nella condizione di poter sperimentare ciò che sta apprendendo a partire dal <b>giorno zero</b>. Ogni lezione di teoria è seguita da un laboratorio di coding interattivo, in cui mettere subito all'opera quanto appreso osservando problemi comuni e studiando le best practices.</p>, <p class=\"jss58 jss67 jss194\">Impara a creare i tuoi algoritmi di Machine Learning con Python e Scikit-learn.</p>, <p class=\"jss58 jss67 jss194\">Scopri il funzionamento del Deep Learning e impara a creare le tue reti neurali con Keras e Tensorflow.</p>, <p class=\"jss58 jss67 jss194\">Impara le basi della computer vision per il riconoscimento di persone e oggetti utilizzando OpenCV.</p>, <p class=\"jss58 jss67 jss194\">Scopri come processare il linguaggio naturale, classificare testi e creare  chatbot con NLTK.</p>, <p>Nel 2020 le nuove posizioni lavorative nel settore dell’AI saranno <b>oltre 2 milioni</b>.<br/>Riserva il tuo posto adesso e investi nel tuo futuro.</p>]\n"
          ],
          "name": "stdout"
        }
      ]
    },
    {
      "metadata": {
        "id": "64bs7RnPI2VD",
        "colab_type": "code",
        "colab": {
          "base_uri": "https://localhost:8080/",
          "height": 71
        },
        "outputId": "fc563a47-9cdb-45ea-f499-59527de844d1"
      },
      "cell_type": "code",
      "source": [
        "paragraphs = soup.find_all(\"p\")\n",
        "print(paragraphs)\n",
        "print(type(paragraphs[0].getText()))"
      ],
      "execution_count": 28,
      "outputs": [
        {
          "output_type": "stream",
          "text": [
            "[<p>La maggior parte delle persone non riesce a capire quanto velocemente l’Intelligenza Artificiale stia avanzando, <br/>è molto più veloce di qualsiasi cosa sia mai stata realizzata nella storia dell’uomo</p>, <p>L'era delle macchine intelligenti è già iniziata, ci troviamo agli albori di una <b>nuova rivoluzione industriale</b>. L'intelligenza artificiale sta facendo progressi esponenziali, giorno dopo giorno. Noi vogliamo permetterti di apprendere <b>i segreti dell'AI</b> per utilizzarla all'interno della tua professione attuale, avviare una nuova carriera o lanciare una tua attività.</p>, <p>Il nostro obiettivo è <b>rendere le complessità dell'intelligenza artificiale accessibili a chiunque</b>, indipendentemente dalla base di partenza e dalle aspirazioni di carriera. Non devi avere un dottorato in matematica per seguire i nostri corsi e neanche una laurea in informatica, ogni nostro contenuto viene creato con in mente gli studenti delle prime classi superiori e lavoratori che vogliono aggiungere AI e Data Science al proprio bagaglio di skills.</p>, <p>La teoria è fondamentale, ma è la pratica a fare la differenza. La nostra idea è quella di mettere ogni studente nella condizione di poter sperimentare ciò che sta apprendendo a partire dal <b>giorno zero</b>. Ogni lezione di teoria è seguita da un laboratorio di coding interattivo, in cui mettere subito all'opera quanto appreso osservando problemi comuni e studiando le best practices.</p>, <p class=\"jss58 jss67 jss194\">Impara a creare i tuoi algoritmi di Machine Learning con Python e Scikit-learn.</p>, <p class=\"jss58 jss67 jss194\">Scopri il funzionamento del Deep Learning e impara a creare le tue reti neurali con Keras e Tensorflow.</p>, <p class=\"jss58 jss67 jss194\">Impara le basi della computer vision per il riconoscimento di persone e oggetti utilizzando OpenCV.</p>, <p class=\"jss58 jss67 jss194\">Scopri come processare il linguaggio naturale, classificare testi e creare  chatbot con NLTK.</p>, <p>Nel 2020 le nuove posizioni lavorative nel settore dell’AI saranno <b>oltre 2 milioni</b>.<br/>Riserva il tuo posto adesso e investi nel tuo futuro.</p>]\n",
            "<class 'str'>\n"
          ],
          "name": "stdout"
        }
      ]
    },
    {
      "metadata": {
        "id": "6SQq9BXFM8mQ",
        "colab_type": "code",
        "colab": {}
      },
      "cell_type": "code",
      "source": [
        "def remove_tags(text):\n",
        "  \n",
        "  tags = [\"<p>\",\"</p>\",\"<br/>\"]\n",
        "  \n",
        "  for tag in tags:\n",
        "    text = text.replace(tag, \"\")\n",
        "  \n",
        "  return text"
      ],
      "execution_count": 0,
      "outputs": []
    },
    {
      "metadata": {
        "id": "HoPxpHawMf3p",
        "colab_type": "code",
        "colab": {
          "base_uri": "https://localhost:8080/",
          "height": 51
        },
        "outputId": "f727daa3-4b09-4057-f669-f9d886da14cd"
      },
      "cell_type": "code",
      "source": [
        "text = \"\"\n",
        "\n",
        "for p in paragraphs:\n",
        "  p_text = p.getText()\n",
        "  text+=remove_tags(p_text)\n",
        "  \n",
        "print(\"Lettere totali nel documento: %d \" % len(text))\n",
        "print(\"Parole totali nel documento: %d \" % len(text.split()))"
      ],
      "execution_count": 30,
      "outputs": [
        {
          "output_type": "stream",
          "text": [
            "Lettere totali nel documento: 1908 \n",
            "Parole totali nel documento: 281 \n"
          ],
          "name": "stdout"
        }
      ]
    },
    {
      "metadata": {
        "id": "4GqeuNuaNaSc",
        "colab_type": "code",
        "colab": {
          "base_uri": "https://localhost:8080/",
          "height": 54
        },
        "outputId": "676cce47-7d7e-4675-cc8a-67f5d8570a50"
      },
      "cell_type": "code",
      "source": [
        "print(text)"
      ],
      "execution_count": 31,
      "outputs": [
        {
          "output_type": "stream",
          "text": [
            "La maggior parte delle persone non riesce a capire quanto velocemente l’Intelligenza Artificiale stia avanzando, è molto più veloce di qualsiasi cosa sia mai stata realizzata nella storia dell’uomoL'era delle macchine intelligenti è già iniziata, ci troviamo agli albori di una nuova rivoluzione industriale. L'intelligenza artificiale sta facendo progressi esponenziali, giorno dopo giorno. Noi vogliamo permetterti di apprendere i segreti dell'AI per utilizzarla all'interno della tua professione attuale, avviare una nuova carriera o lanciare una tua attività.Il nostro obiettivo è rendere le complessità dell'intelligenza artificiale accessibili a chiunque, indipendentemente dalla base di partenza e dalle aspirazioni di carriera. Non devi avere un dottorato in matematica per seguire i nostri corsi e neanche una laurea in informatica, ogni nostro contenuto viene creato con in mente gli studenti delle prime classi superiori e lavoratori che vogliono aggiungere AI e Data Science al proprio bagaglio di skills.La teoria è fondamentale, ma è la pratica a fare la differenza. La nostra idea è quella di mettere ogni studente nella condizione di poter sperimentare ciò che sta apprendendo a partire dal giorno zero. Ogni lezione di teoria è seguita da un laboratorio di coding interattivo, in cui mettere subito all'opera quanto appreso osservando problemi comuni e studiando le best practices.Impara a creare i tuoi algoritmi di Machine Learning con Python e Scikit-learn.Scopri il funzionamento del Deep Learning e impara a creare le tue reti neurali con Keras e Tensorflow.Impara le basi della computer vision per il riconoscimento di persone e oggetti utilizzando OpenCV.Scopri come processare il linguaggio naturale, classificare testi e creare  chatbot con NLTK.Nel 2020 le nuove posizioni lavorative nel settore dell’AI saranno oltre 2 milioni.Riserva il tuo posto adesso e investi nel tuo futuro.\n"
          ],
          "name": "stdout"
        }
      ]
    },
    {
      "metadata": {
        "id": "2cPzhKqtOGD3",
        "colab_type": "code",
        "colab": {
          "base_uri": "https://localhost:8080/",
          "height": 534
        },
        "outputId": "d6733f8b-c3b2-4719-9944-9c4593784e5f"
      },
      "cell_type": "code",
      "source": [
        "text = text.replace(\".\",\".\\n\")\n",
        "print(text)"
      ],
      "execution_count": 33,
      "outputs": [
        {
          "output_type": "stream",
          "text": [
            "La maggior parte delle persone non riesce a capire quanto velocemente l’Intelligenza Artificiale stia avanzando, è molto più veloce di qualsiasi cosa sia mai stata realizzata nella storia dell’uomoL'era delle macchine intelligenti è già iniziata, ci troviamo agli albori di una nuova rivoluzione industriale.\n",
            "\n",
            " L'intelligenza artificiale sta facendo progressi esponenziali, giorno dopo giorno.\n",
            "\n",
            " Noi vogliamo permetterti di apprendere i segreti dell'AI per utilizzarla all'interno della tua professione attuale, avviare una nuova carriera o lanciare una tua attività.\n",
            "\n",
            "Il nostro obiettivo è rendere le complessità dell'intelligenza artificiale accessibili a chiunque, indipendentemente dalla base di partenza e dalle aspirazioni di carriera.\n",
            "\n",
            " Non devi avere un dottorato in matematica per seguire i nostri corsi e neanche una laurea in informatica, ogni nostro contenuto viene creato con in mente gli studenti delle prime classi superiori e lavoratori che vogliono aggiungere AI e Data Science al proprio bagaglio di skills.\n",
            "\n",
            "La teoria è fondamentale, ma è la pratica a fare la differenza.\n",
            "\n",
            " La nostra idea è quella di mettere ogni studente nella condizione di poter sperimentare ciò che sta apprendendo a partire dal giorno zero.\n",
            "\n",
            " Ogni lezione di teoria è seguita da un laboratorio di coding interattivo, in cui mettere subito all'opera quanto appreso osservando problemi comuni e studiando le best practices.\n",
            "\n",
            "Impara a creare i tuoi algoritmi di Machine Learning con Python e Scikit-learn.\n",
            "\n",
            "Scopri il funzionamento del Deep Learning e impara a creare le tue reti neurali con Keras e Tensorflow.\n",
            "\n",
            "Impara le basi della computer vision per il riconoscimento di persone e oggetti utilizzando OpenCV.\n",
            "\n",
            "Scopri come processare il linguaggio naturale, classificare testi e creare  chatbot con NLTK.\n",
            "\n",
            "Nel 2020 le nuove posizioni lavorative nel settore dell’AI saranno oltre 2 milioni.\n",
            "\n",
            "Riserva il tuo posto adesso e investi nel tuo futuro.\n",
            "\n",
            "\n"
          ],
          "name": "stdout"
        }
      ]
    }
  ]
}