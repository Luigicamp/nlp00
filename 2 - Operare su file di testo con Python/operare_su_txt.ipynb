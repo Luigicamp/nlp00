{
  "nbformat": 4,
  "nbformat_minor": 0,
  "metadata": {
    "colab": {
      "name": "operare_su_txt.ipynb",
      "version": "0.3.2",
      "provenance": [],
      "toc_visible": true,
      "include_colab_link": true
    },
    "kernelspec": {
      "name": "python3",
      "display_name": "Python 3"
    }
  },
  "cells": [
    {
      "cell_type": "markdown",
      "metadata": {
        "id": "view-in-github",
        "colab_type": "text"
      },
      "source": [
        "<a href=\"https://colab.research.google.com/github/ProfAI/nlp00/blob/master/2%20-%20Operare%20su%20file%20di%20testo%20con%20Python/operare_su_txt.ipynb\" target=\"_parent\"><img src=\"https://colab.research.google.com/assets/colab-badge.svg\" alt=\"Open In Colab\"/></a>"
      ]
    },
    {
      "metadata": {
        "id": "6zFZdNJyk-HR",
        "colab_type": "text"
      },
      "cell_type": "markdown",
      "source": [
        "# Operare su file di testo\n",
        "\n",
        "## SOLO PER CHI USA GOOGLE COLABORATORY !\n",
        "Se usi Google Colaboratory devi caricare i file che useremo all'interno del tuo ambiente virtuale, per farlo esegui il codice qui sotto, premi sul tasto upload che comparirà e carica il file *proverbi.txt* che puoi trovare all'interno della [cartella *data* della directory *Operare su file di testo* della repository del corso](). "
      ]
    },
    {
      "metadata": {
        "id": "bCdgKFg2k9a-",
        "colab_type": "code",
        "colab": {}
      },
      "cell_type": "code",
      "source": [
        ""
      ],
      "execution_count": 0,
      "outputs": []
    },
    {
      "metadata": {
        "id": "d2X0de8bm_jT",
        "colab_type": "text"
      },
      "cell_type": "markdown",
      "source": [
        "Utilizzando python possiamo aprire un file con la funzione *open*"
      ]
    }
  ]
}