{
  "nbformat": 4,
  "nbformat_minor": 0,
  "metadata": {
    "colab": {
      "name": "pos_tagging.ipynb",
      "version": "0.3.2",
      "provenance": [],
      "include_colab_link": true
    },
    "kernelspec": {
      "name": "python3",
      "display_name": "Python 3"
    }
  },
  "cells": [
    {
      "cell_type": "markdown",
      "metadata": {
        "id": "view-in-github",
        "colab_type": "text"
      },
      "source": [
        "<a href=\"https://colab.research.google.com/github/ProfAI/nlp00/blob/master/5%20-%20Analisi%20del%20testo/pos_tagging.ipynb\" target=\"_parent\"><img src=\"https://colab.research.google.com/assets/colab-badge.svg\" alt=\"Open In Colab\"/></a>"
      ]
    },
    {
      "metadata": {
        "id": "tu-7KNu123zC",
        "colab_type": "text"
      },
      "cell_type": "markdown",
      "source": [
        "# Part-of-speech Tagging\n",
        "Il part-of-speech tagging è un processo che consiste nell'identificazione del tipo delle parole del testo. I tipi solitamente possono essere raggruppati in queste categorie.\n",
        "<br>\n",
        "<table>\n",
        "  <tr>\n",
        "    <th>Tipo</th>\n",
        "    <th>Tag</th> \n",
        "    <th>Esempi</th>\n",
        "  </tr>\n",
        "    <tr>\n",
        "    <th>Aggettivi</th>\n",
        "    <th>ADJ</th> \n",
        "    <th>nuovo, buono, alto</th>\n",
        "  </tr>\n",
        "    <tr>\n",
        "      <th>Preposizione</th>\n",
        "      <th>ADP</th> \n",
        "      <th>su, di, a, con, da</th>\n",
        "  </tr>\n",
        "  <tr>\n",
        "      <th>Avverbi</th>\n",
        "      <th>ADV</th> \n",
        "      <th>presto, adesso, davvero</th>\n",
        "  </tr>\n",
        "  <tr>\n",
        "      <th>Congiunzioni</th>\n",
        "      <th>CONJ</th> \n",
        "      <th>e, o, ma, mentre, se</th>\n",
        "  </tr>\n",
        "  <tr>\n",
        "      <th>Articoli determinativi</th>\n",
        "      <th>DET</th> \n",
        "      <th>il, la, tutti, alcuni</th>\n",
        "  </tr>\n",
        "  <tr>\n",
        "      <th>Nomi</th>\n",
        "      <th>NOUN</th> \n",
        "      <th>casa, cane, uomo</th>\n",
        "  </tr>\n",
        "  <tr>\n",
        "      <th>Numeri</th>\n",
        "      <th>NUM</th> \n",
        "      <th>10, cento, 13:30</th>\n",
        "  </tr>\n",
        "  <tr>\n",
        "      <th>Particella</th>\n",
        "      <th>PRT</th> \n",
        "      <th>???</th>\n",
        "  </tr>\n",
        "  <tr>\n",
        "      <th>Pronomi</th>\n",
        "      <th>PRON</th> \n",
        "      <th>Lei, esso, io, egli</th>\n",
        "  </tr>\n",
        "   <tr>\n",
        "      <th>Verbi</th>\n",
        "      <th>VERB</th> \n",
        "      <th>ha, era, potrebbe</th>\n",
        "  </tr>\n",
        "    <tr>\n",
        "      <th>Punteggiatura</th>\n",
        "      <th>.</th> \n",
        "      <th>. , ! ? : ; </th>\n",
        "  </tr>\n",
        "    <tr>\n",
        "      <th>Altro</th>\n",
        "      <th>X</th> \n",
        "      <th>lol, xke, cmq</th>\n",
        "  </tr>\n",
        "  </table>"
      ]
    },
    {
      "metadata": {
        "id": "IQP6L-05_-4j",
        "colab_type": "text"
      },
      "cell_type": "markdown",
      "source": [
        "## POS Tagging con NLTK\n",
        "Vediamo come eseguire il POS Tagging con NLTK, cominicamo importando il modulo e scaricando il modulo 'punkt', per eseguire il tagging dobbiamo scaricare anche il modulo 'averaged_perceptron_tagger'. Scarichiamo anche il modulo 'tagset' che non ci servirà per eseguire il tagging ma per ottenere lista e descrizione dei tag di NLTK."
      ]
    },
    {
      "metadata": {
        "id": "Zg8pUWwB_xQH",
        "colab_type": "code",
        "colab": {
          "base_uri": "https://localhost:8080/",
          "height": 137
        },
        "outputId": "cd6adf29-714d-49f8-92b3-8cd4fd7efa6d"
      },
      "cell_type": "code",
      "source": [
        "import nltk\n",
        "nltk.download('punkt')\n",
        "nltk.download('averaged_perceptron_tagger')"
      ],
      "execution_count": 20,
      "outputs": [
        {
          "output_type": "stream",
          "text": [
            "[nltk_data] Downloading package punkt to /root/nltk_data...\n",
            "[nltk_data]   Package punkt is already up-to-date!\n",
            "[nltk_data] Downloading package averaged_perceptron_tagger to\n",
            "[nltk_data]     /root/nltk_data...\n",
            "[nltk_data]   Package averaged_perceptron_tagger is already up-to-\n",
            "[nltk_data]       date!\n"
          ],
          "name": "stdout"
        },
        {
          "output_type": "execute_result",
          "data": {
            "text/plain": [
              "True"
            ]
          },
          "metadata": {
            "tags": []
          },
          "execution_count": 20
        }
      ]
    },
    {
      "metadata": {
        "id": "65BJXFd7_UrJ",
        "colab_type": "text"
      },
      "cell_type": "markdown",
      "source": [
        "Possiamo eseguire il POS Tagging con NLTK usando la funzione pos_tag"
      ]
    },
    {
      "metadata": {
        "id": "k2Ol04XJ2j6T",
        "colab_type": "code",
        "colab": {
          "base_uri": "https://localhost:8080/",
          "height": 188
        },
        "outputId": "3bcee3e7-e367-4806-be64-d868d089e6e7"
      },
      "cell_type": "code",
      "source": [
        "text = \"Every day is a new day for me\"\n",
        "\n",
        "tokens = nltk.word_tokenize(text)\n",
        "\n",
        "tags = nltk.pos_tag(tokens)\n",
        "\n",
        "print(type(tags))\n",
        "print(\"TOKEN\\t\\tTAG\")\n",
        "\n",
        "for tag in tags:\n",
        "  print(tag[0]+\"\\t\\t\"+tag[1])"
      ],
      "execution_count": 21,
      "outputs": [
        {
          "output_type": "stream",
          "text": [
            "<class 'list'>\n",
            "TOKEN\t\tTAG\n",
            "Every\t\tDT\n",
            "day\t\tNN\n",
            "is\t\tVBZ\n",
            "a\t\tDT\n",
            "new\t\tJJ\n",
            "day\t\tNN\n",
            "for\t\tIN\n",
            "me\t\tPRP\n"
          ],
          "name": "stdout"
        }
      ]
    },
    {
      "metadata": {
        "id": "CygsJyNrDLwm",
        "colab_type": "text"
      },
      "cell_type": "markdown",
      "source": [
        "I tags che utilizza NLTK sono diversi da quelli della nostra tabella e sono davvero tanti, possiamo accedere alla lista completa in ordine alfabetico con tanto di descrizione usando la funzione *help.upenn_tagset()*."
      ]
    },
    {
      "metadata": {
        "id": "H6JGyGH6C5Fp",
        "colab_type": "code",
        "colab": {
          "base_uri": "https://localhost:8080/",
          "height": 2403
        },
        "outputId": "a3594e8b-0b61-4e12-cec3-ab153e730688"
      },
      "cell_type": "code",
      "source": [
        "nltk.help.upenn_tagset()"
      ],
      "execution_count": 22,
      "outputs": [
        {
          "output_type": "stream",
          "text": [
            "$: dollar\n",
            "    $ -$ --$ A$ C$ HK$ M$ NZ$ S$ U.S.$ US$\n",
            "'': closing quotation mark\n",
            "    ' ''\n",
            "(: opening parenthesis\n",
            "    ( [ {\n",
            "): closing parenthesis\n",
            "    ) ] }\n",
            ",: comma\n",
            "    ,\n",
            "--: dash\n",
            "    --\n",
            ".: sentence terminator\n",
            "    . ! ?\n",
            ":: colon or ellipsis\n",
            "    : ; ...\n",
            "CC: conjunction, coordinating\n",
            "    & 'n and both but either et for less minus neither nor or plus so\n",
            "    therefore times v. versus vs. whether yet\n",
            "CD: numeral, cardinal\n",
            "    mid-1890 nine-thirty forty-two one-tenth ten million 0.5 one forty-\n",
            "    seven 1987 twenty '79 zero two 78-degrees eighty-four IX '60s .025\n",
            "    fifteen 271,124 dozen quintillion DM2,000 ...\n",
            "DT: determiner\n",
            "    all an another any both del each either every half la many much nary\n",
            "    neither no some such that the them these this those\n",
            "EX: existential there\n",
            "    there\n",
            "FW: foreign word\n",
            "    gemeinschaft hund ich jeux habeas Haementeria Herr K'ang-si vous\n",
            "    lutihaw alai je jour objets salutaris fille quibusdam pas trop Monte\n",
            "    terram fiche oui corporis ...\n",
            "IN: preposition or conjunction, subordinating\n",
            "    astride among uppon whether out inside pro despite on by throughout\n",
            "    below within for towards near behind atop around if like until below\n",
            "    next into if beside ...\n",
            "JJ: adjective or numeral, ordinal\n",
            "    third ill-mannered pre-war regrettable oiled calamitous first separable\n",
            "    ectoplasmic battery-powered participatory fourth still-to-be-named\n",
            "    multilingual multi-disciplinary ...\n",
            "JJR: adjective, comparative\n",
            "    bleaker braver breezier briefer brighter brisker broader bumper busier\n",
            "    calmer cheaper choosier cleaner clearer closer colder commoner costlier\n",
            "    cozier creamier crunchier cuter ...\n",
            "JJS: adjective, superlative\n",
            "    calmest cheapest choicest classiest cleanest clearest closest commonest\n",
            "    corniest costliest crassest creepiest crudest cutest darkest deadliest\n",
            "    dearest deepest densest dinkiest ...\n",
            "LS: list item marker\n",
            "    A A. B B. C C. D E F First G H I J K One SP-44001 SP-44002 SP-44005\n",
            "    SP-44007 Second Third Three Two * a b c d first five four one six three\n",
            "    two\n",
            "MD: modal auxiliary\n",
            "    can cannot could couldn't dare may might must need ought shall should\n",
            "    shouldn't will would\n",
            "NN: noun, common, singular or mass\n",
            "    common-carrier cabbage knuckle-duster Casino afghan shed thermostat\n",
            "    investment slide humour falloff slick wind hyena override subhumanity\n",
            "    machinist ...\n",
            "NNP: noun, proper, singular\n",
            "    Motown Venneboerger Czestochwa Ranzer Conchita Trumplane Christos\n",
            "    Oceanside Escobar Kreisler Sawyer Cougar Yvette Ervin ODI Darryl CTCA\n",
            "    Shannon A.K.C. Meltex Liverpool ...\n",
            "NNPS: noun, proper, plural\n",
            "    Americans Americas Amharas Amityvilles Amusements Anarcho-Syndicalists\n",
            "    Andalusians Andes Andruses Angels Animals Anthony Antilles Antiques\n",
            "    Apache Apaches Apocrypha ...\n",
            "NNS: noun, common, plural\n",
            "    undergraduates scotches bric-a-brac products bodyguards facets coasts\n",
            "    divestitures storehouses designs clubs fragrances averages\n",
            "    subjectivists apprehensions muses factory-jobs ...\n",
            "PDT: pre-determiner\n",
            "    all both half many quite such sure this\n",
            "POS: genitive marker\n",
            "    ' 's\n",
            "PRP: pronoun, personal\n",
            "    hers herself him himself hisself it itself me myself one oneself ours\n",
            "    ourselves ownself self she thee theirs them themselves they thou thy us\n",
            "PRP$: pronoun, possessive\n",
            "    her his mine my our ours their thy your\n",
            "RB: adverb\n",
            "    occasionally unabatingly maddeningly adventurously professedly\n",
            "    stirringly prominently technologically magisterially predominately\n",
            "    swiftly fiscally pitilessly ...\n",
            "RBR: adverb, comparative\n",
            "    further gloomier grander graver greater grimmer harder harsher\n",
            "    healthier heavier higher however larger later leaner lengthier less-\n",
            "    perfectly lesser lonelier longer louder lower more ...\n",
            "RBS: adverb, superlative\n",
            "    best biggest bluntest earliest farthest first furthest hardest\n",
            "    heartiest highest largest least less most nearest second tightest worst\n",
            "RP: particle\n",
            "    aboard about across along apart around aside at away back before behind\n",
            "    by crop down ever fast for forth from go high i.e. in into just later\n",
            "    low more off on open out over per pie raising start teeth that through\n",
            "    under unto up up-pp upon whole with you\n",
            "SYM: symbol\n",
            "    % & ' '' ''. ) ). * + ,. < = > @ A[fj] U.S U.S.S.R * ** ***\n",
            "TO: \"to\" as preposition or infinitive marker\n",
            "    to\n",
            "UH: interjection\n",
            "    Goodbye Goody Gosh Wow Jeepers Jee-sus Hubba Hey Kee-reist Oops amen\n",
            "    huh howdy uh dammit whammo shucks heck anyways whodunnit honey golly\n",
            "    man baby diddle hush sonuvabitch ...\n",
            "VB: verb, base form\n",
            "    ask assemble assess assign assume atone attention avoid bake balkanize\n",
            "    bank begin behold believe bend benefit bevel beware bless boil bomb\n",
            "    boost brace break bring broil brush build ...\n",
            "VBD: verb, past tense\n",
            "    dipped pleaded swiped regummed soaked tidied convened halted registered\n",
            "    cushioned exacted snubbed strode aimed adopted belied figgered\n",
            "    speculated wore appreciated contemplated ...\n",
            "VBG: verb, present participle or gerund\n",
            "    telegraphing stirring focusing angering judging stalling lactating\n",
            "    hankerin' alleging veering capping approaching traveling besieging\n",
            "    encrypting interrupting erasing wincing ...\n",
            "VBN: verb, past participle\n",
            "    multihulled dilapidated aerosolized chaired languished panelized used\n",
            "    experimented flourished imitated reunifed factored condensed sheared\n",
            "    unsettled primed dubbed desired ...\n",
            "VBP: verb, present tense, not 3rd person singular\n",
            "    predominate wrap resort sue twist spill cure lengthen brush terminate\n",
            "    appear tend stray glisten obtain comprise detest tease attract\n",
            "    emphasize mold postpone sever return wag ...\n",
            "VBZ: verb, present tense, 3rd person singular\n",
            "    bases reconstructs marks mixes displeases seals carps weaves snatches\n",
            "    slumps stretches authorizes smolders pictures emerges stockpiles\n",
            "    seduces fizzes uses bolsters slaps speaks pleads ...\n",
            "WDT: WH-determiner\n",
            "    that what whatever which whichever\n",
            "WP: WH-pronoun\n",
            "    that what whatever whatsoever which who whom whosoever\n",
            "WP$: WH-pronoun, possessive\n",
            "    whose\n",
            "WRB: Wh-adverb\n",
            "    how however whence whenever where whereby whereever wherein whereof why\n",
            "``: opening quotation mark\n",
            "    ` ``\n"
          ],
          "name": "stdout"
        }
      ]
    },
    {
      "metadata": {
        "id": "8eXjlzTVEXuX",
        "colab_type": "text"
      },
      "cell_type": "markdown",
      "source": [
        "Il POS tagging di NLTK supporta solo la lingua inglese."
      ]
    },
    {
      "metadata": {
        "id": "hjAONRgnBUs0",
        "colab_type": "text"
      },
      "cell_type": "markdown",
      "source": [
        "## POS Tagging con Spacy\n",
        "\n",
        "Passiamo Spacy, importiamo il modulo per la lingua inglese."
      ]
    },
    {
      "metadata": {
        "id": "TJS-Kuit_r7p",
        "colab_type": "code",
        "colab": {}
      },
      "cell_type": "code",
      "source": [
        "import spacy\n",
        "\n",
        "nlp = spacy.load(\"en_core_web_sm\")"
      ],
      "execution_count": 0,
      "outputs": []
    },
    {
      "metadata": {
        "id": "ixTGj0NUEuoA",
        "colab_type": "text"
      },
      "cell_type": "markdown",
      "source": [
        "anche nel caso del POS Tagging non dobbiamo fare nulla, dato che anche questa informazione viene elaborata durante il processing del documento. Possiamo accedere al tag tramite l'attributo *pos_* (e anche in questo caso fai attenzione all'utlizzo del trattino basso se non vuoi ottenere l'hash)."
      ]
    },
    {
      "metadata": {
        "id": "PyiHTEimBgIR",
        "colab_type": "code",
        "colab": {
          "base_uri": "https://localhost:8080/",
          "height": 171
        },
        "outputId": "2a68ca87-41e2-4143-f1bf-1811d58e6f22"
      },
      "cell_type": "code",
      "source": [
        "doc = nlp(\"Every day is a new day for me\")\n",
        "\n",
        "print(\"TOKEN\\t\\tTAG\")\n",
        "\n",
        "for token in doc:\n",
        "  print(token.text+\"\\t\\t\"+token.pos_)"
      ],
      "execution_count": 26,
      "outputs": [
        {
          "output_type": "stream",
          "text": [
            "TOKEN\t\tTAG\n",
            "Every\t\tDET\n",
            "day\t\tNOUN\n",
            "is\t\tVERB\n",
            "a\t\tDET\n",
            "new\t\tADJ\n",
            "day\t\tNOUN\n",
            "for\t\tADP\n",
            "me\t\tPRON\n"
          ],
          "name": "stdout"
        }
      ]
    },
    {
      "metadata": {
        "id": "QhuCnyKfE_OJ",
        "colab_type": "text"
      },
      "cell_type": "markdown",
      "source": [
        "Questa volta i tag sono molto più comprensibili e precisi. Proviamo ora con un esempio in italiano, scarichiamo il modulo per la lingua italiana."
      ]
    },
    {
      "metadata": {
        "id": "Ozz9amP8FRHh",
        "colab_type": "code",
        "colab": {
          "base_uri": "https://localhost:8080/",
          "height": 174
        },
        "outputId": "2c18e8c6-e03b-46c8-e8ec-f178eb02c0c1"
      },
      "cell_type": "code",
      "source": [
        "!python -m spacy download it_core_news_sm"
      ],
      "execution_count": 27,
      "outputs": [
        {
          "output_type": "stream",
          "text": [
            "Requirement already satisfied: it_core_news_sm==2.0.0 from https://github.com/explosion/spacy-models/releases/download/it_core_news_sm-2.0.0/it_core_news_sm-2.0.0.tar.gz#egg=it_core_news_sm==2.0.0 in /usr/local/lib/python3.6/dist-packages (2.0.0)\n",
            "\n",
            "\u001b[93m    Linking successful\u001b[0m\n",
            "    /usr/local/lib/python3.6/dist-packages/it_core_news_sm -->\n",
            "    /usr/local/lib/python3.6/dist-packages/spacy/data/it_core_news_sm\n",
            "\n",
            "    You can now load the model via spacy.load('it_core_news_sm')\n",
            "\n"
          ],
          "name": "stdout"
        }
      ]
    },
    {
      "metadata": {
        "id": "OGuoRq-UFSYs",
        "colab_type": "text"
      },
      "cell_type": "markdown",
      "source": [
        "e proviamo con una recensione del Signore degli Enigmi."
      ]
    },
    {
      "metadata": {
        "id": "BzNpn5ZsFHu4",
        "colab_type": "code",
        "colab": {
          "base_uri": "https://localhost:8080/",
          "height": 274
        },
        "outputId": "a0d37678-c937-4c13-f4d4-0415367a19f5"
      },
      "cell_type": "code",
      "source": [
        "import spacy\n",
        "\n",
        "nlp = spacy.load(\"it_core_news_sm\")\n",
        "\n",
        "doc = nlp(\"un pò troppo difficile ci sto mettendo tantissimo tempo solo per il primo livello\")\n",
        "\n",
        "print(\"TOKEN\\t\\tTAG\")\n",
        "\n",
        "for token in doc:\n",
        "  print(token.text+\"\\t\\t\"+token.pos_)"
      ],
      "execution_count": 29,
      "outputs": [
        {
          "output_type": "stream",
          "text": [
            "TOKEN\t\tTAG\n",
            "un\t\tDET\n",
            "pò\t\tNOUN\n",
            "troppo\t\tADV\n",
            "difficile\t\tADJ\n",
            "ci\t\tPRON\n",
            "sto\t\tAUX\n",
            "mettendo\t\tVERB\n",
            "tantissimo\t\tADJ\n",
            "tempo\t\tNOUN\n",
            "solo\t\tADV\n",
            "per\t\tADP\n",
            "il\t\tDET\n",
            "primo\t\tADJ\n",
            "livello\t\tNOUN\n"
          ],
          "name": "stdout"
        }
      ]
    },
    {
      "metadata": {
        "id": "vy2yN_N2A1Nr",
        "colab_type": "text"
      },
      "cell_type": "markdown",
      "source": [
        "## LINK UTILI\n",
        " - https://www.nltk.org/book/ch05.html"
      ]
    },
    {
      "metadata": {
        "id": "0ABegQu_A22x",
        "colab_type": "code",
        "colab": {}
      },
      "cell_type": "code",
      "source": [
        ""
      ],
      "execution_count": 0,
      "outputs": []
    }
  ]
}