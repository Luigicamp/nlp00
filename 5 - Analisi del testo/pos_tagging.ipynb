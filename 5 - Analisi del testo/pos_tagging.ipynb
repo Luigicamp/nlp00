{
  "nbformat": 4,
  "nbformat_minor": 0,
  "metadata": {
    "colab": {
      "name": "pos_tagging.ipynb",
      "version": "0.3.2",
      "provenance": [],
      "include_colab_link": true
    },
    "kernelspec": {
      "name": "python3",
      "display_name": "Python 3"
    }
  },
  "cells": [
    {
      "cell_type": "markdown",
      "metadata": {
        "id": "view-in-github",
        "colab_type": "text"
      },
      "source": [
        "<a href=\"https://colab.research.google.com/github/ProfAI/nlp00/blob/master/5%20-%20Analisi%20del%20testo/pos_tagging.ipynb\" target=\"_parent\"><img src=\"https://colab.research.google.com/assets/colab-badge.svg\" alt=\"Open In Colab\"/></a>"
      ]
    },
    {
      "metadata": {
        "id": "tu-7KNu123zC",
        "colab_type": "text"
      },
      "cell_type": "markdown",
      "source": [
        "### Part-of-speech Tagging\n",
        "Il part-of-speech tagging è un processo che consiste nell'identificazione del tipo delle parole del testo. I tipi solitamente possono essere raggruppati in queste categorie.\n",
        "<br>\n",
        "<table>\n",
        "  <tr>\n",
        "    <th>Tipo</th>\n",
        "    <th>Tag</th> \n",
        "    <th>Esempi</th>\n",
        "  </tr>\n",
        "    <tr>\n",
        "    <th>Aggettivi</th>\n",
        "    <th>ADJ</th> \n",
        "    <th>nuovo, buono, alto</th>\n",
        "  </tr>\n",
        "    <tr>\n",
        "      <th>Preposizione</th>\n",
        "      <th>ADP</th> \n",
        "      <th>su, di, a, con, da</th>\n",
        "  </tr>\n",
        "  <tr>\n",
        "      <th>Avverbi</th>\n",
        "      <th>ADV</th> \n",
        "      <th>presto, adesso, davvero</th>\n",
        "  </tr>\n",
        "  <tr>\n",
        "      <th>Congiunzioni</th>\n",
        "      <th>CONJ</th> \n",
        "      <th>e, o, ma, mentre, se</th>\n",
        "  </tr>\n",
        "  <tr>\n",
        "      <th>Articoli determinativi</th>\n",
        "      <th>DET</th> \n",
        "      <th>il, la, tutti, alcuni</th>\n",
        "  </tr>\n",
        "  <tr>\n",
        "      <th>Nomi</th>\n",
        "      <th>NOUN</th> \n",
        "      <th>casa, cane, uomo</th>\n",
        "  </tr>\n",
        "  <tr>\n",
        "      <th>Numeri</th>\n",
        "      <th>NUM</th> \n",
        "      <th>10, cento, 13:30</th>\n",
        "  </tr>\n",
        "  <tr>\n",
        "      <th>Particella</th>\n",
        "      <th>PRT</th> \n",
        "      <th>???</th>\n",
        "  </tr>\n",
        "  <tr>\n",
        "      <th>Pronomi</th>\n",
        "      <th>PRON</th> \n",
        "      <th>Lei, esso, io, egli</th>\n",
        "  </tr>\n",
        "   <tr>\n",
        "      <th>Verbi</th>\n",
        "      <th>VERB</th> \n",
        "      <th>ha, era, potrebbe</th>\n",
        "  </tr>\n",
        "    <tr>\n",
        "      <th>Punteggiatura</th>\n",
        "      <th>.</th> \n",
        "      <th>. , ! ? : ; </th>\n",
        "  </tr>\n",
        "    <tr>\n",
        "      <th>Altro</th>\n",
        "      <th>X</th> \n",
        "      <th>lol, xke, cmq</th>\n",
        "  </tr>\n",
        "  </table>"
      ]
    },
    {
      "metadata": {
        "id": "k2Ol04XJ2j6T",
        "colab_type": "code",
        "colab": {}
      },
      "cell_type": "code",
      "source": [
        ""
      ],
      "execution_count": 0,
      "outputs": []
    }
  ]
}