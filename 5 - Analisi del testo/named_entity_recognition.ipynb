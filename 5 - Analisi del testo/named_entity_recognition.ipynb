{
  "nbformat": 4,
  "nbformat_minor": 0,
  "metadata": {
    "colab": {
      "name": "named_entity_recognition.ipynb",
      "version": "0.3.2",
      "provenance": [],
      "include_colab_link": true
    },
    "kernelspec": {
      "name": "python3",
      "display_name": "Python 3"
    }
  },
  "cells": [
    {
      "cell_type": "markdown",
      "metadata": {
        "id": "view-in-github",
        "colab_type": "text"
      },
      "source": [
        "<a href=\"https://colab.research.google.com/github/ProfAI/nlp00/blob/master/5%20-%20Analisi%20del%20testo/named_entity_recognition.ipynb\" target=\"_parent\"><img src=\"https://colab.research.google.com/assets/colab-badge.svg\" alt=\"Open In Colab\"/></a>"
      ]
    },
    {
      "metadata": {
        "id": "qqrTWU73GRdu",
        "colab_type": "text"
      },
      "cell_type": "markdown",
      "source": [
        "# Named Entity Recognition\n",
        "La Named Entity Recognition (NER) è l'operazione di livello superiore al POS Tagging e consiste nell'identificare la classe di appartenenza di una determinata parola. Esempi di classi possono essere: persone, organizzazioni, luoghi e quantità.\n",
        "<br><br>\n",
        "Entità è un'altra delle informazioni che Spacy ci restituisce, vediamo come ottenerla.\n",
        "Importiamo Spacy e carichiamo il modulo per la lingua inglese."
      ]
    },
    {
      "metadata": {
        "id": "AKKRF1qFGOjm",
        "colab_type": "code",
        "colab": {}
      },
      "cell_type": "code",
      "source": [
        "import spacy\n",
        "\n",
        "nlp = spacy.load(\"en_core_web_sm\")"
      ],
      "execution_count": 0,
      "outputs": []
    },
    {
      "metadata": {
        "id": "jBBpaOhwJ9O5",
        "colab_type": "text"
      },
      "cell_type": "markdown",
      "source": [
        "Creiamo un documento con una che contiene diverse entità, come una persona, un'organizzazione, una cifra e una data."
      ]
    },
    {
      "metadata": {
        "id": "cWZtxeGeJqiY",
        "colab_type": "code",
        "colab": {}
      },
      "cell_type": "code",
      "source": [
        "doc = nlp(\"Mark Zuckerberg acquired Whatsapp for 15 billions USD on 15 August 2014.\")"
      ],
      "execution_count": 0,
      "outputs": []
    },
    {
      "metadata": {
        "id": "egG6KwnIGUY4",
        "colab_type": "text"
      },
      "cell_type": "markdown",
      "source": [
        "Adesso possiamo accedere alle entità usando l'attributò *.ents*"
      ]
    },
    {
      "metadata": {
        "id": "qsHiXBuoL3NW",
        "colab_type": "code",
        "colab": {
          "base_uri": "https://localhost:8080/",
          "height": 34
        },
        "outputId": "0e247814-75de-4638-c59d-a2110aad6a0d"
      },
      "cell_type": "code",
      "source": [
        "doc.ents"
      ],
      "execution_count": 18,
      "outputs": [
        {
          "output_type": "execute_result",
          "data": {
            "text/plain": [
              "(Mark Zuckerberg, Whatsapp, 15 billions USD, 15 August 2014)"
            ]
          },
          "metadata": {
            "tags": []
          },
          "execution_count": 18
        }
      ]
    },
    {
      "metadata": {
        "id": "LdnLdZnTL7zR",
        "colab_type": "text"
      },
      "cell_type": "markdown",
      "source": [
        "Se l'attributo è vuoto, vuol dire che nel nostro testo non è presente (o non è stata rilevata) nessuna entità, possiamo stampare il tipo di entità usando l'attributo *.label_* di ogni entità."
      ]
    },
    {
      "metadata": {
        "id": "VHuhsw-8KPHw",
        "colab_type": "code",
        "colab": {
          "base_uri": "https://localhost:8080/",
          "height": 103
        },
        "outputId": "3beeed0b-16d8-458b-db01-abe5827f3de4"
      },
      "cell_type": "code",
      "source": [
        "print(\"TOKEN\\t\\tENTITA'\")\n",
        "\n",
        "for ent in doc.ents:\n",
        "  print(ent.text+\"\\t\\t\"+ent.label_)"
      ],
      "execution_count": 17,
      "outputs": [
        {
          "output_type": "stream",
          "text": [
            "TOKEN\t\tENTITA'\n",
            "Mark Zuckerberg\t\tPERSON\n",
            "Whatsapp\t\tORG\n",
            "15 billions USD\t\tMONEY\n",
            "15 August 2014\t\tDATE\n"
          ],
          "name": "stdout"
        }
      ]
    },
    {
      "metadata": {
        "id": "GaIgY28JMKfg",
        "colab_type": "text"
      },
      "cell_type": "markdown",
      "source": [
        "Come vedi Spacy ha fatto un'ottimo lavoro, vediamo se fa lo stesso con un'esempio in Italiano."
      ]
    },
    {
      "metadata": {
        "id": "tba5af0YOgKA",
        "colab_type": "code",
        "colab": {
          "base_uri": "https://localhost:8080/",
          "height": 174
        },
        "outputId": "6524c06c-35db-40e5-e30f-8fd9a6da0dd7"
      },
      "cell_type": "code",
      "source": [
        "!python -m spacy download it_core_news_sm"
      ],
      "execution_count": 25,
      "outputs": [
        {
          "output_type": "stream",
          "text": [
            "Requirement already satisfied: it_core_news_sm==2.0.0 from https://github.com/explosion/spacy-models/releases/download/it_core_news_sm-2.0.0/it_core_news_sm-2.0.0.tar.gz#egg=it_core_news_sm==2.0.0 in /usr/local/lib/python3.6/dist-packages (2.0.0)\n",
            "\n",
            "\u001b[93m    Linking successful\u001b[0m\n",
            "    /usr/local/lib/python3.6/dist-packages/it_core_news_sm -->\n",
            "    /usr/local/lib/python3.6/dist-packages/spacy/data/it_core_news_sm\n",
            "\n",
            "    You can now load the model via spacy.load('it_core_news_sm')\n",
            "\n"
          ],
          "name": "stdout"
        }
      ]
    },
    {
      "metadata": {
        "id": "Anls_NgoOIRd",
        "colab_type": "code",
        "colab": {
          "base_uri": "https://localhost:8080/",
          "height": 120
        },
        "outputId": "2f1f1e34-c962-4097-c024-41042a72fcea"
      },
      "cell_type": "code",
      "source": [
        "nlp = spacy.load(\"it_core_news_sm\")\n",
        "\n",
        "doc = nlp(\"Il 15 gennaio 2020 Giuseppe Gullo ha venduto la sua azienda Nigmatica a Mediaset per 10 milioni di euro ed è andato a vivere ad Helsinki con il suo gatto Elon.\")\n",
        "\n",
        "print(\"TOKEN\\t\\tENTITA'\")\n",
        "\n",
        "for ent in doc.ents:\n",
        "  print(ent.text+\"\\t\\t\"+ent.label_)"
      ],
      "execution_count": 29,
      "outputs": [
        {
          "output_type": "stream",
          "text": [
            "TOKEN\t\tENTITA'\n",
            "Giuseppe Gullo\t\tPER\n",
            "Nigmatica\t\tLOC\n",
            "Mediaset\t\tORG\n",
            "Helsinki\t\tLOC\n",
            "Elon\t\tPER\n"
          ],
          "name": "stdout"
        }
      ]
    },
    {
      "metadata": {
        "id": "r1Sk5wM0PQNq",
        "colab_type": "text"
      },
      "cell_type": "markdown",
      "source": [
        "Come vedi in italiano il risultato è buono ma non eccellente come per l'inglese."
      ]
    },
    {
      "metadata": {
        "id": "cCJi0QgzM1ZB",
        "colab_type": "text"
      },
      "cell_type": "markdown",
      "source": [
        "## Visualizzazione delle entità\n",
        "Spacy contiene un fantastico modulo per creare diversi tipi di visualizzazioni del testo chiamato Displacy. Importiamo displacy e utilizziamo per creare una rappresentazione visiva delle entità presenti nel testo."
      ]
    },
    {
      "metadata": {
        "id": "mJ0HBr2qKb2V",
        "colab_type": "code",
        "colab": {
          "base_uri": "https://localhost:8080/",
          "height": 122
        },
        "outputId": "f4d0da5c-8ead-4a64-92cc-b41c04661cef"
      },
      "cell_type": "code",
      "source": [
        "from spacy import displacy\n",
        "\n",
        "nlp = spacy.load(\"en_core_web_sm\")\n",
        "doc = nlp(\"Jeff Bezos, founder and CEO of Amazon, an ecommerce company with headquarter in Seattle, became the world richest man on October 2017 with a net worth of 90 billions USD\")\n",
        "\n",
        "displacy.render(doc, style='ent', jupyter=True)"
      ],
      "execution_count": 31,
      "outputs": [
        {
          "output_type": "display_data",
          "data": {
            "text/html": [
              "<div class=\"entities\" style=\"line-height: 2.5\">\n",
              "<mark class=\"entity\" style=\"background: #aa9cfc; padding: 0.45em 0.6em; margin: 0 0.25em; line-height: 1; border-radius: 0.35em; box-decoration-break: clone; -webkit-box-decoration-break: clone\">\n",
              "    Jeff Bezos\n",
              "    <span style=\"font-size: 0.8em; font-weight: bold; line-height: 1; border-radius: 0.35em; text-transform: uppercase; vertical-align: middle; margin-left: 0.5rem\">PERSON</span>\n",
              "</mark>\n",
              ", founder and CEO of \n",
              "<mark class=\"entity\" style=\"background: #7aecec; padding: 0.45em 0.6em; margin: 0 0.25em; line-height: 1; border-radius: 0.35em; box-decoration-break: clone; -webkit-box-decoration-break: clone\">\n",
              "    Amazon\n",
              "    <span style=\"font-size: 0.8em; font-weight: bold; line-height: 1; border-radius: 0.35em; text-transform: uppercase; vertical-align: middle; margin-left: 0.5rem\">ORG</span>\n",
              "</mark>\n",
              ", an ecommerce company with headquarter in \n",
              "<mark class=\"entity\" style=\"background: #feca74; padding: 0.45em 0.6em; margin: 0 0.25em; line-height: 1; border-radius: 0.35em; box-decoration-break: clone; -webkit-box-decoration-break: clone\">\n",
              "    Seattle\n",
              "    <span style=\"font-size: 0.8em; font-weight: bold; line-height: 1; border-radius: 0.35em; text-transform: uppercase; vertical-align: middle; margin-left: 0.5rem\">GPE</span>\n",
              "</mark>\n",
              ", became the world richest man on \n",
              "<mark class=\"entity\" style=\"background: #bfe1d9; padding: 0.45em 0.6em; margin: 0 0.25em; line-height: 1; border-radius: 0.35em; box-decoration-break: clone; -webkit-box-decoration-break: clone\">\n",
              "    October 2017\n",
              "    <span style=\"font-size: 0.8em; font-weight: bold; line-height: 1; border-radius: 0.35em; text-transform: uppercase; vertical-align: middle; margin-left: 0.5rem\">DATE</span>\n",
              "</mark>\n",
              " with a net worth of \n",
              "<mark class=\"entity\" style=\"background: #e4e7d2; padding: 0.45em 0.6em; margin: 0 0.25em; line-height: 1; border-radius: 0.35em; box-decoration-break: clone; -webkit-box-decoration-break: clone\">\n",
              "    90 billions USD\n",
              "    <span style=\"font-size: 0.8em; font-weight: bold; line-height: 1; border-radius: 0.35em; text-transform: uppercase; vertical-align: middle; margin-left: 0.5rem\">MONEY</span>\n",
              "</mark>\n",
              "</div>"
            ],
            "text/plain": [
              "<IPython.core.display.HTML object>"
            ]
          },
          "metadata": {
            "tags": []
          }
        }
      ]
    },
    {
      "metadata": {
        "id": "fZQe5IFHNrNA",
        "colab_type": "text"
      },
      "cell_type": "markdown",
      "source": [
        "Se lavoriamo su Jupyter Notebook o Colaboratory utilizziamo il parametro jupyter=True per visualizzare il grafico direttamente all'interno del notebook, altrimenti l'ouput del rendering sarà del codice HTML che possiamo salvare e visualizzare dentro al browser."
      ]
    }
  ]
}