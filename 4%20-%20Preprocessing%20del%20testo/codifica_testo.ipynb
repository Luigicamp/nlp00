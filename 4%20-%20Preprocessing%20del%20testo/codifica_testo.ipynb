{
  "nbformat": 4,
  "nbformat_minor": 0,
  "metadata": {
    "colab": {
      "name": "codifica_testo.ipynb",
      "version": "0.3.2",
      "provenance": [],
      "include_colab_link": true
    },
    "kernelspec": {
      "name": "python3",
      "display_name": "Python 3"
    }
  },
  "cells": [
    {
      "cell_type": "markdown",
      "metadata": {
        "id": "view-in-github",
        "colab_type": "text"
      },
      "source": [
        "<a href=\"https://colab.research.google.com/github/ProfAI/nlp00/blob/master/4%2520-%2520Preprocessing%2520del%2520testo/codifica_testo.ipynb\" target=\"_parent\"><img src=\"https://colab.research.google.com/assets/colab-badge.svg\" alt=\"Open In Colab\"/></a>"
      ]
    },
    {
      "metadata": {
        "id": "00dbcadfetQ6",
        "colab_type": "text"
      },
      "cell_type": "markdown",
      "source": [
        "# Codifica del testo"
      ]
    },
    {
      "metadata": {
        "id": "PI6A9DW7ev_8",
        "colab_type": "text"
      },
      "cell_type": "markdown",
      "source": [
        "## Bag of Words"
      ]
    },
    {
      "metadata": {
        "id": "c1k2ZjoEeQWU",
        "colab_type": "code",
        "colab": {
          "base_uri": "https://localhost:8080/",
          "height": 34
        },
        "outputId": "e7674d8d-b3d7-439b-be09-68305bccc59b"
      },
      "cell_type": "code",
      "source": [
        "corpus = [\"la mamma prepara la pasta\", \"la nonna prepara la pizza\", \"papà guarda la mamma\"]\n",
        "\n",
        "dictionary = set({})\n",
        "\n",
        "for sent in corpus:\n",
        "  words = sent.split()\n",
        "  for word in words:\n",
        "    dictionary.add(word)\n",
        "    \n",
        "dictionary = list(dictionary)\n",
        "\n",
        "print(dictionary)"
      ],
      "execution_count": 3,
      "outputs": [
        {
          "output_type": "stream",
          "text": [
            "{'guarda', 'la', 'pasta', 'papà', 'pizza', 'nonna', 'mamma', 'prepara'}\n"
          ],
          "name": "stdout"
        }
      ]
    },
    {
      "metadata": {
        "id": "ONJeQQ0GfRVl",
        "colab_type": "code",
        "colab": {
          "base_uri": "https://localhost:8080/",
          "height": 34
        },
        "outputId": "c6f2c621-4ba5-4bb0-d44c-785c767536ab"
      },
      "cell_type": "code",
      "source": [
        "corpus_bow = []\n",
        "\n",
        "for sent in corpus:\n",
        "  sent_words = sent.split()\n",
        "  sent_bow = []\n",
        "  for word in dictionary:\n",
        "    sent_bow.append(sent_words.count(word))\n",
        "  corpus_bow.append(sent_bow)\n",
        "  \n",
        "print(corpus_bow)"
      ],
      "execution_count": 7,
      "outputs": [
        {
          "output_type": "stream",
          "text": [
            "[[0, 2, 1, 0, 0, 0, 1, 1], [0, 2, 0, 0, 1, 1, 0, 1], [1, 1, 0, 1, 0, 0, 1, 0]]\n"
          ],
          "name": "stdout"
        }
      ]
    },
    {
      "metadata": {
        "id": "MDVYEp5nhCrP",
        "colab_type": "text"
      },
      "cell_type": "markdown",
      "source": [
        "## TF-IDF\n",
        "- https://towardsdatascience.com/tfidf-for-piece-of-text-in-python-43feccaa74f8"
      ]
    },
    {
      "metadata": {
        "id": "bpkks0fugvrf",
        "colab_type": "code",
        "colab": {}
      },
      "cell_type": "code",
      "source": [
        ""
      ],
      "execution_count": 0,
      "outputs": []
    }
  ]
}