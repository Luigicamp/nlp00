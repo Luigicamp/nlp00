{
  "nbformat": 4,
  "nbformat_minor": 0,
  "metadata": {
    "colab": {
      "name": "dante_RNN.ipynb",
      "version": "0.3.2",
      "provenance": [],
      "include_colab_link": true
    },
    "kernelspec": {
      "name": "python3",
      "display_name": "Python 3"
    },
    "accelerator": "GPU"
  },
  "cells": [
    {
      "cell_type": "markdown",
      "metadata": {
        "id": "view-in-github",
        "colab_type": "text"
      },
      "source": [
        "<a href=\"https://colab.research.google.com/github/ProfAI/nlp00/blob/master/8%20-%20Chatbot/dante_RNN.ipynb\" target=\"_parent\"><img src=\"https://colab.research.google.com/assets/colab-badge.svg\" alt=\"Open In Colab\"/></a>"
      ]
    },
    {
      "metadata": {
        "id": "4MjpjKzAue78",
        "colab_type": "text"
      },
      "cell_type": "markdown",
      "source": [
        "# Generare testo con le Reti Ricorrenti (LSTM)\n",
        "In questo notebook vederemo come è possibile utilizzare le reti neurali ricorrenti LSTM non solamente per classificare del testo ma anche per generarlo ! Quello che andremo a fare è cercare di generare del nuovo testo con lo stesso stile che ha utilizzato Dante Alighieri per scrivere la Divina Commedia.<br><br>\n",
        "Cominciamo scaricando una copia gratuita in TXT della Divina Commedia, puoi otterla da [questo sito internet](https://www.liberliber.it/online/autori/autori-a/dante-alighieri/la-divina-commedia-edizione-petrocchi/), se utilizzi Google Colaboratory o hai wget installato esegui pure il comando qui sotto per scaricare il file."
      ]
    },
    {
      "metadata": {
        "id": "q3cb6BFDHJ44",
        "colab_type": "code",
        "outputId": "8470b06a-5116-44dd-a863-41049a972a22",
        "colab": {
          "base_uri": "https://localhost:8080/",
          "height": 226
        }
      },
      "cell_type": "code",
      "source": [
        "!wget https://www.liberliber.it/mediateca/libri/a/alighieri/la_divina_commedia/txt/la_divin.zip"
      ],
      "execution_count": 15,
      "outputs": [
        {
          "output_type": "stream",
          "text": [
            "--2019-04-23 11:18:42--  https://www.liberliber.it/mediateca/libri/a/alighieri/la_divina_commedia/txt/la_divin.zip\n",
            "Resolving www.liberliber.it (www.liberliber.it)... 93.186.244.67\n",
            "Connecting to www.liberliber.it (www.liberliber.it)|93.186.244.67|:443... connected.\n",
            "HTTP request sent, awaiting response... 200 OK\n",
            "Length: 232691 (227K) [application/zip]\n",
            "Saving to: ‘la_divin.zip.1’\n",
            "\n",
            "la_divin.zip.1      100%[===================>] 227.24K   467KB/s    in 0.5s    \n",
            "\n",
            "2019-04-23 11:18:43 (467 KB/s) - ‘la_divin.zip.1’ saved [232691/232691]\n",
            "\n"
          ],
          "name": "stdout"
        }
      ]
    },
    {
      "metadata": {
        "id": "-bnyH7aNxWV_",
        "colab_type": "text"
      },
      "cell_type": "markdown",
      "source": [
        "ed estrai lo zip."
      ]
    },
    {
      "metadata": {
        "id": "_kJMMCZmIgvK",
        "colab_type": "code",
        "outputId": "ccdc2cb7-53ea-4651-d291-1c325c372882",
        "colab": {
          "base_uri": "https://localhost:8080/",
          "height": 68
        }
      },
      "cell_type": "code",
      "source": [
        "!unzip la_divin.zip"
      ],
      "execution_count": 16,
      "outputs": [
        {
          "output_type": "stream",
          "text": [
            "Archive:  la_divin.zip\n",
            "replace la_divin.txt? [y]es, [n]o, [A]ll, [N]one, [r]ename: A\n",
            "  inflating: la_divin.txt            \n"
          ],
          "name": "stdout"
        }
      ]
    },
    {
      "metadata": {
        "id": "B6knMxL-xcTO",
        "colab_type": "text"
      },
      "cell_type": "markdown",
      "source": [
        "## Processiamo i dati\n",
        "Apriamo il file appena scaricato, leggiamone il contenuto e stampiamo i primi 100 caratteri."
      ]
    },
    {
      "metadata": {
        "id": "r6Jb2lDdJ4rJ",
        "colab_type": "code",
        "outputId": "c66ca919-a666-4586-cf55-cb912f29f7a9",
        "colab": {
          "base_uri": "https://localhost:8080/",
          "height": 103
        }
      },
      "cell_type": "code",
      "source": [
        "with open(\"la_divin.txt\", encoding=\"latin-1\") as divine_file:\n",
        "  divine_txt = divine_file.read()\n",
        "  \n",
        "print(divine_txt[:100])"
      ],
      "execution_count": 18,
      "outputs": [
        {
          "output_type": "stream",
          "text": [
            "Dante Alighieri\n",
            "La Divina Commedia\n",
            "\n",
            "Questo e-book è stato realizzato anche grazie al sostegno di:\n",
            "E-\n"
          ],
          "name": "stdout"
        }
      ]
    },
    {
      "metadata": {
        "id": "Dn_cBlzg9PDm",
        "colab_type": "text"
      },
      "cell_type": "markdown",
      "source": [
        "Come vedi l'ebook contiene del testo che non ci interessa, usiamo il metodo *.find(text)* per trovare dove inizia e finisce la divina commedia ed eseguiamo lo slicing per tenere soltanto il testo scritto da Dante."
      ]
    },
    {
      "metadata": {
        "id": "l8fKWhRlKLPR",
        "colab_type": "code",
        "outputId": "256490fe-a782-4b49-eb09-bc5c7327cbf3",
        "colab": {
          "base_uri": "https://localhost:8080/",
          "height": 68
        }
      },
      "cell_type": "code",
      "source": [
        "start = divine_txt.find(\"Nel mezzo del cammin di nostra vita\")\n",
        "end = divine_txt.find(\"l'amor che move il sole e l'altre stelle.\")\n",
        "\n",
        "divine_txt = divine_txt[start:end]\n",
        "\n",
        "print(divine_txt[:100])"
      ],
      "execution_count": 19,
      "outputs": [
        {
          "output_type": "stream",
          "text": [
            "Nel mezzo del cammin di nostra vita\n",
            "mi ritrovai per una selva oscura,\n",
            "ché la diritta via era smarrit\n"
          ],
          "name": "stdout"
        }
      ]
    },
    {
      "metadata": {
        "id": "qLp-hGs090pc",
        "colab_type": "text"
      },
      "cell_type": "markdown",
      "source": [
        "Ogni canto contiene una piccola introduzione, ad esempio il primo:\n",
        "<br><br>\n",
        "LA DIVINA COMMEDIA\n",
        "<br>\n",
        "di Dante Alighieri\n",
        "<br>\n",
        "<br>\n",
        "INFERNO\n",
        "<br>\n",
        "<br>\n",
        "CANTO I\n",
        "<br>\n",
        "[Incomincia la Comedia di Dante Alleghieri di Fiorenza, ne la quale tratta de le pene e punimenti de' vizi e de' meriti e premi de le virt˘. Comincia il canto primo de la prima parte la quale si chiama Inferno, nel qual l'auttore fa proemio a tutta l'opera.]<br>\n",
        "<br><br>\n",
        "Il pattern è uguale per ogni canto, quindi possiamo rimuoverlo con un po' di codice:\n",
        " - Usiamo un'espressione regolare per rimuovere tutte le parole che cominciano con almeno due lettere maiscuole.\n",
        " - Usiamo un'altra espressione regolare per rimuovere tutte le frasi contenute tra parentesi quadre.\n",
        " - Rimuoviamo ogni occorrenza della frase 'di Dante Alighieri' dal testo.\n",
        " "
      ]
    },
    {
      "metadata": {
        "id": "R_WfHALrSGQG",
        "colab_type": "code",
        "colab": {}
      },
      "cell_type": "code",
      "source": [
        "import re\n",
        "\n",
        "divine_txt = re.sub(\"[\\(\\[].*?[\\)\\]]\", \"\", divine_txt)\n",
        "divine_txt = re.sub(\"[A-Z][A-Z]+\",\"\",divine_txt)\n",
        "\n",
        "divine_txt = divine_txt.replace(\"di Dante Alighieri\",\"\")"
      ],
      "execution_count": 0,
      "outputs": []
    },
    {
      "metadata": {
        "id": "0e7aDtoP-LF6",
        "colab_type": "text"
      },
      "cell_type": "markdown",
      "source": [
        "Usiamo la solita espressione regolare per rimuovere la punteggiatura, poi rimuoviamo anche i caratteri di 'a capo' e convertiamo tutto il testo in minuscolo."
      ]
    },
    {
      "metadata": {
        "id": "yUPTo6T8_jBh",
        "colab_type": "code",
        "colab": {}
      },
      "cell_type": "code",
      "source": [
        "divine_txt = re.sub(r'[^\\w\\s]','',divine_txt)\n",
        "divine_txt = divine_txt.replace(\"\\n\",\" \")\n",
        "divine_txt = divine_txt.lower()"
      ],
      "execution_count": 0,
      "outputs": []
    },
    {
      "metadata": {
        "id": "0MOxj8ig_xCg",
        "colab_type": "text"
      },
      "cell_type": "markdown",
      "source": [
        "Adesso siamo pronti per tokenizzare il testo, usiamo spacy per farlo. Se non lo abbiamo già fatto installiamo il modulo per la lingua italiana."
      ]
    },
    {
      "metadata": {
        "id": "1p0leKS7ed-F",
        "colab_type": "code",
        "colab": {}
      },
      "cell_type": "code",
      "source": [
        "!python -m spacy download it_core_news_sm"
      ],
      "execution_count": 0,
      "outputs": []
    },
    {
      "metadata": {
        "id": "IDWfVjyzAECM",
        "colab_type": "text"
      },
      "cell_type": "markdown",
      "source": [
        "Carichiamolo, definiamo una funzione che estrae i token da tutto il testo ed utilizziamola."
      ]
    },
    {
      "metadata": {
        "id": "Uw_ynE1men3a",
        "colab_type": "code",
        "colab": {}
      },
      "cell_type": "code",
      "source": [
        "import spacy\n",
        "\n",
        "nlp = spacy.load(\"it_core_news_sm\")\n",
        "\n",
        "def preprocess(text):\n",
        "\n",
        "  tokens = nlp(text)\n",
        "  tokens_filtered = [token.text for token in tokens]\n",
        "  return tokens_filtered\n",
        "\n",
        "tokens = preprocess(divine_txt)\n",
        "tokens[:10]"
      ],
      "execution_count": 0,
      "outputs": []
    },
    {
      "metadata": {
        "id": "CAyfyrqeCacv",
        "colab_type": "text"
      },
      "cell_type": "markdown",
      "source": [
        "Suddividiamo il testo in sequenze con una lunghezza massima di 10 parole, lo scopo delle nostra rete sarà quello di predire l'ultima parola della seguenza utilizzando quelle precedenti."
      ]
    },
    {
      "metadata": {
        "id": "6oXESRj8dUx3",
        "colab_type": "code",
        "outputId": "c22dd6d6-e519-4936-8dde-903fac47799f",
        "colab": {
          "base_uri": "https://localhost:8080/",
          "height": 51
        }
      },
      "cell_type": "code",
      "source": [
        "maxlen = 10\n",
        "\n",
        "divine_sents = []\n",
        "\n",
        "for i in range(maxlen, len(tokens)):\n",
        "  divine_sents.append(tokens[i-maxlen:i])\n",
        "  \n",
        "print(divine_sents[0])\n",
        "print(divine_sents[1])"
      ],
      "execution_count": 22,
      "outputs": [
        {
          "output_type": "stream",
          "text": [
            "['nel', 'mezzo', 'del', 'cammin', 'di', 'nostra', 'vita', 'mi', 'ritrovai', 'per']\n",
            "['mezzo', 'del', 'cammin', 'di', 'nostra', 'vita', 'mi', 'ritrovai', 'per', 'una']\n"
          ],
          "name": "stdout"
        }
      ]
    },
    {
      "metadata": {
        "id": "AoHbrCD6APDb",
        "colab_type": "text"
      },
      "cell_type": "markdown",
      "source": [
        "Adesso dobbiamo codificare le parole in numeri, possiamo farlo creandoci un dizionario di tutte le parole contenute nel testo e poi sostituire i token di ogni frase con la corrispondente posizione della parola nel dizionario. Per farlo possiamo usare direttamente la classe *Tokenizer* di keras che fa tutto per noi."
      ]
    },
    {
      "metadata": {
        "id": "ZLBDHWQZWpm8",
        "colab_type": "code",
        "outputId": "77641a1f-8260-4eb2-abbd-ad8a544d5cf5",
        "colab": {
          "base_uri": "https://localhost:8080/",
          "height": 34
        }
      },
      "cell_type": "code",
      "source": [
        "from keras.preprocessing.text import Tokenizer\n",
        "\n",
        "tokenizer = Tokenizer()\n",
        "tokenizer.fit_on_texts(divine_sents)\n",
        "divine_sents = tokenizer.texts_to_sequences(divine_sents)\n",
        "\n",
        "divine_sents[0]"
      ],
      "execution_count": 23,
      "outputs": [
        {
          "output_type": "execute_result",
          "data": {
            "text/plain": [
              "[38, 224, 24, 603, 4, 186, 153, 15, 13574, 7]"
            ]
          },
          "metadata": {
            "tags": []
          },
          "execution_count": 23
        }
      ]
    },
    {
      "metadata": {
        "id": "VsX1IDh4DInb",
        "colab_type": "text"
      },
      "cell_type": "markdown",
      "source": [
        "Creiamo i set con features e target, come già detto i features saranno i tokens di una seguenza eccetto l'ultimo, il target sarà invece proprio quest'ultimo token."
      ]
    },
    {
      "metadata": {
        "id": "24kyU6HsiTf5",
        "colab_type": "code",
        "colab": {}
      },
      "cell_type": "code",
      "source": [
        "import numpy as np\n",
        "divine_sents = np.array(divine_sents)\n",
        "\n",
        "X = divine_sents[:,:-1]\n",
        "y = divine_sents[:,-1]"
      ],
      "execution_count": 0,
      "outputs": []
    },
    {
      "metadata": {
        "id": "ce3zIOi0DRa7",
        "colab_type": "text"
      },
      "cell_type": "markdown",
      "source": [
        "Il nostro si tratta di un problema di classificazione multiclasse, le cui possibili classi sono tutte le parole contenute nel dizionario, vediamo quante sono esattamente."
      ]
    },
    {
      "metadata": {
        "id": "jrMSeOUxDbi_",
        "colab_type": "code",
        "colab": {}
      },
      "cell_type": "code",
      "source": [
        "vocab_size = len(tokenizer.word_counts)\n",
        "vocab_size"
      ],
      "execution_count": 0,
      "outputs": []
    },
    {
      "metadata": {
        "id": "C42AzDVdDhl-",
        "colab_type": "text"
      },
      "cell_type": "markdown",
      "source": [
        "Abbiamo in totale 13575 parole, usiamo la funzione *to_categorical(y)* di keras per eseguire il one hot encoding delle variabili target."
      ]
    },
    {
      "metadata": {
        "id": "UteQnvyqcXbl",
        "colab_type": "code",
        "outputId": "be9b3c7b-91d3-45d5-9e07-87b6dc4df4f6",
        "colab": {
          "base_uri": "https://localhost:8080/",
          "height": 34
        }
      },
      "cell_type": "code",
      "source": [
        "from keras.utils import to_categorical\n",
        "\n",
        "y = to_categorical(y, num_classes=vocab_size+1)\n",
        "y.shape"
      ],
      "execution_count": 30,
      "outputs": [
        {
          "output_type": "execute_result",
          "data": {
            "text/plain": [
              "(97393, 13575)"
            ]
          },
          "metadata": {
            "tags": []
          },
          "execution_count": 30
        }
      ]
    },
    {
      "metadata": {
        "id": "SVLejwLXDtto",
        "colab_type": "text"
      },
      "cell_type": "markdown",
      "source": [
        "## Creazione della Rete Ricorrente\n",
        "Creiamo la nostra architettura di rete neurale ricorrente:\n",
        " - Utilizziamo il *Word Embedding* per creare una rappresentazione vettoriale delle parole, addestrandolo sul nostro corpus di testo.\n",
        " - Aggiungiamo due strati ricorrenti con 50 nodi ciascuno, il primo dei quali dovrà ritornare una sequenza che servirà come input per il secondo.\n",
        " - Aggiungiamo un terzo strato denso con sempre 50 nodi.\n",
        " - Infine inseriamo uno strato di output con un numero di nodi ovviamente pari al numero di parole nel dizionario."
      ]
    },
    {
      "metadata": {
        "id": "zunahaBbkbdc",
        "colab_type": "code",
        "colab": {}
      },
      "cell_type": "code",
      "source": [
        "from keras import Model, Sequential\n",
        "from keras.layers import Embedding, LSTM, Dense\n",
        "\n",
        "model = Sequential()\n",
        "model.add(Embedding(vocab_size+1, maxlen-1, input_length=maxlen-1))\n",
        "model.add(LSTM(50, return_sequences=True))\n",
        "model.add(LSTM(50))\n",
        "model.add(Dense(50, activation=\"relu\"))\n",
        "model.add(Dense(vocab_size+1, activation=\"softmax\"))"
      ],
      "execution_count": 0,
      "outputs": []
    },
    {
      "metadata": {
        "id": "XbIju0mJE6tI",
        "colab_type": "text"
      },
      "cell_type": "markdown",
      "source": [
        "Compiliamo il modello, trattandosi di un problema di classificazione multiclasse useremo la *categorical crossentropy* come funzione di costo, come algoritmo di ottimizzazione usiamo *rmsprop* che dovrebbe portare a migliori risultati se utilizziamo le reti ricorrenti."
      ]
    },
    {
      "metadata": {
        "id": "7Y29LJ9Dk596",
        "colab_type": "code",
        "colab": {}
      },
      "cell_type": "code",
      "source": [
        "model.compile(loss=\"categorical_crossentropy\", optimizer=\"rmsprop\", metrics=[\"accuracy\"])"
      ],
      "execution_count": 0,
      "outputs": []
    },
    {
      "metadata": {
        "id": "fIwa1NW2FNTU",
        "colab_type": "text"
      },
      "cell_type": "markdown",
      "source": [
        "Come abbiamo detto, quello che vogliamo fare è creare una rete neurale in grado di generare testo dantesco, quindi perché stiamo eseguendo una classificazione ? L'utilizzo che faremo della rete è il seguente:\n",
        "1. Forniremo alla rete del testo 'seed' di una lunghezza prestabilita, cioè del testo di base che poi essa userà per generare quello seguente, possiamo definire noi tale testo oppure estrarlo a caso dal corpus.\n",
        "2. La rete predirrà la parola che secondo essa dovrebbe seguire il testo 'seed'.\n",
        "3. Aggiungiamo la parola predetta al testo.\n",
        "4. Rimuoviamo la prima parola del testo.\n",
        "5. Ripetiamo i punti da 2 a 4 fino a quando il testo predetto non avrà la lunghezza che vogliamo.\n",
        "\n",
        "Definiamo una funzione che fa esattamente questo."
      ]
    },
    {
      "metadata": {
        "id": "OyIROaQBywkt",
        "colab_type": "code",
        "colab": {}
      },
      "cell_type": "code",
      "source": [
        "from random import randint\n",
        "from keras.preprocessing.sequence import pad_sequences\n",
        "\n",
        "def generate(seed=None, rand_seed_len=10, generate_len=25):\n",
        "  \n",
        "  output = \"\"\n",
        "  \n",
        "  if(seed==None):\n",
        "    start_index = randint(0, len(divine_txt))\n",
        "    text = divine_txt[start_index:start_index+rand_seed_len]\n",
        "  else:\n",
        "    text=seed\n",
        "    \n",
        "  for i in range(generate_len):\n",
        "    tokens = np.array(tokenizer.texts_to_sequences([text]))\n",
        "    tokens = pad_sequences(tokens, maxlen=maxlen-1, truncating=\"pre\")\n",
        "      \n",
        "    pred_word = model.predict_classes([tokens])[0]\n",
        "    pred_word = tokenizer.index_word[pred_word]\n",
        "      \n",
        "    text+=\" \"+pred_word\n",
        "    output+=pred_word+\" \"\n",
        "    \n",
        "  print('Dante dice: \"'+output+'\"')"
      ],
      "execution_count": 0,
      "outputs": []
    },
    {
      "metadata": {
        "id": "dmRL1QNLGdIA",
        "colab_type": "text"
      },
      "cell_type": "markdown",
      "source": [
        "Utilizzando keras è possibile definire una funzione che viene eseguita al termine di ogni epoca dell'addestramento, definiamo una funzione che chiama la funzione per generare il testo, in modo tale da vedere come la qualità del testo varia durante l'addestramento."
      ]
    },
    {
      "metadata": {
        "id": "EZ_xC_G4GdoA",
        "colab_type": "code",
        "colab": {}
      },
      "cell_type": "code",
      "source": [
        "def generate_on_epoch(epoch, _):\n",
        "  generate()"
      ],
      "execution_count": 0,
      "outputs": []
    },
    {
      "metadata": {
        "id": "O-3bwHvkGwpU",
        "colab_type": "text"
      },
      "cell_type": "markdown",
      "source": [
        "Adesso siamo pronti per l'addestramento, per chiamare la funzione appena definita ad ogni epoca dobbiamo utilizzare i callback.\n",
        "Creiamo un Lambda Callback passando all'interno del parametro on_epoch_end il nome della funzione.\n",
        "Aggiungiamo il callback all'interno del parametro *callbacks* del metodo *.fit()*.\n",
        "<br>\n",
        "Keras ci mette a disposizone diversi callbacks da utilizzare durante l'addestramento, un'altro molto utile è quello per eseguire **l'early stopping**, cioè quella tecnica che ci permette di terminare l'addestramento in anticipo se la qualità del modello non sta migliorando. Utilizziamo l'early stopping con la classe *EarlyStopping* utilizzando i parametri *min_delta* e *patience* per interrompere l'addestramento se il valore della log loss non migliora di almeno 0.001 dopo 5 epoche."
      ]
    },
    {
      "metadata": {
        "id": "TEjQFmPklCQ4",
        "colab_type": "code",
        "outputId": "8b685854-b3ef-4f26-f4b2-c0c30dc7f6ae",
        "colab": {
          "base_uri": "https://localhost:8080/",
          "height": 7100
        }
      },
      "cell_type": "code",
      "source": [
        "from keras.callbacks import EarlyStopping, LambdaCallback\n",
        "\n",
        "epoch_end_callback = LambdaCallback(on_epoch_end=generate_on_epoch)\n",
        "earlyStopping = EarlyStopping(min_delta=0.001, patience=5)\n",
        "model.fit(X, y, batch_size=128, epochs=500, callbacks=[earlyStopping, epoch_end_callback])"
      ],
      "execution_count": 0,
      "outputs": [
        {
          "output_type": "stream",
          "text": [
            "Epoch 1/500\n",
            "97393/97393 [==============================] - 37s 376us/step - loss: 3.0844 - acc: 0.3588\n"
          ],
          "name": "stdout"
        },
        {
          "output_type": "stream",
          "text": [
            "/usr/local/lib/python3.6/dist-packages/keras/callbacks.py:569: RuntimeWarning: Early stopping conditioned on metric `val_loss` which is not available. Available metrics are: loss,acc\n",
            "  (self.monitor, ','.join(list(logs.keys()))), RuntimeWarning\n"
          ],
          "name": "stderr"
        },
        {
          "output_type": "stream",
          "text": [
            "Dante dice: \"lascerebbe antiche a suo meta non ti vaglia sembianti umilïato dove venìa il vecchio alardo di me sicura parlando                                           \"\n",
            "Epoch 2/500\n",
            "97393/97393 [==============================] - 37s 378us/step - loss: 3.0798 - acc: 0.3608\n",
            "Dante dice: \"avversi soperchia di bolsena lo qual saggira mostrava e sozzo le man guizzo e l buon maestro giù potete la mia pelle e non alle \"\n",
            "Epoch 3/500\n",
            "97393/97393 [==============================] - 36s 374us/step - loss: 3.0781 - acc: 0.3598\n",
            "Dante dice: \"poco soavi broglia in su la viltate e che lo mondo aspetto tra la falsa penne quinci e di lor pena trassimi avëan per che \"\n",
            "Epoch 4/500\n",
            "97393/97393 [==============================] - 37s 377us/step - loss: 3.0631 - acc: 0.3637\n",
            "Dante dice: \"così a partirsi per questa forcatella non per posarmi rifrangesse nome di questo letizia a me saccosta per farfarello e sollevando io simili parëan con \"\n",
            "Epoch 5/500\n",
            "97393/97393 [==============================] - 37s 385us/step - loss: 3.0626 - acc: 0.3642\n",
            "Dante dice: \"tegna strenne che io rimasi che ciascuno a la mente gialla a fuori e non tapristi di gualoppo e parlasse notturna palude uomini merta compage \"\n",
            "Epoch 6/500\n",
            "97393/97393 [==============================] - 37s 382us/step - loss: 3.0529 - acc: 0.3644\n",
            "Dante dice: \"saver dubbi lardor quinci sovra                                         \"\n",
            "Epoch 7/500\n",
            "97393/97393 [==============================] - 36s 369us/step - loss: 3.0521 - acc: 0.3652\n",
            "Dante dice: \"riposato inizio difetto lalma chassai del suo contraro perché la traccia largo che attento argento di sé vivanda fuoro chïo mosso usare a la strema \"\n",
            "Epoch 8/500\n",
            "97393/97393 [==============================] - 36s 367us/step - loss: 3.0428 - acc: 0.3670\n",
            "Dante dice: \"e chinando la donna per la giaccia si volse ogne qua mio ti frange a me la riprenda per là soccorrien per lo stillar mio \"\n",
            "Epoch 9/500\n",
            "97393/97393 [==============================] - 36s 367us/step - loss: 3.0429 - acc: 0.3666\n",
            "Dante dice: \"sardigna attenta a me che lavea chammiri ve ogne dover là dov ecco beatrice a rovinar lo giron scender dentro come più volge e corniglia \"\n",
            "Epoch 10/500\n",
            "97393/97393 [==============================] - 36s 370us/step - loss: 3.0372 - acc: 0.3668\n",
            "Dante dice: \"sotto quell effetto civili lasse ancora a me si vinse amaro là dov ei mi senta e mi parte del suo lagrimar vostri trestizia di \"\n",
            "Epoch 11/500\n",
            "97393/97393 [==============================] - 36s 366us/step - loss: 3.0363 - acc: 0.3676\n",
            "Dante dice: \"amaro dovessiti la compagnia de li occhi spietati che non vi nòi veloce ricorderati lui che tu nate affermando gaddo sù era fummo arcanamente si \"\n",
            "Epoch 12/500\n",
            "97393/97393 [==============================] - 36s 367us/step - loss: 3.0306 - acc: 0.3686\n",
            "Dante dice: \"vòta trïunfaro stassi dabbandonar in terra venimmo smozzicate anche nel falso fondamento e versi silvestro fammi torna la testa e di vizio fida e son \"\n",
            "Epoch 13/500\n",
            "97393/97393 [==============================] - 36s 370us/step - loss: 3.0197 - acc: 0.3708\n",
            "Dante dice: \"raggio delice profeta con questa roccia e tu dei folti là rote si feo lepa vider vergogna maestro che io incominciai e landar quelle volte \"\n",
            "Epoch 14/500\n",
            "97393/97393 [==============================] - 36s 366us/step - loss: 3.0256 - acc: 0.3694\n",
            "Dante dice: \"sotto nome fesse o decreto faceva ponticelli e poca forza di chel brame le lagrime e sinfronda vedesti surge il fuoco per spelonca la montagna \"\n",
            "Epoch 15/500\n",
            "97393/97393 [==============================] - 36s 371us/step - loss: 3.0135 - acc: 0.3710\n",
            "Dante dice: \"indugio a maggio che veste che n lor danza ed el acerbo e ceraste temendo scorno dove son coi denti sfavillaro antomata e non prieghi \"\n",
            "Epoch 16/500\n",
            "97393/97393 [==============================] - 35s 364us/step - loss: 3.0107 - acc: 0.3714\n",
            "Dante dice: \"o animal fossero speravi con misurar a la caccia sacrata e quel che dotato e là che molto ispirazion che si volle per lode e \"\n",
            "Epoch 17/500\n",
            "97393/97393 [==============================] - 36s 367us/step - loss: 3.0137 - acc: 0.3718\n",
            "Dante dice: \"tempra si rauna di lorto che mi giacque currado si rampolla cominciò si prese di lui che laggravava la destra che si sfregia giù la \"\n",
            "Epoch 18/500\n",
            "97393/97393 [==============================] - 37s 378us/step - loss: 3.0029 - acc: 0.3721\n",
            "Dante dice: \"ancor derelitti e platone troiano a le prime parole spessa che l passione che tevero e vammalia che che surge di ramo si ciechi che \"\n",
            "Epoch 19/500\n",
            "97393/97393 [==============================] - 37s 380us/step - loss: 2.9927 - acc: 0.3755\n",
            "Dante dice: \"facevan sepulto e bruggia temendo mai la mia foresta che sì turge e se l beato ostello scapigliata fante di lungi colà sempre quanto a \"\n",
            "Epoch 20/500\n",
            "97393/97393 [==============================] - 33s 334us/step - loss: 2.9951 - acc: 0.3761\n",
            "Dante dice: \"argomenti in seguitar faccendo spirò giove o visibili il qual che più avvien avendo nondimeno fossa non potea licito certa                                    \"\n",
            "Epoch 21/500\n",
            "97393/97393 [==============================] - 35s 355us/step - loss: 2.9998 - acc: 0.3727\n",
            "Dante dice: \"state stante sterpi tornan a colui che più punito gialla il suo fedele a la fredda chiesa superne pispiglia che vola che di me del \"\n",
            "Epoch 22/500\n",
            "97393/97393 [==============================] - 36s 373us/step - loss: 2.9927 - acc: 0.3733\n",
            "Dante dice: \"ripa chebbe incontr a questo image che disse è vada che darco bassa venien che io thomas misericordes a ciascuno in su non altrimenti a \"\n",
            "Epoch 23/500\n",
            "97393/97393 [==============================] - 37s 378us/step - loss: 2.9814 - acc: 0.3767\n",
            "Dante dice: \"e si ritene e l condanna di ello stesso che si trasmuta e anima soletta dove glorïar e lagrime a grattarmi la tigna magnificenza a \"\n",
            "Epoch 24/500\n",
            "97393/97393 [==============================] - 37s 378us/step - loss: 2.9698 - acc: 0.3789\n",
            "Dante dice: \"né esta proda sacro forte che lasciar chun uman ima languir la ripa oro v mura vieta cen superbo la mia donna che quasi crudele \"\n",
            "Epoch 25/500\n",
            "97393/97393 [==============================] - 36s 367us/step - loss: 2.9704 - acc: 0.3786\n",
            "Dante dice: \"salvo insieme qual vinta più temendo si converse e ruberto binato di colpo suo bellezza e truova e remi mai gregorio per lo suo visïon \"\n",
            "Epoch 26/500\n",
            "97393/97393 [==============================] - 36s 368us/step - loss: 2.9646 - acc: 0.3784\n",
            "Dante dice: \"ristette che scura e cominciò la sua casa là che risponde ave perché mi mondi e si levò contr a dio che si strali e \"\n",
            "Epoch 27/500\n",
            "97393/97393 [==============================] - 33s 336us/step - loss: 2.9720 - acc: 0.3780\n",
            "Dante dice: \"ristette e daltro giva e di color sua citarista e dargento la vigna e la mprenta e l pregato che vostr corde piloso e se \"\n",
            "Epoch 28/500\n",
            "97393/97393 [==============================] - 34s 346us/step - loss: 2.9705 - acc: 0.3770\n",
            "Dante dice: \"tocco giovane non fa di riguardar se si scolpa la mezzo che si prevenne per scaldar fore benaco la ripa affermando mapparve da malebranche così \"\n",
            "Epoch 29/500\n",
            "97393/97393 [==============================] - 36s 373us/step - loss: 2.9484 - acc: 0.3815\n",
            "Dante dice: \"fossero aversi che giugne mai le corti e che dentro cosa che sacquistò di me più sancor perde ha figlia e persegue ncendio e tutto \"\n",
            "Epoch 30/500\n",
            "97393/97393 [==============================] - 37s 383us/step - loss: 2.9474 - acc: 0.3811\n",
            "Dante dice: \"lodo che era muovere in terra la mia parole tadage eteòcle caldi e mi nsegni e che si lascia li fiamma e di qua mio \"\n",
            "Epoch 31/500\n",
            "97393/97393 [==============================] - 37s 380us/step - loss: 2.9468 - acc: 0.3815\n",
            "Dante dice: \"impresso e bruggia temendo guido e non divenni che ecco è la marina si prese per chio ponente che l contrario iosuè e saetta novello \"\n",
            "Epoch 32/500\n",
            "97393/97393 [==============================] - 37s 384us/step - loss: 2.9493 - acc: 0.3813\n",
            "Dante dice: \"morir consunto pospuosi la prora lali giù la novizia la via ancor per la testa e delia avea che sieno e l porco quando di \"\n",
            "Epoch 33/500\n",
            "97393/97393 [==============================] - 37s 379us/step - loss: 2.9415 - acc: 0.3826\n",
            "Dante dice: \"che convene e disïoso e si rinova ragionamenti donne                                                                                                                 \"\n",
            "Epoch 34/500\n",
            "97393/97393 [==============================] - 37s 377us/step - loss: 2.9421 - acc: 0.3829\n",
            "Dante dice: \"trovai diserto patì la morso e altrove uscissimo col suo riso per altro soletta                                                                              \"\n",
            "Epoch 35/500\n",
            "97393/97393 [==============================] - 37s 380us/step - loss: 2.9304 - acc: 0.3847\n",
            "Dante dice: \"lece guidavaci tu saperse lalma piegare quant tornerai che la vista del core del corte dove dentro allumati si leva guizzando che che de la \"\n",
            "Epoch 36/500\n",
            "97393/97393 [==============================] - 37s 380us/step - loss: 2.9270 - acc: 0.3857\n",
            "Dante dice: \"presenza che si piaci stette e io l gratular quelle gì ministri chavete chio di noè si riguardava e n bocca sì che movieno le \"\n",
            "Epoch 37/500\n",
            "97393/97393 [==============================] - 37s 381us/step - loss: 2.9204 - acc: 0.3849\n",
            "Dante dice: \"est de dammiata e tutte altro distanti a sé di che l mondo piena ella interdetto e vòlti a me si fanno primaio avanti per \"\n",
            "Epoch 38/500\n",
            "97393/97393 [==============================] - 37s 380us/step - loss: 2.9179 - acc: 0.3870\n",
            "Dante dice: \"silvestro ancor essa ier lalba desto colpi farem non torcendo e accennolle sovra lanime ancora per la trovò segnar onor bonconte non spungo larghe e \"\n",
            "Epoch 39/500\n",
            "97393/97393 [==============================] - 37s 382us/step - loss: 2.9182 - acc: 0.3873\n",
            "Dante dice: \"parvente dudir lomero cattolica la testa di quella visïone distrutte passi fidi né cintura si ripiagne di la gente mia anima di più differente a \"\n",
            "Epoch 40/500\n",
            "97393/97393 [==============================] - 37s 383us/step - loss: 2.9148 - acc: 0.3871\n",
            "Dante dice: \"mia vita chode le scaldi intra lattender suono trarsi volte bruno solvuto saria organi racceso di quel e de chio si dirama lizio in vigna \"\n",
            "Epoch 41/500\n",
            "97393/97393 [==============================] - 37s 378us/step - loss: 2.9023 - acc: 0.3885\n",
            "Dante dice: \"suo è raggiò così levai sì crastino voglio sparvier sè e convenia a la notte che correndo volgi la gente aggrava lo suol si leva \"\n",
            "Epoch 42/500\n",
            "97393/97393 [==============================] - 37s 379us/step - loss: 2.9121 - acc: 0.3869\n",
            "Dante dice: \"condizion oh fesso e sua nazion e deggio corsa di pietade satterra che non vole ire falsificando lalto arche saffanna a la testa divina vista \"\n",
            "Epoch 43/500\n",
            "97393/97393 [==============================] - 37s 377us/step - loss: 2.9075 - acc: 0.3882\n",
            "Dante dice: \"essa freno omo a vagheggiar per farebbe l sol ingrata ora e per sua pasti che per perfetto versi parole rende e caccia e tristissima \"\n",
            "Epoch 44/500\n",
            "97393/97393 [==============================] - 37s 382us/step - loss: 2.8966 - acc: 0.3909\n",
            "Dante dice: \"moderno cristiano che farfarello e nuro col dolce novo acciò che però de la spietata tua anima lumile tòrre che preme e preco ove quindi \"\n",
            "Epoch 45/500\n",
            "97393/97393 [==============================] - 37s 378us/step - loss: 2.8942 - acc: 0.3910\n",
            "Dante dice: \"refrigerio di glorïoso e glorïar a la su la beata deianira e soccorre la donna a la sete dudir e risponde di lei la grazia \"\n",
            "Epoch 46/500\n",
            "97393/97393 [==============================] - 37s 381us/step - loss: 2.8904 - acc: 0.3918\n",
            "Dante dice: \"volsesi in piuma rubro un lago intorno ella che dentro di magra e quel che scrisse sassi e vivette scorno apri con lo giglio sapesse \"\n",
            "Epoch 47/500\n",
            "97393/97393 [==============================] - 37s 381us/step - loss: 2.8859 - acc: 0.3929\n",
            "Dante dice: \"raggio speravi a reno noverca che che di sua faccia che l cervel dove permesso riga io scesi sovra ir omo pluto per fiato i \"\n",
            "Epoch 48/500\n",
            "97393/97393 [==============================] - 37s 380us/step - loss: 2.8897 - acc: 0.3913\n",
            "Dante dice: \"fatto insieme schermo accorti e ritrarre a color che discerno tra maggiore e da là mista di suo vita sconsolata e orïente la sembianza mia \"\n",
            "Epoch 49/500\n",
            "97393/97393 [==============================] - 37s 384us/step - loss: 2.8853 - acc: 0.3930\n",
            "Dante dice: \"ond ella si andai col cupo mio si può che tu neve e frutti vedea ogne portier fossero uscisse appressando radice che l suo verde \"\n",
            "Epoch 50/500\n",
            "97393/97393 [==============================] - 37s 380us/step - loss: 2.8811 - acc: 0.3942\n",
            "Dante dice: \"secol rapide e densa lacque a la su lo pescator fuggir mi raccesi del palude che l sappropria io che quei di rietro si cavi \"\n",
            "Epoch 51/500\n",
            "97393/97393 [==============================] - 37s 378us/step - loss: 2.8681 - acc: 0.3952\n",
            "Dante dice: \"mirando vestite esser solvetemi ficcar di casa la risposta uditi e che mi era segna là giuso che io è sani lomo in non mirabil \"\n",
            "Epoch 52/500\n",
            "97393/97393 [==============================] - 36s 374us/step - loss: 2.8605 - acc: 0.3950\n",
            "Dante dice: \"sua opra e funne sadima lora rifrangesse nome venduto quand la mia donna farsi tormento e di menzogna ond io prestamente e fuggendoli nera aspetta \"\n",
            "Epoch 53/500\n",
            "97393/97393 [==============================] - 32s 327us/step - loss: 2.8668 - acc: 0.3944\n",
            "Dante dice: \"quai riciso e per istrane e corniglia di siena erti avesse faranno di nemici che tu l militar i peli ché pria e più si \"\n",
            "Epoch 54/500\n",
            "97393/97393 [==============================] - 36s 374us/step - loss: 2.8557 - acc: 0.3977\n",
            "Dante dice: \"                                                                                                                                                                               \"\n",
            "Epoch 55/500\n",
            "97393/97393 [==============================] - 37s 379us/step - loss: 2.8562 - acc: 0.3974\n",
            "Dante dice: \"channo unombra che aduna buoni e sarai che tu consenti e donna chal diavol sentir rea per laltra via vaca si occhi          \"\n",
            "Epoch 56/500\n",
            "97393/97393 [==============================] - 36s 373us/step - loss: 2.8517 - acc: 0.3984\n",
            "Dante dice: \"parrebbe paion e si rivolgea ditemi e torni consuma quivi avere a sé che n aere e crede il mio rinova tupino figliuolo come a \"\n",
            "Epoch 57/500\n",
            "97393/97393 [==============================] - 37s 382us/step - loss: 2.8517 - acc: 0.3983\n",
            "Dante dice: \"vento o donna temperato a vizio qua v diss la te uscia teste che materia tali a me dato che lun chammicca per che queste \"\n",
            "Epoch 58/500\n",
            "97393/97393 [==============================] - 35s 364us/step - loss: 2.8444 - acc: 0.3996\n",
            "Dante dice: \"parole potero non eran detto ai piedi e saltò e si può di biasmo a dio sella fatti usciresti nel martello che lali pura che \"\n",
            "Epoch 59/500\n",
            "97393/97393 [==============================] - 36s 365us/step - loss: 2.8507 - acc: 0.3968\n",
            "Dante dice: \"si piaci santo usci riposo per lo forte e ricominciò nosco si posson contr a soverchio panni che mal ventilando la casso che vedranno balenar \"\n",
            "Epoch 60/500\n",
            "97393/97393 [==============================] - 31s 315us/step - loss: 2.8453 - acc: 0.3977\n",
            "Dante dice: \"scuote e daltro soggiace e elli ier calcabrina e per campane la lingua assoluta cominciò voglio ristetti e io di mille trasmutata che che si \"\n",
            "Epoch 61/500\n",
            "97393/97393 [==============================] - 31s 314us/step - loss: 2.8308 - acc: 0.4012\n",
            "Dante dice: \"caler ancoi e risponde e tu mi si nascose ver la capra movesi in su la mente etterna e carentana e amore a quel che \"\n",
            "Epoch 62/500\n",
            "97393/97393 [==============================] - 31s 323us/step - loss: 2.8344 - acc: 0.4013\n",
            "Dante dice: \"cicognin lamore del tacer tommaso nver me l voler del cammin alta e federigo vidi mestier davante e si passasse con marito si slega disposizion \"\n",
            "Epoch 63/500\n",
            "97393/97393 [==============================] - 31s 314us/step - loss: 2.8323 - acc: 0.4012\n",
            "Dante dice: \"e albia a serpenti di latona chode le mutò figure si starebbe e tersi ed isquatra bevete io non sappiendo agevolezze il primo concilio e \"\n",
            "Epoch 64/500\n",
            "97393/97393 [==============================] - 32s 331us/step - loss: 2.8273 - acc: 0.4017\n",
            "Dante dice: \"suo animo conto che scuro si tacque e ncontra mo intenza sovra le peccata venir misurrebbe e tersi che l mantoan che ora tutti a \"\n",
            "Epoch 65/500\n",
            "97393/97393 [==============================] - 30s 313us/step - loss: 2.8262 - acc: 0.4011\n",
            "Dante dice: \"suo polidoro e piangesse per cui occhi insieme segnata a fuor si dolor e io avria si parea selle a monti e si murò traggasi \"\n",
            "Epoch 66/500\n",
            "97393/97393 [==============================] - 30s 313us/step - loss: 2.8174 - acc: 0.4028\n",
            "Dante dice: \"intra sitiunt laccoglienza ammanna per la vite scabbia ma come fatto nasce a me langoscia che accennolle che intorno qual ringrazia visto la luce tua \"\n",
            "Epoch 67/500\n",
            "97393/97393 [==============================] - 32s 326us/step - loss: 2.8202 - acc: 0.4029\n",
            "Dante dice: \"che qual mai accora le membra sciolte che nave lala o man bassi davere io fretta che modena che saver manchi oh fiori che fuggendoli \"\n",
            "Epoch 68/500\n",
            "97393/97393 [==============================] - 30s 312us/step - loss: 2.8147 - acc: 0.4041\n",
            "Dante dice: \"val ond ell i valse fessi ché luom qui chio posso usciron potenza di sopra la mente revoche il cielo che tutti e venieno e \"\n",
            "Epoch 69/500\n",
            "97393/97393 [==============================] - 31s 322us/step - loss: 2.8086 - acc: 0.4053\n",
            "Dante dice: \"cammin divenne meran lottava montagna contente era si passasse e danno di glorïarla di nona beni ond se non fosse sole sacquista e per lo \"\n",
            "Epoch 70/500\n",
            "97393/97393 [==============================] - 30s 313us/step - loss: 2.7994 - acc: 0.4058\n",
            "Dante dice: \"lenti cerchia ond io di paradiso si raccoglie indarno di femmine dispensa e pasture la voce e vanno e veduto tra la bontà etterna nuovo \"\n",
            "Epoch 71/500\n",
            "97393/97393 [==============================] - 30s 313us/step - loss: 2.8040 - acc: 0.4064\n",
            "Dante dice: \"svïati possiamo ha di che si conduco e se disser tolse di gange così eran giugner queste cose grama e l mondo tuttavia ivi torcete \"\n",
            "Epoch 72/500\n",
            "97393/97393 [==============================] - 33s 336us/step - loss: 2.8026 - acc: 0.4066\n",
            "Dante dice: \"vestigio e qual si piaci santo membra di dio piante le gelate cheran fermi e parlò la tua bontà che tutti creato e convenne apprendo \"\n",
            "Epoch 73/500\n",
            "97393/97393 [==============================] - 36s 365us/step - loss: 2.8083 - acc: 0.4052\n",
            "Dante dice: \"salvo oh mese si cavi corsa sì caddi e laltra ombra elette per avea si sazi morde guardando e unghiate romani e faccian lalba vinceva \"\n",
            "Epoch 74/500\n",
            "97393/97393 [==============================] - 36s 374us/step - loss: 2.7933 - acc: 0.4075\n",
            "Dante dice: \"chio desto braccio e vedra di sperar levorsi a le montagne si raggia de la pioggia lo sentirsi essemplo la mia è fidanza la via \"\n",
            "Epoch 75/500\n",
            "97393/97393 [==============================] - 36s 368us/step - loss: 2.7883 - acc: 0.4088\n",
            "Dante dice: \"nascendo infino con tutte sospetti ali mai mè sormonti e di sua sponda che volge a riconoscer lagute scale a la selva tua vòta orribil \"\n",
            "Epoch 76/500\n",
            "97393/97393 [==============================] - 37s 377us/step - loss: 2.7799 - acc: 0.4113\n",
            "Dante dice: \"denti oh ignota gaggi che mugghia nuovi dargomento tene di bari che la grave carco a ca di sua plage e noi volemo e la \"\n",
            "Epoch 77/500\n",
            "97393/97393 [==============================] - 36s 369us/step - loss: 2.7929 - acc: 0.4080\n",
            "Dante dice: \"cristiano e ceraste attendi a castella e chiamata di vena vere minaccia falsasti la fiera negra carcere esce e sammiraron le fa erine laltre compressa \"\n",
            "Epoch 78/500\n",
            "97393/97393 [==============================] - 36s 365us/step - loss: 2.7885 - acc: 0.4095\n",
            "Dante dice: \"morir occhio discerno ancora dalte vecchia parte sì la prima scotto e si mette bëatrice che guardando a quella parte che si partì la sesta \"\n",
            "Epoch 79/500\n",
            "97393/97393 [==============================] - 32s 324us/step - loss: 2.7802 - acc: 0.4088\n",
            "Dante dice: \"fretta stucca ristetti e l quia ov se saprai confusa che però apposto mio che tu lhai li fa che la novizia la su la \"\n",
            "Epoch 80/500\n",
            "97393/97393 [==============================] - 30s 313us/step - loss: 2.7796 - acc: 0.4087\n",
            "Dante dice: \"uso e sua nazion movea ruine e quella fretta che più medesmo dintelletto cantavano in mezzo si tolse de laltra vigilia poscia per imo rispuos \"\n",
            "Epoch 81/500\n",
            "97393/97393 [==============================] - 32s 326us/step - loss: 2.7721 - acc: 0.4110\n",
            "Dante dice: \"oh abbondante arme che non consorti e amiche or di la sua vita smorte e densa limagine di qua mio temer tutte lanimo che l \"\n",
            "Epoch 82/500\n",
            "97393/97393 [==============================] - 34s 348us/step - loss: 2.7712 - acc: 0.4123\n",
            "Dante dice: \"ebb elli andai                                                                                                                                                           \"\n",
            "Epoch 83/500\n",
            "97393/97393 [==============================] - 37s 376us/step - loss: 2.7695 - acc: 0.4120\n",
            "Dante dice: \"cammin dame e ser sospetti aprir tene la santa chiesa non ha la lingua che vanno scipïon in fede che rïavesse le ricorda queti trovandoli \"\n",
            "Epoch 84/500\n",
            "97393/97393 [==============================] - 34s 351us/step - loss: 2.7695 - acc: 0.4118\n",
            "Dante dice: \"farà si lagnerà sbigottir che fello apri con la gola corsa e l suo animo usò a le toglie de le nostre marche di conocchia \"\n",
            "Epoch 85/500\n",
            "97393/97393 [==============================] - 32s 326us/step - loss: 2.7661 - acc: 0.4129\n",
            "Dante dice: \"vago con farle lanime for cima di sé trema e traditore e urge dopo bianche surge io ti mova mi contenne nascosta la tien effetto \"\n",
            "Epoch 86/500\n",
            "97393/97393 [==============================] - 31s 323us/step - loss: 2.7624 - acc: 0.4130\n",
            "Dante dice: \"e essa profeta da la radice ria di manco succhio io a me la spiega seguite e laltro senno per lo fessi avvenne a noi \"\n",
            "Epoch 87/500\n",
            "97393/97393 [==============================] - 30s 312us/step - loss: 2.7522 - acc: 0.4138\n",
            "Dante dice: \"parole repetendo non fumi il fin in caòsso peccato come l naso davermi ignudi in su la molt successor quadrel saette usata dinfiniti che li \"\n",
            "Epoch 88/500\n",
            "97393/97393 [==============================] - 31s 314us/step - loss: 2.7511 - acc: 0.4144\n",
            "Dante dice: \"rapide e odono e poi che di sùbito lenti spalle a bocca e di crucci e l pianto faria là che la mattia così puniti \"\n",
            "Epoch 89/500\n",
            "97393/97393 [==============================] - 31s 319us/step - loss: 2.7476 - acc: 0.4145\n",
            "Dante dice: \"paura e cortesia buoni e ringhia lenti e non tapristi a reno che trovandoli le piacëa col galeotto dritta terribilmente sobilia spiacer batte etterne a \"\n",
            "Epoch 90/500\n",
            "97393/97393 [==============================] - 33s 334us/step - loss: 2.7523 - acc: 0.4135\n",
            "Dante dice: \"palma mio adocchiato sì si volvea che tristi drizza a che in ramo di quinta si puoi che l molesti che questi mi stenda la \"\n",
            "Epoch 91/500\n",
            "97393/97393 [==============================] - 36s 370us/step - loss: 2.7473 - acc: 0.4161\n",
            "Dante dice: \"trapassate ristette e suol si spiri col suo segnore la quale de la mascella e luniverso per chio nata di miglior vita priegoti che mintese \"\n",
            "Epoch 92/500\n",
            "97393/97393 [==============================] - 37s 378us/step - loss: 2.7515 - acc: 0.4149\n",
            "Dante dice: \"e discendesi di coro magnificenza e se pigrizia cammino charso partito in sé raggio co voluto io com ella sofferse fregi a gente e riguardolla \"\n",
            "Epoch 93/500\n",
            "97393/97393 [==============================] - 37s 376us/step - loss: 2.7417 - acc: 0.4161\n",
            "Dante dice: \"cruna passava rifiutan con che maladizion di quella coperchio male che si giuro di studio e tutti si pente dicendo quell porta che nullo dape \"\n",
            "Epoch 94/500\n",
            "97393/97393 [==============================] - 36s 368us/step - loss: 2.7377 - acc: 0.4158\n",
            "Dante dice: \"succhio io non opera latto diriva qual si piacëa tirato resplende la risposta levata verna tra ascoltando che non so surger e saver io che \"\n",
            "Epoch 95/500\n",
            "97393/97393 [==============================] - 36s 366us/step - loss: 2.7290 - acc: 0.4187\n",
            "Dante dice: \"si smarria etterno mormorar di tosco e la freddura si trasse quant io partito non dicea madonna a solver piedi che si nasconde cotanto umilmente \"\n",
            "Epoch 96/500\n",
            "97393/97393 [==============================] - 36s 365us/step - loss: 2.7310 - acc: 0.4173\n",
            "Dante dice: \"gittaro ed drizza e sospiri che non che non vuo posare pena surta e lente e sargomenta quando le cappe che dubbi a me avaccio \"\n",
            "Epoch 97/500\n",
            "97393/97393 [==============================] - 35s 363us/step - loss: 2.7356 - acc: 0.4171\n",
            "Dante dice: \"salita prendi a veder si ralligna e di gaeta e dicesse quando ora faranno di ierusalemme e di laude di su la memoria tua quante \"\n",
            "Epoch 98/500\n",
            "97393/97393 [==============================] - 36s 365us/step - loss: 2.7236 - acc: 0.4201\n",
            "Dante dice: \"vedova e foran congiunta la foga de le minugia la gloria dicea di bando e io si sappiglia ancora cadde che spessa contenta la ripa \"\n",
            "Epoch 99/500\n",
            "97393/97393 [==============================] - 35s 363us/step - loss: 2.7267 - acc: 0.4195\n",
            "Dante dice: \"braccio ricco che produce recettacolo e laltra scala che l maestro mio si stingueva quando diceva avete a tutte rampogna pastura si fosser con le \"\n",
            "Epoch 100/500\n",
            "97393/97393 [==============================] - 36s 368us/step - loss: 2.7215 - acc: 0.4198\n",
            "Dante dice: \"pianta proceder e è oro confusa e addorna e percosse la ripa che tu quasi mirabil nobilità e io può non è schianta nimico era \"\n",
            "Epoch 101/500\n",
            "97393/97393 [==============================] - 35s 361us/step - loss: 2.7143 - acc: 0.4208\n",
            "Dante dice: \"parlarmi e nardo che ceraste avien la visïon reo cominciò ecco si cavi dun questo pene apparivan in piede maligno cominciò sguardo e l dici \"\n",
            "Epoch 102/500\n",
            "97393/97393 [==============================] - 35s 361us/step - loss: 2.7130 - acc: 0.4222\n",
            "Dante dice: \"val co lato succhio io lui si dimagra sanza sua lucano lungamente facevan tremare doppi sciolte quand anibàl che io usava elle robbi pestilenzie o \"\n",
            "Epoch 103/500\n",
            "97393/97393 [==============================] - 35s 364us/step - loss: 2.7216 - acc: 0.4196\n",
            "Dante dice: \"guata ordite di cui muta fossa credi a moïsè londa e mai non furo chiesa e possibil senno per lalto olimpo con lo dosso ditalia \"\n",
            "Epoch 104/500\n",
            "97393/97393 [==============================] - 35s 361us/step - loss: 2.7165 - acc: 0.4207\n",
            "Dante dice: \"altrui volsersi lui recepe climenè così pennuto l pantan fuggir tratto fra vapori demonio e che più no supin picciola ponta la profonda che aggi \"\n",
            "Epoch 105/500\n",
            "97393/97393 [==============================] - 36s 365us/step - loss: 2.7130 - acc: 0.4216\n",
            "Dante dice: \"con lei crescer veramente sieno che l ventre de la chiave e sono a me si risolve non podere però gia che de la seguente \"\n",
            "Epoch 106/500\n",
            "97393/97393 [==============================] - 35s 364us/step - loss: 2.7102 - acc: 0.4227\n",
            "Dante dice: \"consente che tene lo principe condizion sperino e l bel detto sembiava donne chè e è torrente che aperta a veder non ti tocca e \"\n",
            "Epoch 107/500\n",
            "97393/97393 [==============================] - 35s 364us/step - loss: 2.7062 - acc: 0.4225\n",
            "Dante dice: \"vestigio e cheggioti per veder li tornar sonar non romagnuoli mëa natàn la dolce riso la paese accenti pover amico i miseri persone ancora tra \"\n",
            "Epoch 108/500\n",
            "97393/97393 [==============================] - 35s 362us/step - loss: 2.7017 - acc: 0.4219\n",
            "Dante dice: \"quelle vedute e regalmente esce e si tolse e io è nè dimmi saetta che bue e tu caschi il freddo e notan desista noi \"\n",
            "Epoch 109/500\n",
            "97393/97393 [==============================] - 36s 367us/step - loss: 2.7034 - acc: 0.4230\n",
            "Dante dice: \"vendetta cerchia pensiero e queste parole ancor che si dimostran fóri vergognando paese ire in seconda saver sinizia tostamente io neve sio lavea sdruscia caro \"\n",
            "Epoch 110/500\n",
            "97393/97393 [==============================] - 36s 365us/step - loss: 2.7021 - acc: 0.4234\n",
            "Dante dice: \"prezïoso vederebbe di alabastro nel vel vidine scusa la valle tra trasser lardor dov qual la sua gemma che di colui col bollor si occhi \"\n",
            "Epoch 111/500\n",
            "97393/97393 [==============================] - 35s 363us/step - loss: 2.6983 - acc: 0.4241\n",
            "Dante dice: \"rivolsilo al quia conio el miracol chun guelfi perfetta e che a raggio torta si riguardava a la passion a quella vece fuggì ei di \"\n",
            "Epoch 112/500\n",
            "97393/97393 [==============================] - 36s 369us/step - loss: 2.7011 - acc: 0.4236\n",
            "Dante dice: \"fosse daver guidavaci pirate non posti a sé si percuote del modo vegnati e trarne non giva sovra lalto amor non discerna guiglielmo lo navarrese \"\n",
            "Epoch 113/500\n",
            "97393/97393 [==============================] - 36s 366us/step - loss: 2.6818 - acc: 0.4279\n",
            "Dante dice: \"lalpe che soglion si partiro vassi e sospesi a veder la caverne che tu diventa che fur fedeli di colle e piedi a sé restaro \"\n",
            "Epoch 114/500\n",
            "97393/97393 [==============================] - 35s 363us/step - loss: 2.6902 - acc: 0.4256\n",
            "Dante dice: \"sole infin tra la femmina colore che porta ulivo contrista e non rimasi umana se non non l dosso che leva chè mi disse riconoscimi \"\n",
            "Epoch 115/500\n",
            "97393/97393 [==============================] - 36s 365us/step - loss: 2.6929 - acc: 0.4238\n",
            "Dante dice: \"cosa vana e mia gioia tha che quinci casso a concetto cenno che la via per la qual si pensier che vegnon che son altrove \"\n",
            "Epoch 116/500\n",
            "97393/97393 [==============================] - 34s 346us/step - loss: 2.6884 - acc: 0.4261\n",
            "Dante dice: \"canta oh innocenzio insieme e non era rimaso in uhi scosse promossa la vigna che di colui che sì si posson e feltro in su \"\n",
            "Epoch 117/500\n",
            "97393/97393 [==============================] - 32s 330us/step - loss: 2.6891 - acc: 0.4248\n",
            "Dante dice: \"corno latin pregar tacendo si conceperà e ncontra per la viva correrà benedette tinta vie maccors io cadea a me chi timpetri prova non a \"\n",
            "Epoch 118/500\n",
            "97393/97393 [==============================] - 35s 364us/step - loss: 2.6798 - acc: 0.4277\n",
            "Dante dice: \"grame ond io si parrà quando sai andar di chi si canta a fatica e convenne spera e stretto la lunga donna deh poscia chaltr \"\n",
            "Epoch 119/500\n",
            "97393/97393 [==============================] - 35s 357us/step - loss: 2.6719 - acc: 0.4280\n",
            "Dante dice: \"porte argomenti eravamo in suso del capo e ntorno in su quant io domandai luccel che tutti nomar mostrasse respetto per recar toscana stelo e \"\n",
            "Epoch 120/500\n",
            "97393/97393 [==============================] - 35s 356us/step - loss: 2.6758 - acc: 0.4283\n",
            "Dante dice: \"si cavi tant lultimo pare che si distende la mostri non trenta umana stan sì che fore fue meran lanime gira sorridendo parrieno chiamo e \"\n",
            "Epoch 121/500\n",
            "97393/97393 [==============================] - 42s 430us/step - loss: 2.6743 - acc: 0.4278\n",
            "Dante dice: \"oh rivestire non lintelletto seguendo eliseo siena ride avieno e io mi polsi con lalta prima dimessa che sio ricoperta e n clugnì la valle \"\n",
            "Epoch 122/500\n",
            "97393/97393 [==============================] - 36s 367us/step - loss: 2.6776 - acc: 0.4272\n",
            "Dante dice: \"vestigio e patteggiarne a la gola mira calar ancora stregghia accline sua chun figliuoi corti perch già parevi porre tormenti crescerann le volte di caccia \"\n",
            "Epoch 123/500\n",
            "97393/97393 [==============================] - 35s 358us/step - loss: 2.6687 - acc: 0.4289\n",
            "Dante dice: \"stassi u dïogenès si rinfarcia elli cominciava conserte stassi paralelli e non che una dispregiò surta e chiamò rotti e feroce può delefanti che stralunava \"\n",
            "Epoch 124/500\n",
            "97393/97393 [==============================] - 32s 331us/step - loss: 2.6587 - acc: 0.4312\n",
            "Dante dice: \"ragione cércati e donna fregi in voce che n perdon si lievi fisso rimaso a laterano per li occhi miei potenza e questi si comincia \"\n",
            "Epoch 125/500\n",
            "97393/97393 [==============================] - 35s 362us/step - loss: 2.6654 - acc: 0.4298\n",
            "Dante dice: \"pauperes pianeto che preme in poppa attraversato è rimossa altre doglia da cui surge e nave e vien più disii contemplando draghignazzo già sente io \"\n",
            "Epoch 126/500\n",
            "97393/97393 [==============================] - 37s 383us/step - loss: 2.6490 - acc: 0.4334\n",
            "Dante dice: \"porte argomenti eravamo in consorte dolor e io par che tu barbariccia e elle furo chiesa e matta e             \"\n",
            "Epoch 127/500\n",
            "97393/97393 [==============================] - 37s 379us/step - loss: 2.6666 - acc: 0.4305\n",
            "Dante dice: \"per nemici e altri robbi monaldi o sesto nuda disse per che mostrò che cominciò volgiti e tornar più latino e lun apposto dove io \"\n",
            "Epoch 128/500\n",
            "97393/97393 [==============================] - 37s 376us/step - loss: 2.6582 - acc: 0.4306\n",
            "Dante dice: \"indugio sì si cavi de lardente fin erine dogne facce e non per la madre mista per la celeste magrezza che si leva che corso \"\n",
            "Epoch 129/500\n",
            "97393/97393 [==============================] - 38s 386us/step - loss: 2.6619 - acc: 0.4305\n",
            "Dante dice: \"cammin dame e mano e fuggendoli che quindi siete lala che presta visto e vendemmia di vedere dun capo ond per laere giustamente remoto sottosopra \"\n",
            "Epoch 130/500\n",
            "97393/97393 [==============================] - 37s 377us/step - loss: 2.6557 - acc: 0.4324\n",
            "Dante dice: \"bassi e sanguinoso larsura che l ciel ciascun fida iterate che germoglia eran io credo per noi largo superba soverchia e li occhi e la \"\n",
            "Epoch 131/500\n",
            "97393/97393 [==============================] - 37s 378us/step - loss: 2.6506 - acc: 0.4324\n",
            "Dante dice: \"rado regal pispiglia acceso che temer perdona cadder andai e tu sospiri a lumana sospiri di lei che n sua grazia fatta testimonio ritrar che \"\n",
            "Epoch 132/500\n",
            "97393/97393 [==============================] - 37s 378us/step - loss: 2.6458 - acc: 0.4337\n",
            "Dante dice: \"recettacolo e tu già di aere traversara sì come circe lo fummo che l notaro che mano vider coverti colà cominciò in viva e raccolta \"\n",
            "Epoch 133/500\n",
            "97393/97393 [==============================] - 37s 375us/step - loss: 2.6516 - acc: 0.4327\n",
            "Dante dice: \"contenti additandomi con sua forcatella non volta che daltra sien seppe mai non fossi intendi perché passeggiando tanti usanza e la mpresa e che tu \"\n",
            "Epoch 134/500\n",
            "97393/97393 [==============================] - 37s 381us/step - loss: 2.6422 - acc: 0.4334\n",
            "Dante dice: \"parte soffersi queta i vermigli e cencri per cipri e che lascia a vedere che solamente si cale la vedovella folle trasmutarsi avvien verso me \"\n",
            "Epoch 135/500\n",
            "97393/97393 [==============================] - 37s 377us/step - loss: 2.6473 - acc: 0.4334\n",
            "Dante dice: \"figlia a moïsè volesti a figlia e quindi mi ricordi e cred mai verrà e di noi che porta e dovria tu morti per lo \"\n",
            "Epoch 136/500\n",
            "97393/97393 [==============================] - 37s 380us/step - loss: 2.6350 - acc: 0.4342\n",
            "Dante dice: \"manca e arra e lomo e quinci che tu a la fiammella che porse a tutti stesso si raggiunge del non sinistro china e quest \"\n",
            "Epoch 137/500\n",
            " 1408/97393 [..............................] - ETA: 36s - loss: 2.5756 - acc: 0.4524"
          ],
          "name": "stdout"
        }
      ]
    },
    {
      "metadata": {
        "id": "CVgScJ9NIvs3",
        "colab_type": "text"
      },
      "cell_type": "markdown",
      "source": [
        "Se stai usando una GPU che supporta la tecnologia CUDA, sul tuo computer o con Google Colaboratory, l'addestramento per 500 epoche dovrebbe richiedere un paio di ore, se non vuoi aspettare puoi ridurre il numero di epoche a non meno di 100 oppure importare il modello che ho già addestrato eseguendo il codice qui sotto.\n",
        "<br><br>\n",
        "**NOTA BENE**\n",
        "<br>\n",
        "Se non hai una GPU che supporta la tecnologia CUDA e non vuoi usare Google Colaboratory, ti consiglio di importare il modello pre-addestrato eseguendo il codice qui sotto, altrimenti l'addestramento potrebbe richiedere anche giorni e mettere sotto forte stress il tuo pc."
      ]
    },
    {
      "metadata": {
        "id": "QCsEOmaWlSnQ",
        "colab_type": "code",
        "colab": {}
      },
      "cell_type": "code",
      "source": [
        "from keras.models import load_model\n",
        "\n",
        "model.save('dante.h5')  # creates a HDF5 file 'my_model.h5'"
      ],
      "execution_count": 0,
      "outputs": []
    },
    {
      "metadata": {
        "id": "U42_UVaeJPzS",
        "colab_type": "code",
        "colab": {}
      },
      "cell_type": "code",
      "source": [
        "import requests\n",
        "from keras.models import load_model\n",
        "\n",
        "model_file_path = \"\"\n",
        "\n",
        "model_file = requests.get(model_file_path)\n",
        "\n",
        "model = load_model(model_file)"
      ],
      "execution_count": 0,
      "outputs": []
    },
    {
      "metadata": {
        "id": "eNl2HraMK6YQ",
        "colab_type": "text"
      },
      "cell_type": "markdown",
      "source": [
        "Proviamo a dialogare con il nostro Dante-bot, il testo che inseriremo verrà usato come seed per la generazione."
      ]
    },
    {
      "metadata": {
        "id": "MVMfMusoK_0O",
        "colab_type": "code",
        "colab": {}
      },
      "cell_type": "code",
      "source": [
        "seed = \"\"\n",
        "\n",
        "while(seed!=\"ciao\"):\n",
        "  seed = input(\"Io: \")\n",
        "  generated = generate(seed=seed)\n",
        "  print(\"Dante: \"+generated)"
      ],
      "execution_count": 0,
      "outputs": []
    }
  ]
}