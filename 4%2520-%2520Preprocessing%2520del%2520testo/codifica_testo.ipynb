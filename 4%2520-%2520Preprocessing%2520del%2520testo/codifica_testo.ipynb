{
  "nbformat": 4,
  "nbformat_minor": 0,
  "metadata": {
    "colab": {
      "name": "codifica_testo.ipynb",
      "version": "0.3.2",
      "provenance": [],
      "include_colab_link": true
    },
    "kernelspec": {
      "name": "python3",
      "display_name": "Python 3"
    }
  },
  "cells": [
    {
      "cell_type": "markdown",
      "metadata": {
        "id": "view-in-github",
        "colab_type": "text"
      },
      "source": [
        "<a href=\"https://colab.research.google.com/github/ProfAI/nlp00/blob/master/4%252520-%252520Preprocessing%252520del%252520testo/codifica_testo.ipynb\" target=\"_parent\"><img src=\"https://colab.research.google.com/assets/colab-badge.svg\" alt=\"Open In Colab\"/></a>"
      ]
    },
    {
      "metadata": {
        "id": "00dbcadfetQ6",
        "colab_type": "text"
      },
      "cell_type": "markdown",
      "source": [
        "# Codifica del testo"
      ]
    },
    {
      "metadata": {
        "id": "PI6A9DW7ev_8",
        "colab_type": "text"
      },
      "cell_type": "markdown",
      "source": [
        "## Bag of Words"
      ]
    },
    {
      "metadata": {
        "id": "c1k2ZjoEeQWU",
        "colab_type": "code",
        "colab": {
          "base_uri": "https://localhost:8080/",
          "height": 34
        },
        "outputId": "fc13ae28-ebe2-438d-e4da-f785fa4b09e0"
      },
      "cell_type": "code",
      "source": [
        "corpus = [\"la mamma prepara la pasta\", \"la nonna prepara la pizza\", \"papà guarda la mamma\"]\n",
        "\n",
        "dictionary = set({})\n",
        "\n",
        "for sent in corpus:\n",
        "  words = sent.split()\n",
        "  for word in words:\n",
        "    dictionary.add(word)\n",
        "    \n",
        "dictionary = list(dictionary)\n",
        "\n",
        "print(dictionary)"
      ],
      "execution_count": 53,
      "outputs": [
        {
          "output_type": "stream",
          "text": [
            "['guarda', 'la', 'pasta', 'papà', 'pizza', 'nonna', 'mamma', 'prepara']\n"
          ],
          "name": "stdout"
        }
      ]
    },
    {
      "metadata": {
        "id": "ONJeQQ0GfRVl",
        "colab_type": "code",
        "colab": {
          "base_uri": "https://localhost:8080/",
          "height": 34
        },
        "outputId": "aa7ece9f-2d8d-4fae-825b-794339b375f3"
      },
      "cell_type": "code",
      "source": [
        "corpus_bow = []\n",
        "\n",
        "for sent in corpus:\n",
        "  sent_words = sent.split()\n",
        "  sent_bow = []\n",
        "  for word in dictionary:\n",
        "    sent_bow.append(sent_words.count(word))\n",
        "  corpus_bow.append(sent_bow)\n",
        "  \n",
        "print(corpus_bow)"
      ],
      "execution_count": 54,
      "outputs": [
        {
          "output_type": "stream",
          "text": [
            "[[0, 2, 1, 0, 0, 0, 1, 1], [0, 2, 0, 0, 1, 1, 0, 1], [1, 1, 0, 1, 0, 0, 1, 0]]\n"
          ],
          "name": "stdout"
        }
      ]
    },
    {
      "metadata": {
        "id": "MDVYEp5nhCrP",
        "colab_type": "text"
      },
      "cell_type": "markdown",
      "source": [
        "## TF-IDF\n",
        "- https://towardsdatascience.com/tfidf-for-piece-of-text-in-python-43feccaa74f8"
      ]
    },
    {
      "metadata": {
        "id": "bpkks0fugvrf",
        "colab_type": "code",
        "colab": {
          "base_uri": "https://localhost:8080/",
          "height": 34
        },
        "outputId": "3a977ed1-b4fc-4b75-fbd2-cb657047e792"
      },
      "cell_type": "code",
      "source": [
        "corpus = [\"la mamma prepara la pasta\", \"la nonna prepara la pizza\", \"papà guarda la mamma\"]\n",
        "\n",
        "dictionary = set({})\n",
        "\n",
        "for sent in corpus:\n",
        "  words = sent.split()\n",
        "  for word in words:\n",
        "    dictionary.add(word)\n",
        "    \n",
        "dictionary = list(dictionary)\n",
        "\n",
        "dictionary = ['guarda','la', 'mamma', 'nonna','papà','pasta','pizza','prepara']\n",
        "\n",
        "print(dictionary)"
      ],
      "execution_count": 71,
      "outputs": [
        {
          "output_type": "stream",
          "text": [
            "['guarda', 'la', 'mamma', 'nonna', 'papà', 'pasta', 'pizza', 'prepara']\n"
          ],
          "name": "stdout"
        }
      ]
    },
    {
      "metadata": {
        "id": "im6FL2cmihsL",
        "colab_type": "code",
        "colab": {
          "base_uri": "https://localhost:8080/",
          "height": 34
        },
        "outputId": "6305f0a2-3247-4dff-8007-f5d0c27eb0c2"
      },
      "cell_type": "code",
      "source": [
        "df = [0]*len(dictionary)\n",
        "\n",
        "for i,dict_word in enumerate(dictionary):\n",
        "  for sent in corpus:\n",
        "    sent_words = sent.split()\n",
        "    if(dict_word in sent_words):\n",
        "      df[i]+=1\n",
        " \n",
        "print(df)"
      ],
      "execution_count": 72,
      "outputs": [
        {
          "output_type": "stream",
          "text": [
            "[1, 3, 2, 1, 1, 1, 1, 2]\n"
          ],
          "name": "stdout"
        }
      ]
    },
    {
      "metadata": {
        "id": "9tM_5gyimBeU",
        "colab_type": "code",
        "colab": {
          "base_uri": "https://localhost:8080/",
          "height": 34
        },
        "outputId": "577da85e-d86d-4e45-b08f-b9b3d027bb58"
      },
      "cell_type": "code",
      "source": [
        "from math import log\n",
        "\n",
        "docs_count = len(corpus)\n",
        "\n",
        "idf = [log(docs_count/i)+1 for i in df]\n",
        "\n",
        "print(idf)"
      ],
      "execution_count": 73,
      "outputs": [
        {
          "output_type": "stream",
          "text": [
            "[2.09861228866811, 1.0, 1.4054651081081644, 2.09861228866811, 2.09861228866811, 2.09861228866811, 2.09861228866811, 1.4054651081081644]\n"
          ],
          "name": "stdout"
        }
      ]
    },
    {
      "metadata": {
        "id": "2Pn-dpVPmjYg",
        "colab_type": "code",
        "colab": {
          "base_uri": "https://localhost:8080/",
          "height": 34
        },
        "outputId": "5b51fe1c-9685-495a-8881-bf8ad5247df0"
      },
      "cell_type": "code",
      "source": [
        "tf = []\n",
        "\n",
        "for sent in corpus:\n",
        "  tf_sent = []\n",
        "  words = sent.split()\n",
        "  words_count = len(words)\n",
        "  \n",
        "  for dict_word in dictionary:\n",
        "    tf_sent.append(words.count(dict_word)/words_count)\n",
        "  \n",
        "  tf.append(tf_sent)\n",
        "  \n",
        "print(tf)"
      ],
      "execution_count": 74,
      "outputs": [
        {
          "output_type": "stream",
          "text": [
            "[[0.0, 0.4, 0.2, 0.0, 0.0, 0.2, 0.0, 0.2], [0.0, 0.4, 0.0, 0.2, 0.0, 0.0, 0.2, 0.2], [0.25, 0.25, 0.25, 0.0, 0.25, 0.0, 0.0, 0.0]]\n"
          ],
          "name": "stdout"
        }
      ]
    },
    {
      "metadata": {
        "id": "3eZpSIuDnm-g",
        "colab_type": "code",
        "colab": {
          "base_uri": "https://localhost:8080/",
          "height": 54
        },
        "outputId": "234489da-1f35-467d-be53-fe3c22c0b9eb"
      },
      "cell_type": "code",
      "source": [
        "tf_idf = []\n",
        "\n",
        "for i in range(docs_count):\n",
        "  tf_idf.append([tf_i*idf_i for tf_i,idf_i in zip(tf[i],idf)])\n",
        "  \n",
        "print(tf_idf)"
      ],
      "execution_count": 75,
      "outputs": [
        {
          "output_type": "stream",
          "text": [
            "[[0.0, 0.4, 0.2810930216216329, 0.0, 0.0, 0.41972245773362205, 0.0, 0.2810930216216329], [0.0, 0.4, 0.0, 0.41972245773362205, 0.0, 0.0, 0.41972245773362205, 0.2810930216216329], [0.5246530721670275, 0.25, 0.3513662770270411, 0.0, 0.5246530721670275, 0.0, 0.0, 0.0]]\n"
          ],
          "name": "stdout"
        }
      ]
    },
    {
      "metadata": {
        "id": "iux7Y9G7n3mV",
        "colab_type": "code",
        "colab": {
          "base_uri": "https://localhost:8080/",
          "height": 51
        },
        "outputId": "c9445b15-091b-47be-c7ef-72d64ef17561"
      },
      "cell_type": "code",
      "source": [
        "from sklearn.feature_extraction.text import TfidfVectorizer\n",
        "\n",
        "tfidf = TfidfVectorizer(smooth_idf = False)\n",
        "tfidf_sk = tfidf.fit_transform(corpus).toarray()\n",
        "tfidf_sk[0]"
      ],
      "execution_count": 79,
      "outputs": [
        {
          "output_type": "execute_result",
          "data": {
            "text/plain": [
              "array([0.        , 0.56899896, 0.39985409, 0.        , 0.        ,\n",
              "       0.5970541 , 0.        , 0.39985409])"
            ]
          },
          "metadata": {
            "tags": []
          },
          "execution_count": 79
        }
      ]
    },
    {
      "metadata": {
        "id": "79w73vRloxCV",
        "colab_type": "code",
        "colab": {
          "base_uri": "https://localhost:8080/",
          "height": 154
        },
        "outputId": "69adf7d3-e500-419b-bd33-b64ad8cf4489"
      },
      "cell_type": "code",
      "source": [
        "tfidf.vocabulary_"
      ],
      "execution_count": 70,
      "outputs": [
        {
          "output_type": "execute_result",
          "data": {
            "text/plain": [
              "{'guarda': 0,\n",
              " 'la': 1,\n",
              " 'mamma': 2,\n",
              " 'nonna': 3,\n",
              " 'papà': 4,\n",
              " 'pasta': 5,\n",
              " 'pizza': 6,\n",
              " 'prepara': 7}"
            ]
          },
          "metadata": {
            "tags": []
          },
          "execution_count": 70
        }
      ]
    },
    {
      "metadata": {
        "id": "d9_flwYHpJf9",
        "colab_type": "code",
        "colab": {}
      },
      "cell_type": "code",
      "source": [
        ""
      ],
      "execution_count": 0,
      "outputs": []
    }
  ]
}