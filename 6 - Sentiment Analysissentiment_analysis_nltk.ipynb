{
  "nbformat": 4,
  "nbformat_minor": 0,
  "metadata": {
    "colab": {
      "name": "sentiment_analysis_nltk.ipynb",
      "version": "0.3.2",
      "provenance": [],
      "include_colab_link": true
    },
    "kernelspec": {
      "name": "python3",
      "display_name": "Python 3"
    }
  },
  "cells": [
    {
      "cell_type": "markdown",
      "metadata": {
        "id": "view-in-github",
        "colab_type": "text"
      },
      "source": [
        "<a href=\"https://colab.research.google.com/github/ProfAI/nlp00/blob/master/6%20-%20Sentiment%20Analysissentiment_analysis_nltk.ipynb\" target=\"_parent\"><img src=\"https://colab.research.google.com/assets/colab-badge.svg\" alt=\"Open In Colab\"/></a>"
      ]
    },
    {
      "metadata": {
        "id": "OpXuOg4pGqPh",
        "colab_type": "text"
      },
      "cell_type": "markdown",
      "source": [
        "# Sentiment Analysis con NLTK"
      ]
    },
    {
      "metadata": {
        "id": "uoX2APpsLlGl",
        "colab_type": "text"
      },
      "cell_type": "markdown",
      "source": [
        "## VADER"
      ]
    },
    {
      "metadata": {
        "id": "PUxC2cLCMyb3",
        "colab_type": "code",
        "colab": {
          "base_uri": "https://localhost:8080/",
          "height": 51
        },
        "outputId": "6c5d862b-84a3-4b85-8b18-01e2ca4ceaaf"
      },
      "cell_type": "code",
      "source": [
        "import nltk\n",
        "nltk.download('vader_lexicon')"
      ],
      "execution_count": 4,
      "outputs": [
        {
          "output_type": "stream",
          "text": [
            "[nltk_data] Downloading package vader_lexicon to /root/nltk_data...\n"
          ],
          "name": "stdout"
        },
        {
          "output_type": "execute_result",
          "data": {
            "text/plain": [
              "True"
            ]
          },
          "metadata": {
            "tags": []
          },
          "execution_count": 4
        }
      ]
    },
    {
      "metadata": {
        "id": "uVi-FjdDGlX0",
        "colab_type": "code",
        "colab": {
          "base_uri": "https://localhost:8080/",
          "height": 34
        },
        "outputId": "c63f59a5-f471-4a49-ea15-653c53e50b42"
      },
      "cell_type": "code",
      "source": [
        "from nltk.sentiment.vader import SentimentIntensityAnalyzer as SentimentAnalyzer\n",
        "\n",
        "sentiment_analyzer = SentimentAnalyzer()\n",
        "\n",
        "text = \"I loved this book\" # Ho amato questo libro\n",
        "sentiment_analyzer.polarity_scores(text)"
      ],
      "execution_count": 6,
      "outputs": [
        {
          "output_type": "execute_result",
          "data": {
            "text/plain": [
              "{'compound': 0.5994, 'neg': 0.0, 'neu': 0.339, 'pos': 0.661}"
            ]
          },
          "metadata": {
            "tags": []
          },
          "execution_count": 6
        }
      ]
    },
    {
      "metadata": {
        "id": "arFX-SmuL1fo",
        "colab_type": "code",
        "colab": {
          "base_uri": "https://localhost:8080/",
          "height": 34
        },
        "outputId": "33d98265-77f3-4c65-e347-cc4311c22784"
      },
      "cell_type": "code",
      "source": [
        "text = \"I didn't like this book\" # Non mi è piaciuto questo libro\n",
        "sentiment_analyzer.polarity_scores(text)"
      ],
      "execution_count": 8,
      "outputs": [
        {
          "output_type": "execute_result",
          "data": {
            "text/plain": [
              "{'compound': -0.2755, 'neg': 0.413, 'neu': 0.587, 'pos': 0.0}"
            ]
          },
          "metadata": {
            "tags": []
          },
          "execution_count": 8
        }
      ]
    },
    {
      "metadata": {
        "id": "GPRzDv_9OWrI",
        "colab_type": "code",
        "colab": {
          "base_uri": "https://localhost:8080/",
          "height": 34
        },
        "outputId": "ae259d34-3bc6-4312-9c7f-9b4e2d06fd17"
      },
      "cell_type": "code",
      "source": [
        "text = \"I liked this book even if the plot was poor\" # Mi è piacuto questo libro, anche se la trama era povera\n",
        "sentiment_analyzer.polarity_scores(text)"
      ],
      "execution_count": 16,
      "outputs": [
        {
          "output_type": "execute_result",
          "data": {
            "text/plain": [
              "{'compound': -0.0772, 'neg': 0.24, 'neu': 0.543, 'pos': 0.217}"
            ]
          },
          "metadata": {
            "tags": []
          },
          "execution_count": 16
        }
      ]
    },
    {
      "metadata": {
        "id": "O4a-ZUwnPVCE",
        "colab_type": "code",
        "colab": {
          "base_uri": "https://localhost:8080/",
          "height": 34
        },
        "outputId": "5a09cc72-940a-4094-ff7d-b7df01a3886e"
      },
      "cell_type": "code",
      "source": [
        "text = \"I loved this book even if the plot was poor\" # Ho amato questo libro, anche se la trama era povera\n",
        "sentiment_analyzer.polarity_scores(text)"
      ],
      "execution_count": 18,
      "outputs": [
        {
          "output_type": "execute_result",
          "data": {
            "text/plain": [
              "{'compound': 0.2023, 'neg': 0.221, 'neu': 0.5, 'pos': 0.279}"
            ]
          },
          "metadata": {
            "tags": []
          },
          "execution_count": 18
        }
      ]
    },
    {
      "metadata": {
        "id": "1qiO6mSTPaDa",
        "colab_type": "code",
        "colab": {
          "base_uri": "https://localhost:8080/",
          "height": 34
        },
        "outputId": "a0e2e615-a398-4e24-d506-2f2a54009b48"
      },
      "cell_type": "code",
      "source": [
        "text = \"I LOVED this book even if the plot was poor\" # Mi è piacuto questo libro, anche se la trama era povera\n",
        "sentiment_analyzer.polarity_scores(text)"
      ],
      "execution_count": 21,
      "outputs": [
        {
          "output_type": "execute_result",
          "data": {
            "text/plain": [
              "{'compound': 0.368, 'neg': 0.21, 'neu': 0.475, 'pos': 0.314}"
            ]
          },
          "metadata": {
            "tags": []
          },
          "execution_count": 21
        }
      ]
    },
    {
      "metadata": {
        "id": "92yu3XzYPfS2",
        "colab_type": "code",
        "colab": {
          "base_uri": "https://localhost:8080/",
          "height": 34
        },
        "outputId": "84e7b110-6ac7-4e0b-d9e4-71895c8061dc"
      },
      "cell_type": "code",
      "source": [
        "text = \"I LOVED this book !!! Even if the plot was poor.\" # Mi è piacuto questo libro, anche se la trama era povera\n",
        "sentiment_analyzer.polarity_scores(text)"
      ],
      "execution_count": 24,
      "outputs": [
        {
          "output_type": "execute_result",
          "data": {
            "text/plain": [
              "{'compound': 0.5282, 'neg': 0.187, 'neu': 0.482, 'pos': 0.332}"
            ]
          },
          "metadata": {
            "tags": []
          },
          "execution_count": 24
        }
      ]
    },
    {
      "metadata": {
        "id": "g6TR6jimToQO",
        "colab_type": "code",
        "colab": {
          "base_uri": "https://localhost:8080/",
          "height": 624
        },
        "outputId": "d62f614e-e8d8-4af0-a248-d7152bd91e96"
      },
      "cell_type": "code",
      "source": [
        "import pandas as pd\n",
        "\n",
        "reviews_url = \"https://raw.githubusercontent.com/ProfAI/nlp00/master/6%20-%20Sentiment%20Analysis/data/hifit_reviews.csv\"\n",
        "reviews = pd.read_csv(reviews_url, sep=\";\")\n",
        "reviews.head(12)"
      ],
      "execution_count": 26,
      "outputs": [
        {
          "output_type": "execute_result",
          "data": {
            "text/html": [
              "<div>\n",
              "<style scoped>\n",
              "    .dataframe tbody tr th:only-of-type {\n",
              "        vertical-align: middle;\n",
              "    }\n",
              "\n",
              "    .dataframe tbody tr th {\n",
              "        vertical-align: top;\n",
              "    }\n",
              "\n",
              "    .dataframe thead th {\n",
              "        text-align: right;\n",
              "    }\n",
              "</style>\n",
              "<table border=\"1\" class=\"dataframe\">\n",
              "  <thead>\n",
              "    <tr style=\"text-align: right;\">\n",
              "      <th></th>\n",
              "      <th>Username</th>\n",
              "      <th>title</th>\n",
              "      <th>review</th>\n",
              "      <th>rating</th>\n",
              "    </tr>\n",
              "  </thead>\n",
              "  <tbody>\n",
              "    <tr>\n",
              "      <th>0</th>\n",
              "      <td>Amazon Customer</td>\n",
              "      <td>Great With Modifications</td>\n",
              "      <td>The recovery times are longer as some have men...</td>\n",
              "      <td>4.5</td>\n",
              "    </tr>\n",
              "    <tr>\n",
              "      <th>1</th>\n",
              "      <td>Janey_monster</td>\n",
              "      <td>Won't take 'Yes' for an answer!</td>\n",
              "      <td>Just like another reviewer said. Between exerc...</td>\n",
              "      <td>2.0</td>\n",
              "    </tr>\n",
              "    <tr>\n",
              "      <th>2</th>\n",
              "      <td>Gary Mercado</td>\n",
              "      <td>Won't respond to my yes command</td>\n",
              "      <td>The skill won't respond to the yes command and...</td>\n",
              "      <td>2.0</td>\n",
              "    </tr>\n",
              "    <tr>\n",
              "      <th>3</th>\n",
              "      <td>Amazon Customer</td>\n",
              "      <td>Excellent,So far I’m happy of this new Skill. ...</td>\n",
              "      <td>5</td>\n",
              "      <td>NaN</td>\n",
              "    </tr>\n",
              "    <tr>\n",
              "      <th>4</th>\n",
              "      <td>Linda Charlton-Gunderson</td>\n",
              "      <td>Does not always hear ready</td>\n",
              "      <td>I said ready and she would shut off. But when ...</td>\n",
              "      <td>2.0</td>\n",
              "    </tr>\n",
              "    <tr>\n",
              "      <th>5</th>\n",
              "      <td>Mallory galvin,Terrible,Slow and annoying. I d...</td>\n",
              "      <td>NaN</td>\n",
              "      <td>NaN</td>\n",
              "      <td>NaN</td>\n",
              "    </tr>\n",
              "    <tr>\n",
              "      <th>6</th>\n",
              "      <td>Amazon Customer,Challenging,I love bodyweight ...</td>\n",
              "      <td>5</td>\n",
              "      <td>NaN</td>\n",
              "      <td>NaN</td>\n",
              "    </tr>\n",
              "    <tr>\n",
              "      <th>7</th>\n",
              "      <td>jenisse210,Great idea but doesn't work,I've tr...</td>\n",
              "      <td>2</td>\n",
              "      <td>NaN</td>\n",
              "      <td>NaN</td>\n",
              "    </tr>\n",
              "    <tr>\n",
              "      <th>8</th>\n",
              "      <td>Matteo</td>\n",
              "      <td>NaN</td>\n",
              "      <td>I've never seen something like that, I am a bi...</td>\n",
              "      <td>NaN</td>\n",
              "    </tr>\n",
              "    <tr>\n",
              "      <th>9</th>\n",
              "      <td>Amazon Customer</td>\n",
              "      <td>Five Stars</td>\n",
              "      <td>I tried the app and it's the best one for my d...</td>\n",
              "      <td>5.0</td>\n",
              "    </tr>\n",
              "    <tr>\n",
              "      <th>10</th>\n",
              "      <td>aisha</td>\n",
              "      <td>Great but needs improvement,Great app if it ju...</td>\n",
              "      <td>4</td>\n",
              "      <td>NaN</td>\n",
              "    </tr>\n",
              "    <tr>\n",
              "      <th>11</th>\n",
              "      <td>Rebekah Bertram</td>\n",
              "      <td>love it</td>\n",
              "      <td>my kids do this woth me. i kove it. great musi...</td>\n",
              "      <td>5.0</td>\n",
              "    </tr>\n",
              "  </tbody>\n",
              "</table>\n",
              "</div>"
            ],
            "text/plain": [
              "                                             Username  \\\n",
              "0                                     Amazon Customer   \n",
              "1                                       Janey_monster   \n",
              "2                                        Gary Mercado   \n",
              "3                                     Amazon Customer   \n",
              "4                            Linda Charlton-Gunderson   \n",
              "5   Mallory galvin,Terrible,Slow and annoying. I d...   \n",
              "6   Amazon Customer,Challenging,I love bodyweight ...   \n",
              "7   jenisse210,Great idea but doesn't work,I've tr...   \n",
              "8                                              Matteo   \n",
              "9                                     Amazon Customer   \n",
              "10                                              aisha   \n",
              "11                                    Rebekah Bertram   \n",
              "\n",
              "                                                title  \\\n",
              "0                            Great With Modifications   \n",
              "1                     Won't take 'Yes' for an answer!   \n",
              "2                     Won't respond to my yes command   \n",
              "3   Excellent,So far I’m happy of this new Skill. ...   \n",
              "4                          Does not always hear ready   \n",
              "5                                                 NaN   \n",
              "6                                                   5   \n",
              "7                                                   2   \n",
              "8                                                 NaN   \n",
              "9                                          Five Stars   \n",
              "10  Great but needs improvement,Great app if it ju...   \n",
              "11                                            love it   \n",
              "\n",
              "                                               review  rating  \n",
              "0   The recovery times are longer as some have men...     4.5  \n",
              "1   Just like another reviewer said. Between exerc...     2.0  \n",
              "2   The skill won't respond to the yes command and...     2.0  \n",
              "3                                                   5     NaN  \n",
              "4   I said ready and she would shut off. But when ...     2.0  \n",
              "5                                                 NaN     NaN  \n",
              "6                                                 NaN     NaN  \n",
              "7                                                 NaN     NaN  \n",
              "8   I've never seen something like that, I am a bi...     NaN  \n",
              "9   I tried the app and it's the best one for my d...     5.0  \n",
              "10                                                  4     NaN  \n",
              "11  my kids do this woth me. i kove it. great musi...     5.0  "
            ]
          },
          "metadata": {
            "tags": []
          },
          "execution_count": 26
        }
      ]
    },
    {
      "metadata": {
        "id": "C3iUNRulT4-Z",
        "colab_type": "code",
        "colab": {}
      },
      "cell_type": "code",
      "source": [
        ""
      ],
      "execution_count": 0,
      "outputs": []
    },
    {
      "metadata": {
        "id": "aTE_fTgoLnUm",
        "colab_type": "text"
      },
      "cell_type": "markdown",
      "source": [
        "## CLASSIFICATORE"
      ]
    },
    {
      "metadata": {
        "id": "seYqEZP0LpyR",
        "colab_type": "code",
        "colab": {}
      },
      "cell_type": "code",
      "source": [
        ""
      ],
      "execution_count": 0,
      "outputs": []
    },
    {
      "metadata": {
        "id": "hFzjPHKdMc6I",
        "colab_type": "text"
      },
      "cell_type": "markdown",
      "source": [
        "## Link utili\n",
        "\n",
        "- http://www.nltk.org/howto/sentiment.html"
      ]
    }
  ]
}